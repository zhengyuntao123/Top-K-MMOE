{
 "cells": [
  {
   "cell_type": "code",
   "execution_count": 1,
   "id": "746c09b2",
   "metadata": {},
   "outputs": [],
   "source": [
    "# !pip install ucimlrepo\n",
    "# 参考1：https://archive.ics.uci.edu/dataset/20/census+income\n",
    "# 参考2：https://github.com/uci-ml-repo/ucimlrepo"
   ]
  },
  {
   "cell_type": "code",
   "execution_count": 2,
   "id": "4ce73a4f",
   "metadata": {
    "tags": []
   },
   "outputs": [
    {
     "name": "stdout",
     "output_type": "stream",
     "text": [
      "(48842, 15)\n"
     ]
    }
   ],
   "source": [
    "from ucimlrepo import fetch_ucirepo \n",
    "  \n",
    "# fetch dataset \n",
    "census_income = fetch_ucirepo(id=20) \n",
    "  \n",
    "# data (as pandas dataframes) \n",
    "data = census_income.data.original\n",
    "print(data.shape)"
   ]
  },
  {
   "cell_type": "code",
   "execution_count": 3,
   "id": "c2e3e5b0-2742-4473-91fe-e086bc858ff0",
   "metadata": {
    "tags": []
   },
   "outputs": [
    {
     "data": {
      "text/html": [
       "<div>\n",
       "<style scoped>\n",
       "    .dataframe tbody tr th:only-of-type {\n",
       "        vertical-align: middle;\n",
       "    }\n",
       "\n",
       "    .dataframe tbody tr th {\n",
       "        vertical-align: top;\n",
       "    }\n",
       "\n",
       "    .dataframe thead th {\n",
       "        text-align: right;\n",
       "    }\n",
       "</style>\n",
       "<table border=\"1\" class=\"dataframe\">\n",
       "  <thead>\n",
       "    <tr style=\"text-align: right;\">\n",
       "      <th></th>\n",
       "      <th>age</th>\n",
       "      <th>workclass</th>\n",
       "      <th>fnlwgt</th>\n",
       "      <th>education</th>\n",
       "      <th>education-num</th>\n",
       "      <th>marital-status</th>\n",
       "      <th>occupation</th>\n",
       "      <th>relationship</th>\n",
       "      <th>race</th>\n",
       "      <th>sex</th>\n",
       "      <th>capital-gain</th>\n",
       "      <th>capital-loss</th>\n",
       "      <th>hours-per-week</th>\n",
       "      <th>native-country</th>\n",
       "      <th>income</th>\n",
       "    </tr>\n",
       "  </thead>\n",
       "  <tbody>\n",
       "    <tr>\n",
       "      <th>0</th>\n",
       "      <td>39</td>\n",
       "      <td>State-gov</td>\n",
       "      <td>77516</td>\n",
       "      <td>Bachelors</td>\n",
       "      <td>13</td>\n",
       "      <td>Never-married</td>\n",
       "      <td>Adm-clerical</td>\n",
       "      <td>Not-in-family</td>\n",
       "      <td>White</td>\n",
       "      <td>Male</td>\n",
       "      <td>2174</td>\n",
       "      <td>0</td>\n",
       "      <td>40</td>\n",
       "      <td>United-States</td>\n",
       "      <td>&lt;=50K</td>\n",
       "    </tr>\n",
       "    <tr>\n",
       "      <th>1</th>\n",
       "      <td>50</td>\n",
       "      <td>Self-emp-not-inc</td>\n",
       "      <td>83311</td>\n",
       "      <td>Bachelors</td>\n",
       "      <td>13</td>\n",
       "      <td>Married-civ-spouse</td>\n",
       "      <td>Exec-managerial</td>\n",
       "      <td>Husband</td>\n",
       "      <td>White</td>\n",
       "      <td>Male</td>\n",
       "      <td>0</td>\n",
       "      <td>0</td>\n",
       "      <td>13</td>\n",
       "      <td>United-States</td>\n",
       "      <td>&lt;=50K</td>\n",
       "    </tr>\n",
       "    <tr>\n",
       "      <th>2</th>\n",
       "      <td>38</td>\n",
       "      <td>Private</td>\n",
       "      <td>215646</td>\n",
       "      <td>HS-grad</td>\n",
       "      <td>9</td>\n",
       "      <td>Divorced</td>\n",
       "      <td>Handlers-cleaners</td>\n",
       "      <td>Not-in-family</td>\n",
       "      <td>White</td>\n",
       "      <td>Male</td>\n",
       "      <td>0</td>\n",
       "      <td>0</td>\n",
       "      <td>40</td>\n",
       "      <td>United-States</td>\n",
       "      <td>&lt;=50K</td>\n",
       "    </tr>\n",
       "    <tr>\n",
       "      <th>3</th>\n",
       "      <td>53</td>\n",
       "      <td>Private</td>\n",
       "      <td>234721</td>\n",
       "      <td>11th</td>\n",
       "      <td>7</td>\n",
       "      <td>Married-civ-spouse</td>\n",
       "      <td>Handlers-cleaners</td>\n",
       "      <td>Husband</td>\n",
       "      <td>Black</td>\n",
       "      <td>Male</td>\n",
       "      <td>0</td>\n",
       "      <td>0</td>\n",
       "      <td>40</td>\n",
       "      <td>United-States</td>\n",
       "      <td>&lt;=50K</td>\n",
       "    </tr>\n",
       "    <tr>\n",
       "      <th>4</th>\n",
       "      <td>28</td>\n",
       "      <td>Private</td>\n",
       "      <td>338409</td>\n",
       "      <td>Bachelors</td>\n",
       "      <td>13</td>\n",
       "      <td>Married-civ-spouse</td>\n",
       "      <td>Prof-specialty</td>\n",
       "      <td>Wife</td>\n",
       "      <td>Black</td>\n",
       "      <td>Female</td>\n",
       "      <td>0</td>\n",
       "      <td>0</td>\n",
       "      <td>40</td>\n",
       "      <td>Cuba</td>\n",
       "      <td>&lt;=50K</td>\n",
       "    </tr>\n",
       "    <tr>\n",
       "      <th>...</th>\n",
       "      <td>...</td>\n",
       "      <td>...</td>\n",
       "      <td>...</td>\n",
       "      <td>...</td>\n",
       "      <td>...</td>\n",
       "      <td>...</td>\n",
       "      <td>...</td>\n",
       "      <td>...</td>\n",
       "      <td>...</td>\n",
       "      <td>...</td>\n",
       "      <td>...</td>\n",
       "      <td>...</td>\n",
       "      <td>...</td>\n",
       "      <td>...</td>\n",
       "      <td>...</td>\n",
       "    </tr>\n",
       "    <tr>\n",
       "      <th>48837</th>\n",
       "      <td>39</td>\n",
       "      <td>Private</td>\n",
       "      <td>215419</td>\n",
       "      <td>Bachelors</td>\n",
       "      <td>13</td>\n",
       "      <td>Divorced</td>\n",
       "      <td>Prof-specialty</td>\n",
       "      <td>Not-in-family</td>\n",
       "      <td>White</td>\n",
       "      <td>Female</td>\n",
       "      <td>0</td>\n",
       "      <td>0</td>\n",
       "      <td>36</td>\n",
       "      <td>United-States</td>\n",
       "      <td>&lt;=50K.</td>\n",
       "    </tr>\n",
       "    <tr>\n",
       "      <th>48838</th>\n",
       "      <td>64</td>\n",
       "      <td>NaN</td>\n",
       "      <td>321403</td>\n",
       "      <td>HS-grad</td>\n",
       "      <td>9</td>\n",
       "      <td>Widowed</td>\n",
       "      <td>NaN</td>\n",
       "      <td>Other-relative</td>\n",
       "      <td>Black</td>\n",
       "      <td>Male</td>\n",
       "      <td>0</td>\n",
       "      <td>0</td>\n",
       "      <td>40</td>\n",
       "      <td>United-States</td>\n",
       "      <td>&lt;=50K.</td>\n",
       "    </tr>\n",
       "    <tr>\n",
       "      <th>48839</th>\n",
       "      <td>38</td>\n",
       "      <td>Private</td>\n",
       "      <td>374983</td>\n",
       "      <td>Bachelors</td>\n",
       "      <td>13</td>\n",
       "      <td>Married-civ-spouse</td>\n",
       "      <td>Prof-specialty</td>\n",
       "      <td>Husband</td>\n",
       "      <td>White</td>\n",
       "      <td>Male</td>\n",
       "      <td>0</td>\n",
       "      <td>0</td>\n",
       "      <td>50</td>\n",
       "      <td>United-States</td>\n",
       "      <td>&lt;=50K.</td>\n",
       "    </tr>\n",
       "    <tr>\n",
       "      <th>48840</th>\n",
       "      <td>44</td>\n",
       "      <td>Private</td>\n",
       "      <td>83891</td>\n",
       "      <td>Bachelors</td>\n",
       "      <td>13</td>\n",
       "      <td>Divorced</td>\n",
       "      <td>Adm-clerical</td>\n",
       "      <td>Own-child</td>\n",
       "      <td>Asian-Pac-Islander</td>\n",
       "      <td>Male</td>\n",
       "      <td>5455</td>\n",
       "      <td>0</td>\n",
       "      <td>40</td>\n",
       "      <td>United-States</td>\n",
       "      <td>&lt;=50K.</td>\n",
       "    </tr>\n",
       "    <tr>\n",
       "      <th>48841</th>\n",
       "      <td>35</td>\n",
       "      <td>Self-emp-inc</td>\n",
       "      <td>182148</td>\n",
       "      <td>Bachelors</td>\n",
       "      <td>13</td>\n",
       "      <td>Married-civ-spouse</td>\n",
       "      <td>Exec-managerial</td>\n",
       "      <td>Husband</td>\n",
       "      <td>White</td>\n",
       "      <td>Male</td>\n",
       "      <td>0</td>\n",
       "      <td>0</td>\n",
       "      <td>60</td>\n",
       "      <td>United-States</td>\n",
       "      <td>&gt;50K.</td>\n",
       "    </tr>\n",
       "  </tbody>\n",
       "</table>\n",
       "<p>48842 rows × 15 columns</p>\n",
       "</div>"
      ],
      "text/plain": [
       "       age         workclass  fnlwgt  education  education-num  \\\n",
       "0       39         State-gov   77516  Bachelors             13   \n",
       "1       50  Self-emp-not-inc   83311  Bachelors             13   \n",
       "2       38           Private  215646    HS-grad              9   \n",
       "3       53           Private  234721       11th              7   \n",
       "4       28           Private  338409  Bachelors             13   \n",
       "...    ...               ...     ...        ...            ...   \n",
       "48837   39           Private  215419  Bachelors             13   \n",
       "48838   64               NaN  321403    HS-grad              9   \n",
       "48839   38           Private  374983  Bachelors             13   \n",
       "48840   44           Private   83891  Bachelors             13   \n",
       "48841   35      Self-emp-inc  182148  Bachelors             13   \n",
       "\n",
       "           marital-status         occupation    relationship  \\\n",
       "0           Never-married       Adm-clerical   Not-in-family   \n",
       "1      Married-civ-spouse    Exec-managerial         Husband   \n",
       "2                Divorced  Handlers-cleaners   Not-in-family   \n",
       "3      Married-civ-spouse  Handlers-cleaners         Husband   \n",
       "4      Married-civ-spouse     Prof-specialty            Wife   \n",
       "...                   ...                ...             ...   \n",
       "48837            Divorced     Prof-specialty   Not-in-family   \n",
       "48838             Widowed                NaN  Other-relative   \n",
       "48839  Married-civ-spouse     Prof-specialty         Husband   \n",
       "48840            Divorced       Adm-clerical       Own-child   \n",
       "48841  Married-civ-spouse    Exec-managerial         Husband   \n",
       "\n",
       "                     race     sex  capital-gain  capital-loss  hours-per-week  \\\n",
       "0                   White    Male          2174             0              40   \n",
       "1                   White    Male             0             0              13   \n",
       "2                   White    Male             0             0              40   \n",
       "3                   Black    Male             0             0              40   \n",
       "4                   Black  Female             0             0              40   \n",
       "...                   ...     ...           ...           ...             ...   \n",
       "48837               White  Female             0             0              36   \n",
       "48838               Black    Male             0             0              40   \n",
       "48839               White    Male             0             0              50   \n",
       "48840  Asian-Pac-Islander    Male          5455             0              40   \n",
       "48841               White    Male             0             0              60   \n",
       "\n",
       "      native-country  income  \n",
       "0      United-States   <=50K  \n",
       "1      United-States   <=50K  \n",
       "2      United-States   <=50K  \n",
       "3      United-States   <=50K  \n",
       "4               Cuba   <=50K  \n",
       "...              ...     ...  \n",
       "48837  United-States  <=50K.  \n",
       "48838  United-States  <=50K.  \n",
       "48839  United-States  <=50K.  \n",
       "48840  United-States  <=50K.  \n",
       "48841  United-States   >50K.  \n",
       "\n",
       "[48842 rows x 15 columns]"
      ]
     },
     "execution_count": 3,
     "metadata": {},
     "output_type": "execute_result"
    }
   ],
   "source": [
    "data"
   ]
  },
  {
   "cell_type": "code",
   "execution_count": 4,
   "id": "3eaa0c7e-c53a-4a84-9c0c-d2e7f8e1d102",
   "metadata": {
    "tags": []
   },
   "outputs": [],
   "source": [
    "# # metadata \n",
    "# census_income.metadata"
   ]
  },
  {
   "cell_type": "code",
   "execution_count": 5,
   "id": "b045d6d4-8d21-4411-a4cd-de13be9cb50f",
   "metadata": {
    "tags": []
   },
   "outputs": [
    {
     "data": {
      "text/html": [
       "<div>\n",
       "<style scoped>\n",
       "    .dataframe tbody tr th:only-of-type {\n",
       "        vertical-align: middle;\n",
       "    }\n",
       "\n",
       "    .dataframe tbody tr th {\n",
       "        vertical-align: top;\n",
       "    }\n",
       "\n",
       "    .dataframe thead th {\n",
       "        text-align: right;\n",
       "    }\n",
       "</style>\n",
       "<table border=\"1\" class=\"dataframe\">\n",
       "  <thead>\n",
       "    <tr style=\"text-align: right;\">\n",
       "      <th></th>\n",
       "      <th>name</th>\n",
       "      <th>role</th>\n",
       "      <th>type</th>\n",
       "      <th>demographic</th>\n",
       "      <th>description</th>\n",
       "      <th>units</th>\n",
       "      <th>missing_values</th>\n",
       "    </tr>\n",
       "  </thead>\n",
       "  <tbody>\n",
       "    <tr>\n",
       "      <th>0</th>\n",
       "      <td>age</td>\n",
       "      <td>Feature</td>\n",
       "      <td>Integer</td>\n",
       "      <td>Age</td>\n",
       "      <td>N/A</td>\n",
       "      <td>None</td>\n",
       "      <td>no</td>\n",
       "    </tr>\n",
       "    <tr>\n",
       "      <th>1</th>\n",
       "      <td>workclass</td>\n",
       "      <td>Feature</td>\n",
       "      <td>Categorical</td>\n",
       "      <td>Income</td>\n",
       "      <td>Private, Self-emp-not-inc, Self-emp-inc, Feder...</td>\n",
       "      <td>None</td>\n",
       "      <td>yes</td>\n",
       "    </tr>\n",
       "    <tr>\n",
       "      <th>2</th>\n",
       "      <td>fnlwgt</td>\n",
       "      <td>Feature</td>\n",
       "      <td>Integer</td>\n",
       "      <td>None</td>\n",
       "      <td>None</td>\n",
       "      <td>None</td>\n",
       "      <td>no</td>\n",
       "    </tr>\n",
       "    <tr>\n",
       "      <th>3</th>\n",
       "      <td>education</td>\n",
       "      <td>Feature</td>\n",
       "      <td>Categorical</td>\n",
       "      <td>Education Level</td>\n",
       "      <td>Bachelors, Some-college, 11th, HS-grad, Prof-...</td>\n",
       "      <td>None</td>\n",
       "      <td>no</td>\n",
       "    </tr>\n",
       "    <tr>\n",
       "      <th>4</th>\n",
       "      <td>education-num</td>\n",
       "      <td>Feature</td>\n",
       "      <td>Integer</td>\n",
       "      <td>Education Level</td>\n",
       "      <td>None</td>\n",
       "      <td>None</td>\n",
       "      <td>no</td>\n",
       "    </tr>\n",
       "    <tr>\n",
       "      <th>5</th>\n",
       "      <td>marital-status</td>\n",
       "      <td>Feature</td>\n",
       "      <td>Categorical</td>\n",
       "      <td>Other</td>\n",
       "      <td>Married-civ-spouse, Divorced, Never-married, S...</td>\n",
       "      <td>None</td>\n",
       "      <td>no</td>\n",
       "    </tr>\n",
       "    <tr>\n",
       "      <th>6</th>\n",
       "      <td>occupation</td>\n",
       "      <td>Feature</td>\n",
       "      <td>Categorical</td>\n",
       "      <td>Other</td>\n",
       "      <td>Tech-support, Craft-repair, Other-service, Sal...</td>\n",
       "      <td>None</td>\n",
       "      <td>yes</td>\n",
       "    </tr>\n",
       "    <tr>\n",
       "      <th>7</th>\n",
       "      <td>relationship</td>\n",
       "      <td>Feature</td>\n",
       "      <td>Categorical</td>\n",
       "      <td>Other</td>\n",
       "      <td>Wife, Own-child, Husband, Not-in-family, Other...</td>\n",
       "      <td>None</td>\n",
       "      <td>no</td>\n",
       "    </tr>\n",
       "    <tr>\n",
       "      <th>8</th>\n",
       "      <td>race</td>\n",
       "      <td>Feature</td>\n",
       "      <td>Categorical</td>\n",
       "      <td>Race</td>\n",
       "      <td>White, Asian-Pac-Islander, Amer-Indian-Eskimo,...</td>\n",
       "      <td>None</td>\n",
       "      <td>no</td>\n",
       "    </tr>\n",
       "    <tr>\n",
       "      <th>9</th>\n",
       "      <td>sex</td>\n",
       "      <td>Feature</td>\n",
       "      <td>Binary</td>\n",
       "      <td>Sex</td>\n",
       "      <td>Female, Male.</td>\n",
       "      <td>None</td>\n",
       "      <td>no</td>\n",
       "    </tr>\n",
       "    <tr>\n",
       "      <th>10</th>\n",
       "      <td>capital-gain</td>\n",
       "      <td>Feature</td>\n",
       "      <td>Integer</td>\n",
       "      <td>None</td>\n",
       "      <td>None</td>\n",
       "      <td>None</td>\n",
       "      <td>no</td>\n",
       "    </tr>\n",
       "    <tr>\n",
       "      <th>11</th>\n",
       "      <td>capital-loss</td>\n",
       "      <td>Feature</td>\n",
       "      <td>Integer</td>\n",
       "      <td>None</td>\n",
       "      <td>None</td>\n",
       "      <td>None</td>\n",
       "      <td>no</td>\n",
       "    </tr>\n",
       "    <tr>\n",
       "      <th>12</th>\n",
       "      <td>hours-per-week</td>\n",
       "      <td>Feature</td>\n",
       "      <td>Integer</td>\n",
       "      <td>None</td>\n",
       "      <td>None</td>\n",
       "      <td>None</td>\n",
       "      <td>no</td>\n",
       "    </tr>\n",
       "    <tr>\n",
       "      <th>13</th>\n",
       "      <td>native-country</td>\n",
       "      <td>Feature</td>\n",
       "      <td>Categorical</td>\n",
       "      <td>Other</td>\n",
       "      <td>United-States, Cambodia, England, Puerto-Rico,...</td>\n",
       "      <td>None</td>\n",
       "      <td>yes</td>\n",
       "    </tr>\n",
       "    <tr>\n",
       "      <th>14</th>\n",
       "      <td>income</td>\n",
       "      <td>Target</td>\n",
       "      <td>Binary</td>\n",
       "      <td>Income</td>\n",
       "      <td>&gt;50K, &lt;=50K.</td>\n",
       "      <td>None</td>\n",
       "      <td>no</td>\n",
       "    </tr>\n",
       "  </tbody>\n",
       "</table>\n",
       "</div>"
      ],
      "text/plain": [
       "              name     role         type      demographic  \\\n",
       "0              age  Feature      Integer              Age   \n",
       "1        workclass  Feature  Categorical           Income   \n",
       "2           fnlwgt  Feature      Integer             None   \n",
       "3        education  Feature  Categorical  Education Level   \n",
       "4    education-num  Feature      Integer  Education Level   \n",
       "5   marital-status  Feature  Categorical            Other   \n",
       "6       occupation  Feature  Categorical            Other   \n",
       "7     relationship  Feature  Categorical            Other   \n",
       "8             race  Feature  Categorical             Race   \n",
       "9              sex  Feature       Binary              Sex   \n",
       "10    capital-gain  Feature      Integer             None   \n",
       "11    capital-loss  Feature      Integer             None   \n",
       "12  hours-per-week  Feature      Integer             None   \n",
       "13  native-country  Feature  Categorical            Other   \n",
       "14          income   Target       Binary           Income   \n",
       "\n",
       "                                          description units missing_values  \n",
       "0                                                 N/A  None             no  \n",
       "1   Private, Self-emp-not-inc, Self-emp-inc, Feder...  None            yes  \n",
       "2                                                None  None             no  \n",
       "3    Bachelors, Some-college, 11th, HS-grad, Prof-...  None             no  \n",
       "4                                                None  None             no  \n",
       "5   Married-civ-spouse, Divorced, Never-married, S...  None             no  \n",
       "6   Tech-support, Craft-repair, Other-service, Sal...  None            yes  \n",
       "7   Wife, Own-child, Husband, Not-in-family, Other...  None             no  \n",
       "8   White, Asian-Pac-Islander, Amer-Indian-Eskimo,...  None             no  \n",
       "9                                       Female, Male.  None             no  \n",
       "10                                               None  None             no  \n",
       "11                                               None  None             no  \n",
       "12                                               None  None             no  \n",
       "13  United-States, Cambodia, England, Puerto-Rico,...  None            yes  \n",
       "14                                       >50K, <=50K.  None             no  "
      ]
     },
     "execution_count": 5,
     "metadata": {},
     "output_type": "execute_result"
    }
   ],
   "source": [
    "# variable information \n",
    "census_income.variables"
   ]
  },
  {
   "cell_type": "markdown",
   "id": "47b7c97b-49ba-4efd-9bbe-5fce9cc7c48d",
   "metadata": {},
   "source": [
    "fnlwgt (final weight) 是一种用于调整人口样本代表性的权重值。它的计算基于人口普查局的多个控制变量（年龄、性别、种族、州等）， \n",
    "通过多次迭代调整来确保数据的代表性和准确性。需要注意的是，fnlwgt 的相似性仅在同一州内有效，因为各州的采样概率不同，跨州之间的权重不可直接比较。"
   ]
  },
  {
   "cell_type": "code",
   "execution_count": 6,
   "id": "228e5996-4e63-439b-9488-657eb9f06c6f",
   "metadata": {
    "tags": []
   },
   "outputs": [
    {
     "name": "stderr",
     "output_type": "stream",
     "text": [
      "C:\\Spark\\python\\pyspark\\sql\\context.py:112: FutureWarning: Deprecated in 3.0.0. Use SparkSession.builder.getOrCreate() instead.\n",
      "  warnings.warn(\n"
     ]
    }
   ],
   "source": [
    "# Uncomment the following lines if you are using Windows!\n",
    "import findspark\n",
    "findspark.init()\n",
    "findspark.find()\n",
    "\n",
    "import pyspark\n",
    "\n",
    "from pyspark.sql import SparkSession\n",
    "from pyspark import SparkContext, SQLContext\n",
    "from pyspark.sql.functions import when, col\n",
    "\n",
    "appName = \"mmoe\"\n",
    "master = \"local\"\n",
    "\n",
    "# Create Configuration object for Spark.\n",
    "conf = pyspark.SparkConf()\\\n",
    "    .set('spark.driver.host','127.0.0.1')\\\n",
    "    .setAppName(appName)\\\n",
    "    .setMaster(master)\n",
    "\n",
    "# Create Spark Context with the new configurations rather than relying on the default one\n",
    "sc = SparkContext.getOrCreate(conf=conf)\n",
    "\n",
    "# You need to create SQL Context to conduct some database operations like what we will see later.\n",
    "sqlContext = SQLContext(sc)\n",
    "\n",
    "# If you have SQL context, you create the session from the Spark Context\n",
    "spark = sqlContext.sparkSession.builder.getOrCreate()"
   ]
  },
  {
   "cell_type": "code",
   "execution_count": 7,
   "id": "8aa046d7-6f75-4649-ab96-337590c0a01e",
   "metadata": {
    "tags": []
   },
   "outputs": [
    {
     "name": "stdout",
     "output_type": "stream",
     "text": [
      "-RECORD 0----------------------------\n",
      " age            | 39                 \n",
      " workclass      | State-gov          \n",
      " fnlwgt         | 77516              \n",
      " education      | Bachelors          \n",
      " education-num  | 13                 \n",
      " marital-status | Never-married      \n",
      " occupation     | Adm-clerical       \n",
      " relationship   | Not-in-family      \n",
      " race           | White              \n",
      " sex            | Male               \n",
      " capital-gain   | 2174               \n",
      " capital-loss   | 0                  \n",
      " hours-per-week | 40                 \n",
      " native-country | United-States      \n",
      " income         | <=50K              \n",
      "-RECORD 1----------------------------\n",
      " age            | 50                 \n",
      " workclass      | Self-emp-not-inc   \n",
      " fnlwgt         | 83311              \n",
      " education      | Bachelors          \n",
      " education-num  | 13                 \n",
      " marital-status | Married-civ-spouse \n",
      " occupation     | Exec-managerial    \n",
      " relationship   | Husband            \n",
      " race           | White              \n",
      " sex            | Male               \n",
      " capital-gain   | 0                  \n",
      " capital-loss   | 0                  \n",
      " hours-per-week | 13                 \n",
      " native-country | United-States      \n",
      " income         | <=50K              \n",
      "only showing top 2 rows\n",
      "\n"
     ]
    }
   ],
   "source": [
    "df = spark.createDataFrame(data)\n",
    "df.show(2, vertical = True)"
   ]
  },
  {
   "cell_type": "code",
   "execution_count": 8,
   "id": "777c5177-b7c4-4771-bbc2-1e33741fd135",
   "metadata": {
    "tags": []
   },
   "outputs": [
    {
     "data": {
      "text/plain": [
       "StructType([StructField('age', LongType(), True), StructField('workclass', StringType(), True), StructField('fnlwgt', LongType(), True), StructField('education', StringType(), True), StructField('education-num', LongType(), True), StructField('marital-status', StringType(), True), StructField('occupation', StringType(), True), StructField('relationship', StringType(), True), StructField('race', StringType(), True), StructField('sex', StringType(), True), StructField('capital-gain', LongType(), True), StructField('capital-loss', LongType(), True), StructField('hours-per-week', LongType(), True), StructField('native-country', StringType(), True), StructField('income', StringType(), True)])"
      ]
     },
     "execution_count": 8,
     "metadata": {},
     "output_type": "execute_result"
    }
   ],
   "source": [
    "df.schema"
   ]
  },
  {
   "cell_type": "markdown",
   "id": "3bbacae2-9e46-4ee5-b688-38ae7084fc89",
   "metadata": {},
   "source": [
    "根据census_income.variables中missing_values这一列可知: workclass, occupation和native-country这三列存在缺失值，我们首先删除有缺失值的行"
   ]
  },
  {
   "cell_type": "code",
   "execution_count": 9,
   "id": "b3a56530-b406-4781-9812-89e45a772450",
   "metadata": {
    "tags": []
   },
   "outputs": [],
   "source": [
    "def check_distinct_values(col_name):\n",
    "    column_values = df.select(col_name).distinct().collect()\n",
    "    values = [row[col_name] for row in column_values]\n",
    "    print(values)\n",
    "    return values"
   ]
  },
  {
   "cell_type": "code",
   "execution_count": 10,
   "id": "f7cb487a-d59c-4634-b42b-10ed18b67a9d",
   "metadata": {
    "tags": []
   },
   "outputs": [
    {
     "name": "stdout",
     "output_type": "stream",
     "text": [
      "['Self-emp-not-inc', 'Local-gov', 'State-gov', 'Private', 'Without-pay', 'Federal-gov', 'Never-worked', 'NaN', '?', 'Self-emp-inc']\n",
      "['Sales', 'Exec-managerial', 'Prof-specialty', 'Handlers-cleaners', 'Farming-fishing', 'Craft-repair', 'Transport-moving', 'Priv-house-serv', 'Protective-serv', 'Other-service', 'NaN', 'Tech-support', 'Machine-op-inspct', 'Armed-Forces', '?', 'Adm-clerical']\n",
      "['Philippines', 'Germany', 'Cambodia', 'France', 'Greece', 'Taiwan', 'Ecuador', 'Nicaragua', 'Hong', 'Peru', 'India', 'China', 'Italy', 'Holand-Netherlands', 'Cuba', 'South', 'Iran', 'Ireland', 'Thailand', 'Laos', 'El-Salvador', 'Mexico', 'Guatemala', 'Honduras', 'Yugoslavia', 'NaN', 'Puerto-Rico', 'Jamaica', 'Canada', 'United-States', 'Dominican-Republic', 'Outlying-US(Guam-USVI-etc)', 'Japan', 'England', 'Haiti', 'Poland', 'Portugal', '?', 'Columbia', 'Scotland', 'Hungary', 'Vietnam', 'Trinadad&Tobago']\n"
     ]
    },
    {
     "data": {
      "text/plain": [
       "['Philippines',\n",
       " 'Germany',\n",
       " 'Cambodia',\n",
       " 'France',\n",
       " 'Greece',\n",
       " 'Taiwan',\n",
       " 'Ecuador',\n",
       " 'Nicaragua',\n",
       " 'Hong',\n",
       " 'Peru',\n",
       " 'India',\n",
       " 'China',\n",
       " 'Italy',\n",
       " 'Holand-Netherlands',\n",
       " 'Cuba',\n",
       " 'South',\n",
       " 'Iran',\n",
       " 'Ireland',\n",
       " 'Thailand',\n",
       " 'Laos',\n",
       " 'El-Salvador',\n",
       " 'Mexico',\n",
       " 'Guatemala',\n",
       " 'Honduras',\n",
       " 'Yugoslavia',\n",
       " 'NaN',\n",
       " 'Puerto-Rico',\n",
       " 'Jamaica',\n",
       " 'Canada',\n",
       " 'United-States',\n",
       " 'Dominican-Republic',\n",
       " 'Outlying-US(Guam-USVI-etc)',\n",
       " 'Japan',\n",
       " 'England',\n",
       " 'Haiti',\n",
       " 'Poland',\n",
       " 'Portugal',\n",
       " '?',\n",
       " 'Columbia',\n",
       " 'Scotland',\n",
       " 'Hungary',\n",
       " 'Vietnam',\n",
       " 'Trinadad&Tobago']"
      ]
     },
     "execution_count": 10,
     "metadata": {},
     "output_type": "execute_result"
    }
   ],
   "source": [
    "check_distinct_values(\"workclass\")\n",
    "check_distinct_values(\"occupation\")\n",
    "check_distinct_values(\"native-country\")"
   ]
  },
  {
   "cell_type": "markdown",
   "id": "497c2f0f-ecf8-4fe9-b84f-75d6a87eedb2",
   "metadata": {},
   "source": [
    "发现缺失值以\"?\"和\"NaN\"形式存在"
   ]
  },
  {
   "cell_type": "code",
   "execution_count": 11,
   "id": "eaca7a2e-599d-4efe-898a-d7baecb96787",
   "metadata": {
    "tags": []
   },
   "outputs": [
    {
     "name": "stdout",
     "output_type": "stream",
     "text": [
      "['Self-emp-not-inc', None, 'Local-gov', 'State-gov', 'Private', 'Without-pay', 'Federal-gov', 'Never-worked', 'Self-emp-inc']\n"
     ]
    },
    {
     "data": {
      "text/plain": [
       "['Self-emp-not-inc',\n",
       " None,\n",
       " 'Local-gov',\n",
       " 'State-gov',\n",
       " 'Private',\n",
       " 'Without-pay',\n",
       " 'Federal-gov',\n",
       " 'Never-worked',\n",
       " 'Self-emp-inc']"
      ]
     },
     "execution_count": 11,
     "metadata": {},
     "output_type": "execute_result"
    }
   ],
   "source": [
    "df = df.replace([\"NaN\", \"?\"], [None, None])\n",
    "# 成功把\"NaN\"和\"?\"替换为None\n",
    "check_distinct_values(\"workclass\")"
   ]
  },
  {
   "cell_type": "code",
   "execution_count": 12,
   "id": "e52e2a56-22db-4349-98a4-749e1a308cf5",
   "metadata": {
    "tags": []
   },
   "outputs": [
    {
     "name": "stdout",
     "output_type": "stream",
     "text": [
      "45222\n"
     ]
    }
   ],
   "source": [
    "# 去除所有含None的行\n",
    "df = df.na.drop()\n",
    "print(df.count()) # 从48842行降低到45222行"
   ]
  },
  {
   "cell_type": "markdown",
   "id": "7bb74e30-6260-4311-a728-c15706a24c2e",
   "metadata": {},
   "source": [
    "接下来开始处理每一列的数据类型"
   ]
  },
  {
   "cell_type": "code",
   "execution_count": 13,
   "id": "c4142483-0e78-4e6d-a2b3-ccaa3d0f7d16",
   "metadata": {
    "scrolled": true,
    "tags": []
   },
   "outputs": [
    {
     "name": "stdout",
     "output_type": "stream",
     "text": [
      "-RECORD 0----------------------------\n",
      " summary        | count              \n",
      " age            | 45222              \n",
      " workclass      | 45222              \n",
      " fnlwgt         | 45222              \n",
      " education      | 45222              \n",
      " education-num  | 45222              \n",
      " marital-status | 45222              \n",
      " occupation     | 45222              \n",
      " relationship   | 45222              \n",
      " race           | 45222              \n",
      " sex            | 45222              \n",
      " capital-gain   | 45222              \n",
      " capital-loss   | 45222              \n",
      " hours-per-week | 45222              \n",
      " native-country | 45222              \n",
      " income         | 45222              \n",
      "-RECORD 1----------------------------\n",
      " summary        | mean               \n",
      " age            | 38.547941267524656 \n",
      " workclass      | null               \n",
      " fnlwgt         | 189734.7343107337  \n",
      " education      | null               \n",
      " education-num  | 10.118460041572686 \n",
      " marital-status | null               \n",
      " occupation     | null               \n",
      " relationship   | null               \n",
      " race           | null               \n",
      " sex            | null               \n",
      " capital-gain   | 1101.4303436380524 \n",
      " capital-loss   | 88.595418159303    \n",
      " hours-per-week | 40.93801689443191  \n",
      " native-country | null               \n",
      " income         | null               \n",
      "-RECORD 2----------------------------\n",
      " summary        | stddev             \n",
      " age            | 13.217870219055497 \n",
      " workclass      | null               \n",
      " fnlwgt         | 105639.19513422083 \n",
      " education      | null               \n",
      " education-num  | 2.552881195075878  \n",
      " marital-status | null               \n",
      " occupation     | null               \n",
      " relationship   | null               \n",
      " race           | null               \n",
      " sex            | null               \n",
      " capital-gain   | 7506.430083745271  \n",
      " capital-loss   | 404.95609205896454 \n",
      " hours-per-week | 12.007508230033444 \n",
      " native-country | null               \n",
      " income         | null               \n",
      "-RECORD 3----------------------------\n",
      " summary        | min                \n",
      " age            | 17                 \n",
      " workclass      | Federal-gov        \n",
      " fnlwgt         | 13492              \n",
      " education      | 10th               \n",
      " education-num  | 1                  \n",
      " marital-status | Divorced           \n",
      " occupation     | Adm-clerical       \n",
      " relationship   | Husband            \n",
      " race           | Amer-Indian-Eskimo \n",
      " sex            | Female             \n",
      " capital-gain   | 0                  \n",
      " capital-loss   | 0                  \n",
      " hours-per-week | 1                  \n",
      " native-country | Cambodia           \n",
      " income         | <=50K              \n",
      "-RECORD 4----------------------------\n",
      " summary        | 25%                \n",
      " age            | 28                 \n",
      " workclass      | null               \n",
      " fnlwgt         | 117381             \n",
      " education      | null               \n",
      " education-num  | 9                  \n",
      " marital-status | null               \n",
      " occupation     | null               \n",
      " relationship   | null               \n",
      " race           | null               \n",
      " sex            | null               \n",
      " capital-gain   | 0                  \n",
      " capital-loss   | 0                  \n",
      " hours-per-week | 40                 \n",
      " native-country | null               \n",
      " income         | null               \n",
      "-RECORD 5----------------------------\n",
      " summary        | 50%                \n",
      " age            | 37                 \n",
      " workclass      | null               \n",
      " fnlwgt         | 178312             \n",
      " education      | null               \n",
      " education-num  | 10                 \n",
      " marital-status | null               \n",
      " occupation     | null               \n",
      " relationship   | null               \n",
      " race           | null               \n",
      " sex            | null               \n",
      " capital-gain   | 0                  \n",
      " capital-loss   | 0                  \n",
      " hours-per-week | 40                 \n",
      " native-country | null               \n",
      " income         | null               \n",
      "-RECORD 6----------------------------\n",
      " summary        | 75%                \n",
      " age            | 47                 \n",
      " workclass      | null               \n",
      " fnlwgt         | 237903             \n",
      " education      | null               \n",
      " education-num  | 13                 \n",
      " marital-status | null               \n",
      " occupation     | null               \n",
      " relationship   | null               \n",
      " race           | null               \n",
      " sex            | null               \n",
      " capital-gain   | 0                  \n",
      " capital-loss   | 0                  \n",
      " hours-per-week | 45                 \n",
      " native-country | null               \n",
      " income         | null               \n",
      "-RECORD 7----------------------------\n",
      " summary        | max                \n",
      " age            | 90                 \n",
      " workclass      | Without-pay        \n",
      " fnlwgt         | 1490400            \n",
      " education      | Some-college       \n",
      " education-num  | 16                 \n",
      " marital-status | Widowed            \n",
      " occupation     | Transport-moving   \n",
      " relationship   | Wife               \n",
      " race           | White              \n",
      " sex            | Male               \n",
      " capital-gain   | 99999              \n",
      " capital-loss   | 4356               \n",
      " hours-per-week | 99                 \n",
      " native-country | Yugoslavia         \n",
      " income         | >50K.              \n",
      "\n"
     ]
    }
   ],
   "source": [
    "df.summary().show(truncate=False, vertical=True)"
   ]
  },
  {
   "cell_type": "code",
   "execution_count": 14,
   "id": "1f5f259a-b0ce-474e-a16a-8303f8c58a42",
   "metadata": {
    "tags": []
   },
   "outputs": [
    {
     "data": {
      "text/plain": [
       "[('age', 'bigint'),\n",
       " ('workclass', 'string'),\n",
       " ('fnlwgt', 'bigint'),\n",
       " ('education', 'string'),\n",
       " ('education-num', 'bigint'),\n",
       " ('marital-status', 'string'),\n",
       " ('occupation', 'string'),\n",
       " ('relationship', 'string'),\n",
       " ('race', 'string'),\n",
       " ('sex', 'string'),\n",
       " ('capital-gain', 'bigint'),\n",
       " ('capital-loss', 'bigint'),\n",
       " ('hours-per-week', 'bigint'),\n",
       " ('native-country', 'string'),\n",
       " ('income', 'string')]"
      ]
     },
     "execution_count": 14,
     "metadata": {},
     "output_type": "execute_result"
    }
   ],
   "source": [
    "# 我们要把\"workclass\", \"education\", 'marital-status', 'occupation', 'relationship', 'race', 'sex', 'native-country', 'income' \n",
    "# 这些为\"string\"的categorical data转换为数字\n",
    "df.dtypes"
   ]
  },
  {
   "cell_type": "code",
   "execution_count": 15,
   "id": "85586607-d833-4a3c-a1a0-0f42f934482b",
   "metadata": {
    "tags": []
   },
   "outputs": [
    {
     "name": "stdout",
     "output_type": "stream",
     "text": [
      "['Female', 'Male']\n",
      "[0, 1]\n"
     ]
    },
    {
     "data": {
      "text/plain": [
       "[0, 1]"
      ]
     },
     "execution_count": 15,
     "metadata": {},
     "output_type": "execute_result"
    }
   ],
   "source": [
    "# 'sex'和income属于binary变量，所以我们要将其转化为0和1\n",
    "# Female对应0，Male对应1\n",
    "check_distinct_values(\"sex\")\n",
    "df = df.withColumn(\n",
    "    \"sex\",\n",
    "    when(col(\"sex\")==\"Female\", 0) \\\n",
    "    .when(col(\"sex\")==\"Male\", 1) \\\n",
    "    .cast(\"bigint\")  # 将数据类型转换为 bigint\n",
    ")\n",
    "check_distinct_values(\"sex\")"
   ]
  },
  {
   "cell_type": "code",
   "execution_count": 16,
   "id": "8e8d25c0-5da9-4b1b-b860-a38d0cb1aced",
   "metadata": {
    "tags": []
   },
   "outputs": [
    {
     "name": "stdout",
     "output_type": "stream",
     "text": [
      "['<=50K.', '<=50K', '>50K', '>50K.']\n",
      "[0, 1]\n"
     ]
    },
    {
     "data": {
      "text/plain": [
       "[0, 1]"
      ]
     },
     "execution_count": 16,
     "metadata": {},
     "output_type": "execute_result"
    }
   ],
   "source": [
    "# 1表示收入>50K,0表示收入<=50K\n",
    "check_distinct_values(\"income\")\n",
    "df = df.withColumn(\n",
    "    \"income\",\n",
    "    when(col(\"income\").isin(\"<=50K\", \"<=50K.\"), 0) \\\n",
    "    .when(col(\"income\").isin(\">50K\", \">50K.\"), 1) \\\n",
    "    .cast(\"bigint\")  # 将数据类型转换为 bigint\n",
    ")\n",
    "check_distinct_values(\"income\")"
   ]
  },
  {
   "cell_type": "code",
   "execution_count": 17,
   "id": "0a040a47-fe0c-4fd6-8afc-b9e204a59f3c",
   "metadata": {
    "tags": []
   },
   "outputs": [
    {
     "name": "stdout",
     "output_type": "stream",
     "text": [
      "['Separated', 'Never-married', 'Married-spouse-absent', 'Divorced', 'Widowed', 'Married-AF-spouse', 'Married-civ-spouse']\n",
      "[0, 1]\n"
     ]
    },
    {
     "data": {
      "text/plain": [
       "[0, 1]"
      ]
     },
     "execution_count": 17,
     "metadata": {},
     "output_type": "execute_result"
    }
   ],
   "source": [
    "# 因为我们的预测目标是: whether this person’s marital status is never married\n",
    "# 所以matrial-status 也是binary变量\n",
    "check_distinct_values(\"marital-status\")\n",
    "df = df.withColumn(\n",
    "    \"marital-status\",\n",
    "    when(col(\"marital-status\")=='Never-married', 0).otherwise(1) \\\n",
    "    .cast(\"bigint\")  # 将数据类型转换为 bigint\n",
    ")\n",
    "check_distinct_values(\"marital-status\")"
   ]
  },
  {
   "cell_type": "code",
   "execution_count": 18,
   "id": "5b2774a2-71dd-4b24-bf70-5414dccfab68",
   "metadata": {
    "tags": []
   },
   "outputs": [
    {
     "name": "stdout",
     "output_type": "stream",
     "text": [
      "[7, 6, 9, 5, 1, 10, 3, 12, 8, 11, 2, 4, 13, 14, 15, 16]\n"
     ]
    },
    {
     "data": {
      "text/plain": [
       "[7, 6, 9, 5, 1, 10, 3, 12, 8, 11, 2, 4, 13, 14, 15, 16]"
      ]
     },
     "execution_count": 18,
     "metadata": {},
     "output_type": "execute_result"
    }
   ],
   "source": [
    "# 对于education，因为存在education-num，所以可以直接删除education\n",
    "df=df.drop(\"education\")\n",
    "check_distinct_values(\"education-num\")"
   ]
  },
  {
   "cell_type": "code",
   "execution_count": 19,
   "id": "3a058633-7cff-420f-914a-958d9b66ce14",
   "metadata": {
    "tags": []
   },
   "outputs": [
    {
     "name": "stdout",
     "output_type": "stream",
     "text": [
      "['Self-emp-not-inc', 'Local-gov', 'State-gov', 'Private', 'Without-pay', 'Federal-gov', 'Self-emp-inc']\n",
      "7\n",
      "['Sales', 'Exec-managerial', 'Prof-specialty', 'Handlers-cleaners', 'Farming-fishing', 'Craft-repair', 'Transport-moving', 'Priv-house-serv', 'Protective-serv', 'Other-service', 'Tech-support', 'Machine-op-inspct', 'Armed-Forces', 'Adm-clerical']\n",
      "14\n",
      "['Own-child', 'Not-in-family', 'Unmarried', 'Wife', 'Other-relative', 'Husband']\n",
      "6\n",
      "['Other', 'Amer-Indian-Eskimo', 'White', 'Asian-Pac-Islander', 'Black']\n",
      "5\n",
      "['Philippines', 'Germany', 'Cambodia', 'France', 'Greece', 'Taiwan', 'Ecuador', 'Nicaragua', 'Hong', 'Peru', 'India', 'China', 'Italy', 'Holand-Netherlands', 'Cuba', 'South', 'Iran', 'Ireland', 'Thailand', 'Laos', 'El-Salvador', 'Mexico', 'Guatemala', 'Honduras', 'Yugoslavia', 'Puerto-Rico', 'Jamaica', 'Canada', 'United-States', 'Dominican-Republic', 'Outlying-US(Guam-USVI-etc)', 'Japan', 'England', 'Haiti', 'Poland', 'Portugal', 'Columbia', 'Scotland', 'Hungary', 'Vietnam', 'Trinadad&Tobago']\n",
      "41\n"
     ]
    }
   ],
   "source": [
    "# 处理其他categorical数据\n",
    "# 即处理:\"workclass\", \"education\", 'marital-status', 'occupation', 'relationship', 'race', 'native-country'\n",
    "print(len(check_distinct_values(\"workclass\")))\n",
    "print(len(check_distinct_values(\"occupation\")))\n",
    "print(len(check_distinct_values(\"relationship\")))\n",
    "print(len(check_distinct_values(\"race\")))\n",
    "print(len(check_distinct_values(\"native-country\")))"
   ]
  },
  {
   "cell_type": "code",
   "execution_count": 20,
   "id": "2f449a41-b927-4e3a-9d29-25e80513d925",
   "metadata": {
    "tags": []
   },
   "outputs": [],
   "source": [
    "from pyspark.ml.feature import StringIndexer, StringIndexerModel\n",
    "from pyspark.ml import Pipeline\n",
    "\n",
    "# We don't have any ordinal variables. Only nominal variables\n",
    "# first part : transform the columns to numeric\n",
    "stage_1 = StringIndexer(inputCol= 'workclass', outputCol= 'workclass_index')\n",
    "stage_2 = StringIndexer(inputCol= 'occupation', outputCol= 'occupation_index')\n",
    "stage_3 = StringIndexer(inputCol= 'relationship', outputCol= 'relationship_index')\n",
    "stage_4 = StringIndexer(inputCol= 'race', outputCol= 'race_index')\n",
    "stage_5 = StringIndexer(inputCol= 'native-country', outputCol= 'native-country_index')\n",
    "\n",
    "# setup the pipeline\n",
    "pipeline = Pipeline(stages=[stage_1, stage_2, stage_3, stage_4, stage_5])\n",
    "\n",
    "# fit the pipeline model and transform the data as defined\n",
    "pipeline_model = pipeline.fit(df)\n",
    "df = pipeline_model.transform(df)"
   ]
  },
  {
   "cell_type": "code",
   "execution_count": 21,
   "id": "36d07c97-1c6d-4640-9bc7-24120117658e",
   "metadata": {
    "tags": []
   },
   "outputs": [],
   "source": [
    "def get_mapping(pipeline_model):\n",
    "    for stage in pipeline_model.stages:\n",
    "        if isinstance(stage, StringIndexerModel):\n",
    "            print(f\"Mapping for {stage.getInputCol()} -> {stage.getOutputCol()}:\")\n",
    "            mapping = list(zip(stage.labels, range(len(stage.labels))))\n",
    "            for label, index in mapping:\n",
    "                print(f\"  {label} -> {index}\")"
   ]
  },
  {
   "cell_type": "code",
   "execution_count": 22,
   "id": "b92d6173-8eb3-4a2f-a1d2-9de9df49691a",
   "metadata": {
    "scrolled": true,
    "tags": []
   },
   "outputs": [
    {
     "name": "stdout",
     "output_type": "stream",
     "text": [
      "Mapping for workclass -> workclass_index:\n",
      "  Private -> 0\n",
      "  Self-emp-not-inc -> 1\n",
      "  Local-gov -> 2\n",
      "  State-gov -> 3\n",
      "  Self-emp-inc -> 4\n",
      "  Federal-gov -> 5\n",
      "  Without-pay -> 6\n",
      "Mapping for occupation -> occupation_index:\n",
      "  Craft-repair -> 0\n",
      "  Prof-specialty -> 1\n",
      "  Exec-managerial -> 2\n",
      "  Adm-clerical -> 3\n",
      "  Sales -> 4\n",
      "  Other-service -> 5\n",
      "  Machine-op-inspct -> 6\n",
      "  Transport-moving -> 7\n",
      "  Handlers-cleaners -> 8\n",
      "  Farming-fishing -> 9\n",
      "  Tech-support -> 10\n",
      "  Protective-serv -> 11\n",
      "  Priv-house-serv -> 12\n",
      "  Armed-Forces -> 13\n",
      "Mapping for relationship -> relationship_index:\n",
      "  Husband -> 0\n",
      "  Not-in-family -> 1\n",
      "  Own-child -> 2\n",
      "  Unmarried -> 3\n",
      "  Wife -> 4\n",
      "  Other-relative -> 5\n",
      "Mapping for race -> race_index:\n",
      "  White -> 0\n",
      "  Black -> 1\n",
      "  Asian-Pac-Islander -> 2\n",
      "  Amer-Indian-Eskimo -> 3\n",
      "  Other -> 4\n",
      "Mapping for native-country -> native-country_index:\n",
      "  United-States -> 0\n",
      "  Mexico -> 1\n",
      "  Philippines -> 2\n",
      "  Germany -> 3\n",
      "  Puerto-Rico -> 4\n",
      "  Canada -> 5\n",
      "  El-Salvador -> 6\n",
      "  India -> 7\n",
      "  Cuba -> 8\n",
      "  England -> 9\n",
      "  China -> 10\n",
      "  Jamaica -> 11\n",
      "  South -> 12\n",
      "  Italy -> 13\n",
      "  Dominican-Republic -> 14\n",
      "  Japan -> 15\n",
      "  Guatemala -> 16\n",
      "  Vietnam -> 17\n",
      "  Columbia -> 18\n",
      "  Poland -> 19\n",
      "  Haiti -> 20\n",
      "  Portugal -> 21\n",
      "  Iran -> 22\n",
      "  Taiwan -> 23\n",
      "  Greece -> 24\n",
      "  Nicaragua -> 25\n",
      "  Peru -> 26\n",
      "  Ecuador -> 27\n",
      "  France -> 28\n",
      "  Ireland -> 29\n",
      "  Thailand -> 30\n",
      "  Hong -> 31\n",
      "  Cambodia -> 32\n",
      "  Trinadad&Tobago -> 33\n",
      "  Yugoslavia -> 34\n",
      "  Outlying-US(Guam-USVI-etc) -> 35\n",
      "  Laos -> 36\n",
      "  Scotland -> 37\n",
      "  Honduras -> 38\n",
      "  Hungary -> 39\n",
      "  Holand-Netherlands -> 40\n"
     ]
    }
   ],
   "source": [
    "# 打印对应关系\n",
    "get_mapping(pipeline_model)"
   ]
  },
  {
   "cell_type": "code",
   "execution_count": 23,
   "id": "adfc76b8-69dd-45f0-800b-65d172257203",
   "metadata": {
    "tags": []
   },
   "outputs": [
    {
     "name": "stdout",
     "output_type": "stream",
     "text": [
      "-RECORD 0---------------------\n",
      " age                  | 39    \n",
      " fnlwgt               | 77516 \n",
      " education-num        | 13    \n",
      " marital-status       | 0     \n",
      " sex                  | 1     \n",
      " capital-gain         | 2174  \n",
      " capital-loss         | 0     \n",
      " hours-per-week       | 40    \n",
      " income               | 0     \n",
      " workclass_index      | 3.0   \n",
      " occupation_index     | 3.0   \n",
      " relationship_index   | 1.0   \n",
      " race_index           | 0.0   \n",
      " native-country_index | 0.0   \n",
      "only showing top 1 row\n",
      "\n"
     ]
    }
   ],
   "source": [
    "df=df.drop(\"workclass\", 'occupation', 'relationship', 'race', 'native-country')\n",
    "df.show(1,vertical=True)"
   ]
  },
  {
   "cell_type": "code",
   "execution_count": 24,
   "id": "bbd1f9d0-c0c7-4486-ab19-3b3e5f6170a2",
   "metadata": {
    "tags": []
   },
   "outputs": [
    {
     "name": "stdout",
     "output_type": "stream",
     "text": [
      "-RECORD 0---------------------\n",
      " education-num        | 13    \n",
      " marital-status       | 0     \n",
      " sex                  | 1     \n",
      " income               | 0     \n",
      " workclass_index      | 3.0   \n",
      " occupation_index     | 3.0   \n",
      " relationship_index   | 1.0   \n",
      " race_index           | 0.0   \n",
      " native-country_index | 0.0   \n",
      " age                  | 39    \n",
      " fnlwgt               | 77516 \n",
      " capital-gain         | 2174  \n",
      " capital-loss         | 0     \n",
      " hours-per-week       | 40    \n",
      "only showing top 1 row\n",
      "\n"
     ]
    }
   ],
   "source": [
    "# 下标为0,1,5,6,7对应的是5个连续特征，将他们移动到最后，方便处理(暂且把age也当做连续特征）\n",
    "columns = df.columns\n",
    "columns_reordered = columns[2:5] + columns[8:] + columns[0:2] + [columns[5]] + [columns[6]] + [columns[7]]\n",
    "df = df.select(columns_reordered)\n",
    "df.show(1,vertical=True)"
   ]
  },
  {
   "cell_type": "markdown",
   "id": "4339d6df-6057-4578-b55c-5e0dc372c35a",
   "metadata": {},
   "source": [
    "拼接所有特征变为一个向量"
   ]
  },
  {
   "cell_type": "code",
   "execution_count": 25,
   "id": "f57affed-d302-42b7-91c5-67fbe45f792f",
   "metadata": {
    "tags": []
   },
   "outputs": [
    {
     "name": "stdout",
     "output_type": "stream",
     "text": [
      "feature_list: ['education-num', 'marital-status', 'sex', 'income', 'workclass_index', 'occupation_index', 'relationship_index', 'race_index', 'native-country_index', 'age', 'fnlwgt', 'capital-gain', 'capital-loss', 'hours-per-week']\n",
      "feature_list for exp1: ['education-num', 'sex', 'workclass_index', 'occupation_index', 'relationship_index', 'race_index', 'native-country_index', 'age', 'fnlwgt', 'capital-gain', 'capital-loss', 'hours-per-week']\n",
      "feature_list for exp2: ['sex', 'income', 'workclass_index', 'occupation_index', 'relationship_index', 'race_index', 'native-country_index', 'age', 'fnlwgt', 'capital-gain', 'capital-loss', 'hours-per-week']\n"
     ]
    }
   ],
   "source": [
    "from copy import deepcopy\n",
    "\n",
    "feature_list=df.columns\n",
    "print(\"feature_list:\",feature_list)\n",
    "\n",
    "feature_list1=deepcopy(feature_list)\n",
    "feature_list1.remove(\"income\")\n",
    "feature_list1.remove(\"marital-status\")\n",
    "print(\"feature_list for exp1:\",feature_list1)\n",
    "\n",
    "feature_list2=deepcopy(feature_list)\n",
    "feature_list2.remove(\"education-num\")\n",
    "feature_list2.remove(\"marital-status\")\n",
    "print(\"feature_list for exp2:\",feature_list2)"
   ]
  },
  {
   "cell_type": "code",
   "execution_count": 26,
   "id": "b171ace6-614a-4314-8aa1-930ae9f9de45",
   "metadata": {
    "tags": []
   },
   "outputs": [],
   "source": [
    "from pyspark.ml.feature import VectorAssembler\n",
    "\n",
    "vector_assembler = VectorAssembler(inputCols=feature_list1, outputCol=\"vectorized_features_1\")\n",
    "df = vector_assembler.transform(df)\n",
    "\n",
    "vector_assembler = VectorAssembler(inputCols=feature_list2, outputCol=\"vectorized_features_2\")\n",
    "df = vector_assembler.transform(df)"
   ]
  },
  {
   "cell_type": "code",
   "execution_count": 27,
   "id": "c5dbe330-d970-41b0-8922-a62b3b47ca06",
   "metadata": {
    "tags": []
   },
   "outputs": [],
   "source": [
    "from pyspark.sql.functions import udf\n",
    "from pyspark.ml.linalg import DenseVector, SparseVector\n",
    "from pyspark.sql.types import ArrayType, DoubleType\n",
    "\n",
    "# 转换 SparseVector 和 DenseVector 为普通 Python 列表\n",
    "def convert_vector_to_list(vector):\n",
    "    if isinstance(vector, DenseVector):\n",
    "        return vector.toArray().tolist()  # 将 DenseVector 转换为列表\n",
    "    elif isinstance(vector, SparseVector):\n",
    "        return vector.toArray().tolist()  # 将 SparseVector 转换为列表\n",
    "    else:\n",
    "        return vector  # 如果不是向量类型，保持不变\n",
    "\n",
    "# 注册 UDF\n",
    "convert_vector_udf = udf(convert_vector_to_list, ArrayType(DoubleType()))  # 输出为数组类型\n",
    "\n",
    "# 使用 withColumn 转换列\n",
    "df = df.withColumn(\"vectorized_features_1\", convert_vector_udf(df[\"vectorized_features_1\"]))\n",
    "df = df.withColumn(\"vectorized_features_2\", convert_vector_udf(df[\"vectorized_features_2\"]))"
   ]
  },
  {
   "cell_type": "code",
   "execution_count": 28,
   "id": "785aefc7-59d9-43a8-b8fe-df8dfc0ca72a",
   "metadata": {
    "tags": []
   },
   "outputs": [
    {
     "name": "stdout",
     "output_type": "stream",
     "text": [
      "[13.0, 1.0, 3.0, 3.0, 1.0, 0.0, 0.0, 39.0, 77516.0, 2174.0, 0.0, 40.0]\n"
     ]
    },
    {
     "data": {
      "text/html": [
       "<div>\n",
       "<style scoped>\n",
       "    .dataframe tbody tr th:only-of-type {\n",
       "        vertical-align: middle;\n",
       "    }\n",
       "\n",
       "    .dataframe tbody tr th {\n",
       "        vertical-align: top;\n",
       "    }\n",
       "\n",
       "    .dataframe thead th {\n",
       "        text-align: right;\n",
       "    }\n",
       "</style>\n",
       "<table border=\"1\" class=\"dataframe\">\n",
       "  <thead>\n",
       "    <tr style=\"text-align: right;\">\n",
       "      <th></th>\n",
       "      <th>vectorized_features_1</th>\n",
       "      <th>income</th>\n",
       "      <th>marital-status</th>\n",
       "    </tr>\n",
       "  </thead>\n",
       "  <tbody>\n",
       "    <tr>\n",
       "      <th>0</th>\n",
       "      <td>[13.0, 1.0, 3.0, 3.0, 1.0, 0.0, 0.0, 39.0, 775...</td>\n",
       "      <td>0</td>\n",
       "      <td>0</td>\n",
       "    </tr>\n",
       "    <tr>\n",
       "      <th>1</th>\n",
       "      <td>[13.0, 1.0, 1.0, 2.0, 0.0, 0.0, 0.0, 50.0, 833...</td>\n",
       "      <td>0</td>\n",
       "      <td>1</td>\n",
       "    </tr>\n",
       "    <tr>\n",
       "      <th>2</th>\n",
       "      <td>[9.0, 1.0, 0.0, 8.0, 1.0, 0.0, 0.0, 38.0, 2156...</td>\n",
       "      <td>0</td>\n",
       "      <td>1</td>\n",
       "    </tr>\n",
       "    <tr>\n",
       "      <th>3</th>\n",
       "      <td>[7.0, 1.0, 0.0, 8.0, 0.0, 1.0, 0.0, 53.0, 2347...</td>\n",
       "      <td>0</td>\n",
       "      <td>1</td>\n",
       "    </tr>\n",
       "    <tr>\n",
       "      <th>4</th>\n",
       "      <td>[13.0, 0.0, 0.0, 1.0, 4.0, 1.0, 8.0, 28.0, 338...</td>\n",
       "      <td>0</td>\n",
       "      <td>1</td>\n",
       "    </tr>\n",
       "    <tr>\n",
       "      <th>...</th>\n",
       "      <td>...</td>\n",
       "      <td>...</td>\n",
       "      <td>...</td>\n",
       "    </tr>\n",
       "    <tr>\n",
       "      <th>45217</th>\n",
       "      <td>[13.0, 1.0, 0.0, 1.0, 2.0, 0.0, 0.0, 33.0, 245...</td>\n",
       "      <td>0</td>\n",
       "      <td>0</td>\n",
       "    </tr>\n",
       "    <tr>\n",
       "      <th>45218</th>\n",
       "      <td>[13.0, 0.0, 0.0, 1.0, 1.0, 0.0, 0.0, 39.0, 215...</td>\n",
       "      <td>0</td>\n",
       "      <td>1</td>\n",
       "    </tr>\n",
       "    <tr>\n",
       "      <th>45219</th>\n",
       "      <td>[13.0, 1.0, 0.0, 1.0, 0.0, 0.0, 0.0, 38.0, 374...</td>\n",
       "      <td>0</td>\n",
       "      <td>1</td>\n",
       "    </tr>\n",
       "    <tr>\n",
       "      <th>45220</th>\n",
       "      <td>[13.0, 1.0, 0.0, 3.0, 2.0, 2.0, 0.0, 44.0, 838...</td>\n",
       "      <td>0</td>\n",
       "      <td>1</td>\n",
       "    </tr>\n",
       "    <tr>\n",
       "      <th>45221</th>\n",
       "      <td>[13.0, 1.0, 4.0, 2.0, 0.0, 0.0, 0.0, 35.0, 182...</td>\n",
       "      <td>1</td>\n",
       "      <td>1</td>\n",
       "    </tr>\n",
       "  </tbody>\n",
       "</table>\n",
       "<p>45222 rows × 3 columns</p>\n",
       "</div>"
      ],
      "text/plain": [
       "                                   vectorized_features_1  income  \\\n",
       "0      [13.0, 1.0, 3.0, 3.0, 1.0, 0.0, 0.0, 39.0, 775...       0   \n",
       "1      [13.0, 1.0, 1.0, 2.0, 0.0, 0.0, 0.0, 50.0, 833...       0   \n",
       "2      [9.0, 1.0, 0.0, 8.0, 1.0, 0.0, 0.0, 38.0, 2156...       0   \n",
       "3      [7.0, 1.0, 0.0, 8.0, 0.0, 1.0, 0.0, 53.0, 2347...       0   \n",
       "4      [13.0, 0.0, 0.0, 1.0, 4.0, 1.0, 8.0, 28.0, 338...       0   \n",
       "...                                                  ...     ...   \n",
       "45217  [13.0, 1.0, 0.0, 1.0, 2.0, 0.0, 0.0, 33.0, 245...       0   \n",
       "45218  [13.0, 0.0, 0.0, 1.0, 1.0, 0.0, 0.0, 39.0, 215...       0   \n",
       "45219  [13.0, 1.0, 0.0, 1.0, 0.0, 0.0, 0.0, 38.0, 374...       0   \n",
       "45220  [13.0, 1.0, 0.0, 3.0, 2.0, 2.0, 0.0, 44.0, 838...       0   \n",
       "45221  [13.0, 1.0, 4.0, 2.0, 0.0, 0.0, 0.0, 35.0, 182...       1   \n",
       "\n",
       "       marital-status  \n",
       "0                   0  \n",
       "1                   1  \n",
       "2                   1  \n",
       "3                   1  \n",
       "4                   1  \n",
       "...               ...  \n",
       "45217               0  \n",
       "45218               1  \n",
       "45219               1  \n",
       "45220               1  \n",
       "45221               1  \n",
       "\n",
       "[45222 rows x 3 columns]"
      ]
     },
     "execution_count": 28,
     "metadata": {},
     "output_type": "execute_result"
    }
   ],
   "source": [
    "# toPandas()能自动把bigint转化为浮点数\n",
    "panda_df_1=df.select(\"vectorized_features_1\",\"income\",\"marital-status\").toPandas()\n",
    "print(panda_df_1.iloc[0,0])\n",
    "panda_df_1"
   ]
  },
  {
   "cell_type": "code",
   "execution_count": 29,
   "id": "4c564c53-8856-4d7a-bc6c-73104cfe9380",
   "metadata": {
    "tags": []
   },
   "outputs": [
    {
     "name": "stdout",
     "output_type": "stream",
     "text": [
      "[1.0, 0.0, 3.0, 3.0, 1.0, 0.0, 0.0, 39.0, 77516.0, 2174.0, 0.0, 40.0]\n"
     ]
    },
    {
     "data": {
      "text/html": [
       "<div>\n",
       "<style scoped>\n",
       "    .dataframe tbody tr th:only-of-type {\n",
       "        vertical-align: middle;\n",
       "    }\n",
       "\n",
       "    .dataframe tbody tr th {\n",
       "        vertical-align: top;\n",
       "    }\n",
       "\n",
       "    .dataframe thead th {\n",
       "        text-align: right;\n",
       "    }\n",
       "</style>\n",
       "<table border=\"1\" class=\"dataframe\">\n",
       "  <thead>\n",
       "    <tr style=\"text-align: right;\">\n",
       "      <th></th>\n",
       "      <th>vectorized_features_2</th>\n",
       "      <th>education-num</th>\n",
       "      <th>marital-status</th>\n",
       "    </tr>\n",
       "  </thead>\n",
       "  <tbody>\n",
       "    <tr>\n",
       "      <th>0</th>\n",
       "      <td>[1.0, 0.0, 3.0, 3.0, 1.0, 0.0, 0.0, 39.0, 7751...</td>\n",
       "      <td>13</td>\n",
       "      <td>0</td>\n",
       "    </tr>\n",
       "    <tr>\n",
       "      <th>1</th>\n",
       "      <td>[1.0, 0.0, 1.0, 2.0, 0.0, 0.0, 0.0, 50.0, 8331...</td>\n",
       "      <td>13</td>\n",
       "      <td>1</td>\n",
       "    </tr>\n",
       "    <tr>\n",
       "      <th>2</th>\n",
       "      <td>[1.0, 0.0, 0.0, 8.0, 1.0, 0.0, 0.0, 38.0, 2156...</td>\n",
       "      <td>9</td>\n",
       "      <td>1</td>\n",
       "    </tr>\n",
       "    <tr>\n",
       "      <th>3</th>\n",
       "      <td>[1.0, 0.0, 0.0, 8.0, 0.0, 1.0, 0.0, 53.0, 2347...</td>\n",
       "      <td>7</td>\n",
       "      <td>1</td>\n",
       "    </tr>\n",
       "    <tr>\n",
       "      <th>4</th>\n",
       "      <td>[0.0, 0.0, 0.0, 1.0, 4.0, 1.0, 8.0, 28.0, 3384...</td>\n",
       "      <td>13</td>\n",
       "      <td>1</td>\n",
       "    </tr>\n",
       "    <tr>\n",
       "      <th>...</th>\n",
       "      <td>...</td>\n",
       "      <td>...</td>\n",
       "      <td>...</td>\n",
       "    </tr>\n",
       "    <tr>\n",
       "      <th>45217</th>\n",
       "      <td>[1.0, 0.0, 0.0, 1.0, 2.0, 0.0, 0.0, 33.0, 2452...</td>\n",
       "      <td>13</td>\n",
       "      <td>0</td>\n",
       "    </tr>\n",
       "    <tr>\n",
       "      <th>45218</th>\n",
       "      <td>[0.0, 0.0, 0.0, 1.0, 1.0, 0.0, 0.0, 39.0, 2154...</td>\n",
       "      <td>13</td>\n",
       "      <td>1</td>\n",
       "    </tr>\n",
       "    <tr>\n",
       "      <th>45219</th>\n",
       "      <td>[1.0, 0.0, 0.0, 1.0, 0.0, 0.0, 0.0, 38.0, 3749...</td>\n",
       "      <td>13</td>\n",
       "      <td>1</td>\n",
       "    </tr>\n",
       "    <tr>\n",
       "      <th>45220</th>\n",
       "      <td>[1.0, 0.0, 0.0, 3.0, 2.0, 2.0, 0.0, 44.0, 8389...</td>\n",
       "      <td>13</td>\n",
       "      <td>1</td>\n",
       "    </tr>\n",
       "    <tr>\n",
       "      <th>45221</th>\n",
       "      <td>[1.0, 1.0, 4.0, 2.0, 0.0, 0.0, 0.0, 35.0, 1821...</td>\n",
       "      <td>13</td>\n",
       "      <td>1</td>\n",
       "    </tr>\n",
       "  </tbody>\n",
       "</table>\n",
       "<p>45222 rows × 3 columns</p>\n",
       "</div>"
      ],
      "text/plain": [
       "                                   vectorized_features_2  education-num  \\\n",
       "0      [1.0, 0.0, 3.0, 3.0, 1.0, 0.0, 0.0, 39.0, 7751...             13   \n",
       "1      [1.0, 0.0, 1.0, 2.0, 0.0, 0.0, 0.0, 50.0, 8331...             13   \n",
       "2      [1.0, 0.0, 0.0, 8.0, 1.0, 0.0, 0.0, 38.0, 2156...              9   \n",
       "3      [1.0, 0.0, 0.0, 8.0, 0.0, 1.0, 0.0, 53.0, 2347...              7   \n",
       "4      [0.0, 0.0, 0.0, 1.0, 4.0, 1.0, 8.0, 28.0, 3384...             13   \n",
       "...                                                  ...            ...   \n",
       "45217  [1.0, 0.0, 0.0, 1.0, 2.0, 0.0, 0.0, 33.0, 2452...             13   \n",
       "45218  [0.0, 0.0, 0.0, 1.0, 1.0, 0.0, 0.0, 39.0, 2154...             13   \n",
       "45219  [1.0, 0.0, 0.0, 1.0, 0.0, 0.0, 0.0, 38.0, 3749...             13   \n",
       "45220  [1.0, 0.0, 0.0, 3.0, 2.0, 2.0, 0.0, 44.0, 8389...             13   \n",
       "45221  [1.0, 1.0, 4.0, 2.0, 0.0, 0.0, 0.0, 35.0, 1821...             13   \n",
       "\n",
       "       marital-status  \n",
       "0                   0  \n",
       "1                   1  \n",
       "2                   1  \n",
       "3                   1  \n",
       "4                   1  \n",
       "...               ...  \n",
       "45217               0  \n",
       "45218               1  \n",
       "45219               1  \n",
       "45220               1  \n",
       "45221               1  \n",
       "\n",
       "[45222 rows x 3 columns]"
      ]
     },
     "execution_count": 29,
     "metadata": {},
     "output_type": "execute_result"
    }
   ],
   "source": [
    "panda_df_2=df.select(\"vectorized_features_2\", \"education-num\", \"marital-status\").toPandas()\n",
    "print(panda_df_2.iloc[0,0])\n",
    "panda_df_2"
   ]
  },
  {
   "cell_type": "code",
   "execution_count": 30,
   "id": "d2e12615-58aa-4a54-bd59-df439a9e685a",
   "metadata": {
    "tags": []
   },
   "outputs": [],
   "source": [
    "import os\n",
    "\n",
    "# 判断目录是否存在，如果不存在则创建\n",
    "if not os.path.exists(\"data/exp1\"):\n",
    "    os.makedirs(\"data/exp1\")  \n",
    "if not os.path.exists(\"data/exp2\"):\n",
    "    os.makedirs(\"data/exp2\")  "
   ]
  },
  {
   "cell_type": "code",
   "execution_count": 31,
   "id": "924f0925-11ca-4f62-849d-fa63f641713a",
   "metadata": {
    "tags": []
   },
   "outputs": [],
   "source": [
    "# 30000条样本作为训练集，7500条样本作为验证集，7500条样本作为测试集\n",
    "panda_df_1.to_csv(\"data/exp1/raw.csv\", index=False)\n",
    "panda_df_2.to_csv(\"data/exp2/raw.csv\", index=False)"
   ]
  },
  {
   "cell_type": "code",
   "execution_count": 32,
   "id": "9cbed84c-ff95-44dc-90d0-b5456d81ef62",
   "metadata": {
    "tags": []
   },
   "outputs": [
    {
     "data": {
      "text/plain": [
       "['education-num',\n",
       " 'marital-status',\n",
       " 'sex',\n",
       " 'income',\n",
       " 'workclass_index',\n",
       " 'occupation_index',\n",
       " 'relationship_index',\n",
       " 'race_index',\n",
       " 'native-country_index',\n",
       " 'age',\n",
       " 'fnlwgt',\n",
       " 'capital-gain',\n",
       " 'capital-loss',\n",
       " 'hours-per-week',\n",
       " 'vectorized_features_1',\n",
       " 'vectorized_features_2']"
      ]
     },
     "execution_count": 32,
     "metadata": {},
     "output_type": "execute_result"
    }
   ],
   "source": [
    "df.columns"
   ]
  },
  {
   "cell_type": "code",
   "execution_count": null,
   "id": "9ab79790-baa9-412f-969e-ebe5b56d315e",
   "metadata": {},
   "outputs": [],
   "source": []
  }
 ],
 "metadata": {
  "kernelspec": {
   "display_name": "Python 3 (ipykernel)",
   "language": "python",
   "name": "python3"
  },
  "language_info": {
   "codemirror_mode": {
    "name": "ipython",
    "version": 3
   },
   "file_extension": ".py",
   "mimetype": "text/x-python",
   "name": "python",
   "nbconvert_exporter": "python",
   "pygments_lexer": "ipython3",
   "version": "3.11.4"
  }
 },
 "nbformat": 4,
 "nbformat_minor": 5
}
