{
 "cells": [
  {
   "cell_type": "code",
   "execution_count": 1,
   "id": "17b71820-c9fe-4235-871f-634550a52f10",
   "metadata": {
    "tags": []
   },
   "outputs": [
    {
     "name": "stdout",
     "output_type": "stream",
     "text": [
      "C:\\jupyter file\\CMU_3\\distributed ML\\project\n",
      "WARNING:tensorflow:From C:\\anaconda3\\Lib\\site-packages\\keras\\src\\losses.py:2976: The name tf.losses.sparse_softmax_cross_entropy is deprecated. Please use tf.compat.v1.losses.sparse_softmax_cross_entropy instead.\n",
      "\n"
     ]
    }
   ],
   "source": [
    "%cd ../\n",
    "import pandas as pd\n",
    "from torch.utils.data import Dataset,DataLoader\n",
    "import torch\n",
    "import numpy as np\n",
    "import ast\n",
    "import torch.nn as nn\n",
    "import torch.optim as optim\n",
    "import random\n",
    "from matplotlib import pyplot as plt\n",
    "import os\n",
    "import shutil\n",
    "from datetime import datetime\n",
    "import wandb\n",
    "from utils import set_all_seed, load_exp2_dataset\n",
    "from topk_mmoe import TopkMMoE\n",
    "from trainer_and_evaluator import train_TopkMMoE, eval_TopkMMoE"
   ]
  },
  {
   "cell_type": "code",
   "execution_count": 2,
   "id": "7ca68d7d-d2ae-4f1d-bd9c-b139f48de1c2",
   "metadata": {
    "tags": []
   },
   "outputs": [
    {
     "name": "stdout",
     "output_type": "stream",
     "text": [
      "Absolute Pearson correlation coefficient: 0.16661069841980908\n",
      "P-value: 0.0\n"
     ]
    }
   ],
   "source": [
    "set_all_seed(42)\n",
    "train_dataset, val_dataset, test_dataset = load_exp2_dataset() # 使用exp2的数据集"
   ]
  },
  {
   "cell_type": "code",
   "execution_count": 3,
   "id": "ca9da1d9-c2cc-40f1-a61f-cfa6d3997de2",
   "metadata": {
    "tags": []
   },
   "outputs": [
    {
     "name": "stdout",
     "output_type": "stream",
     "text": [
      "exp2_topk_mmoe_dropout:batch_size=256_N_epochs=50_lr=0.0001_feature_dim=114_expert_dim=32_n_expert=16_n_activated_expert=4_n_task=2_sparse_load_balancing_loss_coef=0_olmo_load_balancing_loss_coef=0_router_z_loss_coef=0_gate_dropout=0_tower_dropout=0_expert_dropout=0.2\n",
      "model/exp2_topk_mmoe_dropout/batch_size=256_N_epochs=50_lr=0.0001_114_32_16_4_2_0_0_0_0_0_0.2\n"
     ]
    },
    {
     "name": "stderr",
     "output_type": "stream",
     "text": [
      "\u001b[34m\u001b[1mwandb\u001b[0m: Currently logged in as: \u001b[33myuntaozh\u001b[0m (\u001b[33mzhengyuntao\u001b[0m). Use \u001b[1m`wandb login --relogin`\u001b[0m to force relogin\n"
     ]
    },
    {
     "data": {
      "text/html": [
       "Tracking run with wandb version 0.17.8"
      ],
      "text/plain": [
       "<IPython.core.display.HTML object>"
      ]
     },
     "metadata": {},
     "output_type": "display_data"
    },
    {
     "data": {
      "text/html": [
       "Run data is saved locally in <code>C:\\jupyter file\\CMU_3\\distributed ML\\project\\wandb\\run-20241128_014456-o17s3etn</code>"
      ],
      "text/plain": [
       "<IPython.core.display.HTML object>"
      ]
     },
     "metadata": {},
     "output_type": "display_data"
    },
    {
     "data": {
      "text/html": [
       "Syncing run <strong><a href='https://wandb.ai/zhengyuntao/mmoe/runs/o17s3etn' target=\"_blank\">exp2_topk_mmoe_dropout:batch_size=256_N_epochs=50_lr=0.0001_feature_dim=114_expert_dim=32_n_expert=16_n_activated_expert=4_n_task=2_sparse_load_balancing_loss_coef=0_olmo_load_balancing_loss_coef=0_router_z_loss_coef=0_gate_dropout=0_tower_dropout=0_expert_dropout=0.2</a></strong> to <a href='https://wandb.ai/zhengyuntao/mmoe' target=\"_blank\">Weights & Biases</a> (<a href='https://wandb.me/run' target=\"_blank\">docs</a>)<br/>"
      ],
      "text/plain": [
       "<IPython.core.display.HTML object>"
      ]
     },
     "metadata": {},
     "output_type": "display_data"
    },
    {
     "data": {
      "text/html": [
       " View project at <a href='https://wandb.ai/zhengyuntao/mmoe' target=\"_blank\">https://wandb.ai/zhengyuntao/mmoe</a>"
      ],
      "text/plain": [
       "<IPython.core.display.HTML object>"
      ]
     },
     "metadata": {},
     "output_type": "display_data"
    },
    {
     "data": {
      "text/html": [
       " View run at <a href='https://wandb.ai/zhengyuntao/mmoe/runs/o17s3etn' target=\"_blank\">https://wandb.ai/zhengyuntao/mmoe/runs/o17s3etn</a>"
      ],
      "text/plain": [
       "<IPython.core.display.HTML object>"
      ]
     },
     "metadata": {},
     "output_type": "display_data"
    },
    {
     "data": {
      "text/html": [
       "<button onClick=\"this.nextSibling.style.display='block';this.style.display='none';\">Display W&B run</button><iframe src='https://wandb.ai/zhengyuntao/mmoe/runs/o17s3etn?jupyter=true' style='border:none;width:100%;height:420px;display:none;'></iframe>"
      ],
      "text/plain": [
       "<wandb.sdk.wandb_run.Run at 0x1b2f4364350>"
      ]
     },
     "execution_count": 3,
     "metadata": {},
     "output_type": "execute_result"
    }
   ],
   "source": [
    "# 设定各种超参数，wandb日志名，日志存储路径，模型存储路径\n",
    "train_params = {\n",
    "    \"batch_size\": 256,\n",
    "    \"N_epochs\": 50,\n",
    "    \"lr\": 0.0001\n",
    "}\n",
    "\n",
    "# 仅设置dropout\n",
    "model_params={\n",
    "    \"feature_dim\": 114,\n",
    "    \"expert_dim\": 32,\n",
    "    \"n_expert\": 16,\n",
    "    \"n_activated_expert\": 4,\n",
    "    \"n_task\": 2,\n",
    "    \"sparse_load_balancing_loss_coef\": 0,\n",
    "    \"olmo_load_balancing_loss_coef\": 0,\n",
    "    \"router_z_loss_coef\": 0,\n",
    "    \"gate_dropout\": 0,\n",
    "    \"tower_dropout\": 0,\n",
    "    \"expert_dropout\": 0.2\n",
    "}\n",
    "\n",
    "model_name=\"exp2_topk_mmoe_dropout\" # 模型名改成exp2\n",
    "if not os.path.exists(\"model/\"+model_name):\n",
    "    os.makedirs(\"model/\"+model_name) \n",
    "\n",
    "train_params_str = \"_\".join(f\"{key}={value}\" for key, value in train_params.items())\n",
    "model_params_str = \"_\".join(f\"{key}={value}\" for key, value in model_params.items())\n",
    "short_model_params_str = \"_\".join(f\"{value}\" for key, value in model_params.items())\n",
    "\n",
    "wandb_name=model_name+\":\"+train_params_str+\"_\"+model_params_str\n",
    "\n",
    "# 使用short_model_params_str是因为windows支持的最长文件名长度仅为260\n",
    "bestmodel_save_dir=f\"model/\"+model_name+\"/\"+train_params_str+\"_\"+short_model_params_str \n",
    "\n",
    "print(wandb_name)\n",
    "print(bestmodel_save_dir)\n",
    "\n",
    "wandb.init(project=\"mmoe\", name=wandb_name)"
   ]
  },
  {
   "cell_type": "code",
   "execution_count": 4,
   "id": "af593b44-aa48-4f35-88df-2165577e1242",
   "metadata": {
    "tags": []
   },
   "outputs": [
    {
     "name": "stdout",
     "output_type": "stream",
     "text": [
      "Number of parameters: 45586\n",
      "Number of parameters in SparseMMoE: 43584\n",
      "Number of activated parameters in SparseMMoE: 10896\n"
     ]
    }
   ],
   "source": [
    "mymodel = TopkMMoE(**model_params)\n",
    "\n",
    "nParams = sum([p.nelement() for p in mymodel.parameters()])\n",
    "print('Number of parameters: %d' % nParams)\n",
    "\n",
    "nParams_in_mmoe=0\n",
    "for name,p in mymodel.named_parameters():\n",
    "    if name.startswith(\"sparse_mmoe\"):\n",
    "        nParams_in_mmoe=nParams_in_mmoe+p.nelement()\n",
    "print('Number of parameters in SparseMMoE: %d' % nParams_in_mmoe)\n",
    "# 相比于MMOE增加了w_noises和b_noises\n",
    "print(f'Number of activated parameters in SparseMMoE: {int(nParams_in_mmoe*model_params[\"n_activated_expert\"]/model_params[\"n_expert\"])}')"
   ]
  },
  {
   "cell_type": "code",
   "execution_count": 5,
   "id": "33fc8dbd-93af-4087-b32a-d0132258ec9f",
   "metadata": {
    "tags": []
   },
   "outputs": [
    {
     "name": "stdout",
     "output_type": "stream",
     "text": [
      "Currently using device:cuda\n",
      "Epoch=0,train_loss=0.7721319198608398,val_loss=0.47218894958496094\n",
      "current epoch is the best so far. Saving model...\n",
      "Epoch=1,train_loss=0.46373116970062256,val_loss=0.3976440727710724\n",
      "current epoch is the best so far. Saving model...\n",
      "Epoch=2,train_loss=0.38658490777015686,val_loss=0.3205643594264984\n",
      "current epoch is the best so far. Saving model...\n",
      "Epoch=3,train_loss=0.3336460590362549,val_loss=0.2903698980808258\n",
      "current epoch is the best so far. Saving model...\n",
      "Epoch=4,train_loss=0.30235666036605835,val_loss=0.2737766206264496\n",
      "current epoch is the best so far. Saving model...\n",
      "Epoch=5,train_loss=0.2827549874782562,val_loss=0.2538214325904846\n",
      "current epoch is the best so far. Saving model...\n",
      "Epoch=6,train_loss=0.2703776955604553,val_loss=0.2543296217918396\n",
      "Epoch=7,train_loss=0.2634578347206116,val_loss=0.24429407715797424\n",
      "current epoch is the best so far. Saving model...\n",
      "Epoch=8,train_loss=0.2524339556694031,val_loss=0.23492872714996338\n",
      "current epoch is the best so far. Saving model...\n",
      "Epoch=9,train_loss=0.24431373178958893,val_loss=0.23056869208812714\n",
      "current epoch is the best so far. Saving model...\n",
      "Epoch=10,train_loss=0.23395170271396637,val_loss=0.21894095838069916\n",
      "current epoch is the best so far. Saving model...\n",
      "Epoch=11,train_loss=0.22802862524986267,val_loss=0.21497869491577148\n",
      "current epoch is the best so far. Saving model...\n",
      "Epoch=12,train_loss=0.2205604910850525,val_loss=0.20467977225780487\n",
      "current epoch is the best so far. Saving model...\n",
      "Epoch=13,train_loss=0.21551157534122467,val_loss=0.21001625061035156\n",
      "Epoch=14,train_loss=0.20757879316806793,val_loss=0.19644805788993835\n",
      "current epoch is the best so far. Saving model...\n",
      "Epoch=15,train_loss=0.20469190180301666,val_loss=0.19735334813594818\n",
      "Epoch=16,train_loss=0.2007662057876587,val_loss=0.20164406299591064\n",
      "Epoch=17,train_loss=0.1987506002187729,val_loss=0.20285236835479736\n",
      "Epoch=18,train_loss=0.1918669492006302,val_loss=0.18612642586231232\n",
      "current epoch is the best so far. Saving model...\n",
      "Epoch=19,train_loss=0.18807494640350342,val_loss=0.18945080041885376\n",
      "Epoch=20,train_loss=0.18790923058986664,val_loss=0.20569227635860443\n",
      "Epoch=21,train_loss=0.18877339363098145,val_loss=0.20096752047538757\n",
      "Epoch=22,train_loss=0.18317386507987976,val_loss=0.18001556396484375\n",
      "current epoch is the best so far. Saving model...\n",
      "Epoch=23,train_loss=0.18111355602741241,val_loss=0.18510882556438446\n",
      "Epoch=24,train_loss=0.18038076162338257,val_loss=0.1918693631887436\n",
      "Epoch=25,train_loss=0.21544988453388214,val_loss=0.24658384919166565\n",
      "Epoch=26,train_loss=0.2133662849664688,val_loss=0.23892025649547577\n",
      "Epoch=27,train_loss=0.2069588154554367,val_loss=0.22989830374717712\n",
      "Epoch=28,train_loss=0.20022913813591003,val_loss=0.2160584181547165\n",
      "Epoch=29,train_loss=0.18953314423561096,val_loss=0.1982840597629547\n",
      "Epoch=30,train_loss=0.18298669159412384,val_loss=0.18916931748390198\n",
      "Epoch=31,train_loss=0.1758650243282318,val_loss=0.18804146349430084\n",
      "Epoch=32,train_loss=0.17329801619052887,val_loss=0.18440145254135132\n",
      "Epoch=33,train_loss=0.17347396910190582,val_loss=0.18836148083209991\n",
      "Epoch=34,train_loss=0.1709248274564743,val_loss=0.18568505346775055\n",
      "Epoch=35,train_loss=0.1692638397216797,val_loss=0.18463271856307983\n",
      "Epoch=36,train_loss=0.16827821731567383,val_loss=0.18164628744125366\n",
      "Epoch=37,train_loss=0.17288100719451904,val_loss=0.20678825676441193\n",
      "Epoch=38,train_loss=0.16818541288375854,val_loss=0.18527869880199432\n",
      "Epoch=39,train_loss=0.16696415841579437,val_loss=0.18545430898666382\n",
      "Epoch=40,train_loss=0.16554208099842072,val_loss=0.18282291293144226\n",
      "Epoch=41,train_loss=0.1644122451543808,val_loss=0.21385793387889862\n",
      "Epoch=42,train_loss=0.16454318165779114,val_loss=0.1934371441602707\n",
      "Epoch=43,train_loss=0.16255256533622742,val_loss=0.18228912353515625\n",
      "Epoch=44,train_loss=0.16199438273906708,val_loss=0.18742798268795013\n",
      "Epoch=45,train_loss=0.165792316198349,val_loss=0.20515982806682587\n",
      "Epoch=46,train_loss=0.1643516719341278,val_loss=0.18745267391204834\n",
      "Epoch=47,train_loss=0.16134929656982422,val_loss=0.18048207461833954\n",
      "Epoch=48,train_loss=0.16361191868782043,val_loss=0.1871069222688675\n",
      "Epoch=49,train_loss=0.16274385154247284,val_loss=0.189507856965065\n"
     ]
    }
   ],
   "source": [
    "losses, val_losses, adam_batch_loss= train_TopkMMoE(mymodel,\n",
    "                                           train_dataset,\n",
    "                                           val_dataset,\n",
    "                                           bestmodel_save_dir,\n",
    "                                           **train_params)"
   ]
  },
  {
   "cell_type": "code",
   "execution_count": 6,
   "id": "07be8985-798b-47da-aa00-f79836a6ee4f",
   "metadata": {
    "tags": []
   },
   "outputs": [
    {
     "data": {
      "text/plain": [
       "<All keys matched successfully>"
      ]
     },
     "execution_count": 6,
     "metadata": {},
     "output_type": "execute_result"
    }
   ],
   "source": [
    "# load best model based on validation\n",
    "mybestmodel = TopkMMoE(**model_params)\n",
    "mybestmodel.load_state_dict(torch.load(bestmodel_save_dir))"
   ]
  },
  {
   "cell_type": "code",
   "execution_count": 7,
   "id": "89fdb611-85ee-4def-809e-154933380a03",
   "metadata": {
    "tags": []
   },
   "outputs": [
    {
     "name": "stdout",
     "output_type": "stream",
     "text": [
      "AUC: 0.9730360240281912\n",
      "AUC: 0.9907719806690213\n"
     ]
    }
   ],
   "source": [
    "auc1, auc2=eval_TopkMMoE(mybestmodel, test_dataset)"
   ]
  },
  {
   "cell_type": "code",
   "execution_count": 8,
   "id": "e56974f0-095e-4ba7-a182-042fc24e7f69",
   "metadata": {
    "tags": []
   },
   "outputs": [
    {
     "data": {
      "application/vnd.jupyter.widget-view+json": {
       "model_id": "",
       "version_major": 2,
       "version_minor": 0
      },
      "text/plain": [
       "VBox(children=(Label(value='1.244 MB of 1.244 MB uploaded\\r'), FloatProgress(value=1.0, max=1.0)))"
      ]
     },
     "metadata": {},
     "output_type": "display_data"
    },
    {
     "data": {
      "text/html": [
       "<style>\n",
       "    table.wandb td:nth-child(1) { padding: 0 10px; text-align: left ; width: auto;} td:nth-child(2) {text-align: left ; width: 100%}\n",
       "    .wandb-row { display: flex; flex-direction: row; flex-wrap: wrap; justify-content: flex-start; width: 100% }\n",
       "    .wandb-col { display: flex; flex-direction: column; flex-basis: 100%; flex: 1; padding: 10px; }\n",
       "    </style>\n",
       "<div class=\"wandb-row\"><div class=\"wandb-col\"><h3>Run history:</h3><br/><table class=\"wandb\"><tr><td>load_balancing_loss</td><td>▁▁▁▁▁▁▁▁▁▁▁▁▁▁▁▁▁▁▁▁▁▁▁▁▁▁▁▁▁▁▁▁▁▁▁▁▁▁▁▁</td></tr><tr><td>router_z_loss</td><td>▁▁▁▁▁▁▁▁▁▁▁▁▁▁▁▁▁▁▁▁▁▁▁▁▁▁▁▁▁▁▁▁▁▁▁▁▁▁▁▁</td></tr><tr><td>task1_loss</td><td>▄█▄▄▃▃▅▃▃▄▃▃▂▃▂▂▂▂▂▂▂▁▁▁▂▃▂▂▂▁▂▂▂▂▂▂▂▂▂▂</td></tr><tr><td>task2_loss</td><td>█▄▂▂▂▂▁▁▂▁▁▂▁▁▁▁▁▂▁▁▁▂▂▁▁▁▂▂▁▁▁▁▁▁▁▂▁▁▁▁</td></tr><tr><td>task_0/expert_0_weight</td><td>▂▁▁▁▁▁▁▁▁▁▁▁▁▁▁▁▁▁▁▁▁▁▁▁▁▁▁▁▁▁▁▁▁▂▁▁▁▄█▂</td></tr><tr><td>task_0/expert_10_weight</td><td>██▂▁▁▁▁▁▁▁▁▁▁▁▁▁▁▁▁▁▂▁▁▁▁▁▁▁▁▁▁▁▁▁▁▁▁▁▁▁</td></tr><tr><td>task_0/expert_11_weight</td><td>█▂▁▁▁▂▂▁▁▁▁▂▁▁▁▂▁▁▁▅▁▁▅▁▁▁▁▁▁▁▁▁▁▁▁▁▁▁▁▁</td></tr><tr><td>task_0/expert_12_weight</td><td>█▃▁▁▁▁▁▁▁▁▁▁▁▁▁▁▁▁▁▁▁▁▁▁▁▁▁▁▁▁▁▁▁▁▁▁▁▁▁▁</td></tr><tr><td>task_0/expert_13_weight</td><td>█▁▁▁▁▁▁▁▁▁▁▁▁▁▁▁▁▁▁▁▁▁▁▁▁▁▁▁▁▁▁▁▁▁▂▂▁▁▁▁</td></tr><tr><td>task_0/expert_14_weight</td><td>▁▁▁▁▁▁▁▁▁▁▁▁▁▁▁▃▃▃▄▃▄▇▄▆▆▇█▆▆▅▇▆▆▆▆▆▇▇██</td></tr><tr><td>task_0/expert_15_weight</td><td>█▂▁▁▁▁▁▁▁▁▁▁▁▁▁▁▁▁▁▁▁▁▁▁▁▁▁▁▁▁▁▁▁▁▁▁▁▁▁▁</td></tr><tr><td>task_0/expert_1_weight</td><td>▇█▂▁▁▁▁▁▁▁▁▁▁▁▁▁▁▁▁▁▁▁▁▁▁▁▁▁▁▁▁▁▁▁▁▁▁▁▁▁</td></tr><tr><td>task_0/expert_2_weight</td><td>█▃▁▁▁▁▁▁▁▁▁▁▁▁▁▁▁▁▁▁▁▁▁▁▁▁▁▁▁▁▁▁▁▁▁▁▁▁▁▁</td></tr><tr><td>task_0/expert_3_weight</td><td>█▁▁▁▁▁▁▁▁▁▁▁▁▁▁▁▁▁▁▁▁▁▁▁▁▁▁▁▁▁▁▁▁▁▁▁▁▁▁▁</td></tr><tr><td>task_0/expert_4_weight</td><td>▁▁▁▁▁▁▁▁▁▁▁▁▁▁▂▃▃▂▄▄▄▄▇▇▅▅▄▄▅▆▆▅▆▇▆▅▆▇▅█</td></tr><tr><td>task_0/expert_5_weight</td><td>███████████████▆▆▇▅▅▅▄▃▃▄▃▃▄▄▄▃▄▃▃▃▃▂▂▃▁</td></tr><tr><td>task_0/expert_6_weight</td><td>█▄▁▁▁▁▁▁▁▁▁▁▁▁▁▁▁▁▁▁▁▁▁▁▁▁▁▁▁▁▁▁▁▁▁▁▁▁▁▁</td></tr><tr><td>task_0/expert_7_weight</td><td>█▁▁▁▁▁▁▁▁▁▁▁▁▁▁▁▁▁▁▁▁▁▁▁▁▁▁▁▁▁▁▁▁▁▁▁▁▁▁▁</td></tr><tr><td>task_0/expert_8_weight</td><td>▃▁▁▁▁▁▁▁▁▁▁▁▁▁▁▁▁▁▁▁▁▁▁▁▁▁█▁▁▁▁▃▁▁▇▁▁▁▁▇</td></tr><tr><td>task_0/expert_9_weight</td><td>▁█▁▁▁▁▁▁▃▂▁▁▁▁▁▅▁▁▁▁▁▁▁▁▁▁▁▁▁▁▁▁▁▁▁▁▁▁▁▁</td></tr><tr><td>task_1/expert_0_weight</td><td>█▃▁▁▁▁▁▁▁▁▁▁▁▁▁▁▁▁▁▁▁▁▁▁▁▁▁▁▁▁▁▁▁▁▁▁▁▁▁▁</td></tr><tr><td>task_1/expert_10_weight</td><td>▁▁▁▁█▁▁▁▁▁▁▁▂▁▁▁▁▁▁▂▁▃▁▁▁▁▁▁▁▁▁▁▁▁▁▁▁▁▁▁</td></tr><tr><td>task_1/expert_11_weight</td><td>▄▆▃▅▄▇▃▃▂█▁▁▁▂▅▃▁▂▃▃▁▂▄▄▃▃▃▂▂▁▁▁▁▁▁▁▁▁▁▁</td></tr><tr><td>task_1/expert_12_weight</td><td>▁█▁▁▁▁▁▁▁▁▁▁▁▁▁▁▁▁▁▁▁▁▁▁▁▁▁▁▁▁▁▁▁▁▁▁▁▁▁▁</td></tr><tr><td>task_1/expert_13_weight</td><td>█▄▄▄▆▃▃▆▇▇▃▅▃▃▂▂▅▄▅▁▄▄▃▂▅▄▃▄▄▃▁▂▅▂▄▃▃▂▃▄</td></tr><tr><td>task_1/expert_14_weight</td><td>▆▆▅▄▃▃▂▁▃▃▃▃▄▃▂▃▂▃▁▄▃▄▄▅▃▅▆▄▅▆█▄▅▆▆▆▆██▇</td></tr><tr><td>task_1/expert_15_weight</td><td>▁▁▁▁▁▁▁▁▁▁▁▁▁▁▁▁▁▁▁▁▁▁▁▁▁▁▁▁▁▁▁▁▁▁▁▁▁▁▁▁</td></tr><tr><td>task_1/expert_1_weight</td><td>█▃▁▁▁▁▁▁▁▁▁▁▁▁▁▁▁▁▁▁▁▁▁▁▁▁▁▁▁▁▁▁▁▁▁▁▁▁▁▁</td></tr><tr><td>task_1/expert_2_weight</td><td>█▂▁▁▁▁▁▁▁▁▁▁▁▁▁▁▁▁▁▁▁▁▁▁▁▁▁▁▁▁▁▁▁▁▁▁▁▁▁▁</td></tr><tr><td>task_1/expert_3_weight</td><td>█▁▁▁▁▁▁▁▁▁▁▁▁▁▁▁▁▁▁▁▁▁▁▁▁▁▁▁▁▁▁▁▁▁▁▁▁▁▁▁</td></tr><tr><td>task_1/expert_4_weight</td><td>█▄▁▁▁▁▁▁▁▁▁▁▁▁▁▁▁▁▁▁▁▁▁▁▁▁▁▁▁▁▁▁▁▁▁▁▁▁▁▁</td></tr><tr><td>task_1/expert_5_weight</td><td>█▃▃▂▁▁▁▁▁▁▁▁▁▁▁▁▁▁▁▁▁▁▁▁▁▁▁▁▁▁▁▁▁▁▁▁▁▁▁▁</td></tr><tr><td>task_1/expert_6_weight</td><td>▁▂▄▆▅▇▇▅▆▅▇▅▅▅█▇▆▅▆▆▆▅▆▅▅▅▄▅▅▅▅▆▅▆▄▅▅▄▄▄</td></tr><tr><td>task_1/expert_7_weight</td><td>██▆▃▄▃▃▄▂▃▃▄▅▅▁▂▃▄▄▄▄▅▃▄▄▄▆▄▃▄▄▅▄▃▅▅▅▅▅▄</td></tr><tr><td>task_1/expert_8_weight</td><td>█▄▁▁▁▁▁▁▁▁▁▁▁▁▁▁▁▁▁▁▁▁▁▁▁▁▁▁▁▁▁▁▁▁▁▁▁▁▁▁</td></tr><tr><td>task_1/expert_9_weight</td><td>█▂▁▁▁▁▁▁▁▁▁▁▁▁▁▁▁▁▁▁▁▁▁▁▁▁▁▁▁▁▁▁▁▁▁▁▁▁▁▁</td></tr><tr><td>train_loss</td><td>█▄▄▃▂▂▂▂▂▂▂▂▁▁▁▁▁▁▁▁▂▂▂▁▁▁▁▁▁▁▁▁▁▁▁▁▁▁▁▁</td></tr><tr><td>val_loss</td><td>█▆▄▄▃▃▃▂▂▂▂▂▁▂▂▁▂▂▁▁▃▂▂▂▁▁▁▁▁▁▂▁▁▂▁▁▂▁▁▁</td></tr></table><br/></div><div class=\"wandb-col\"><h3>Run summary:</h3><br/><table class=\"wandb\"><tr><td>load_balancing_loss</td><td>0.0</td></tr><tr><td>router_z_loss</td><td>0.0</td></tr><tr><td>task1_loss</td><td>0.07669</td></tr><tr><td>task2_loss</td><td>0.11029</td></tr><tr><td>task_0/expert_0_weight</td><td>0.0</td></tr><tr><td>task_0/expert_10_weight</td><td>0.0</td></tr><tr><td>task_0/expert_11_weight</td><td>0.0</td></tr><tr><td>task_0/expert_12_weight</td><td>5e-05</td></tr><tr><td>task_0/expert_13_weight</td><td>0.0</td></tr><tr><td>task_0/expert_14_weight</td><td>0.04931</td></tr><tr><td>task_0/expert_15_weight</td><td>0.0</td></tr><tr><td>task_0/expert_1_weight</td><td>0.0</td></tr><tr><td>task_0/expert_2_weight</td><td>0.0</td></tr><tr><td>task_0/expert_3_weight</td><td>0.0</td></tr><tr><td>task_0/expert_4_weight</td><td>0.15718</td></tr><tr><td>task_0/expert_5_weight</td><td>0.79343</td></tr><tr><td>task_0/expert_6_weight</td><td>1e-05</td></tr><tr><td>task_0/expert_7_weight</td><td>0.0</td></tr><tr><td>task_0/expert_8_weight</td><td>0.0</td></tr><tr><td>task_0/expert_9_weight</td><td>0.0</td></tr><tr><td>task_1/expert_0_weight</td><td>0.0</td></tr><tr><td>task_1/expert_10_weight</td><td>0.0</td></tr><tr><td>task_1/expert_11_weight</td><td>0.00225</td></tr><tr><td>task_1/expert_12_weight</td><td>0.0</td></tr><tr><td>task_1/expert_13_weight</td><td>0.14554</td></tr><tr><td>task_1/expert_14_weight</td><td>0.15681</td></tr><tr><td>task_1/expert_15_weight</td><td>0.0</td></tr><tr><td>task_1/expert_1_weight</td><td>0.0</td></tr><tr><td>task_1/expert_2_weight</td><td>0.0</td></tr><tr><td>task_1/expert_3_weight</td><td>0.0</td></tr><tr><td>task_1/expert_4_weight</td><td>0.0</td></tr><tr><td>task_1/expert_5_weight</td><td>0.0</td></tr><tr><td>task_1/expert_6_weight</td><td>0.44544</td></tr><tr><td>task_1/expert_7_weight</td><td>0.24995</td></tr><tr><td>task_1/expert_8_weight</td><td>0.0</td></tr><tr><td>task_1/expert_9_weight</td><td>0.0</td></tr><tr><td>train_loss</td><td>0.16274</td></tr><tr><td>val_loss</td><td>0.18951</td></tr></table><br/></div></div>"
      ],
      "text/plain": [
       "<IPython.core.display.HTML object>"
      ]
     },
     "metadata": {},
     "output_type": "display_data"
    },
    {
     "data": {
      "text/html": [
       " View run <strong style=\"color:#cdcd00\">exp2_topk_mmoe_dropout:batch_size=256_N_epochs=50_lr=0.0001_feature_dim=114_expert_dim=32_n_expert=16_n_activated_expert=4_n_task=2_sparse_load_balancing_loss_coef=0_olmo_load_balancing_loss_coef=0_router_z_loss_coef=0_gate_dropout=0_tower_dropout=0_expert_dropout=0.2</strong> at: <a href='https://wandb.ai/zhengyuntao/mmoe/runs/o17s3etn' target=\"_blank\">https://wandb.ai/zhengyuntao/mmoe/runs/o17s3etn</a><br/> View project at: <a href='https://wandb.ai/zhengyuntao/mmoe' target=\"_blank\">https://wandb.ai/zhengyuntao/mmoe</a><br/>Synced 7 W&B file(s), 0 media file(s), 0 artifact file(s) and 1 other file(s)"
      ],
      "text/plain": [
       "<IPython.core.display.HTML object>"
      ]
     },
     "metadata": {},
     "output_type": "display_data"
    },
    {
     "data": {
      "text/html": [
       "Find logs at: <code>.\\wandb\\run-20241128_014456-o17s3etn\\logs</code>"
      ],
      "text/plain": [
       "<IPython.core.display.HTML object>"
      ]
     },
     "metadata": {},
     "output_type": "display_data"
    },
    {
     "data": {
      "text/html": [
       "The new W&B backend becomes opt-out in version 0.18.0; try it out with `wandb.require(\"core\")`! See https://wandb.me/wandb-core for more information."
      ],
      "text/plain": [
       "<IPython.core.display.HTML object>"
      ]
     },
     "metadata": {},
     "output_type": "display_data"
    }
   ],
   "source": [
    "wandb.finish()"
   ]
  },
  {
   "cell_type": "code",
   "execution_count": null,
   "id": "0195f225-b104-4736-ba42-5604730c31c4",
   "metadata": {},
   "outputs": [],
   "source": []
  }
 ],
 "metadata": {
  "kernelspec": {
   "display_name": "Python 3 (ipykernel)",
   "language": "python",
   "name": "python3"
  },
  "language_info": {
   "codemirror_mode": {
    "name": "ipython",
    "version": 3
   },
   "file_extension": ".py",
   "mimetype": "text/x-python",
   "name": "python",
   "nbconvert_exporter": "python",
   "pygments_lexer": "ipython3",
   "version": "3.11.4"
  }
 },
 "nbformat": 4,
 "nbformat_minor": 5
}
