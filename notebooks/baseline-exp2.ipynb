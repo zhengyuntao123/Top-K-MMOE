{
 "cells": [
  {
   "cell_type": "code",
   "execution_count": 1,
   "id": "17b71820-c9fe-4235-871f-634550a52f10",
   "metadata": {
    "tags": []
   },
   "outputs": [
    {
     "name": "stdout",
     "output_type": "stream",
     "text": [
      "C:\\jupyter file\\CMU_3\\distributed ML\\project\n",
      "WARNING:tensorflow:From C:\\anaconda3\\Lib\\site-packages\\keras\\src\\losses.py:2976: The name tf.losses.sparse_softmax_cross_entropy is deprecated. Please use tf.compat.v1.losses.sparse_softmax_cross_entropy instead.\n",
      "\n"
     ]
    }
   ],
   "source": [
    "%cd ../\n",
    "import pandas as pd\n",
    "from torch.utils.data import Dataset,DataLoader\n",
    "import torch\n",
    "import numpy as np\n",
    "import ast\n",
    "import torch.nn as nn\n",
    "import torch.optim as optim\n",
    "import random\n",
    "from matplotlib import pyplot as plt\n",
    "import os\n",
    "import shutil\n",
    "from datetime import datetime\n",
    "import wandb\n",
    "from utils import set_all_seed, load_exp2_dataset\n",
    "from mmoe import MMoE\n",
    "from trainer_and_evaluator import train_MMoE, eval_MMoE"
   ]
  },
  {
   "cell_type": "code",
   "execution_count": 2,
   "id": "839522e6-e1b3-4a1f-ac69-86e1e586357d",
   "metadata": {
    "tags": []
   },
   "outputs": [
    {
     "name": "stdout",
     "output_type": "stream",
     "text": [
      "Absolute Pearson correlation coefficient: 0.16661069841980908\n",
      "P-value: 0.0\n"
     ]
    }
   ],
   "source": [
    "set_all_seed(42)\n",
    "train_dataset, val_dataset, test_dataset = load_exp2_dataset()"
   ]
  },
  {
   "cell_type": "code",
   "execution_count": 3,
   "id": "3aa509e4-98ff-4558-8013-8eb866fa7033",
   "metadata": {
    "tags": []
   },
   "outputs": [
    {
     "name": "stdout",
     "output_type": "stream",
     "text": [
      "exp2_MMoE:batch_size=256_N_epochs=50_lr=0.0001_feature_dim=114_expert_dim=32_n_expert=4_n_task=2_use_gate=True_gate_dropout=0_tower_dropout=0_expert_dropout=0\n",
      "model/exp2_MMoE/batch_size=256_N_epochs=50_lr=0.0001_114_32_4_2_True_0_0_0\n"
     ]
    },
    {
     "name": "stderr",
     "output_type": "stream",
     "text": [
      "\u001b[34m\u001b[1mwandb\u001b[0m: Currently logged in as: \u001b[33myuntaozh\u001b[0m (\u001b[33mzhengyuntao\u001b[0m). Use \u001b[1m`wandb login --relogin`\u001b[0m to force relogin\n"
     ]
    },
    {
     "data": {
      "text/html": [
       "Tracking run with wandb version 0.17.8"
      ],
      "text/plain": [
       "<IPython.core.display.HTML object>"
      ]
     },
     "metadata": {},
     "output_type": "display_data"
    },
    {
     "data": {
      "text/html": [
       "Run data is saved locally in <code>C:\\jupyter file\\CMU_3\\distributed ML\\project\\wandb\\run-20241128_014451-zbw3tmju</code>"
      ],
      "text/plain": [
       "<IPython.core.display.HTML object>"
      ]
     },
     "metadata": {},
     "output_type": "display_data"
    },
    {
     "data": {
      "text/html": [
       "Syncing run <strong><a href='https://wandb.ai/zhengyuntao/mmoe/runs/zbw3tmju' target=\"_blank\">exp2_MMoE:batch_size=256_N_epochs=50_lr=0.0001_feature_dim=114_expert_dim=32_n_expert=4_n_task=2_use_gate=True_gate_dropout=0_tower_dropout=0_expert_dropout=0</a></strong> to <a href='https://wandb.ai/zhengyuntao/mmoe' target=\"_blank\">Weights & Biases</a> (<a href='https://wandb.me/run' target=\"_blank\">docs</a>)<br/>"
      ],
      "text/plain": [
       "<IPython.core.display.HTML object>"
      ]
     },
     "metadata": {},
     "output_type": "display_data"
    },
    {
     "data": {
      "text/html": [
       " View project at <a href='https://wandb.ai/zhengyuntao/mmoe' target=\"_blank\">https://wandb.ai/zhengyuntao/mmoe</a>"
      ],
      "text/plain": [
       "<IPython.core.display.HTML object>"
      ]
     },
     "metadata": {},
     "output_type": "display_data"
    },
    {
     "data": {
      "text/html": [
       " View run at <a href='https://wandb.ai/zhengyuntao/mmoe/runs/zbw3tmju' target=\"_blank\">https://wandb.ai/zhengyuntao/mmoe/runs/zbw3tmju</a>"
      ],
      "text/plain": [
       "<IPython.core.display.HTML object>"
      ]
     },
     "metadata": {},
     "output_type": "display_data"
    },
    {
     "data": {
      "text/html": [
       "<button onClick=\"this.nextSibling.style.display='block';this.style.display='none';\">Display W&B run</button><iframe src='https://wandb.ai/zhengyuntao/mmoe/runs/zbw3tmju?jupyter=true' style='border:none;width:100%;height:420px;display:none;'></iframe>"
      ],
      "text/plain": [
       "<wandb.sdk.wandb_run.Run at 0x2952bf73ed0>"
      ]
     },
     "execution_count": 3,
     "metadata": {},
     "output_type": "execute_result"
    }
   ],
   "source": [
    "# 设定各种超参数，wandb日志名，日志存储路径，模型存储路径\n",
    "train_params = {\n",
    "    \"batch_size\": 256,\n",
    "    \"N_epochs\": 50,\n",
    "    \"lr\": 0.0001\n",
    "}\n",
    "\n",
    "model_params={\n",
    "    'feature_dim': 114,\n",
    "    'expert_dim': 32,\n",
    "    'n_expert': 4,\n",
    "    'n_task': 2,\n",
    "    'use_gate': True,\n",
    "    'gate_dropout': 0,\n",
    "    'tower_dropout': 0,\n",
    "    'expert_dropout': 0\n",
    "}\n",
    "\n",
    "model_name=\"exp2_MMoE\"\n",
    "if not os.path.exists(\"model/\"+model_name):\n",
    "    os.makedirs(\"model/\"+model_name) \n",
    "\n",
    "train_params_str = \"_\".join(f\"{key}={value}\" for key, value in train_params.items())\n",
    "model_params_str = \"_\".join(f\"{key}={value}\" for key, value in model_params.items())\n",
    "short_model_params_str = \"_\".join(f\"{value}\" for key, value in model_params.items())\n",
    "\n",
    "wandb_name=model_name+\":\"+train_params_str+\"_\"+model_params_str\n",
    "\n",
    "# 使用short_model_params_str是因为windows支持的最长文件名长度仅为260\n",
    "bestmodel_save_dir=f\"model/\"+model_name+\"/\"+train_params_str+\"_\"+short_model_params_str \n",
    "\n",
    "print(wandb_name)\n",
    "print(bestmodel_save_dir)\n",
    "\n",
    "wandb.init(project=\"mmoe\", name=wandb_name)"
   ]
  },
  {
   "cell_type": "code",
   "execution_count": 4,
   "id": "af593b44-aa48-4f35-88df-2165577e1242",
   "metadata": {
    "tags": []
   },
   "outputs": [
    {
     "name": "stdout",
     "output_type": "stream",
     "text": [
      "Number of parameters: 11978\n",
      "Number of parameters in MMoE: 9976\n"
     ]
    }
   ],
   "source": [
    "mymodel = MMoE(**model_params)\n",
    "\n",
    "nParams = sum([p.nelement() for p in mymodel.parameters()])\n",
    "print('Number of parameters: %d' % nParams)\n",
    "\n",
    "nParams_in_mmoe=0\n",
    "for name,p in mymodel.named_parameters():\n",
    "    if name.startswith(\"Expert_Gate\"):\n",
    "        nParams_in_mmoe=nParams_in_mmoe+p.nelement()\n",
    "print('Number of parameters in MMoE: %d' % nParams_in_mmoe)"
   ]
  },
  {
   "cell_type": "code",
   "execution_count": 5,
   "id": "33fc8dbd-93af-4087-b32a-d0132258ec9f",
   "metadata": {
    "tags": []
   },
   "outputs": [
    {
     "name": "stdout",
     "output_type": "stream",
     "text": [
      "Epoch=0,train_loss=1.1298118829727173,val_loss=0.8646352887153625\n",
      "current epoch is the best so far. Saving model...\n",
      "Epoch=1,train_loss=0.8385598063468933,val_loss=0.7746270298957825\n",
      "current epoch is the best so far. Saving model...\n",
      "Epoch=2,train_loss=0.633605420589447,val_loss=0.498717725276947\n",
      "current epoch is the best so far. Saving model...\n",
      "Epoch=3,train_loss=0.4201555550098419,val_loss=0.36541083455085754\n",
      "current epoch is the best so far. Saving model...\n",
      "Epoch=4,train_loss=0.3377324938774109,val_loss=0.317330539226532\n",
      "current epoch is the best so far. Saving model...\n",
      "Epoch=5,train_loss=0.2973834276199341,val_loss=0.28491726517677307\n",
      "current epoch is the best so far. Saving model...\n",
      "Epoch=6,train_loss=0.274476021528244,val_loss=0.26628434658050537\n",
      "current epoch is the best so far. Saving model...\n",
      "Epoch=7,train_loss=0.25862789154052734,val_loss=0.2570919692516327\n",
      "current epoch is the best so far. Saving model...\n",
      "Epoch=8,train_loss=0.2460143268108368,val_loss=0.2457582652568817\n",
      "current epoch is the best so far. Saving model...\n",
      "Epoch=9,train_loss=0.23824043571949005,val_loss=0.24046500027179718\n",
      "current epoch is the best so far. Saving model...\n",
      "Epoch=10,train_loss=0.2276402860879898,val_loss=0.2300407737493515\n",
      "current epoch is the best so far. Saving model...\n",
      "Epoch=11,train_loss=0.220048725605011,val_loss=0.2238607555627823\n",
      "current epoch is the best so far. Saving model...\n",
      "Epoch=12,train_loss=0.21397802233695984,val_loss=0.2191559374332428\n",
      "current epoch is the best so far. Saving model...\n",
      "Epoch=13,train_loss=0.2089148461818695,val_loss=0.2125876247882843\n",
      "current epoch is the best so far. Saving model...\n",
      "Epoch=14,train_loss=0.20391233265399933,val_loss=0.21024863421916962\n",
      "current epoch is the best so far. Saving model...\n",
      "Epoch=15,train_loss=0.1998566836118698,val_loss=0.21271751821041107\n",
      "Epoch=16,train_loss=0.19729675352573395,val_loss=0.2052733451128006\n",
      "current epoch is the best so far. Saving model...\n",
      "Epoch=17,train_loss=0.19380800426006317,val_loss=0.20709529519081116\n",
      "Epoch=18,train_loss=0.1917053759098053,val_loss=0.20318180322647095\n",
      "current epoch is the best so far. Saving model...\n",
      "Epoch=19,train_loss=0.18853262066841125,val_loss=0.20990902185440063\n",
      "Epoch=20,train_loss=0.18718358874320984,val_loss=0.20080223679542542\n",
      "current epoch is the best so far. Saving model...\n",
      "Epoch=21,train_loss=0.18531274795532227,val_loss=0.20286163687705994\n",
      "Epoch=22,train_loss=0.18368886411190033,val_loss=0.19901399314403534\n",
      "current epoch is the best so far. Saving model...\n",
      "Epoch=23,train_loss=0.1820971816778183,val_loss=0.1963340938091278\n",
      "current epoch is the best so far. Saving model...\n",
      "Epoch=24,train_loss=0.17950324714183807,val_loss=0.19677358865737915\n",
      "Epoch=25,train_loss=0.17867031693458557,val_loss=0.19897715747356415\n",
      "Epoch=26,train_loss=0.1769086867570877,val_loss=0.19335143268108368\n",
      "current epoch is the best so far. Saving model...\n",
      "Epoch=27,train_loss=0.1753023862838745,val_loss=0.19466660916805267\n",
      "Epoch=28,train_loss=0.1745731383562088,val_loss=0.19664542376995087\n",
      "Epoch=29,train_loss=0.17335407435894012,val_loss=0.19346337020397186\n",
      "Epoch=30,train_loss=0.1721954345703125,val_loss=0.19134652614593506\n",
      "current epoch is the best so far. Saving model...\n",
      "Epoch=31,train_loss=0.17067909240722656,val_loss=0.19239066541194916\n",
      "Epoch=32,train_loss=0.17056667804718018,val_loss=0.194451242685318\n",
      "Epoch=33,train_loss=0.16977247595787048,val_loss=0.1920270025730133\n",
      "Epoch=34,train_loss=0.1687335968017578,val_loss=0.197719007730484\n",
      "Epoch=35,train_loss=0.16882985830307007,val_loss=0.1922219693660736\n",
      "Epoch=36,train_loss=0.16677461564540863,val_loss=0.19310615956783295\n",
      "Epoch=37,train_loss=0.16688695549964905,val_loss=0.19171349704265594\n",
      "Epoch=38,train_loss=0.1671062856912613,val_loss=0.19007234275341034\n",
      "current epoch is the best so far. Saving model...\n",
      "Epoch=39,train_loss=0.16613924503326416,val_loss=0.19438055157661438\n",
      "Epoch=40,train_loss=0.1655123382806778,val_loss=0.19271452724933624\n",
      "Epoch=41,train_loss=0.1655663251876831,val_loss=0.1920023411512375\n",
      "Epoch=42,train_loss=0.1642952710390091,val_loss=0.19393962621688843\n",
      "Epoch=43,train_loss=0.16456453502178192,val_loss=0.19032076001167297\n",
      "Epoch=44,train_loss=0.16345371305942535,val_loss=0.191924050450325\n",
      "Epoch=45,train_loss=0.16255736351013184,val_loss=0.19058556854724884\n",
      "Epoch=46,train_loss=0.1623367965221405,val_loss=0.1935247927904129\n",
      "Epoch=47,train_loss=0.16210146248340607,val_loss=0.1943734884262085\n",
      "Epoch=48,train_loss=0.16218538582324982,val_loss=0.1910143345594406\n",
      "Epoch=49,train_loss=0.16193434596061707,val_loss=0.19973541796207428\n"
     ]
    }
   ],
   "source": [
    "losses, val_losses, adam_batch_loss= train_MMoE(mymodel,\n",
    "                                           train_dataset,\n",
    "                                           val_dataset,\n",
    "                                           bestmodel_save_dir,\n",
    "                                           **train_params)"
   ]
  },
  {
   "cell_type": "code",
   "execution_count": 6,
   "id": "07be8985-798b-47da-aa00-f79836a6ee4f",
   "metadata": {
    "tags": []
   },
   "outputs": [
    {
     "data": {
      "text/plain": [
       "<All keys matched successfully>"
      ]
     },
     "execution_count": 6,
     "metadata": {},
     "output_type": "execute_result"
    }
   ],
   "source": [
    "# load best model based on validation\n",
    "mybestmodel = MMoE(**model_params)\n",
    "mybestmodel.load_state_dict(torch.load(bestmodel_save_dir))"
   ]
  },
  {
   "cell_type": "code",
   "execution_count": 7,
   "id": "89fdb611-85ee-4def-809e-154933380a03",
   "metadata": {
    "tags": []
   },
   "outputs": [
    {
     "name": "stdout",
     "output_type": "stream",
     "text": [
      "AUC: 0.9668353143810063\n",
      "AUC: 0.9906815316952533\n"
     ]
    }
   ],
   "source": [
    "auc1, auc2=eval_MMoE(mybestmodel, test_dataset)"
   ]
  },
  {
   "cell_type": "code",
   "execution_count": 8,
   "id": "6db7986c-5580-40bc-9c86-480de5a2819b",
   "metadata": {},
   "outputs": [
    {
     "data": {
      "application/vnd.jupyter.widget-view+json": {
       "model_id": "",
       "version_major": 2,
       "version_minor": 0
      },
      "text/plain": [
       "VBox(children=(Label(value='1.244 MB of 1.244 MB uploaded\\r'), FloatProgress(value=1.0, max=1.0)))"
      ]
     },
     "metadata": {},
     "output_type": "display_data"
    },
    {
     "data": {
      "text/html": [
       "<style>\n",
       "    table.wandb td:nth-child(1) { padding: 0 10px; text-align: left ; width: auto;} td:nth-child(2) {text-align: left ; width: 100%}\n",
       "    .wandb-row { display: flex; flex-direction: row; flex-wrap: wrap; justify-content: flex-start; width: 100% }\n",
       "    .wandb-col { display: flex; flex-direction: column; flex-basis: 100%; flex: 1; padding: 10px; }\n",
       "    </style>\n",
       "<div class=\"wandb-row\"><div class=\"wandb-col\"><h3>Run history:</h3><br/><table class=\"wandb\"><tr><td>task1_loss</td><td>█▄▆▃▅▅▃▃▂▂▂▂▂▂▂▂▂▂▃▂▂▁▁▃▁▃▂▁▁▂▂▁▂▂▁▂▁▂▃▂</td></tr><tr><td>task2_loss</td><td>██▅▃▂▂▂▁▂▂▂▂▂▁▂▁▂▂▂▂▁▁▂▂▂▁▂▁▂▁▁▁▂▁▁▂▁▂▂▁</td></tr><tr><td>task_0/expert_0_weight</td><td>▁▁▁█▁▁▂▁▁▁▁▁▁▁▁▁▁▁▁▁▁▁▁▁▁▁▁▁▁▁▁▁▁▁▁▁▁▁▁▁</td></tr><tr><td>task_0/expert_1_weight</td><td>▁▁▁▁▁▁▁▁▁▁▁▁▁▁▁▁▁▁▁▁▁▁▁▁▁▁▁▁▁▁█▁▄▁▁▁▁▁▁▁</td></tr><tr><td>task_0/expert_2_weight</td><td>▆▄█▄▄▅▅▆▆█▅▅▄▃▃▃▂▄▃▃▄▂▂▃▅▂▃▁▃▃▃▄▃▁▂▂▁▂▂▁</td></tr><tr><td>task_0/expert_3_weight</td><td>▃▅▁▅▅▄▄▃▃▁▄▄▅▆▆▆▇▅▆▆▅▇▇▆▄▇▆█▆▆▅▅▆█▇▇█▇▇█</td></tr><tr><td>task_1/expert_0_weight</td><td>▁▁▂▂▂▂▂▂▂▂▂▁▂▅▅▃▃▂▄▃▂▃▂▂▃▄▂▃▅▅▆▆▅▇▅▆▆▅█▄</td></tr><tr><td>task_1/expert_1_weight</td><td>▁▁▄█▁▂▁▁▁▁▁▁▁▁▁▁▁▁▁▁▁▁▁▁▁▁▁▁▁▁▁▁▁▁▁▁▁▁▁▁</td></tr><tr><td>task_1/expert_2_weight</td><td>██▇▆▇▇▇▇▇▇▇█▇▄▄▆▆▇▅▆▇▆▇▇▆▅▇▆▄▄▃▃▄▂▄▃▃▄▁▅</td></tr><tr><td>task_1/expert_3_weight</td><td>█▁▁▂▁▁▁▁▁█▁▁▁▁▁▁▂▁▃▁▁▁▁▁▁▁▁▁▁▁▁▅▁▁▁▁▂▁▁▁</td></tr><tr><td>train_loss</td><td>█▆▄▃▂▂▂▂▁▁▁▁▁▁▁▁▁▁▁▁▁▁▁▁▁▁▁▁▁▁▁▁▁▁▁▁▁▁▁▁</td></tr><tr><td>val_loss</td><td>█▇▄▃▂▂▂▂▁▁▁▁▁▁▁▁▁▁▁▁▁▁▁▁▁▁▁▁▁▁▁▁▁▁▁▁▁▁▁▁</td></tr></table><br/></div><div class=\"wandb-col\"><h3>Run summary:</h3><br/><table class=\"wandb\"><tr><td>task1_loss</td><td>0.0562</td></tr><tr><td>task2_loss</td><td>0.0649</td></tr><tr><td>task_0/expert_0_weight</td><td>0.0</td></tr><tr><td>task_0/expert_1_weight</td><td>0.00042</td></tr><tr><td>task_0/expert_2_weight</td><td>0.03841</td></tr><tr><td>task_0/expert_3_weight</td><td>0.96117</td></tr><tr><td>task_1/expert_0_weight</td><td>0.15859</td></tr><tr><td>task_1/expert_1_weight</td><td>0.0</td></tr><tr><td>task_1/expert_2_weight</td><td>0.84141</td></tr><tr><td>task_1/expert_3_weight</td><td>0.0</td></tr><tr><td>train_loss</td><td>0.16193</td></tr><tr><td>val_loss</td><td>0.19974</td></tr></table><br/></div></div>"
      ],
      "text/plain": [
       "<IPython.core.display.HTML object>"
      ]
     },
     "metadata": {},
     "output_type": "display_data"
    },
    {
     "data": {
      "text/html": [
       " View run <strong style=\"color:#cdcd00\">exp2_MMoE:batch_size=256_N_epochs=50_lr=0.0001_feature_dim=114_expert_dim=32_n_expert=4_n_task=2_use_gate=True_gate_dropout=0_tower_dropout=0_expert_dropout=0</strong> at: <a href='https://wandb.ai/zhengyuntao/mmoe/runs/zbw3tmju' target=\"_blank\">https://wandb.ai/zhengyuntao/mmoe/runs/zbw3tmju</a><br/> View project at: <a href='https://wandb.ai/zhengyuntao/mmoe' target=\"_blank\">https://wandb.ai/zhengyuntao/mmoe</a><br/>Synced 7 W&B file(s), 0 media file(s), 0 artifact file(s) and 1 other file(s)"
      ],
      "text/plain": [
       "<IPython.core.display.HTML object>"
      ]
     },
     "metadata": {},
     "output_type": "display_data"
    },
    {
     "data": {
      "text/html": [
       "Find logs at: <code>.\\wandb\\run-20241128_014451-zbw3tmju\\logs</code>"
      ],
      "text/plain": [
       "<IPython.core.display.HTML object>"
      ]
     },
     "metadata": {},
     "output_type": "display_data"
    },
    {
     "data": {
      "text/html": [
       "wandb version 0.18.7 is available!  To upgrade, please run:\n",
       " $ pip install wandb --upgrade"
      ],
      "text/plain": [
       "<IPython.core.display.HTML object>"
      ]
     },
     "metadata": {},
     "output_type": "display_data"
    },
    {
     "data": {
      "text/html": [
       "The new W&B backend becomes opt-out in version 0.18.0; try it out with `wandb.require(\"core\")`! See https://wandb.me/wandb-core for more information."
      ],
      "text/plain": [
       "<IPython.core.display.HTML object>"
      ]
     },
     "metadata": {},
     "output_type": "display_data"
    }
   ],
   "source": [
    "wandb.finish()"
   ]
  }
 ],
 "metadata": {
  "kernelspec": {
   "display_name": "Python 3 (ipykernel)",
   "language": "python",
   "name": "python3"
  },
  "language_info": {
   "codemirror_mode": {
    "name": "ipython",
    "version": 3
   },
   "file_extension": ".py",
   "mimetype": "text/x-python",
   "name": "python",
   "nbconvert_exporter": "python",
   "pygments_lexer": "ipython3",
   "version": "3.11.4"
  }
 },
 "nbformat": 4,
 "nbformat_minor": 5
}
