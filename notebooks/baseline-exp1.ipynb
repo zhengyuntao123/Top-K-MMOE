{
 "cells": [
  {
   "cell_type": "code",
   "execution_count": 1,
   "id": "17b71820-c9fe-4235-871f-634550a52f10",
   "metadata": {
    "tags": []
   },
   "outputs": [
    {
     "name": "stdout",
     "output_type": "stream",
     "text": [
      "C:\\jupyter file\\CMU_3\\distributed ML\\project\n",
      "WARNING:tensorflow:From C:\\anaconda3\\Lib\\site-packages\\keras\\src\\losses.py:2976: The name tf.losses.sparse_softmax_cross_entropy is deprecated. Please use tf.compat.v1.losses.sparse_softmax_cross_entropy instead.\n",
      "\n"
     ]
    }
   ],
   "source": [
    "%cd ../\n",
    "import pandas as pd\n",
    "from torch.utils.data import Dataset,DataLoader\n",
    "import torch\n",
    "import numpy as np\n",
    "import ast\n",
    "import torch.nn as nn\n",
    "import torch.optim as optim\n",
    "import random\n",
    "from matplotlib import pyplot as plt\n",
    "import os\n",
    "import shutil\n",
    "from datetime import datetime\n",
    "import wandb\n",
    "from utils import set_all_seed, load_exp1_dataset\n",
    "from mmoe import MMoE\n",
    "from trainer_and_evaluator import train_MMoE, eval_MMoE"
   ]
  },
  {
   "cell_type": "code",
   "execution_count": 2,
   "id": "839522e6-e1b3-4a1f-ac69-86e1e586357d",
   "metadata": {
    "tags": []
   },
   "outputs": [
    {
     "name": "stdout",
     "output_type": "stream",
     "text": [
      "Absolute Pearson correlation coefficient: 0.17716269850240274\n",
      "P-value: 0.0\n"
     ]
    }
   ],
   "source": [
    "set_all_seed(42)\n",
    "train_dataset, val_dataset, test_dataset = load_exp1_dataset()"
   ]
  },
  {
   "cell_type": "code",
   "execution_count": 3,
   "id": "3aa509e4-98ff-4558-8013-8eb866fa7033",
   "metadata": {
    "tags": []
   },
   "outputs": [
    {
     "name": "stdout",
     "output_type": "stream",
     "text": [
      "exp1_MMoE:batch_size=256_N_epochs=50_lr=0.0001_feature_dim=114_expert_dim=32_n_expert=4_n_task=2_use_gate=True_gate_dropout=0_tower_dropout=0_expert_dropout=0\n",
      "model/exp1_MMoE/batch_size=256_N_epochs=50_lr=0.0001_114_32_4_2_True_0_0_0\n"
     ]
    },
    {
     "name": "stderr",
     "output_type": "stream",
     "text": [
      "\u001b[34m\u001b[1mwandb\u001b[0m: Currently logged in as: \u001b[33myuntaozh\u001b[0m (\u001b[33mzhengyuntao\u001b[0m). Use \u001b[1m`wandb login --relogin`\u001b[0m to force relogin\n"
     ]
    },
    {
     "data": {
      "text/html": [
       "Tracking run with wandb version 0.17.8"
      ],
      "text/plain": [
       "<IPython.core.display.HTML object>"
      ]
     },
     "metadata": {},
     "output_type": "display_data"
    },
    {
     "data": {
      "text/html": [
       "Run data is saved locally in <code>C:\\jupyter file\\CMU_3\\distributed ML\\project\\wandb\\run-20241128_014448-84qzs32l</code>"
      ],
      "text/plain": [
       "<IPython.core.display.HTML object>"
      ]
     },
     "metadata": {},
     "output_type": "display_data"
    },
    {
     "data": {
      "text/html": [
       "Syncing run <strong><a href='https://wandb.ai/zhengyuntao/mmoe/runs/84qzs32l' target=\"_blank\">exp1_MMoE:batch_size=256_N_epochs=50_lr=0.0001_feature_dim=114_expert_dim=32_n_expert=4_n_task=2_use_gate=True_gate_dropout=0_tower_dropout=0_expert_dropout=0</a></strong> to <a href='https://wandb.ai/zhengyuntao/mmoe' target=\"_blank\">Weights & Biases</a> (<a href='https://wandb.me/run' target=\"_blank\">docs</a>)<br/>"
      ],
      "text/plain": [
       "<IPython.core.display.HTML object>"
      ]
     },
     "metadata": {},
     "output_type": "display_data"
    },
    {
     "data": {
      "text/html": [
       " View project at <a href='https://wandb.ai/zhengyuntao/mmoe' target=\"_blank\">https://wandb.ai/zhengyuntao/mmoe</a>"
      ],
      "text/plain": [
       "<IPython.core.display.HTML object>"
      ]
     },
     "metadata": {},
     "output_type": "display_data"
    },
    {
     "data": {
      "text/html": [
       " View run at <a href='https://wandb.ai/zhengyuntao/mmoe/runs/84qzs32l' target=\"_blank\">https://wandb.ai/zhengyuntao/mmoe/runs/84qzs32l</a>"
      ],
      "text/plain": [
       "<IPython.core.display.HTML object>"
      ]
     },
     "metadata": {},
     "output_type": "display_data"
    },
    {
     "data": {
      "text/html": [
       "<button onClick=\"this.nextSibling.style.display='block';this.style.display='none';\">Display W&B run</button><iframe src='https://wandb.ai/zhengyuntao/mmoe/runs/84qzs32l?jupyter=true' style='border:none;width:100%;height:420px;display:none;'></iframe>"
      ],
      "text/plain": [
       "<wandb.sdk.wandb_run.Run at 0x2bb80523f50>"
      ]
     },
     "execution_count": 3,
     "metadata": {},
     "output_type": "execute_result"
    }
   ],
   "source": [
    "# 设定各种超参数，wandb日志名，日志存储路径，模型存储路径\n",
    "train_params = {\n",
    "    \"batch_size\": 256,\n",
    "    \"N_epochs\": 50,\n",
    "    \"lr\": 0.0001\n",
    "}\n",
    "\n",
    "model_params={\n",
    "    'feature_dim': 114,\n",
    "    'expert_dim': 32,\n",
    "    'n_expert': 4,\n",
    "    'n_task': 2,\n",
    "    'use_gate': True,\n",
    "    'gate_dropout': 0,\n",
    "    'tower_dropout': 0,\n",
    "    'expert_dropout': 0\n",
    "}\n",
    "\n",
    "model_name=\"exp1_MMoE\"\n",
    "if not os.path.exists(\"model/\"+model_name):\n",
    "    os.makedirs(\"model/\"+model_name) \n",
    "\n",
    "train_params_str = \"_\".join(f\"{key}={value}\" for key, value in train_params.items())\n",
    "model_params_str = \"_\".join(f\"{key}={value}\" for key, value in model_params.items())\n",
    "short_model_params_str = \"_\".join(f\"{value}\" for key, value in model_params.items())\n",
    "\n",
    "wandb_name=model_name+\":\"+train_params_str+\"_\"+model_params_str\n",
    "\n",
    "# 使用short_model_params_str是因为windows支持的最长文件名长度仅为260\n",
    "bestmodel_save_dir=f\"model/\"+model_name+\"/\"+train_params_str+\"_\"+short_model_params_str \n",
    "\n",
    "print(wandb_name)\n",
    "print(bestmodel_save_dir)\n",
    "\n",
    "wandb.init(project=\"mmoe\", name=wandb_name)"
   ]
  },
  {
   "cell_type": "code",
   "execution_count": 4,
   "id": "af593b44-aa48-4f35-88df-2165577e1242",
   "metadata": {
    "tags": []
   },
   "outputs": [
    {
     "name": "stdout",
     "output_type": "stream",
     "text": [
      "Number of parameters: 11978\n",
      "Number of parameters in MMoE: 9976\n"
     ]
    }
   ],
   "source": [
    "mymodel = MMoE(**model_params)\n",
    "\n",
    "nParams = sum([p.nelement() for p in mymodel.parameters()])\n",
    "print('Number of parameters: %d' % nParams)\n",
    "\n",
    "nParams_in_mmoe=0\n",
    "for name,p in mymodel.named_parameters():\n",
    "    if name.startswith(\"Expert_Gate\"):\n",
    "        nParams_in_mmoe=nParams_in_mmoe+p.nelement()\n",
    "print('Number of parameters in MMoE: %d' % nParams_in_mmoe)"
   ]
  },
  {
   "cell_type": "code",
   "execution_count": 5,
   "id": "33fc8dbd-93af-4087-b32a-d0132258ec9f",
   "metadata": {
    "tags": []
   },
   "outputs": [
    {
     "name": "stdout",
     "output_type": "stream",
     "text": [
      "Epoch=0,train_loss=1.2273576259613037,val_loss=0.9586679339408875\n",
      "current epoch is the best so far. Saving model...\n",
      "Epoch=1,train_loss=0.9308820366859436,val_loss=0.9103913307189941\n",
      "current epoch is the best so far. Saving model...\n",
      "Epoch=2,train_loss=0.6807833313941956,val_loss=0.48898202180862427\n",
      "current epoch is the best so far. Saving model...\n",
      "Epoch=3,train_loss=0.4569131135940552,val_loss=0.4219781756401062\n",
      "current epoch is the best so far. Saving model...\n",
      "Epoch=4,train_loss=0.40758639574050903,val_loss=0.3834478259086609\n",
      "current epoch is the best so far. Saving model...\n",
      "Epoch=5,train_loss=0.36853867769241333,val_loss=0.35127025842666626\n",
      "current epoch is the best so far. Saving model...\n",
      "Epoch=6,train_loss=0.3430534899234772,val_loss=0.346282035112381\n",
      "current epoch is the best so far. Saving model...\n",
      "Epoch=7,train_loss=0.3287174105644226,val_loss=0.3263138234615326\n",
      "current epoch is the best so far. Saving model...\n",
      "Epoch=8,train_loss=0.3175148367881775,val_loss=0.3136332631111145\n",
      "current epoch is the best so far. Saving model...\n",
      "Epoch=9,train_loss=0.30716514587402344,val_loss=0.31352320313453674\n",
      "current epoch is the best so far. Saving model...\n",
      "Epoch=10,train_loss=0.29557937383651733,val_loss=0.2928507626056671\n",
      "current epoch is the best so far. Saving model...\n",
      "Epoch=11,train_loss=0.2883059084415436,val_loss=0.28926795721054077\n",
      "current epoch is the best so far. Saving model...\n",
      "Epoch=12,train_loss=0.28317156434059143,val_loss=0.2850891649723053\n",
      "current epoch is the best so far. Saving model...\n",
      "Epoch=13,train_loss=0.2785429060459137,val_loss=0.28223368525505066\n",
      "current epoch is the best so far. Saving model...\n",
      "Epoch=14,train_loss=0.2766604721546173,val_loss=0.2856983244419098\n",
      "Epoch=15,train_loss=0.2714173197746277,val_loss=0.2855125069618225\n",
      "Epoch=16,train_loss=0.2680826485157013,val_loss=0.2765776216983795\n",
      "current epoch is the best so far. Saving model...\n",
      "Epoch=17,train_loss=0.2655639350414276,val_loss=0.27490025758743286\n",
      "current epoch is the best so far. Saving model...\n",
      "Epoch=18,train_loss=0.2637034058570862,val_loss=0.2769488990306854\n",
      "Epoch=19,train_loss=0.2599608898162842,val_loss=0.28064003586769104\n",
      "Epoch=20,train_loss=0.2582338750362396,val_loss=0.27204883098602295\n",
      "current epoch is the best so far. Saving model...\n",
      "Epoch=21,train_loss=0.2558967173099518,val_loss=0.27057573199272156\n",
      "current epoch is the best so far. Saving model...\n",
      "Epoch=22,train_loss=0.2558669447898865,val_loss=0.271030455827713\n",
      "Epoch=23,train_loss=0.2535606026649475,val_loss=0.26633018255233765\n",
      "current epoch is the best so far. Saving model...\n",
      "Epoch=24,train_loss=0.25006043910980225,val_loss=0.2687579095363617\n",
      "Epoch=25,train_loss=0.24939343333244324,val_loss=0.26805800199508667\n",
      "Epoch=26,train_loss=0.24825558066368103,val_loss=0.27201831340789795\n",
      "Epoch=27,train_loss=0.24684739112854004,val_loss=0.2684776782989502\n",
      "Epoch=28,train_loss=0.24530409276485443,val_loss=0.2820785939693451\n",
      "Epoch=29,train_loss=0.24461837112903595,val_loss=0.2687125504016876\n",
      "Epoch=30,train_loss=0.24296557903289795,val_loss=0.2698065936565399\n",
      "Epoch=31,train_loss=0.24177134037017822,val_loss=0.2734822928905487\n",
      "Epoch=32,train_loss=0.24042688310146332,val_loss=0.2692660391330719\n",
      "Epoch=33,train_loss=0.23977307975292206,val_loss=0.2700980305671692\n",
      "Epoch=34,train_loss=0.23874735832214355,val_loss=0.2744032144546509\n",
      "Epoch=35,train_loss=0.23882754147052765,val_loss=0.2741810381412506\n",
      "Epoch=36,train_loss=0.2365916222333908,val_loss=0.2775685787200928\n",
      "Epoch=37,train_loss=0.23660393059253693,val_loss=0.2771678864955902\n",
      "Epoch=38,train_loss=0.23636744916439056,val_loss=0.27952972054481506\n",
      "Epoch=39,train_loss=0.23531924188137054,val_loss=0.2829684913158417\n",
      "Epoch=40,train_loss=0.23529592156410217,val_loss=0.28639087080955505\n",
      "Epoch=41,train_loss=0.23444265127182007,val_loss=0.29009681940078735\n",
      "Epoch=42,train_loss=0.2327772080898285,val_loss=0.2904236316680908\n",
      "Epoch=43,train_loss=0.23278284072875977,val_loss=0.28908398747444153\n",
      "Epoch=44,train_loss=0.23196402192115784,val_loss=0.2963762879371643\n",
      "Epoch=45,train_loss=0.23079055547714233,val_loss=0.2948627471923828\n",
      "Epoch=46,train_loss=0.23070232570171356,val_loss=0.29329806566238403\n",
      "Epoch=47,train_loss=0.23115113377571106,val_loss=0.29728803038597107\n",
      "Epoch=48,train_loss=0.23091602325439453,val_loss=0.3039171099662781\n",
      "Epoch=49,train_loss=0.22939571738243103,val_loss=0.3092319667339325\n"
     ]
    }
   ],
   "source": [
    "losses, val_losses, adam_batch_loss= train_MMoE(mymodel,\n",
    "                                           train_dataset,\n",
    "                                           val_dataset,\n",
    "                                           bestmodel_save_dir,\n",
    "                                           **train_params)"
   ]
  },
  {
   "cell_type": "code",
   "execution_count": 6,
   "id": "07be8985-798b-47da-aa00-f79836a6ee4f",
   "metadata": {
    "tags": []
   },
   "outputs": [
    {
     "data": {
      "text/plain": [
       "<All keys matched successfully>"
      ]
     },
     "execution_count": 6,
     "metadata": {},
     "output_type": "execute_result"
    }
   ],
   "source": [
    "# load best model based on validation\n",
    "mybestmodel = MMoE(**model_params)\n",
    "mybestmodel.load_state_dict(torch.load(bestmodel_save_dir))"
   ]
  },
  {
   "cell_type": "code",
   "execution_count": 7,
   "id": "89fdb611-85ee-4def-809e-154933380a03",
   "metadata": {
    "tags": []
   },
   "outputs": [
    {
     "name": "stdout",
     "output_type": "stream",
     "text": [
      "AUC: 0.9353350593868078\n",
      "AUC: 0.9876592624197151\n"
     ]
    }
   ],
   "source": [
    "auc1, auc2=eval_MMoE(mybestmodel, test_dataset)"
   ]
  },
  {
   "cell_type": "code",
   "execution_count": 8,
   "id": "6db7986c-5580-40bc-9c86-480de5a2819b",
   "metadata": {},
   "outputs": [
    {
     "data": {
      "application/vnd.jupyter.widget-view+json": {
       "model_id": "",
       "version_major": 2,
       "version_minor": 0
      },
      "text/plain": [
       "VBox(children=(Label(value='1.244 MB of 1.290 MB uploaded\\r'), FloatProgress(value=0.9643469735997705, max=1.0…"
      ]
     },
     "metadata": {},
     "output_type": "display_data"
    },
    {
     "data": {
      "text/html": [
       "<style>\n",
       "    table.wandb td:nth-child(1) { padding: 0 10px; text-align: left ; width: auto;} td:nth-child(2) {text-align: left ; width: 100%}\n",
       "    .wandb-row { display: flex; flex-direction: row; flex-wrap: wrap; justify-content: flex-start; width: 100% }\n",
       "    .wandb-col { display: flex; flex-direction: column; flex-basis: 100%; flex: 1; padding: 10px; }\n",
       "    </style>\n",
       "<div class=\"wandb-row\"><div class=\"wandb-col\"><h3>Run history:</h3><br/><table class=\"wandb\"><tr><td>task1_loss</td><td>█▅▅▄▃▃▂▃▁▁▃▂▂▃▃▃▂▃▂▃▂▃▂▃▄▂▃▂▂▂▃▃▂▂▄▃▂▂▂▂</td></tr><tr><td>task2_loss</td><td>██▃▃▂▂▂▂▂▂▂▂▁▁▂▁▂▂▂▂▂▂▂▁▂▁▂▁▂▁▁▁▁▁▁▂▁▂▂▂</td></tr><tr><td>task_0/expert_0_weight</td><td>▁▁▁▁▁▁▁▂▁▁▁█▁▁▁▁▇▁▁▁▁▁▁▁▁▁▁▁▁▁▁▁█▁▁▁▁▁▁▁</td></tr><tr><td>task_0/expert_1_weight</td><td>▁▁▁▁▁▁▁▃▂█▁▁▁▁▁▁▁▁▁▁▁▁▁▁▁▁▁▁▁▁▁▁▁▁▁▁▁▁▁▁</td></tr><tr><td>task_0/expert_2_weight</td><td>█▅█▅▅▄▂▃▂▃▃▄▃▂▂▃▂▂▂▂▄▂▂▂▂▂▂▂▂▃▃▂▂▁▂▃▂▂▂▂</td></tr><tr><td>task_0/expert_3_weight</td><td>▁▄▁▄▄▅▇▆▇▆▆▅▆▇▇▆▇▇▇▇▅▇▇▇▇▇▇▇▇▆▆▇▇█▇▆▇▇▇▇</td></tr><tr><td>task_1/expert_0_weight</td><td>▁▁▆▇▇▇▇▆▇▆▇▇█████▇█▇▇▇▇▇██▇▇▇▇█▇████▇███</td></tr><tr><td>task_1/expert_1_weight</td><td>▁▁█▇▇▇██▇█▇▇▇▇▇▇▇█▇▇▇▇█▇▆▆▇▇▇▆▆▇▇▇▇▆▇▇▆▆</td></tr><tr><td>task_1/expert_2_weight</td><td>██▂▁▁▁▁▁▁▁▁▁▁▁▁▁▁▁▁▁▁▁▁▁▁▁▁▁▁▂▁▁▁▁▁▁▁▁▁▁</td></tr><tr><td>task_1/expert_3_weight</td><td>▁▁▅▁▁▁▁▁█▅▅▅▁▁▁▁▅▁▅▁▅█▅▆▂▁▁▄▂▁▁▁▅▁▅▁█▁█▁</td></tr><tr><td>train_loss</td><td>█▆▄▃▂▂▂▂▁▁▁▁▁▁▁▁▁▁▁▁▁▁▁▁▁▁▁▁▁▁▁▁▁▁▁▁▁▁▁▁</td></tr><tr><td>val_loss</td><td>██▃▃▂▂▂▁▁▁▁▁▁▁▁▁▁▁▁▁▁▁▁▁▁▁▁▁▁▁▁▁▁▁▁▁▁▁▁▁</td></tr></table><br/></div><div class=\"wandb-col\"><h3>Run summary:</h3><br/><table class=\"wandb\"><tr><td>task1_loss</td><td>0.1045</td></tr><tr><td>task2_loss</td><td>0.07662</td></tr><tr><td>task_0/expert_0_weight</td><td>0.0</td></tr><tr><td>task_0/expert_1_weight</td><td>0.0</td></tr><tr><td>task_0/expert_2_weight</td><td>0.00995</td></tr><tr><td>task_0/expert_3_weight</td><td>0.99005</td></tr><tr><td>task_1/expert_0_weight</td><td>0.49611</td></tr><tr><td>task_1/expert_1_weight</td><td>0.41308</td></tr><tr><td>task_1/expert_2_weight</td><td>0.08936</td></tr><tr><td>task_1/expert_3_weight</td><td>0.00144</td></tr><tr><td>train_loss</td><td>0.2294</td></tr><tr><td>val_loss</td><td>0.30923</td></tr></table><br/></div></div>"
      ],
      "text/plain": [
       "<IPython.core.display.HTML object>"
      ]
     },
     "metadata": {},
     "output_type": "display_data"
    },
    {
     "data": {
      "text/html": [
       " View run <strong style=\"color:#cdcd00\">exp1_MMoE:batch_size=256_N_epochs=50_lr=0.0001_feature_dim=114_expert_dim=32_n_expert=4_n_task=2_use_gate=True_gate_dropout=0_tower_dropout=0_expert_dropout=0</strong> at: <a href='https://wandb.ai/zhengyuntao/mmoe/runs/84qzs32l' target=\"_blank\">https://wandb.ai/zhengyuntao/mmoe/runs/84qzs32l</a><br/> View project at: <a href='https://wandb.ai/zhengyuntao/mmoe' target=\"_blank\">https://wandb.ai/zhengyuntao/mmoe</a><br/>Synced 7 W&B file(s), 0 media file(s), 0 artifact file(s) and 1 other file(s)"
      ],
      "text/plain": [
       "<IPython.core.display.HTML object>"
      ]
     },
     "metadata": {},
     "output_type": "display_data"
    },
    {
     "data": {
      "text/html": [
       "Find logs at: <code>.\\wandb\\run-20241128_014448-84qzs32l\\logs</code>"
      ],
      "text/plain": [
       "<IPython.core.display.HTML object>"
      ]
     },
     "metadata": {},
     "output_type": "display_data"
    },
    {
     "data": {
      "text/html": [
       "wandb version 0.18.7 is available!  To upgrade, please run:\n",
       " $ pip install wandb --upgrade"
      ],
      "text/plain": [
       "<IPython.core.display.HTML object>"
      ]
     },
     "metadata": {},
     "output_type": "display_data"
    },
    {
     "data": {
      "text/html": [
       "The new W&B backend becomes opt-out in version 0.18.0; try it out with `wandb.require(\"core\")`! See https://wandb.me/wandb-core for more information."
      ],
      "text/plain": [
       "<IPython.core.display.HTML object>"
      ]
     },
     "metadata": {},
     "output_type": "display_data"
    }
   ],
   "source": [
    "wandb.finish()"
   ]
  }
 ],
 "metadata": {
  "kernelspec": {
   "display_name": "Python 3 (ipykernel)",
   "language": "python",
   "name": "python3"
  },
  "language_info": {
   "codemirror_mode": {
    "name": "ipython",
    "version": 3
   },
   "file_extension": ".py",
   "mimetype": "text/x-python",
   "name": "python",
   "nbconvert_exporter": "python",
   "pygments_lexer": "ipython3",
   "version": "3.11.4"
  }
 },
 "nbformat": 4,
 "nbformat_minor": 5
}
