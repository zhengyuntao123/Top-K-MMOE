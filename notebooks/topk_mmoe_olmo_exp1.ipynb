{
 "cells": [
  {
   "cell_type": "code",
   "execution_count": 1,
   "id": "17b71820-c9fe-4235-871f-634550a52f10",
   "metadata": {
    "tags": []
   },
   "outputs": [
    {
     "name": "stdout",
     "output_type": "stream",
     "text": [
      "C:\\jupyter file\\CMU_3\\distributed ML\\project\n",
      "WARNING:tensorflow:From C:\\anaconda3\\Lib\\site-packages\\keras\\src\\losses.py:2976: The name tf.losses.sparse_softmax_cross_entropy is deprecated. Please use tf.compat.v1.losses.sparse_softmax_cross_entropy instead.\n",
      "\n"
     ]
    }
   ],
   "source": [
    "%cd ../\n",
    "import pandas as pd\n",
    "from torch.utils.data import Dataset,DataLoader\n",
    "import torch\n",
    "import numpy as np\n",
    "import ast\n",
    "import torch.nn as nn\n",
    "import torch.optim as optim\n",
    "import random\n",
    "from matplotlib import pyplot as plt\n",
    "import os\n",
    "import shutil\n",
    "from datetime import datetime\n",
    "import wandb\n",
    "from utils import set_all_seed, load_exp1_dataset\n",
    "from topk_mmoe import TopkMMoE\n",
    "from trainer_and_evaluator import train_TopkMMoE, eval_TopkMMoE"
   ]
  },
  {
   "cell_type": "code",
   "execution_count": 2,
   "id": "7ca68d7d-d2ae-4f1d-bd9c-b139f48de1c2",
   "metadata": {
    "tags": []
   },
   "outputs": [
    {
     "name": "stdout",
     "output_type": "stream",
     "text": [
      "Absolute Pearson correlation coefficient: 0.17716269850240274\n",
      "P-value: 0.0\n"
     ]
    }
   ],
   "source": [
    "set_all_seed(42)\n",
    "train_dataset, val_dataset, test_dataset = load_exp1_dataset()"
   ]
  },
  {
   "cell_type": "code",
   "execution_count": 3,
   "id": "ca9da1d9-c2cc-40f1-a61f-cfa6d3997de2",
   "metadata": {
    "tags": []
   },
   "outputs": [
    {
     "name": "stdout",
     "output_type": "stream",
     "text": [
      "exp1_topk_mmoe_olmo:batch_size=256_N_epochs=50_lr=0.0001_feature_dim=114_expert_dim=32_n_expert=16_n_activated_expert=4_n_task=2_sparse_load_balancing_loss_coef=0_olmo_load_balancing_loss_coef=1e-05_router_z_loss_coef=1e-05_gate_dropout=0_tower_dropout=0_expert_dropout=0\n",
      "model/exp1_topk_mmoe_olmo/batch_size=256_N_epochs=50_lr=0.0001_114_32_16_4_2_0_1e-05_1e-05_0_0_0\n"
     ]
    },
    {
     "name": "stderr",
     "output_type": "stream",
     "text": [
      "\u001b[34m\u001b[1mwandb\u001b[0m: Currently logged in as: \u001b[33myuntaozh\u001b[0m (\u001b[33mzhengyuntao\u001b[0m). Use \u001b[1m`wandb login --relogin`\u001b[0m to force relogin\n"
     ]
    },
    {
     "data": {
      "text/html": [
       "Tracking run with wandb version 0.17.8"
      ],
      "text/plain": [
       "<IPython.core.display.HTML object>"
      ]
     },
     "metadata": {},
     "output_type": "display_data"
    },
    {
     "data": {
      "text/html": [
       "Run data is saved locally in <code>C:\\jupyter file\\CMU_3\\distributed ML\\project\\wandb\\run-20241128_014458-f71wiggb</code>"
      ],
      "text/plain": [
       "<IPython.core.display.HTML object>"
      ]
     },
     "metadata": {},
     "output_type": "display_data"
    },
    {
     "data": {
      "text/html": [
       "Syncing run <strong><a href='https://wandb.ai/zhengyuntao/mmoe/runs/f71wiggb' target=\"_blank\">exp1_topk_mmoe_olmo:batch_size=256_N_epochs=50_lr=0.0001_feature_dim=114_expert_dim=32_n_expert=16_n_activated_expert=4_n_task=2_sparse_load_balancing_loss_coef=0_olmo_load_balancing_loss_coef=1e-05_router_z_loss_coef=1e-05_gate_dropout=0_tower_dropout=0_expert_dropout=0</a></strong> to <a href='https://wandb.ai/zhengyuntao/mmoe' target=\"_blank\">Weights & Biases</a> (<a href='https://wandb.me/run' target=\"_blank\">docs</a>)<br/>"
      ],
      "text/plain": [
       "<IPython.core.display.HTML object>"
      ]
     },
     "metadata": {},
     "output_type": "display_data"
    },
    {
     "data": {
      "text/html": [
       " View project at <a href='https://wandb.ai/zhengyuntao/mmoe' target=\"_blank\">https://wandb.ai/zhengyuntao/mmoe</a>"
      ],
      "text/plain": [
       "<IPython.core.display.HTML object>"
      ]
     },
     "metadata": {},
     "output_type": "display_data"
    },
    {
     "data": {
      "text/html": [
       " View run at <a href='https://wandb.ai/zhengyuntao/mmoe/runs/f71wiggb' target=\"_blank\">https://wandb.ai/zhengyuntao/mmoe/runs/f71wiggb</a>"
      ],
      "text/plain": [
       "<IPython.core.display.HTML object>"
      ]
     },
     "metadata": {},
     "output_type": "display_data"
    },
    {
     "data": {
      "text/html": [
       "<button onClick=\"this.nextSibling.style.display='block';this.style.display='none';\">Display W&B run</button><iframe src='https://wandb.ai/zhengyuntao/mmoe/runs/f71wiggb?jupyter=true' style='border:none;width:100%;height:420px;display:none;'></iframe>"
      ],
      "text/plain": [
       "<wandb.sdk.wandb_run.Run at 0x1f907034b90>"
      ]
     },
     "execution_count": 3,
     "metadata": {},
     "output_type": "execute_result"
    }
   ],
   "source": [
    "# 设定各种超参数，wandb日志名，日志存储路径，模型存储路径\n",
    "train_params = {\n",
    "    \"batch_size\": 256,\n",
    "    \"N_epochs\": 50,\n",
    "    \"lr\": 0.0001\n",
    "}\n",
    "\n",
    "# 仅设置dropout\n",
    "model_params={\n",
    "    \"feature_dim\": 114,\n",
    "    \"expert_dim\": 32,\n",
    "    \"n_expert\": 16,\n",
    "    \"n_activated_expert\": 4,\n",
    "    \"n_task\": 2,\n",
    "    \"sparse_load_balancing_loss_coef\": 0,\n",
    "    \"olmo_load_balancing_loss_coef\": 1e-5, # 采用OLMO的load-balancing loss\n",
    "    \"router_z_loss_coef\": 1e-5, # 添加router-z-loss\n",
    "    \"gate_dropout\": 0,\n",
    "    \"tower_dropout\": 0,\n",
    "    \"expert_dropout\": 0\n",
    "}\n",
    "\n",
    "model_name=\"exp1_topk_mmoe_olmo\"\n",
    "if not os.path.exists(\"model/\"+model_name):\n",
    "    os.makedirs(\"model/\"+model_name) \n",
    "\n",
    "train_params_str = \"_\".join(f\"{key}={value}\" for key, value in train_params.items())\n",
    "model_params_str = \"_\".join(f\"{key}={value}\" for key, value in model_params.items())\n",
    "short_model_params_str = \"_\".join(f\"{value}\" for key, value in model_params.items())\n",
    "\n",
    "wandb_name=model_name+\":\"+train_params_str+\"_\"+model_params_str\n",
    "\n",
    "# 使用short_model_params_str是因为windows支持的最长文件名长度仅为260\n",
    "bestmodel_save_dir=f\"model/\"+model_name+\"/\"+train_params_str+\"_\"+short_model_params_str \n",
    "\n",
    "print(wandb_name)\n",
    "print(bestmodel_save_dir)\n",
    "\n",
    "wandb.init(project=\"mmoe\", name=wandb_name)"
   ]
  },
  {
   "cell_type": "code",
   "execution_count": 4,
   "id": "af593b44-aa48-4f35-88df-2165577e1242",
   "metadata": {
    "tags": []
   },
   "outputs": [
    {
     "name": "stdout",
     "output_type": "stream",
     "text": [
      "Number of parameters: 45586\n",
      "Number of parameters in SparseMMoE: 43584\n",
      "Number of activated parameters in SparseMMoE: 10896\n"
     ]
    }
   ],
   "source": [
    "mymodel = TopkMMoE(**model_params)\n",
    "\n",
    "nParams = sum([p.nelement() for p in mymodel.parameters()])\n",
    "print('Number of parameters: %d' % nParams)\n",
    "\n",
    "nParams_in_mmoe=0\n",
    "for name,p in mymodel.named_parameters():\n",
    "    if name.startswith(\"sparse_mmoe\"):\n",
    "        nParams_in_mmoe=nParams_in_mmoe+p.nelement()\n",
    "print('Number of parameters in SparseMMoE: %d' % nParams_in_mmoe)\n",
    "# 相比于MMOE增加了w_noises和b_noises\n",
    "print(f'Number of activated parameters in SparseMMoE: {int(nParams_in_mmoe*model_params[\"n_activated_expert\"]/model_params[\"n_expert\"])}')"
   ]
  },
  {
   "cell_type": "code",
   "execution_count": 5,
   "id": "33fc8dbd-93af-4087-b32a-d0132258ec9f",
   "metadata": {
    "tags": []
   },
   "outputs": [
    {
     "name": "stdout",
     "output_type": "stream",
     "text": [
      "Currently using device:cuda\n",
      "Epoch=0,train_loss=0.8982775211334229,val_loss=0.6365442872047424\n",
      "current epoch is the best so far. Saving model...\n",
      "Epoch=1,train_loss=0.5947279334068298,val_loss=0.5603338479995728\n",
      "current epoch is the best so far. Saving model...\n",
      "Epoch=2,train_loss=0.4982186257839203,val_loss=0.456535667181015\n",
      "current epoch is the best so far. Saving model...\n",
      "Epoch=3,train_loss=0.42524993419647217,val_loss=0.39713236689567566\n",
      "current epoch is the best so far. Saving model...\n",
      "Epoch=4,train_loss=0.40127891302108765,val_loss=0.38777637481689453\n",
      "current epoch is the best so far. Saving model...\n",
      "Epoch=5,train_loss=0.3821028172969818,val_loss=0.36621567606925964\n",
      "current epoch is the best so far. Saving model...\n",
      "Epoch=6,train_loss=0.3728408217430115,val_loss=0.36432725191116333\n",
      "current epoch is the best so far. Saving model...\n",
      "Epoch=7,train_loss=0.3689245879650116,val_loss=0.3645942211151123\n",
      "Epoch=8,train_loss=0.3704112470149994,val_loss=0.37077096104621887\n",
      "Epoch=9,train_loss=0.36406582593917847,val_loss=0.3671979010105133\n",
      "Epoch=10,train_loss=0.3573618233203888,val_loss=0.36155757308006287\n",
      "current epoch is the best so far. Saving model...\n",
      "Epoch=11,train_loss=0.3550777733325958,val_loss=0.35206666588783264\n",
      "current epoch is the best so far. Saving model...\n",
      "Epoch=12,train_loss=0.35434287786483765,val_loss=0.35555896162986755\n",
      "Epoch=13,train_loss=0.34830567240715027,val_loss=0.35001757740974426\n",
      "current epoch is the best so far. Saving model...\n",
      "Epoch=14,train_loss=0.3474797308444977,val_loss=0.35319235920906067\n",
      "Epoch=15,train_loss=0.34409502148628235,val_loss=0.35109543800354004\n",
      "Epoch=16,train_loss=0.34099289774894714,val_loss=0.35851001739501953\n",
      "Epoch=17,train_loss=0.3396531939506531,val_loss=0.34994980692863464\n",
      "current epoch is the best so far. Saving model...\n",
      "Epoch=18,train_loss=0.3366813659667969,val_loss=0.334634006023407\n",
      "current epoch is the best so far. Saving model...\n",
      "Epoch=19,train_loss=0.33157652616500854,val_loss=0.3405333161354065\n",
      "Epoch=20,train_loss=0.3295440375804901,val_loss=0.3490929901599884\n",
      "Epoch=21,train_loss=0.32627999782562256,val_loss=0.34729522466659546\n",
      "Epoch=22,train_loss=0.3270859122276306,val_loss=0.3374532163143158\n",
      "Epoch=23,train_loss=0.32816028594970703,val_loss=0.3387783169746399\n",
      "Epoch=24,train_loss=0.32463300228118896,val_loss=0.34416645765304565\n",
      "Epoch=25,train_loss=0.32575103640556335,val_loss=0.33637601137161255\n",
      "Epoch=26,train_loss=0.3224722445011139,val_loss=0.33809855580329895\n",
      "Epoch=27,train_loss=0.3209467828273773,val_loss=0.334447979927063\n",
      "current epoch is the best so far. Saving model...\n",
      "Epoch=28,train_loss=0.32049763202667236,val_loss=0.3442826569080353\n",
      "Epoch=29,train_loss=0.31846314668655396,val_loss=0.3391774296760559\n",
      "Epoch=30,train_loss=0.3174436688423157,val_loss=0.33208879828453064\n",
      "current epoch is the best so far. Saving model...\n",
      "Epoch=31,train_loss=0.31177982687950134,val_loss=0.33261266350746155\n",
      "Epoch=32,train_loss=0.31157273054122925,val_loss=0.349949449300766\n",
      "Epoch=33,train_loss=0.3112821877002716,val_loss=0.33141282200813293\n",
      "current epoch is the best so far. Saving model...\n",
      "Epoch=34,train_loss=0.3064468502998352,val_loss=0.33247122168540955\n",
      "Epoch=35,train_loss=0.3056817054748535,val_loss=0.3304213285446167\n",
      "current epoch is the best so far. Saving model...\n",
      "Epoch=36,train_loss=0.3060750961303711,val_loss=0.3421608805656433\n",
      "Epoch=37,train_loss=0.3039203882217407,val_loss=0.3507925570011139\n",
      "Epoch=38,train_loss=0.3005904257297516,val_loss=0.34510859847068787\n",
      "Epoch=39,train_loss=0.3008040487766266,val_loss=0.3492197096347809\n",
      "Epoch=40,train_loss=0.30294370651245117,val_loss=0.34280601143836975\n",
      "Epoch=41,train_loss=0.3003019392490387,val_loss=0.3601493537425995\n",
      "Epoch=42,train_loss=0.3008449077606201,val_loss=0.3559867739677429\n",
      "Epoch=43,train_loss=0.32780197262763977,val_loss=0.3506336510181427\n",
      "Epoch=44,train_loss=0.30981162190437317,val_loss=0.3564356565475464\n",
      "Epoch=45,train_loss=0.30801665782928467,val_loss=0.36677634716033936\n",
      "Epoch=46,train_loss=0.3043897747993469,val_loss=0.35455790162086487\n",
      "Epoch=47,train_loss=0.3031676113605499,val_loss=0.36736422777175903\n",
      "Epoch=48,train_loss=0.30186331272125244,val_loss=0.36361998319625854\n",
      "Epoch=49,train_loss=0.2998107373714447,val_loss=0.37037286162376404\n"
     ]
    }
   ],
   "source": [
    "losses, val_losses, adam_batch_loss= train_TopkMMoE(mymodel,\n",
    "                                           train_dataset,\n",
    "                                           val_dataset,\n",
    "                                           bestmodel_save_dir,\n",
    "                                           **train_params)"
   ]
  },
  {
   "cell_type": "code",
   "execution_count": 6,
   "id": "07be8985-798b-47da-aa00-f79836a6ee4f",
   "metadata": {
    "tags": []
   },
   "outputs": [
    {
     "data": {
      "text/plain": [
       "<All keys matched successfully>"
      ]
     },
     "execution_count": 6,
     "metadata": {},
     "output_type": "execute_result"
    }
   ],
   "source": [
    "# load best model based on validation\n",
    "mybestmodel = TopkMMoE(**model_params)\n",
    "mybestmodel.load_state_dict(torch.load(bestmodel_save_dir))"
   ]
  },
  {
   "cell_type": "code",
   "execution_count": 7,
   "id": "89fdb611-85ee-4def-809e-154933380a03",
   "metadata": {
    "tags": []
   },
   "outputs": [
    {
     "name": "stdout",
     "output_type": "stream",
     "text": [
      "AUC: 0.9355552420225097\n",
      "AUC: 0.9902320903787619\n"
     ]
    }
   ],
   "source": [
    "auc1, auc2=eval_TopkMMoE(mybestmodel, test_dataset)"
   ]
  },
  {
   "cell_type": "code",
   "execution_count": 8,
   "id": "e56974f0-095e-4ba7-a182-042fc24e7f69",
   "metadata": {
    "tags": []
   },
   "outputs": [
    {
     "data": {
      "application/vnd.jupyter.widget-view+json": {
       "model_id": "",
       "version_major": 2,
       "version_minor": 0
      },
      "text/plain": [
       "VBox(children=(Label(value='1.244 MB of 1.244 MB uploaded\\r'), FloatProgress(value=1.0, max=1.0)))"
      ]
     },
     "metadata": {},
     "output_type": "display_data"
    },
    {
     "data": {
      "text/html": [
       "<style>\n",
       "    table.wandb td:nth-child(1) { padding: 0 10px; text-align: left ; width: auto;} td:nth-child(2) {text-align: left ; width: 100%}\n",
       "    .wandb-row { display: flex; flex-direction: row; flex-wrap: wrap; justify-content: flex-start; width: 100% }\n",
       "    .wandb-col { display: flex; flex-direction: column; flex-basis: 100%; flex: 1; padding: 10px; }\n",
       "    </style>\n",
       "<div class=\"wandb-row\"><div class=\"wandb-col\"><h3>Run history:</h3><br/><table class=\"wandb\"><tr><td>load_balancing_loss</td><td>█▇█▆▄▄▄▃▃▄▃▃▃▃▄▃▃▃▃▂▂▂▂▂▂▂▁▂▂▂▁▁▁▁▂▂▁▁▁▁</td></tr><tr><td>router_z_loss</td><td>▅▇▄▇▃▂▁▃▆▃▂▁▁▅▃▄▄▅▅▁▃▁▂▁▄▁▄▆▂▅▂█▂▁▁▄▆▄▂▆</td></tr><tr><td>task1_loss</td><td>▇█▄▂▃▃▃▃▃▂▃▃▃▃▃▂▃▂▃▃▂▃▂▂▂▃▂▄▃▄▁▂▃▁▁▃▁▂▄▂</td></tr><tr><td>task2_loss</td><td>█▆▄▃▄▂▂▃▃▂▂▃▂▂▂▂▂▃▁▂▁▂▃▁▂▂▂▃▁▁▂▁▁▂▂▂▂▂▁▂</td></tr><tr><td>task_0/expert_0_weight</td><td>▂▁▁▁▁▁▁▁▁▁▁▁▁▁▁▁▁▁▁▁▁▁▁▁▁▁▁█▄▁▄▁▁▁▁▂▂▃▄▆</td></tr><tr><td>task_0/expert_10_weight</td><td>▁▁▂▇█▄▆▄▅▆▃▆▅▃▄▆▃▄▄▄▆▆▄▅▅▅▆▅▆▇▆▅▄▆▇▆▅▆▅▇</td></tr><tr><td>task_0/expert_11_weight</td><td>▁▁▂▅▅▂▅█▅▄▆▄▅▅▅▆▅▅▅▅▆▄▆▄▃▄▄▄▄▅▄▃▆▅▄▄▄▄▇▄</td></tr><tr><td>task_0/expert_12_weight</td><td>▁▁▁▁▁▁▁▁▁▁▁▁▁▁▁▁▁▁▁▁▁▁▆▆▄▇▄█▅▆▅▄▄▄▃▄▅▃▆▃</td></tr><tr><td>task_0/expert_13_weight</td><td>▁▁▁▁▁▁▁▁▁▁▁▁▁▁▁▁▁▁▁▁▁▁▁▁▁▁▁▁▁▁▁▁▁▇▁█▁▁▂▂</td></tr><tr><td>task_0/expert_14_weight</td><td>▁▁▁▁▁▁▁▁▁▁▁▁▁▁▁▁▁▁▁▁▁▁▁▁▁▁▁▁▁▁▁▁▁▁▁▁▁▁▁▁</td></tr><tr><td>task_0/expert_15_weight</td><td>▁▁█▅▄▆█▇▆▇▇▅▇▇▅▇▆█▇▇▇▆▆▆▇▆▆▆▄▅▅▆▆▅▅▅▅▄▅▄</td></tr><tr><td>task_0/expert_1_weight</td><td>▁▁▃▃▅▄▇▆▅▆▇▇▅▄█▄▃▄▅▄▄▃▃▄▄▄▄▃▅▄▃▆▄▇▄▄▅▅▃▅</td></tr><tr><td>task_0/expert_2_weight</td><td>█▁▁▁▁▁▁▁▁▁▁▁▁▁▁▁▁▁▁▁▁▁▁▁▁▁▁▁▁▁▁▁▁▁▁▁▁▁▁▁</td></tr><tr><td>task_0/expert_3_weight</td><td>█▁▁▁▁▁▁▁▁▁▁▁▁▁▁▁▁▁▁▁▁▁▁▁▁▁▁▁▁▁▁▁▁▁▁▁▁▁▁▁</td></tr><tr><td>task_0/expert_4_weight</td><td>▁▁▁▁▃▇▃▄▄▄█▅▅▄▇▄▄▆▄▇▄▆▄▄▄▅▄▃▃▄▃▄▅▄▃▄▃▄▃▃</td></tr><tr><td>task_0/expert_5_weight</td><td>██▅▂▁▁▁▁▂▁▁▂▂▂▁▁▂▂▁▁▂▂▂▂▂▂▂▂▂▂▂▂▂▂▂▂▂▂▂▃</td></tr><tr><td>task_0/expert_6_weight</td><td>▁▁▂█▆▆▆▅▅▄▃▄▅▆▆▄▇▄▅▄▅▅▄▄▂▄▄▄▃▄▄▃▃▂▄▃▃▄▃▃</td></tr><tr><td>task_0/expert_7_weight</td><td>▂▁▁▃▂█▃▃▄▃▄▄▂▆▂▄▄▃▄▃▃▂▂▂▃▂▃▃▂▂▃▃▃▂▂▃▃▂▂▃</td></tr><tr><td>task_0/expert_8_weight</td><td>▂█▃▁▃▁▃▁▁▁▁▁▁▁▁▁▁▁▁▁▁▁▁▁▁▁▁▁▁▁▁▁▁▁▁▁▁▁▁▁</td></tr><tr><td>task_0/expert_9_weight</td><td>▃▂▂▂▄▃▃▃▂█▁▁▃▂▅▅▄▅▆▄▃▅▅▅▂▂▃▇▅▆▃▆▁▁▄▃▃▅▂▆</td></tr><tr><td>task_1/expert_0_weight</td><td>▂▁▆▇▇█▅▆█▇▄▆▆▅▁▅▆▂▄▂▅▁▄▅▇▃▄▅▄▆▂▃▂▅▅▁▃▂▂▃</td></tr><tr><td>task_1/expert_10_weight</td><td>▃▁▁▁▁▁▁▁▁▄▁▁▁▁▃▁▁▃▄▃▃▅▅▃▃▄▄▂▅▁▆▄▃▆▆█▇▆▆▇</td></tr><tr><td>task_1/expert_11_weight</td><td>▁▁▁▁▁▁▁▇▆▆█▆▇▇▆▅▅▆▅▄▄▄▃▂▂▃▃▂▂▂▃▃▃▂▁▃▂▃▃▃</td></tr><tr><td>task_1/expert_12_weight</td><td>██▄▃▄▃▃▂▃▃▃▃▄▂▂▂▂▁▂▂▂▂▁▂▂▂▂▂▂▃▂▂▃▂▂▁▂▃▂▃</td></tr><tr><td>task_1/expert_13_weight</td><td>▁▂▂▄▂▃▇▃█▁▆▆▆▆▁▅▃▅▁▄▅▅▆▆▆▆▅█▅▆█▅▄▄▁▁▄▄▄▄</td></tr><tr><td>task_1/expert_14_weight</td><td>▁▁▁▁▁▁▁▁▁▁▁▁▁▁▁▁▁▁▁▁▁▁▃▄▆▅▆▅▇▄▃▆▅▂▅▂█▆▇▃</td></tr><tr><td>task_1/expert_15_weight</td><td>█▄▅▂▂▅▃▁▁▁▁▁▁▁▁▁▁▁▁▁▁▁▁▁▁▁▁▁▁▁▁▁▁▁▁▁▁▁▁▁</td></tr><tr><td>task_1/expert_1_weight</td><td>█▁▁▁▁▁▁▁▁▁▁▁▁▁▁▁▁▁▁▁▁▁▁▁▁▁▁▁▁▁▁▁▁▁▁▁▁▁▁▁</td></tr><tr><td>task_1/expert_2_weight</td><td>▁▆▇▇█▆▅▆▅▃▅▃▄▇▅▃▂▄▅▅▄▂▃▂▁▃▃▄▃▃▅▃▄▄▄▅▃▄▆▄</td></tr><tr><td>task_1/expert_3_weight</td><td>▂▃▇▅▆▇▇▆▄▆▃▄▂▂▆▇▆▁▅▄▂▁▅█▃▄▂▅▅▅▄▄▇▄▆▇▄▂▆▄</td></tr><tr><td>task_1/expert_4_weight</td><td>█▄▂▁▁▁▂▂▂▂▃▄▅▆▅▆▅▄▆▇▆▆▅▃▄▇▆▆▇▅▅▇▁▆▅▆▆▆▄▅</td></tr><tr><td>task_1/expert_5_weight</td><td>▂█▁▁▁▇▁▁▁▁▁▁▁▁▁▁▁▁▁▁▁▁▁▁▁▁▁▁▁▁▁▁▁▁▁▁▁▁▁▁</td></tr><tr><td>task_1/expert_6_weight</td><td>▃▁▂▂▃▃▂▁▁▁▁▁▁▂▃▂▂▅▅▅▆▄▆▇█▆▅▅▅▆▄▅▃▆█▄▄▆▅▄</td></tr><tr><td>task_1/expert_7_weight</td><td>▃█▇▆█▇▇▄▃▃▃▃▂▂▂▂▂▂▂▂▂▂▂▃▃▁▃▃▁▂▃▂▆▂▁▃▃▂▂▂</td></tr><tr><td>task_1/expert_8_weight</td><td>▁▁▃▆▁▁▁▄▄▂▆▆▂▅▇▅█▆▄▄▅▇▅▁▁▁▁▁▁▁▁▁▁▁▁▁▁▁▁▁</td></tr><tr><td>task_1/expert_9_weight</td><td>▂▁▃▆▅▆▇▄▄▅▄▄▅▄▄▅▆▇▄▅▄█▄▄▆▆▅▅▅▆▅▅▅▄▄▅▃▃▃▃</td></tr><tr><td>train_loss</td><td>█▄▃▂▂▂▂▂▂▂▂▂▂▁▁▁▁▁▁▁▁▁▁▁▁▁▁▁▁▁▁▁▁▁▁▁▁▁▁▁</td></tr><tr><td>val_loss</td><td>█▆▄▃▂▂▂▂▂▁▂▁▁▂▁▁▁▁▁▁▁▁▁▁▁▁▁▁▁▁▁▁▁▂▂▁▂▂▂▂</td></tr></table><br/></div><div class=\"wandb-col\"><h3>Run summary:</h3><br/><table class=\"wandb\"><tr><td>load_balancing_loss</td><td>0.02812</td></tr><tr><td>router_z_loss</td><td>0.0441</td></tr><tr><td>task1_loss</td><td>0.14171</td></tr><tr><td>task2_loss</td><td>0.11371</td></tr><tr><td>task_0/expert_0_weight</td><td>0.00058</td></tr><tr><td>task_0/expert_10_weight</td><td>0.11013</td></tr><tr><td>task_0/expert_11_weight</td><td>0.08434</td></tr><tr><td>task_0/expert_12_weight</td><td>0.05549</td></tr><tr><td>task_0/expert_13_weight</td><td>0.0</td></tr><tr><td>task_0/expert_14_weight</td><td>0.0</td></tr><tr><td>task_0/expert_15_weight</td><td>0.14973</td></tr><tr><td>task_0/expert_1_weight</td><td>0.04728</td></tr><tr><td>task_0/expert_2_weight</td><td>0.0</td></tr><tr><td>task_0/expert_3_weight</td><td>0.0</td></tr><tr><td>task_0/expert_4_weight</td><td>0.0894</td></tr><tr><td>task_0/expert_5_weight</td><td>0.27861</td></tr><tr><td>task_0/expert_6_weight</td><td>0.04121</td></tr><tr><td>task_0/expert_7_weight</td><td>0.11355</td></tr><tr><td>task_0/expert_8_weight</td><td>0.0</td></tr><tr><td>task_0/expert_9_weight</td><td>0.02968</td></tr><tr><td>task_1/expert_0_weight</td><td>0.06494</td></tr><tr><td>task_1/expert_10_weight</td><td>0.06215</td></tr><tr><td>task_1/expert_11_weight</td><td>0.03435</td></tr><tr><td>task_1/expert_12_weight</td><td>0.08839</td></tr><tr><td>task_1/expert_13_weight</td><td>0.06462</td></tr><tr><td>task_1/expert_14_weight</td><td>0.00851</td></tr><tr><td>task_1/expert_15_weight</td><td>0.0</td></tr><tr><td>task_1/expert_1_weight</td><td>0.0</td></tr><tr><td>task_1/expert_2_weight</td><td>0.02495</td></tr><tr><td>task_1/expert_3_weight</td><td>0.11754</td></tr><tr><td>task_1/expert_4_weight</td><td>0.1709</td></tr><tr><td>task_1/expert_5_weight</td><td>0.0</td></tr><tr><td>task_1/expert_6_weight</td><td>0.18862</td></tr><tr><td>task_1/expert_7_weight</td><td>0.0759</td></tr><tr><td>task_1/expert_8_weight</td><td>0.0</td></tr><tr><td>task_1/expert_9_weight</td><td>0.09912</td></tr><tr><td>train_loss</td><td>0.29981</td></tr><tr><td>val_loss</td><td>0.37037</td></tr></table><br/></div></div>"
      ],
      "text/plain": [
       "<IPython.core.display.HTML object>"
      ]
     },
     "metadata": {},
     "output_type": "display_data"
    },
    {
     "data": {
      "text/html": [
       " View run <strong style=\"color:#cdcd00\">exp1_topk_mmoe_olmo:batch_size=256_N_epochs=50_lr=0.0001_feature_dim=114_expert_dim=32_n_expert=16_n_activated_expert=4_n_task=2_sparse_load_balancing_loss_coef=0_olmo_load_balancing_loss_coef=1e-05_router_z_loss_coef=1e-05_gate_dropout=0_tower_dropout=0_expert_dropout=0</strong> at: <a href='https://wandb.ai/zhengyuntao/mmoe/runs/f71wiggb' target=\"_blank\">https://wandb.ai/zhengyuntao/mmoe/runs/f71wiggb</a><br/> View project at: <a href='https://wandb.ai/zhengyuntao/mmoe' target=\"_blank\">https://wandb.ai/zhengyuntao/mmoe</a><br/>Synced 7 W&B file(s), 0 media file(s), 0 artifact file(s) and 1 other file(s)"
      ],
      "text/plain": [
       "<IPython.core.display.HTML object>"
      ]
     },
     "metadata": {},
     "output_type": "display_data"
    },
    {
     "data": {
      "text/html": [
       "Find logs at: <code>.\\wandb\\run-20241128_014458-f71wiggb\\logs</code>"
      ],
      "text/plain": [
       "<IPython.core.display.HTML object>"
      ]
     },
     "metadata": {},
     "output_type": "display_data"
    },
    {
     "data": {
      "text/html": [
       "The new W&B backend becomes opt-out in version 0.18.0; try it out with `wandb.require(\"core\")`! See https://wandb.me/wandb-core for more information."
      ],
      "text/plain": [
       "<IPython.core.display.HTML object>"
      ]
     },
     "metadata": {},
     "output_type": "display_data"
    }
   ],
   "source": [
    "wandb.finish()"
   ]
  },
  {
   "cell_type": "code",
   "execution_count": null,
   "id": "0195f225-b104-4736-ba42-5604730c31c4",
   "metadata": {},
   "outputs": [],
   "source": []
  }
 ],
 "metadata": {
  "kernelspec": {
   "display_name": "Python 3 (ipykernel)",
   "language": "python",
   "name": "python3"
  },
  "language_info": {
   "codemirror_mode": {
    "name": "ipython",
    "version": 3
   },
   "file_extension": ".py",
   "mimetype": "text/x-python",
   "name": "python",
   "nbconvert_exporter": "python",
   "pygments_lexer": "ipython3",
   "version": "3.11.4"
  }
 },
 "nbformat": 4,
 "nbformat_minor": 5
}
