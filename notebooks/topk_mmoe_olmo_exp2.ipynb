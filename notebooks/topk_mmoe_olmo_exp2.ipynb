{
 "cells": [
  {
   "cell_type": "code",
   "execution_count": 1,
   "id": "17b71820-c9fe-4235-871f-634550a52f10",
   "metadata": {
    "tags": []
   },
   "outputs": [
    {
     "name": "stdout",
     "output_type": "stream",
     "text": [
      "C:\\jupyter file\\CMU_3\\distributed ML\\project\n",
      "WARNING:tensorflow:From C:\\anaconda3\\Lib\\site-packages\\keras\\src\\losses.py:2976: The name tf.losses.sparse_softmax_cross_entropy is deprecated. Please use tf.compat.v1.losses.sparse_softmax_cross_entropy instead.\n",
      "\n"
     ]
    }
   ],
   "source": [
    "%cd ../\n",
    "import pandas as pd\n",
    "from torch.utils.data import Dataset,DataLoader\n",
    "import torch\n",
    "import numpy as np\n",
    "import ast\n",
    "import torch.nn as nn\n",
    "import torch.optim as optim\n",
    "import random\n",
    "from matplotlib import pyplot as plt\n",
    "import os\n",
    "import shutil\n",
    "from datetime import datetime\n",
    "import wandb\n",
    "from utils import set_all_seed, load_exp2_dataset\n",
    "from topk_mmoe import TopkMMoE\n",
    "from trainer_and_evaluator import train_TopkMMoE, eval_TopkMMoE"
   ]
  },
  {
   "cell_type": "code",
   "execution_count": 2,
   "id": "7ca68d7d-d2ae-4f1d-bd9c-b139f48de1c2",
   "metadata": {
    "tags": []
   },
   "outputs": [
    {
     "name": "stdout",
     "output_type": "stream",
     "text": [
      "Absolute Pearson correlation coefficient: 0.16661069841980908\n",
      "P-value: 0.0\n"
     ]
    }
   ],
   "source": [
    "set_all_seed(42)\n",
    "train_dataset, val_dataset, test_dataset = load_exp2_dataset()"
   ]
  },
  {
   "cell_type": "code",
   "execution_count": 3,
   "id": "ca9da1d9-c2cc-40f1-a61f-cfa6d3997de2",
   "metadata": {
    "tags": []
   },
   "outputs": [
    {
     "name": "stdout",
     "output_type": "stream",
     "text": [
      "exp2_topk_mmoe_olmo:batch_size=256_N_epochs=50_lr=0.0001_feature_dim=114_expert_dim=32_n_expert=16_n_activated_expert=4_n_task=2_sparse_load_balancing_loss_coef=0_olmo_load_balancing_loss_coef=1e-05_router_z_loss_coef=1e-05_gate_dropout=0_tower_dropout=0_expert_dropout=0\n",
      "model/exp2_topk_mmoe_olmo/batch_size=256_N_epochs=50_lr=0.0001_114_32_16_4_2_0_1e-05_1e-05_0_0_0\n"
     ]
    },
    {
     "name": "stderr",
     "output_type": "stream",
     "text": [
      "\u001b[34m\u001b[1mwandb\u001b[0m: Currently logged in as: \u001b[33myuntaozh\u001b[0m (\u001b[33mzhengyuntao\u001b[0m). Use \u001b[1m`wandb login --relogin`\u001b[0m to force relogin\n"
     ]
    },
    {
     "data": {
      "text/html": [
       "Tracking run with wandb version 0.17.8"
      ],
      "text/plain": [
       "<IPython.core.display.HTML object>"
      ]
     },
     "metadata": {},
     "output_type": "display_data"
    },
    {
     "data": {
      "text/html": [
       "Run data is saved locally in <code>C:\\jupyter file\\CMU_3\\distributed ML\\project\\wandb\\run-20241128_014501-ma87n74g</code>"
      ],
      "text/plain": [
       "<IPython.core.display.HTML object>"
      ]
     },
     "metadata": {},
     "output_type": "display_data"
    },
    {
     "data": {
      "text/html": [
       "Syncing run <strong><a href='https://wandb.ai/zhengyuntao/mmoe/runs/ma87n74g' target=\"_blank\">exp2_topk_mmoe_olmo:batch_size=256_N_epochs=50_lr=0.0001_feature_dim=114_expert_dim=32_n_expert=16_n_activated_expert=4_n_task=2_sparse_load_balancing_loss_coef=0_olmo_load_balancing_loss_coef=1e-05_router_z_loss_coef=1e-05_gate_dropout=0_tower_dropout=0_expert_dropout=0</a></strong> to <a href='https://wandb.ai/zhengyuntao/mmoe' target=\"_blank\">Weights & Biases</a> (<a href='https://wandb.me/run' target=\"_blank\">docs</a>)<br/>"
      ],
      "text/plain": [
       "<IPython.core.display.HTML object>"
      ]
     },
     "metadata": {},
     "output_type": "display_data"
    },
    {
     "data": {
      "text/html": [
       " View project at <a href='https://wandb.ai/zhengyuntao/mmoe' target=\"_blank\">https://wandb.ai/zhengyuntao/mmoe</a>"
      ],
      "text/plain": [
       "<IPython.core.display.HTML object>"
      ]
     },
     "metadata": {},
     "output_type": "display_data"
    },
    {
     "data": {
      "text/html": [
       " View run at <a href='https://wandb.ai/zhengyuntao/mmoe/runs/ma87n74g' target=\"_blank\">https://wandb.ai/zhengyuntao/mmoe/runs/ma87n74g</a>"
      ],
      "text/plain": [
       "<IPython.core.display.HTML object>"
      ]
     },
     "metadata": {},
     "output_type": "display_data"
    },
    {
     "data": {
      "text/html": [
       "<button onClick=\"this.nextSibling.style.display='block';this.style.display='none';\">Display W&B run</button><iframe src='https://wandb.ai/zhengyuntao/mmoe/runs/ma87n74g?jupyter=true' style='border:none;width:100%;height:420px;display:none;'></iframe>"
      ],
      "text/plain": [
       "<wandb.sdk.wandb_run.Run at 0x200ac0c5a10>"
      ]
     },
     "execution_count": 3,
     "metadata": {},
     "output_type": "execute_result"
    }
   ],
   "source": [
    "# 设定各种超参数，wandb日志名，日志存储路径，模型存储路径\n",
    "train_params = {\n",
    "    \"batch_size\": 256,\n",
    "    \"N_epochs\": 50,\n",
    "    \"lr\": 0.0001\n",
    "}\n",
    "\n",
    "# 仅设置dropout\n",
    "model_params={\n",
    "    \"feature_dim\": 114,\n",
    "    \"expert_dim\": 32,\n",
    "    \"n_expert\": 16,\n",
    "    \"n_activated_expert\": 4,\n",
    "    \"n_task\": 2,\n",
    "    \"sparse_load_balancing_loss_coef\": 0,\n",
    "    \"olmo_load_balancing_loss_coef\": 1e-5, # 采用OLMO的load-balancing loss\n",
    "    \"router_z_loss_coef\": 1e-5, # 添加router-z-loss\n",
    "    \"gate_dropout\": 0,\n",
    "    \"tower_dropout\": 0,\n",
    "    \"expert_dropout\": 0\n",
    "}\n",
    "\n",
    "model_name=\"exp2_topk_mmoe_olmo\"\n",
    "if not os.path.exists(\"model/\"+model_name):\n",
    "    os.makedirs(\"model/\"+model_name) \n",
    "\n",
    "train_params_str = \"_\".join(f\"{key}={value}\" for key, value in train_params.items())\n",
    "model_params_str = \"_\".join(f\"{key}={value}\" for key, value in model_params.items())\n",
    "short_model_params_str = \"_\".join(f\"{value}\" for key, value in model_params.items())\n",
    "\n",
    "wandb_name=model_name+\":\"+train_params_str+\"_\"+model_params_str\n",
    "\n",
    "# 使用short_model_params_str是因为windows支持的最长文件名长度仅为260\n",
    "bestmodel_save_dir=f\"model/\"+model_name+\"/\"+train_params_str+\"_\"+short_model_params_str \n",
    "\n",
    "print(wandb_name)\n",
    "print(bestmodel_save_dir)\n",
    "\n",
    "wandb.init(project=\"mmoe\", name=wandb_name)"
   ]
  },
  {
   "cell_type": "code",
   "execution_count": 4,
   "id": "af593b44-aa48-4f35-88df-2165577e1242",
   "metadata": {
    "tags": []
   },
   "outputs": [
    {
     "name": "stdout",
     "output_type": "stream",
     "text": [
      "Number of parameters: 45586\n",
      "Number of parameters in SparseMMoE: 43584\n",
      "Number of activated parameters in SparseMMoE: 10896\n"
     ]
    }
   ],
   "source": [
    "mymodel = TopkMMoE(**model_params)\n",
    "\n",
    "nParams = sum([p.nelement() for p in mymodel.parameters()])\n",
    "print('Number of parameters: %d' % nParams)\n",
    "\n",
    "nParams_in_mmoe=0\n",
    "for name,p in mymodel.named_parameters():\n",
    "    if name.startswith(\"sparse_mmoe\"):\n",
    "        nParams_in_mmoe=nParams_in_mmoe+p.nelement()\n",
    "print('Number of parameters in SparseMMoE: %d' % nParams_in_mmoe)\n",
    "# 相比于MMOE增加了w_noises和b_noises\n",
    "print(f'Number of activated parameters in SparseMMoE: {int(nParams_in_mmoe*model_params[\"n_activated_expert\"]/model_params[\"n_expert\"])}')"
   ]
  },
  {
   "cell_type": "code",
   "execution_count": 5,
   "id": "33fc8dbd-93af-4087-b32a-d0132258ec9f",
   "metadata": {
    "tags": []
   },
   "outputs": [
    {
     "name": "stdout",
     "output_type": "stream",
     "text": [
      "Currently using device:cuda\n",
      "Epoch=0,train_loss=0.8422713279724121,val_loss=0.5829333066940308\n",
      "current epoch is the best so far. Saving model...\n",
      "Epoch=1,train_loss=0.5383756756782532,val_loss=0.4854178726673126\n",
      "current epoch is the best so far. Saving model...\n",
      "Epoch=2,train_loss=0.46644696593284607,val_loss=0.4224870800971985\n",
      "current epoch is the best so far. Saving model...\n",
      "Epoch=3,train_loss=0.41165655851364136,val_loss=0.3869393467903137\n",
      "current epoch is the best so far. Saving model...\n",
      "Epoch=4,train_loss=0.36079922318458557,val_loss=0.3391623795032501\n",
      "current epoch is the best so far. Saving model...\n",
      "Epoch=5,train_loss=0.33329764008522034,val_loss=0.31514275074005127\n",
      "current epoch is the best so far. Saving model...\n",
      "Epoch=6,train_loss=0.32033002376556396,val_loss=0.31100720167160034\n",
      "current epoch is the best so far. Saving model...\n",
      "Epoch=7,train_loss=0.3092286288738251,val_loss=0.2971043288707733\n",
      "current epoch is the best so far. Saving model...\n",
      "Epoch=8,train_loss=0.29959508776664734,val_loss=0.29699814319610596\n",
      "current epoch is the best so far. Saving model...\n",
      "Epoch=9,train_loss=0.2933431565761566,val_loss=0.29300326108932495\n",
      "current epoch is the best so far. Saving model...\n",
      "Epoch=10,train_loss=0.28743091225624084,val_loss=0.28579580783843994\n",
      "current epoch is the best so far. Saving model...\n",
      "Epoch=11,train_loss=0.28213536739349365,val_loss=0.2822827398777008\n",
      "current epoch is the best so far. Saving model...\n",
      "Epoch=12,train_loss=0.2840401530265808,val_loss=0.27870938181877136\n",
      "current epoch is the best so far. Saving model...\n",
      "Epoch=13,train_loss=0.2736676335334778,val_loss=0.28296932578086853\n",
      "Epoch=14,train_loss=0.2757759094238281,val_loss=0.2816812992095947\n",
      "Epoch=15,train_loss=0.2702035903930664,val_loss=0.27420708537101746\n",
      "current epoch is the best so far. Saving model...\n",
      "Epoch=16,train_loss=0.26872044801712036,val_loss=0.2643281817436218\n",
      "current epoch is the best so far. Saving model...\n",
      "Epoch=17,train_loss=0.26815178990364075,val_loss=0.2677887976169586\n",
      "Epoch=18,train_loss=0.2609372138977051,val_loss=0.2669157087802887\n",
      "Epoch=19,train_loss=0.2614421248435974,val_loss=0.26366204023361206\n",
      "current epoch is the best so far. Saving model...\n",
      "Epoch=20,train_loss=0.2597252428531647,val_loss=0.2869487702846527\n",
      "Epoch=21,train_loss=0.2574647068977356,val_loss=0.2767789363861084\n",
      "Epoch=22,train_loss=0.25726547837257385,val_loss=0.40781229734420776\n",
      "Epoch=23,train_loss=0.25724998116493225,val_loss=0.2635745108127594\n",
      "current epoch is the best so far. Saving model...\n",
      "Epoch=24,train_loss=0.24897445738315582,val_loss=0.26860323548316956\n",
      "Epoch=25,train_loss=0.25186458230018616,val_loss=0.2574189305305481\n",
      "current epoch is the best so far. Saving model...\n",
      "Epoch=26,train_loss=0.24946874380111694,val_loss=0.25247541069984436\n",
      "current epoch is the best so far. Saving model...\n",
      "Epoch=27,train_loss=0.2482651025056839,val_loss=0.2634892165660858\n",
      "Epoch=28,train_loss=0.2435644119977951,val_loss=0.2589133679866791\n",
      "Epoch=29,train_loss=0.24493899941444397,val_loss=0.25758856534957886\n",
      "Epoch=30,train_loss=0.2430344820022583,val_loss=0.2581411302089691\n",
      "Epoch=31,train_loss=0.24431605637073517,val_loss=0.2449241280555725\n",
      "current epoch is the best so far. Saving model...\n",
      "Epoch=32,train_loss=0.23931749165058136,val_loss=0.26097723841667175\n",
      "Epoch=33,train_loss=0.23889118432998657,val_loss=0.2581004798412323\n",
      "Epoch=34,train_loss=0.2376556545495987,val_loss=0.2556961178779602\n",
      "Epoch=35,train_loss=0.23741573095321655,val_loss=0.26354101300239563\n",
      "Epoch=36,train_loss=0.23571348190307617,val_loss=0.26184678077697754\n",
      "Epoch=37,train_loss=0.23736518621444702,val_loss=0.26145878434181213\n",
      "Epoch=38,train_loss=0.23382510244846344,val_loss=0.25659435987472534\n",
      "Epoch=39,train_loss=0.23376058042049408,val_loss=0.2536350190639496\n",
      "Epoch=40,train_loss=0.2304733395576477,val_loss=0.2529584467411041\n",
      "Epoch=41,train_loss=0.23120400309562683,val_loss=0.26108866930007935\n",
      "Epoch=42,train_loss=0.22845886647701263,val_loss=0.2539951205253601\n",
      "Epoch=43,train_loss=0.22908733785152435,val_loss=0.25973477959632874\n",
      "Epoch=44,train_loss=0.22960150241851807,val_loss=0.2727181315422058\n",
      "Epoch=45,train_loss=0.22758790850639343,val_loss=0.2721098065376282\n",
      "Epoch=46,train_loss=0.22652597725391388,val_loss=0.2592410743236542\n",
      "Epoch=47,train_loss=0.22818392515182495,val_loss=0.25903400778770447\n",
      "Epoch=48,train_loss=0.22584161162376404,val_loss=0.2626110017299652\n",
      "Epoch=49,train_loss=0.22576341032981873,val_loss=0.26317644119262695\n"
     ]
    }
   ],
   "source": [
    "losses, val_losses, adam_batch_loss= train_TopkMMoE(mymodel,\n",
    "                                           train_dataset,\n",
    "                                           val_dataset,\n",
    "                                           bestmodel_save_dir,\n",
    "                                           **train_params)"
   ]
  },
  {
   "cell_type": "code",
   "execution_count": 6,
   "id": "07be8985-798b-47da-aa00-f79836a6ee4f",
   "metadata": {
    "tags": []
   },
   "outputs": [
    {
     "data": {
      "text/plain": [
       "<All keys matched successfully>"
      ]
     },
     "execution_count": 6,
     "metadata": {},
     "output_type": "execute_result"
    }
   ],
   "source": [
    "# load best model based on validation\n",
    "mybestmodel = TopkMMoE(**model_params)\n",
    "mybestmodel.load_state_dict(torch.load(bestmodel_save_dir))"
   ]
  },
  {
   "cell_type": "code",
   "execution_count": 7,
   "id": "89fdb611-85ee-4def-809e-154933380a03",
   "metadata": {
    "tags": []
   },
   "outputs": [
    {
     "name": "stdout",
     "output_type": "stream",
     "text": [
      "AUC: 0.9764772042578831\n",
      "AUC: 0.9915797080069078\n"
     ]
    }
   ],
   "source": [
    "auc1, auc2=eval_TopkMMoE(mybestmodel, test_dataset)"
   ]
  },
  {
   "cell_type": "code",
   "execution_count": 8,
   "id": "e56974f0-095e-4ba7-a182-042fc24e7f69",
   "metadata": {
    "tags": []
   },
   "outputs": [
    {
     "data": {
      "application/vnd.jupyter.widget-view+json": {
       "model_id": "",
       "version_major": 2,
       "version_minor": 0
      },
      "text/plain": [
       "VBox(children=(Label(value='1.244 MB of 1.244 MB uploaded\\r'), FloatProgress(value=1.0, max=1.0)))"
      ]
     },
     "metadata": {},
     "output_type": "display_data"
    },
    {
     "data": {
      "text/html": [
       "<style>\n",
       "    table.wandb td:nth-child(1) { padding: 0 10px; text-align: left ; width: auto;} td:nth-child(2) {text-align: left ; width: 100%}\n",
       "    .wandb-row { display: flex; flex-direction: row; flex-wrap: wrap; justify-content: flex-start; width: 100% }\n",
       "    .wandb-col { display: flex; flex-direction: column; flex-basis: 100%; flex: 1; padding: 10px; }\n",
       "    </style>\n",
       "<div class=\"wandb-row\"><div class=\"wandb-col\"><h3>Run history:</h3><br/><table class=\"wandb\"><tr><td>load_balancing_loss</td><td>██▇▇▆▅▄▃▃▃▃▂▂▂▂▂▂▂▂▂▂▂▂▂▁▁▁▁▁▁▂▁▁▁▂▁▁▁▁▁</td></tr><tr><td>router_z_loss</td><td>▅▇▄▇▃▂▁▃▆▃▂▁▁▅▃▄▄▅▅▁▃▁▂▁▄▁▄▆▂▅▂█▂▁▁▄▆▄▂▆</td></tr><tr><td>task1_loss</td><td>▄█▄▃▃▂▂▂▃▃▂▂▂▂▂▂▂▂▂▂▂▁▁▁▂▃▃▂▂▂▂▂▂▂▂▂▂▂▃▂</td></tr><tr><td>task2_loss</td><td>█▆▄▂▄▂▂▂▃▂▂▂▂▂▂▂▂▃▁▂▁▂▃▁▁▁▂▃▂▁▂▁▁▂▂▂▂▁▁▂</td></tr><tr><td>task_0/expert_0_weight</td><td>▂▃▁▁▁▁▁▁▁▂▁█▅▄█▆▆▆▇▃▃▄▆▄▃▅▄▄▅▅▂▅▂▄▅▃▂▃▃▂</td></tr><tr><td>task_0/expert_10_weight</td><td>▁▁▁▂█▄▃▅▄▄▆▃▄▄▄▃▄▃▃▃▄▃▃▂▂▃▃▃▃▃▃▃▄▃▃▃▂▃▂▃</td></tr><tr><td>task_0/expert_11_weight</td><td>▁▁▄▄▄▅▇▇██▇▅▆▇▃▅█▇▅▄▇▆▅▄▄▅▅▄▅▄▅▅▂▅▅▅▅▄▇▄</td></tr><tr><td>task_0/expert_12_weight</td><td>▁▁▁▁▂▃▃█▆▆▆▅▆▆▄▅▆▆▅▆▄▅▅▅▆▆▅▆▅▅▄▆▆▅▆▆▅▇▅▆</td></tr><tr><td>task_0/expert_13_weight</td><td>▁▁▁▁▁▁▁▂▆▆▅▆▅▃▂▄▄▄▄▃▃▄▄▄▃▆▅▃▄▅▆▂█▄▄▂▅▃▅▆</td></tr><tr><td>task_0/expert_14_weight</td><td>█▄▁▁▁▁▁▁▁▁▁▁▁▁▁▁▁▁▁▁▁▁▁▁▁▁▁▁▁▁▁▁▁▁▁▁▁▁▁▁</td></tr><tr><td>task_0/expert_15_weight</td><td>▁▁▁▁▁▁█▁▂▃▂▁▂▂▂▂▂▂▂▂▂▂▂▃▂▁▂▂▂▂▂▂▂▂▂▂▂▃▂▃</td></tr><tr><td>task_0/expert_1_weight</td><td>█▃▁▁▁▁▁▁▁▁▁▁▁▁▁▁▁▁▁▁▁▁▁▁▁▁▁▁▁▁▁▁▁▁▁▁▁▁▁▁</td></tr><tr><td>task_0/expert_2_weight</td><td>█▂▁▁▁▁▁▁▁▁▁▁▁▁▁▁▁▁▁▁▁▁▁▁▁▁▁▁▁▁▁▁▁▁▁▁▁▁▁▁</td></tr><tr><td>task_0/expert_3_weight</td><td>▁▁▁▂▆█▅▇▆▅▆▆▄█▅▆▅▇▆▄▅▅▆▆▅▅▅▅▆▅▆▆▄▄▅▅▅▅▄▅</td></tr><tr><td>task_0/expert_4_weight</td><td>▁▁▁▁▄▇█▇▅▅▆▄▅▅▇▇▅▅▇██▇▅▇▅█▅▆▃▅▆▆▇▅▄█▆▅▅▅</td></tr><tr><td>task_0/expert_5_weight</td><td>███▇▅▃▁▁▁▁▁▂▁▁▂▂▂▁▂▂▂▂▂▂▂▂▂▂▂▂▂▂▂▂▂▂▂▂▂▂</td></tr><tr><td>task_0/expert_6_weight</td><td>▁▁▁▁▁█▅▇▅▇▆▅█▅▇█▃▂▄▅▆▅▂▄▄▄▄▄▃▃▄▃▄▃▂▃▃▄▂▃</td></tr><tr><td>task_0/expert_7_weight</td><td>█▅▁▁▁▁▁▁▁▁▁▁▁▁▁▁▁▁▁▁▁▁▁▁▁▁▁▁▁▁▁▁▁▁▁▁▁▁▁▁</td></tr><tr><td>task_0/expert_8_weight</td><td>▁▁▁▁▂▁▂▂▂▂▁▃▂▃▄▂▄▅▆█▃▄▆▄▆▅▅▇▅▇▆▆▅▇▅▇█▄▇▃</td></tr><tr><td>task_0/expert_9_weight</td><td>█▇▁▁▁▁▁▁▁▁▁▁▁▁▁▁▁▁▁▁▁▁▁▁▁▁▁▁▁▁▁▁▁▁▁▁▁▁▁▁</td></tr><tr><td>task_1/expert_0_weight</td><td>▂▁▁▁▄▇▇▅▃▅▅▄▇▅▄▁▃▆▆▅▅▆██▅█▆▅▃▁▁▅▅▅▄▁▁▁▁▇</td></tr><tr><td>task_1/expert_10_weight</td><td>▂█▁▁▁▁▁▁▁▁▁▁▁▁▁▁▁▁▁▁▁▁▁▁▁▁▁▁▁▁▁▁▁▁▁▁▁▁▁▁</td></tr><tr><td>task_1/expert_11_weight</td><td>▁▁▁▁▁▁▁▁▁▁▁▃▄▁▂▄▅▂▂▅▆▅▅▅▄▆▅▆█▅▅▇▅▃▄▆▃▃▅▄</td></tr><tr><td>task_1/expert_12_weight</td><td>█▇▄▅▅▃▂▂▂▃▃▃▃▁▂▂▂▁▂▁▂▁▁▂▃▂▂▁▂▃▃▂▂▂▂▂▃▃▃▃</td></tr><tr><td>task_1/expert_13_weight</td><td>▂▄▁▄▇▆▄▁▁▁▁▁▁▁█▆▃▂▁▁▁▁▁▁▁▁▁▁▁▁▁▁▁▁▁▁▁▁▁▁</td></tr><tr><td>task_1/expert_14_weight</td><td>▁▁▁▁▁▁▁▁▇▄▄▇▂▃▄▃▇▃▂▃▄▆▃▁▃▃▄▃▇▄▆▄▂▄▅▄▃▇█▄</td></tr><tr><td>task_1/expert_15_weight</td><td>▇▄██▅▃▂▂▃▁▂▁▁▂▂▃▂▂▁▂▃▂▂▃▁▃▂▃▂▄▄▂▃▃▂▃▃▂▂▃</td></tr><tr><td>task_1/expert_1_weight</td><td>▂▁▁▁▁▁▁▃▂▆▁▁▇▃▁▄▄▅▆▅▄▅▄▄▄▆▅▅▆▆█▅▆▄▅▃▄▅▅▆</td></tr><tr><td>task_1/expert_2_weight</td><td>▁▁▁▁▁█▇▅▅▄▅▅▅█▇▄▅▅▆▅█▄▄▄▄▄▅▃▃▆▄▃▄▄▄▃▄▄▆▃</td></tr><tr><td>task_1/expert_3_weight</td><td>▃▁▃▄▃▂▆▄▆▃█▅▃▄▄▆▄▄▄▄▄▃▄▄▃▄▂▄▄▃▄▄▄▃▄▆▄▄▃▅</td></tr><tr><td>task_1/expert_4_weight</td><td>▇▅▃▂▂▂▂▁▃▂▃▃▄▂▂▃▂▄▃▂▂▅▄▅▄▄▅▄▂▆▆▅▅▇█▅▅▅▅▅</td></tr><tr><td>task_1/expert_5_weight</td><td>▁▅▄▅▅▇▄█▃▅▂▃▄▂▅▆▇▇▇▇▃█▆▄▆▅▅▆▄▆▅▅▄▇▃▅▅▃▁▃</td></tr><tr><td>task_1/expert_6_weight</td><td>▂▅█▅▆▂▄█▆█▄▄▄▆▃▄▂▆▆▅▃▄▄▃▄▂▂▄▃▄▂▄▂▁▃▂▂▃▄▃</td></tr><tr><td>task_1/expert_7_weight</td><td>▄▆▇██▅▄▅▃▄▄▄▄▅▄▃▄▂▄▄▃▁▂▃▄▃▄▃▃▁▁▄▄▂▂▃▄▄▄▃</td></tr><tr><td>task_1/expert_8_weight</td><td>▅▄▄▂▂▃▃▅▃▆▄▅▃▆▆▆▁▅▅▄▄▄▇▄▆▁▄▆▁▅▁▁▅▆▅▇█▃▃▄</td></tr><tr><td>task_1/expert_9_weight</td><td>█▁▁▁▁▁▁▁▁▁▁▁▁▁▁▁▁▁▁▁▁▁▁▁▁▁▁▁▁▁▁▁▁▁▁▁▁▁▁▁</td></tr><tr><td>train_loss</td><td>█▅▄▃▂▂▂▂▂▂▂▂▂▁▁▁▁▁▁▁▁▁▁▁▁▁▁▁▁▁▁▁▁▁▁▁▁▁▁▁</td></tr><tr><td>val_loss</td><td>█▆▅▄▂▂▂▂▂▂▂▂▂▁▁▁▂▂▄▁▁▁▁▁▁▁▁▁▁▁▁▁▁▁▁▁▂▁▁▁</td></tr></table><br/></div><div class=\"wandb-col\"><h3>Run summary:</h3><br/><table class=\"wandb\"><tr><td>load_balancing_loss</td><td>0.0258</td></tr><tr><td>router_z_loss</td><td>0.0441</td></tr><tr><td>task1_loss</td><td>0.06997</td></tr><tr><td>task2_loss</td><td>0.11355</td></tr><tr><td>task_0/expert_0_weight</td><td>0.02046</td></tr><tr><td>task_0/expert_10_weight</td><td>0.03743</td></tr><tr><td>task_0/expert_11_weight</td><td>0.10549</td></tr><tr><td>task_0/expert_12_weight</td><td>0.15788</td></tr><tr><td>task_0/expert_13_weight</td><td>0.0654</td></tr><tr><td>task_0/expert_14_weight</td><td>0.0</td></tr><tr><td>task_0/expert_15_weight</td><td>0.06475</td></tr><tr><td>task_0/expert_1_weight</td><td>0.0</td></tr><tr><td>task_0/expert_2_weight</td><td>0.0</td></tr><tr><td>task_0/expert_3_weight</td><td>0.09164</td></tr><tr><td>task_0/expert_4_weight</td><td>0.05693</td></tr><tr><td>task_0/expert_5_weight</td><td>0.24307</td></tr><tr><td>task_0/expert_6_weight</td><td>0.05998</td></tr><tr><td>task_0/expert_7_weight</td><td>0.0</td></tr><tr><td>task_0/expert_8_weight</td><td>0.09697</td></tr><tr><td>task_0/expert_9_weight</td><td>0.0</td></tr><tr><td>task_1/expert_0_weight</td><td>0.06224</td></tr><tr><td>task_1/expert_10_weight</td><td>0.0</td></tr><tr><td>task_1/expert_11_weight</td><td>0.06523</td></tr><tr><td>task_1/expert_12_weight</td><td>0.0933</td></tr><tr><td>task_1/expert_13_weight</td><td>0.0</td></tr><tr><td>task_1/expert_14_weight</td><td>0.06366</td></tr><tr><td>task_1/expert_15_weight</td><td>0.07009</td></tr><tr><td>task_1/expert_1_weight</td><td>0.04861</td></tr><tr><td>task_1/expert_2_weight</td><td>0.08357</td></tr><tr><td>task_1/expert_3_weight</td><td>0.11987</td></tr><tr><td>task_1/expert_4_weight</td><td>0.11904</td></tr><tr><td>task_1/expert_5_weight</td><td>0.10036</td></tr><tr><td>task_1/expert_6_weight</td><td>0.06923</td></tr><tr><td>task_1/expert_7_weight</td><td>0.08531</td></tr><tr><td>task_1/expert_8_weight</td><td>0.01947</td></tr><tr><td>task_1/expert_9_weight</td><td>0.0</td></tr><tr><td>train_loss</td><td>0.22576</td></tr><tr><td>val_loss</td><td>0.26318</td></tr></table><br/></div></div>"
      ],
      "text/plain": [
       "<IPython.core.display.HTML object>"
      ]
     },
     "metadata": {},
     "output_type": "display_data"
    },
    {
     "data": {
      "text/html": [
       " View run <strong style=\"color:#cdcd00\">exp2_topk_mmoe_olmo:batch_size=256_N_epochs=50_lr=0.0001_feature_dim=114_expert_dim=32_n_expert=16_n_activated_expert=4_n_task=2_sparse_load_balancing_loss_coef=0_olmo_load_balancing_loss_coef=1e-05_router_z_loss_coef=1e-05_gate_dropout=0_tower_dropout=0_expert_dropout=0</strong> at: <a href='https://wandb.ai/zhengyuntao/mmoe/runs/ma87n74g' target=\"_blank\">https://wandb.ai/zhengyuntao/mmoe/runs/ma87n74g</a><br/> View project at: <a href='https://wandb.ai/zhengyuntao/mmoe' target=\"_blank\">https://wandb.ai/zhengyuntao/mmoe</a><br/>Synced 7 W&B file(s), 0 media file(s), 0 artifact file(s) and 1 other file(s)"
      ],
      "text/plain": [
       "<IPython.core.display.HTML object>"
      ]
     },
     "metadata": {},
     "output_type": "display_data"
    },
    {
     "data": {
      "text/html": [
       "Find logs at: <code>.\\wandb\\run-20241128_014501-ma87n74g\\logs</code>"
      ],
      "text/plain": [
       "<IPython.core.display.HTML object>"
      ]
     },
     "metadata": {},
     "output_type": "display_data"
    },
    {
     "data": {
      "text/html": [
       "The new W&B backend becomes opt-out in version 0.18.0; try it out with `wandb.require(\"core\")`! See https://wandb.me/wandb-core for more information."
      ],
      "text/plain": [
       "<IPython.core.display.HTML object>"
      ]
     },
     "metadata": {},
     "output_type": "display_data"
    }
   ],
   "source": [
    "wandb.finish()"
   ]
  },
  {
   "cell_type": "code",
   "execution_count": null,
   "id": "0195f225-b104-4736-ba42-5604730c31c4",
   "metadata": {},
   "outputs": [],
   "source": []
  }
 ],
 "metadata": {
  "kernelspec": {
   "display_name": "Python 3 (ipykernel)",
   "language": "python",
   "name": "python3"
  },
  "language_info": {
   "codemirror_mode": {
    "name": "ipython",
    "version": 3
   },
   "file_extension": ".py",
   "mimetype": "text/x-python",
   "name": "python",
   "nbconvert_exporter": "python",
   "pygments_lexer": "ipython3",
   "version": "3.11.4"
  }
 },
 "nbformat": 4,
 "nbformat_minor": 5
}
