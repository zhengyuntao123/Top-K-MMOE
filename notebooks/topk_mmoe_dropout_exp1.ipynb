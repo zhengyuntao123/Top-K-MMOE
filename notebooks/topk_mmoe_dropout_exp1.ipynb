{
 "cells": [
  {
   "cell_type": "code",
   "execution_count": 1,
   "id": "17b71820-c9fe-4235-871f-634550a52f10",
   "metadata": {
    "tags": []
   },
   "outputs": [
    {
     "name": "stdout",
     "output_type": "stream",
     "text": [
      "C:\\jupyter file\\CMU_3\\distributed ML\\project\n",
      "WARNING:tensorflow:From C:\\anaconda3\\Lib\\site-packages\\keras\\src\\losses.py:2976: The name tf.losses.sparse_softmax_cross_entropy is deprecated. Please use tf.compat.v1.losses.sparse_softmax_cross_entropy instead.\n",
      "\n"
     ]
    }
   ],
   "source": [
    "%cd ../\n",
    "import pandas as pd\n",
    "from torch.utils.data import Dataset,DataLoader\n",
    "import torch\n",
    "import numpy as np\n",
    "import ast\n",
    "import torch.nn as nn\n",
    "import torch.optim as optim\n",
    "import random\n",
    "from matplotlib import pyplot as plt\n",
    "import os\n",
    "import shutil\n",
    "from datetime import datetime\n",
    "import wandb\n",
    "from utils import set_all_seed, load_exp1_dataset\n",
    "from topk_mmoe import TopkMMoE\n",
    "from trainer_and_evaluator import train_TopkMMoE, eval_TopkMMoE"
   ]
  },
  {
   "cell_type": "code",
   "execution_count": 2,
   "id": "7ca68d7d-d2ae-4f1d-bd9c-b139f48de1c2",
   "metadata": {
    "tags": []
   },
   "outputs": [
    {
     "name": "stdout",
     "output_type": "stream",
     "text": [
      "Absolute Pearson correlation coefficient: 0.17716269850240274\n",
      "P-value: 0.0\n"
     ]
    }
   ],
   "source": [
    "set_all_seed(42)\n",
    "train_dataset, val_dataset, test_dataset = load_exp1_dataset()"
   ]
  },
  {
   "cell_type": "code",
   "execution_count": 3,
   "id": "ca9da1d9-c2cc-40f1-a61f-cfa6d3997de2",
   "metadata": {
    "tags": []
   },
   "outputs": [
    {
     "name": "stdout",
     "output_type": "stream",
     "text": [
      "exp1_topk_mmoe_dropout:batch_size=256_N_epochs=50_lr=0.0001_feature_dim=114_expert_dim=32_n_expert=16_n_activated_expert=4_n_task=2_sparse_load_balancing_loss_coef=0_olmo_load_balancing_loss_coef=0_router_z_loss_coef=0_gate_dropout=0_tower_dropout=0_expert_dropout=0.2\n",
      "model/exp1_topk_mmoe_dropout/batch_size=256_N_epochs=50_lr=0.0001_114_32_16_4_2_0_0_0_0_0_0.2\n"
     ]
    },
    {
     "name": "stderr",
     "output_type": "stream",
     "text": [
      "\u001b[34m\u001b[1mwandb\u001b[0m: Currently logged in as: \u001b[33myuntaozh\u001b[0m (\u001b[33mzhengyuntao\u001b[0m). Use \u001b[1m`wandb login --relogin`\u001b[0m to force relogin\n"
     ]
    },
    {
     "data": {
      "text/html": [
       "Tracking run with wandb version 0.17.8"
      ],
      "text/plain": [
       "<IPython.core.display.HTML object>"
      ]
     },
     "metadata": {},
     "output_type": "display_data"
    },
    {
     "data": {
      "text/html": [
       "Run data is saved locally in <code>C:\\jupyter file\\CMU_3\\distributed ML\\project\\wandb\\run-20241128_014454-ocotdcic</code>"
      ],
      "text/plain": [
       "<IPython.core.display.HTML object>"
      ]
     },
     "metadata": {},
     "output_type": "display_data"
    },
    {
     "data": {
      "text/html": [
       "Syncing run <strong><a href='https://wandb.ai/zhengyuntao/mmoe/runs/ocotdcic' target=\"_blank\">exp1_topk_mmoe_dropout:batch_size=256_N_epochs=50_lr=0.0001_feature_dim=114_expert_dim=32_n_expert=16_n_activated_expert=4_n_task=2_sparse_load_balancing_loss_coef=0_olmo_load_balancing_loss_coef=0_router_z_loss_coef=0_gate_dropout=0_tower_dropout=0_expert_dropout=0.2</a></strong> to <a href='https://wandb.ai/zhengyuntao/mmoe' target=\"_blank\">Weights & Biases</a> (<a href='https://wandb.me/run' target=\"_blank\">docs</a>)<br/>"
      ],
      "text/plain": [
       "<IPython.core.display.HTML object>"
      ]
     },
     "metadata": {},
     "output_type": "display_data"
    },
    {
     "data": {
      "text/html": [
       " View project at <a href='https://wandb.ai/zhengyuntao/mmoe' target=\"_blank\">https://wandb.ai/zhengyuntao/mmoe</a>"
      ],
      "text/plain": [
       "<IPython.core.display.HTML object>"
      ]
     },
     "metadata": {},
     "output_type": "display_data"
    },
    {
     "data": {
      "text/html": [
       " View run at <a href='https://wandb.ai/zhengyuntao/mmoe/runs/ocotdcic' target=\"_blank\">https://wandb.ai/zhengyuntao/mmoe/runs/ocotdcic</a>"
      ],
      "text/plain": [
       "<IPython.core.display.HTML object>"
      ]
     },
     "metadata": {},
     "output_type": "display_data"
    },
    {
     "data": {
      "text/html": [
       "<button onClick=\"this.nextSibling.style.display='block';this.style.display='none';\">Display W&B run</button><iframe src='https://wandb.ai/zhengyuntao/mmoe/runs/ocotdcic?jupyter=true' style='border:none;width:100%;height:420px;display:none;'></iframe>"
      ],
      "text/plain": [
       "<wandb.sdk.wandb_run.Run at 0x184ec0f8850>"
      ]
     },
     "execution_count": 3,
     "metadata": {},
     "output_type": "execute_result"
    }
   ],
   "source": [
    "# 设定各种超参数，wandb日志名，日志存储路径，模型存储路径\n",
    "train_params = {\n",
    "    \"batch_size\": 256,\n",
    "    \"N_epochs\": 50,\n",
    "    \"lr\": 0.0001\n",
    "}\n",
    "\n",
    "# 仅设置dropout\n",
    "model_params={\n",
    "    \"feature_dim\": 114,\n",
    "    \"expert_dim\": 32,\n",
    "    \"n_expert\": 16,\n",
    "    \"n_activated_expert\": 4,\n",
    "    \"n_task\": 2,\n",
    "    \"sparse_load_balancing_loss_coef\": 0,\n",
    "    \"olmo_load_balancing_loss_coef\": 0,\n",
    "    \"router_z_loss_coef\": 0,\n",
    "    \"gate_dropout\": 0,\n",
    "    \"tower_dropout\": 0,\n",
    "    \"expert_dropout\": 0.2\n",
    "}\n",
    "\n",
    "model_name=\"exp1_topk_mmoe_dropout\"\n",
    "if not os.path.exists(\"model/\"+model_name):\n",
    "    os.makedirs(\"model/\"+model_name) \n",
    "\n",
    "train_params_str = \"_\".join(f\"{key}={value}\" for key, value in train_params.items())\n",
    "model_params_str = \"_\".join(f\"{key}={value}\" for key, value in model_params.items())\n",
    "short_model_params_str = \"_\".join(f\"{value}\" for key, value in model_params.items())\n",
    "\n",
    "wandb_name=model_name+\":\"+train_params_str+\"_\"+model_params_str\n",
    "\n",
    "# 使用short_model_params_str是因为windows支持的最长文件名长度仅为260\n",
    "bestmodel_save_dir=f\"model/\"+model_name+\"/\"+train_params_str+\"_\"+short_model_params_str \n",
    "\n",
    "print(wandb_name)\n",
    "print(bestmodel_save_dir)\n",
    "\n",
    "wandb.init(project=\"mmoe\", name=wandb_name)"
   ]
  },
  {
   "cell_type": "code",
   "execution_count": 4,
   "id": "af593b44-aa48-4f35-88df-2165577e1242",
   "metadata": {
    "tags": []
   },
   "outputs": [
    {
     "name": "stdout",
     "output_type": "stream",
     "text": [
      "Number of parameters: 45586\n",
      "Number of parameters in SparseMMoE: 43584\n",
      "Number of activated parameters in SparseMMoE: 10896\n"
     ]
    }
   ],
   "source": [
    "mymodel = TopkMMoE(**model_params)\n",
    "\n",
    "nParams = sum([p.nelement() for p in mymodel.parameters()])\n",
    "print('Number of parameters: %d' % nParams)\n",
    "\n",
    "nParams_in_mmoe=0\n",
    "for name,p in mymodel.named_parameters():\n",
    "    if name.startswith(\"sparse_mmoe\"):\n",
    "        nParams_in_mmoe=nParams_in_mmoe+p.nelement()\n",
    "print('Number of parameters in SparseMMoE: %d' % nParams_in_mmoe)\n",
    "# 相比于MMOE增加了w_noises和b_noises\n",
    "print(f'Number of activated parameters in SparseMMoE: {int(nParams_in_mmoe*model_params[\"n_activated_expert\"]/model_params[\"n_expert\"])}')"
   ]
  },
  {
   "cell_type": "code",
   "execution_count": 5,
   "id": "33fc8dbd-93af-4087-b32a-d0132258ec9f",
   "metadata": {
    "tags": []
   },
   "outputs": [
    {
     "name": "stdout",
     "output_type": "stream",
     "text": [
      "Currently using device:cuda\n",
      "Epoch=0,train_loss=0.8511374592781067,val_loss=0.535780131816864\n",
      "current epoch is the best so far. Saving model...\n",
      "Epoch=1,train_loss=0.5531395077705383,val_loss=0.4611344039440155\n",
      "current epoch is the best so far. Saving model...\n",
      "Epoch=2,train_loss=0.49470704793930054,val_loss=0.4260278642177582\n",
      "current epoch is the best so far. Saving model...\n",
      "Epoch=3,train_loss=0.4503813683986664,val_loss=0.3904240131378174\n",
      "current epoch is the best so far. Saving model...\n",
      "Epoch=4,train_loss=0.4059414863586426,val_loss=0.3733872175216675\n",
      "current epoch is the best so far. Saving model...\n",
      "Epoch=5,train_loss=0.37316104769706726,val_loss=0.3385964035987854\n",
      "current epoch is the best so far. Saving model...\n",
      "Epoch=6,train_loss=0.3437843322753906,val_loss=0.3096078932285309\n",
      "current epoch is the best so far. Saving model...\n",
      "Epoch=7,train_loss=0.3277091383934021,val_loss=0.29977530241012573\n",
      "current epoch is the best so far. Saving model...\n",
      "Epoch=8,train_loss=0.31449761986732483,val_loss=0.29198014736175537\n",
      "current epoch is the best so far. Saving model...\n",
      "Epoch=9,train_loss=0.3041646182537079,val_loss=0.2889055013656616\n",
      "current epoch is the best so far. Saving model...\n",
      "Epoch=10,train_loss=0.3028987646102905,val_loss=0.28830716013908386\n",
      "current epoch is the best so far. Saving model...\n",
      "Epoch=11,train_loss=0.29359474778175354,val_loss=0.27586618065834045\n",
      "current epoch is the best so far. Saving model...\n",
      "Epoch=12,train_loss=0.28392794728279114,val_loss=0.2785230576992035\n",
      "Epoch=13,train_loss=0.2755693793296814,val_loss=0.26705479621887207\n",
      "current epoch is the best so far. Saving model...\n",
      "Epoch=14,train_loss=0.2737060785293579,val_loss=0.26685088872909546\n",
      "current epoch is the best so far. Saving model...\n",
      "Epoch=15,train_loss=0.26890620589256287,val_loss=0.26859399676322937\n",
      "Epoch=16,train_loss=0.26721253991127014,val_loss=0.2751666009426117\n",
      "Epoch=17,train_loss=0.2650136351585388,val_loss=0.2671283781528473\n",
      "Epoch=18,train_loss=0.2594587504863739,val_loss=0.26575523614883423\n",
      "current epoch is the best so far. Saving model...\n",
      "Epoch=19,train_loss=0.2605139911174774,val_loss=0.273641437292099\n",
      "Epoch=20,train_loss=0.2606227397918701,val_loss=0.2891165316104889\n",
      "Epoch=21,train_loss=0.25877276062965393,val_loss=0.32591381669044495\n",
      "Epoch=22,train_loss=0.2567407786846161,val_loss=0.2636588215827942\n",
      "current epoch is the best so far. Saving model...\n",
      "Epoch=23,train_loss=0.24991153180599213,val_loss=0.26576924324035645\n",
      "Epoch=24,train_loss=0.2514666020870209,val_loss=0.2696669101715088\n",
      "Epoch=25,train_loss=0.247866690158844,val_loss=0.2670646905899048\n",
      "Epoch=26,train_loss=0.24423746764659882,val_loss=0.26931214332580566\n",
      "Epoch=27,train_loss=0.244047611951828,val_loss=0.2682220935821533\n",
      "Epoch=28,train_loss=0.24555817246437073,val_loss=0.27704188227653503\n",
      "Epoch=29,train_loss=0.2472120076417923,val_loss=0.2667939364910126\n",
      "Epoch=30,train_loss=0.24049057066440582,val_loss=0.2710411548614502\n",
      "Epoch=31,train_loss=0.24328553676605225,val_loss=0.27245041728019714\n",
      "Epoch=32,train_loss=0.24134765565395355,val_loss=0.27184951305389404\n",
      "Epoch=33,train_loss=0.23971258103847504,val_loss=0.2723833918571472\n",
      "Epoch=34,train_loss=0.23975123465061188,val_loss=0.2800470292568207\n",
      "Epoch=35,train_loss=0.23964923620224,val_loss=0.2707134187221527\n",
      "Epoch=36,train_loss=0.2398119568824768,val_loss=0.2710639238357544\n",
      "Epoch=37,train_loss=0.23739688098430634,val_loss=0.2825416922569275\n",
      "Epoch=38,train_loss=0.23382136225700378,val_loss=0.2773366868495941\n",
      "Epoch=39,train_loss=0.23541539907455444,val_loss=0.27275359630584717\n",
      "Epoch=40,train_loss=0.23193639516830444,val_loss=0.27462321519851685\n",
      "Epoch=41,train_loss=0.23239384591579437,val_loss=0.2711409330368042\n",
      "Epoch=42,train_loss=0.23161430656909943,val_loss=0.2722630798816681\n",
      "Epoch=43,train_loss=0.2337312251329422,val_loss=0.2613196074962616\n",
      "current epoch is the best so far. Saving model...\n",
      "Epoch=44,train_loss=0.23088398575782776,val_loss=0.26394766569137573\n",
      "Epoch=45,train_loss=0.22875840961933136,val_loss=0.26544854044914246\n",
      "Epoch=46,train_loss=0.22806024551391602,val_loss=0.26969581842422485\n",
      "Epoch=47,train_loss=0.22786419093608856,val_loss=0.26690617203712463\n",
      "Epoch=48,train_loss=0.22835572063922882,val_loss=0.25941088795661926\n",
      "current epoch is the best so far. Saving model...\n",
      "Epoch=49,train_loss=0.23075483739376068,val_loss=0.2684866487979889\n"
     ]
    }
   ],
   "source": [
    "losses, val_losses, adam_batch_loss= train_TopkMMoE(mymodel,\n",
    "                                           train_dataset,\n",
    "                                           val_dataset,\n",
    "                                           bestmodel_save_dir,\n",
    "                                           **train_params)"
   ]
  },
  {
   "cell_type": "code",
   "execution_count": 6,
   "id": "07be8985-798b-47da-aa00-f79836a6ee4f",
   "metadata": {
    "tags": []
   },
   "outputs": [
    {
     "data": {
      "text/plain": [
       "<All keys matched successfully>"
      ]
     },
     "execution_count": 6,
     "metadata": {},
     "output_type": "execute_result"
    }
   ],
   "source": [
    "# load best model based on validation\n",
    "mybestmodel = TopkMMoE(**model_params)\n",
    "mybestmodel.load_state_dict(torch.load(bestmodel_save_dir))"
   ]
  },
  {
   "cell_type": "code",
   "execution_count": 7,
   "id": "89fdb611-85ee-4def-809e-154933380a03",
   "metadata": {
    "tags": []
   },
   "outputs": [
    {
     "name": "stdout",
     "output_type": "stream",
     "text": [
      "The history saving thread hit an unexpected error (OperationalError('database is locked')).History will not be written to the database.\n",
      "AUC: 0.9398881470859197\n",
      "AUC: 0.9896809098137342\n"
     ]
    }
   ],
   "source": [
    "auc1, auc2=eval_TopkMMoE(mybestmodel, test_dataset)"
   ]
  },
  {
   "cell_type": "code",
   "execution_count": 8,
   "id": "0195f225-b104-4736-ba42-5604730c31c4",
   "metadata": {},
   "outputs": [
    {
     "data": {
      "application/vnd.jupyter.widget-view+json": {
       "model_id": "",
       "version_major": 2,
       "version_minor": 0
      },
      "text/plain": [
       "VBox(children=(Label(value='1.266 MB of 1.292 MB uploaded\\r'), FloatProgress(value=0.9804389443305424, max=1.0…"
      ]
     },
     "metadata": {},
     "output_type": "display_data"
    },
    {
     "data": {
      "text/html": [
       "<style>\n",
       "    table.wandb td:nth-child(1) { padding: 0 10px; text-align: left ; width: auto;} td:nth-child(2) {text-align: left ; width: 100%}\n",
       "    .wandb-row { display: flex; flex-direction: row; flex-wrap: wrap; justify-content: flex-start; width: 100% }\n",
       "    .wandb-col { display: flex; flex-direction: column; flex-basis: 100%; flex: 1; padding: 10px; }\n",
       "    </style>\n",
       "<div class=\"wandb-row\"><div class=\"wandb-col\"><h3>Run history:</h3><br/><table class=\"wandb\"><tr><td>load_balancing_loss</td><td>▁▁▁▁▁▁▁▁▁▁▁▁▁▁▁▁▁▁▁▁▁▁▁▁▁▁▁▁▁▁▁▁▁▁▁▁▁▁▁▁</td></tr><tr><td>router_z_loss</td><td>▁▁▁▁▁▁▁▁▁▁▁▁▁▁▁▁▁▁▁▁▁▁▁▁▁▁▁▁▁▁▁▁▁▁▁▁▁▁▁▁</td></tr><tr><td>task1_loss</td><td>██▅▃▃▄▃▃▃▃▃▂▃▃▂▂▃▂▃▂▂▃▂▂▂▂▂▄▂▃▁▂▃▂▁▃▁▂▃▂</td></tr><tr><td>task2_loss</td><td>█▇▅▃▄▃▃▂▃▂▂▃▂▂▂▂▂▃▂▂▁▃▃▂▂▁▂▃▂▁▂▁▂▂▂▂▂▂▁▃</td></tr><tr><td>task_0/expert_0_weight</td><td>██▃▁▁▁▂▁▁▁▁▁▁▁▁▁▁▁▁▁▁▁▁▁▁▁▁▁▁▁▁▁▁▁▁▁▁▁▁▁</td></tr><tr><td>task_0/expert_10_weight</td><td>█▂▁▁▁▁▁▁▁▁▁▁▁▁▁▁▁▁▁▁▁▁▁▁▁▁▁▁▁▁▁▁▁▁▁▁▁▁▁▁</td></tr><tr><td>task_0/expert_11_weight</td><td>█▂▁▁▁▁▁▁▁▁▁▁▁▁▁▁▁▁▁▁▁▁▁▁▁▁▁▁▁▁▁▁▁▁▁▁▁▁▁▁</td></tr><tr><td>task_0/expert_12_weight</td><td>▂▃█▁▂▁▁▁▁▁▁▁▁▁▁▁▁▁▁▁▁▁▁▁▁▁▁▁▁▁▁▁▁▁▁▁▁▁▁▁</td></tr><tr><td>task_0/expert_13_weight</td><td>█▁▁▁▁▁▁▁▁▁▁▁▁▁▁▁▁▁▁▁▁▁▁▁▁▁▁▁▁▁▁▁▁▁▁▁▁▁▁▁</td></tr><tr><td>task_0/expert_14_weight</td><td>▁▁▁▁▁▁▁▁▁▁▁▁▁▁▁▁▁▁▁▁▁▁▁▁▁▁▁▁▁▁▁▁▁▁▁▁▁▁▁█</td></tr><tr><td>task_0/expert_15_weight</td><td>█▁▁▁▁▁▁▁▁▁▁▁▁▁▁▁▁▁▁▁▁▁▁▁▁▁▁▁▁▁▁▁▁▁▁▁▁▁▁▁</td></tr><tr><td>task_0/expert_1_weight</td><td>▁▁▁▁▁▃▄▃▄▅▆▄▄▃▄▃▅▆▄▆▄▅▄▄▇█▇▄▄▆▄▄█▆▅▄▆▄▇▃</td></tr><tr><td>task_0/expert_2_weight</td><td>▁▂▁▂▂▂▂▃▂▇▁▃▃▂█▄▃▄▆▅▄▄▄▄▃▃▄▆▄▆▃▆▂▃▅▃▅▆▂▅</td></tr><tr><td>task_0/expert_3_weight</td><td>█▁▁▂▁▁▁▁▁▁▁▁▁▁▁▁▁▁▁▁▁▁▁▁▁▁▁▁▁▁▁▁▁▁▁▁▁▁▁▁</td></tr><tr><td>task_0/expert_4_weight</td><td>▁▁▁▁▁▁▁▁▁▁▁▁▁▁▁▁▁▁▁▁▁▁▄▁▁▁▁▁▁▁▁▁▁▁█▁▁▁▁▁</td></tr><tr><td>task_0/expert_5_weight</td><td>▅▆▅▇▄▆▄▆▇▁▇▆▆█▂▆▆▄▄▃▅▅▅▅▄▄▃▃▅▂▆▄▅▅▂▆▃▃▅▅</td></tr><tr><td>task_0/expert_6_weight</td><td>▇▅▁▁▇▇█▁▁▁▁▁▁▁▁▁▁▁▁▁▁▁▁▁▁▁▁▁▁▁▁▁▁▁▁▁▁▁▁▁</td></tr><tr><td>task_0/expert_7_weight</td><td>█▄▁▁▁▁▁▁▁▁▁▁▁▁▁▁▁▁▁▁▁▁▁▁▁▁▁▁▁▁▁▁▁▁▁▁▁▁▁▁</td></tr><tr><td>task_0/expert_8_weight</td><td>▁▁█▁▁▁▁▁▁▁▁▁▁▁▁▁▁▁▁▁▁▁▁▁▁▁▁▁▁▁▁▁▁▁▁▁▁▁▁▁</td></tr><tr><td>task_0/expert_9_weight</td><td>▆▄▄▄█▃▄▃▁▂▁▁▁▁▁▁▁▁▁▁▁▁▁▁▁▁▁▁▁▁▁▁▁▁▁▁▁▁▁▁</td></tr><tr><td>task_1/expert_0_weight</td><td>█▁▁▁▁▁▁▁▁▁▁▁▁▁▁▁▁▁▁▁▁▁▁▁▁▁▁▁▁▁▁▁▁▁▁▁▁▁▁▁</td></tr><tr><td>task_1/expert_10_weight</td><td>█▃▁▂▁▁▁▁▁▁▁▁▁▁▁▁▁▁▁▁▁▁▁▁▁▁▁▁▁▁▁▁▁▁▁▁▁▁▁▁</td></tr><tr><td>task_1/expert_11_weight</td><td>▁▄▁▅▆▅▂▃▂█▁▁▁▁▁▁▁▁▁▁▁▁▁▁▁▁▁▁▁▁▁▁▁▁▁▁▁▁▁▁</td></tr><tr><td>task_1/expert_12_weight</td><td>▁▁▁▁▁▁▁▁▁▁▁▁▁▁▁▁▁▁▁▁▁▁▁▁▁▁▁▁▁▁▁▁▁▂▃▅▇▃▆█</td></tr><tr><td>task_1/expert_13_weight</td><td>▅▅▄▄▂▂▂▁▄▅▃▅▃▂▄▄▄▄▃▄▅▆▆▇▅▆▆▅▇▆▇▄▅▆▆▆▄▇▇█</td></tr><tr><td>task_1/expert_14_weight</td><td>█▁▁▁▁▁▁▁▁▁▁▁▁▁▁▁▁▁▁▁▁▁▁▁▁▁▁▁▁▁▁▁▁▁▁▁▁▁▁▁</td></tr><tr><td>task_1/expert_15_weight</td><td>▁▄█▂▂▁▁▁▂▁▁▁▁▁▁▁▁▁▁▁▁▁▁▁▁▁▁▁▁▁▁▁▁▁▁▁▁▁▁▁</td></tr><tr><td>task_1/expert_1_weight</td><td>█▂▁▁▁▁▁▁▁▁▁▁▁▁▁▁▁▁▁▁▁▁▁▁▁▁▁▁▁▁▁▁▁▁▁▁▁▁▁▁</td></tr><tr><td>task_1/expert_2_weight</td><td>█▂▂▁▁▁▁▁▁▁▁▁▁▁▁▁▁▁▁▁▁▁▁▁▁▁▁▁▁▁▁▁▁▁▁▁▁▁▁▁</td></tr><tr><td>task_1/expert_3_weight</td><td>█▃▁▁▁▂▂▁▁▁▁▁▁▁▁▁▁▁▁▁▁▁▁▁▁▁▁▁▁▁▁▁▁▁▁▁▁▁▁▁</td></tr><tr><td>task_1/expert_4_weight</td><td>█▁▁▁▁▁▁▁▁▁▁▁▁▁▁▁▁▁▁▁▁▁▁▁▁▁▁▁▁▁▁▁▁▁▁▁▁▁▁▁</td></tr><tr><td>task_1/expert_5_weight</td><td>█▂█▁▁▁▁▁▁▁▁▁▁▁▁▁▁▁▁▁▁▁▁▁▁▁▁▁▁▁▁▁▁▁▁▁▁▁▁▁</td></tr><tr><td>task_1/expert_6_weight</td><td>▄▅▆▅▇▇██▆▅▇▅▆▇▆▆▆▆▇▆▅▅▅▄▅▅▅▅▄▄▄▆▅▄▄▄▄▃▃▁</td></tr><tr><td>task_1/expert_7_weight</td><td>█▂▁▁▁▁▁▁▁▁▁▁▁▁▁▁▁▁▁▁▁▁▁▁▁▁▁▁▁▁▁▁▁▁▁▁▁▁▁▁</td></tr><tr><td>task_1/expert_8_weight</td><td>█▁▁▁▁▁▁▁▁▁▁▁▁▁▁▁▁▁▁▁▁▁▁▁▁▁▁▁▁▁▁▁▁▁▁▁▁▁▁▁</td></tr><tr><td>task_1/expert_9_weight</td><td>█▁▁▁▁▁▁▁▁▁▁▁▁▁▁▁▁▁▁▁▁▁▁▁▁▁▁▁▁▁▁▁▁▁▁▁▁▁▁▁</td></tr><tr><td>train_loss</td><td>█▅▄▃▃▂▂▂▂▂▂▂▁▁▁▁▁▁▁▁▁▁▁▁▁▁▁▁▁▁▁▁▁▁▁▁▁▁▁▁</td></tr><tr><td>val_loss</td><td>█▆▅▄▃▂▂▂▂▁▁▁▁▁▁▁▂▃▁▁▁▁▁▁▁▁▁▁▁▁▂▁▁▁▁▁▁▁▁▁</td></tr></table><br/></div><div class=\"wandb-col\"><h3>Run summary:</h3><br/><table class=\"wandb\"><tr><td>load_balancing_loss</td><td>0.0</td></tr><tr><td>router_z_loss</td><td>0.0</td></tr><tr><td>task1_loss</td><td>0.1508</td></tr><tr><td>task2_loss</td><td>0.1223</td></tr><tr><td>task_0/expert_0_weight</td><td>0.0</td></tr><tr><td>task_0/expert_10_weight</td><td>0.0</td></tr><tr><td>task_0/expert_11_weight</td><td>0.0</td></tr><tr><td>task_0/expert_12_weight</td><td>0.0</td></tr><tr><td>task_0/expert_13_weight</td><td>0.0</td></tr><tr><td>task_0/expert_14_weight</td><td>2e-05</td></tr><tr><td>task_0/expert_15_weight</td><td>0.0</td></tr><tr><td>task_0/expert_1_weight</td><td>0.01875</td></tr><tr><td>task_0/expert_2_weight</td><td>0.03214</td></tr><tr><td>task_0/expert_3_weight</td><td>0.0</td></tr><tr><td>task_0/expert_4_weight</td><td>0.00021</td></tr><tr><td>task_0/expert_5_weight</td><td>0.94888</td></tr><tr><td>task_0/expert_6_weight</td><td>0.0</td></tr><tr><td>task_0/expert_7_weight</td><td>0.0</td></tr><tr><td>task_0/expert_8_weight</td><td>0.0</td></tr><tr><td>task_0/expert_9_weight</td><td>0.0</td></tr><tr><td>task_1/expert_0_weight</td><td>0.0</td></tr><tr><td>task_1/expert_10_weight</td><td>0.0</td></tr><tr><td>task_1/expert_11_weight</td><td>0.0</td></tr><tr><td>task_1/expert_12_weight</td><td>0.07897</td></tr><tr><td>task_1/expert_13_weight</td><td>0.38133</td></tr><tr><td>task_1/expert_14_weight</td><td>0.0</td></tr><tr><td>task_1/expert_15_weight</td><td>0.0</td></tr><tr><td>task_1/expert_1_weight</td><td>0.0</td></tr><tr><td>task_1/expert_2_weight</td><td>0.0</td></tr><tr><td>task_1/expert_3_weight</td><td>0.0</td></tr><tr><td>task_1/expert_4_weight</td><td>0.0</td></tr><tr><td>task_1/expert_5_weight</td><td>0.0</td></tr><tr><td>task_1/expert_6_weight</td><td>0.5397</td></tr><tr><td>task_1/expert_7_weight</td><td>0.0</td></tr><tr><td>task_1/expert_8_weight</td><td>0.0</td></tr><tr><td>task_1/expert_9_weight</td><td>0.0</td></tr><tr><td>train_loss</td><td>0.23075</td></tr><tr><td>val_loss</td><td>0.26849</td></tr></table><br/></div></div>"
      ],
      "text/plain": [
       "<IPython.core.display.HTML object>"
      ]
     },
     "metadata": {},
     "output_type": "display_data"
    },
    {
     "data": {
      "text/html": [
       " View run <strong style=\"color:#cdcd00\">exp1_topk_mmoe_dropout:batch_size=256_N_epochs=50_lr=0.0001_feature_dim=114_expert_dim=32_n_expert=16_n_activated_expert=4_n_task=2_sparse_load_balancing_loss_coef=0_olmo_load_balancing_loss_coef=0_router_z_loss_coef=0_gate_dropout=0_tower_dropout=0_expert_dropout=0.2</strong> at: <a href='https://wandb.ai/zhengyuntao/mmoe/runs/ocotdcic' target=\"_blank\">https://wandb.ai/zhengyuntao/mmoe/runs/ocotdcic</a><br/> View project at: <a href='https://wandb.ai/zhengyuntao/mmoe' target=\"_blank\">https://wandb.ai/zhengyuntao/mmoe</a><br/>Synced 7 W&B file(s), 0 media file(s), 0 artifact file(s) and 1 other file(s)"
      ],
      "text/plain": [
       "<IPython.core.display.HTML object>"
      ]
     },
     "metadata": {},
     "output_type": "display_data"
    },
    {
     "data": {
      "text/html": [
       "Find logs at: <code>.\\wandb\\run-20241128_014454-ocotdcic\\logs</code>"
      ],
      "text/plain": [
       "<IPython.core.display.HTML object>"
      ]
     },
     "metadata": {},
     "output_type": "display_data"
    },
    {
     "data": {
      "text/html": [
       "The new W&B backend becomes opt-out in version 0.18.0; try it out with `wandb.require(\"core\")`! See https://wandb.me/wandb-core for more information."
      ],
      "text/plain": [
       "<IPython.core.display.HTML object>"
      ]
     },
     "metadata": {},
     "output_type": "display_data"
    }
   ],
   "source": [
    "wandb.finish()"
   ]
  }
 ],
 "metadata": {
  "kernelspec": {
   "display_name": "Python 3 (ipykernel)",
   "language": "python",
   "name": "python3"
  },
  "language_info": {
   "codemirror_mode": {
    "name": "ipython",
    "version": 3
   },
   "file_extension": ".py",
   "mimetype": "text/x-python",
   "name": "python",
   "nbconvert_exporter": "python",
   "pygments_lexer": "ipython3",
   "version": "3.11.4"
  }
 },
 "nbformat": 4,
 "nbformat_minor": 5
}
