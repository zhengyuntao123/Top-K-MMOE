{
 "cells": [
  {
   "cell_type": "code",
   "execution_count": 1,
   "id": "17b71820-c9fe-4235-871f-634550a52f10",
   "metadata": {
    "tags": []
   },
   "outputs": [
    {
     "name": "stdout",
     "output_type": "stream",
     "text": [
      "C:\\jupyter file\\CMU_3\\distributed ML\\project\n",
      "WARNING:tensorflow:From C:\\anaconda3\\Lib\\site-packages\\keras\\src\\losses.py:2976: The name tf.losses.sparse_softmax_cross_entropy is deprecated. Please use tf.compat.v1.losses.sparse_softmax_cross_entropy instead.\n",
      "\n"
     ]
    }
   ],
   "source": [
    "%cd ../\n",
    "import pandas as pd\n",
    "from torch.utils.data import Dataset,DataLoader\n",
    "import torch\n",
    "import numpy as np\n",
    "import ast\n",
    "import torch.nn as nn\n",
    "import torch.optim as optim\n",
    "import random\n",
    "from matplotlib import pyplot as plt\n",
    "import os\n",
    "import shutil\n",
    "from datetime import datetime\n",
    "import wandb\n",
    "from utils import set_all_seed, load_exp1_dataset\n",
    "from topk_mmoe import TopkMMoE\n",
    "from trainer_and_evaluator import train_TopkMMoE, eval_TopkMMoE"
   ]
  },
  {
   "cell_type": "code",
   "execution_count": 2,
   "id": "7ca68d7d-d2ae-4f1d-bd9c-b139f48de1c2",
   "metadata": {
    "tags": []
   },
   "outputs": [
    {
     "name": "stdout",
     "output_type": "stream",
     "text": [
      "Absolute Pearson correlation coefficient: 0.17716269850240274\n",
      "P-value: 0.0\n"
     ]
    }
   ],
   "source": [
    "set_all_seed(42)\n",
    "train_dataset, val_dataset, test_dataset = load_exp1_dataset()"
   ]
  },
  {
   "cell_type": "code",
   "execution_count": 3,
   "id": "ca9da1d9-c2cc-40f1-a61f-cfa6d3997de2",
   "metadata": {
    "tags": []
   },
   "outputs": [
    {
     "name": "stdout",
     "output_type": "stream",
     "text": [
      "exp1_topk_mmoe_sparse:batch_size=256_N_epochs=50_lr=0.0001_feature_dim=114_expert_dim=32_n_expert=16_n_activated_expert=4_n_task=2_sparse_load_balancing_loss_coef=0.01_olmo_load_balancing_loss_coef=0_router_z_loss_coef=0_gate_dropout=0_tower_dropout=0_expert_dropout=0\n",
      "model/exp1_topk_mmoe_sparse/batch_size=256_N_epochs=50_lr=0.0001_114_32_16_4_2_0.01_0_0_0_0_0\n"
     ]
    },
    {
     "name": "stderr",
     "output_type": "stream",
     "text": [
      "\u001b[34m\u001b[1mwandb\u001b[0m: Currently logged in as: \u001b[33myuntaozh\u001b[0m (\u001b[33mzhengyuntao\u001b[0m). Use \u001b[1m`wandb login --relogin`\u001b[0m to force relogin\n"
     ]
    },
    {
     "data": {
      "text/html": [
       "Tracking run with wandb version 0.17.8"
      ],
      "text/plain": [
       "<IPython.core.display.HTML object>"
      ]
     },
     "metadata": {},
     "output_type": "display_data"
    },
    {
     "data": {
      "text/html": [
       "Run data is saved locally in <code>C:\\jupyter file\\CMU_3\\distributed ML\\project\\wandb\\run-20241128_174547-ijxfsiqa</code>"
      ],
      "text/plain": [
       "<IPython.core.display.HTML object>"
      ]
     },
     "metadata": {},
     "output_type": "display_data"
    },
    {
     "data": {
      "text/html": [
       "Syncing run <strong><a href='https://wandb.ai/zhengyuntao/mmoe/runs/ijxfsiqa' target=\"_blank\">exp1_topk_mmoe_sparse:batch_size=256_N_epochs=50_lr=0.0001_feature_dim=114_expert_dim=32_n_expert=16_n_activated_expert=4_n_task=2_sparse_load_balancing_loss_coef=0.01_olmo_load_balancing_loss_coef=0_router_z_loss_coef=0_gate_dropout=0_tower_dropout=0_expert_dropout=0</a></strong> to <a href='https://wandb.ai/zhengyuntao/mmoe' target=\"_blank\">Weights & Biases</a> (<a href='https://wandb.me/run' target=\"_blank\">docs</a>)<br/>"
      ],
      "text/plain": [
       "<IPython.core.display.HTML object>"
      ]
     },
     "metadata": {},
     "output_type": "display_data"
    },
    {
     "data": {
      "text/html": [
       " View project at <a href='https://wandb.ai/zhengyuntao/mmoe' target=\"_blank\">https://wandb.ai/zhengyuntao/mmoe</a>"
      ],
      "text/plain": [
       "<IPython.core.display.HTML object>"
      ]
     },
     "metadata": {},
     "output_type": "display_data"
    },
    {
     "data": {
      "text/html": [
       " View run at <a href='https://wandb.ai/zhengyuntao/mmoe/runs/ijxfsiqa' target=\"_blank\">https://wandb.ai/zhengyuntao/mmoe/runs/ijxfsiqa</a>"
      ],
      "text/plain": [
       "<IPython.core.display.HTML object>"
      ]
     },
     "metadata": {},
     "output_type": "display_data"
    },
    {
     "data": {
      "text/html": [
       "<button onClick=\"this.nextSibling.style.display='block';this.style.display='none';\">Display W&B run</button><iframe src='https://wandb.ai/zhengyuntao/mmoe/runs/ijxfsiqa?jupyter=true' style='border:none;width:100%;height:420px;display:none;'></iframe>"
      ],
      "text/plain": [
       "<wandb.sdk.wandb_run.Run at 0x1d9ae514050>"
      ]
     },
     "execution_count": 3,
     "metadata": {},
     "output_type": "execute_result"
    }
   ],
   "source": [
    "# 设定各种超参数，wandb日志名，日志存储路径，模型存储路径\n",
    "train_params = {\n",
    "    \"batch_size\": 256,\n",
    "    \"N_epochs\": 50,\n",
    "    \"lr\": 0.0001\n",
    "}\n",
    "\n",
    "# 仅设置dropout\n",
    "model_params={\n",
    "    \"feature_dim\": 114,\n",
    "    \"expert_dim\": 32,\n",
    "    \"n_expert\": 16,\n",
    "    \"n_activated_expert\": 4,\n",
    "    \"n_task\": 2,\n",
    "    \"sparse_load_balancing_loss_coef\": 1e-2, # 仅设置sparse_load_balancing_loss_coef\n",
    "    \"olmo_load_balancing_loss_coef\": 0,\n",
    "    \"router_z_loss_coef\": 0,\n",
    "    \"gate_dropout\": 0,\n",
    "    \"tower_dropout\": 0,\n",
    "    \"expert_dropout\": 0\n",
    "}\n",
    "\n",
    "model_name=\"exp1_topk_mmoe_sparse\"\n",
    "if not os.path.exists(\"model/\"+model_name):\n",
    "    os.makedirs(\"model/\"+model_name) \n",
    "\n",
    "train_params_str = \"_\".join(f\"{key}={value}\" for key, value in train_params.items())\n",
    "model_params_str = \"_\".join(f\"{key}={value}\" for key, value in model_params.items())\n",
    "short_model_params_str = \"_\".join(f\"{value}\" for key, value in model_params.items())\n",
    "\n",
    "wandb_name=model_name+\":\"+train_params_str+\"_\"+model_params_str\n",
    "\n",
    "# 使用short_model_params_str是因为windows支持的最长文件名长度仅为260\n",
    "bestmodel_save_dir=f\"model/\"+model_name+\"/\"+train_params_str+\"_\"+short_model_params_str \n",
    "\n",
    "print(wandb_name)\n",
    "print(bestmodel_save_dir)\n",
    "\n",
    "wandb.init(project=\"mmoe\", name=wandb_name)"
   ]
  },
  {
   "cell_type": "code",
   "execution_count": 4,
   "id": "af593b44-aa48-4f35-88df-2165577e1242",
   "metadata": {
    "tags": []
   },
   "outputs": [
    {
     "name": "stdout",
     "output_type": "stream",
     "text": [
      "Number of parameters: 45586\n",
      "Number of parameters in SparseMMoE: 43584\n",
      "Number of activated parameters in SparseMMoE: 10896\n"
     ]
    }
   ],
   "source": [
    "mymodel = TopkMMoE(**model_params)\n",
    "\n",
    "nParams = sum([p.nelement() for p in mymodel.parameters()])\n",
    "print('Number of parameters: %d' % nParams)\n",
    "\n",
    "nParams_in_mmoe=0\n",
    "for name,p in mymodel.named_parameters():\n",
    "    if name.startswith(\"sparse_mmoe\"):\n",
    "        nParams_in_mmoe=nParams_in_mmoe+p.nelement()\n",
    "print('Number of parameters in SparseMMoE: %d' % nParams_in_mmoe)\n",
    "# 相比于MMOE增加了w_noises和b_noises\n",
    "print(f'Number of activated parameters in SparseMMoE: {int(nParams_in_mmoe*model_params[\"n_activated_expert\"]/model_params[\"n_expert\"])}')"
   ]
  },
  {
   "cell_type": "code",
   "execution_count": 5,
   "id": "33fc8dbd-93af-4087-b32a-d0132258ec9f",
   "metadata": {
    "tags": []
   },
   "outputs": [
    {
     "name": "stdout",
     "output_type": "stream",
     "text": [
      "Currently using device:cuda\n",
      "Epoch=0,train_loss=0.8658612370491028,val_loss=0.5418933033943176\n",
      "current epoch is the best so far. Saving model...\n",
      "Epoch=1,train_loss=0.4572790861129761,val_loss=0.3819572627544403\n",
      "current epoch is the best so far. Saving model...\n",
      "Epoch=2,train_loss=0.3654945492744446,val_loss=0.3548054099082947\n",
      "current epoch is the best so far. Saving model...\n",
      "Epoch=3,train_loss=0.33893832564353943,val_loss=0.34793978929519653\n",
      "current epoch is the best so far. Saving model...\n",
      "Epoch=4,train_loss=0.32202765345573425,val_loss=0.3232409358024597\n",
      "current epoch is the best so far. Saving model...\n",
      "Epoch=5,train_loss=0.3130233585834503,val_loss=0.2930082380771637\n",
      "current epoch is the best so far. Saving model...\n",
      "Epoch=6,train_loss=0.29875388741493225,val_loss=0.2896726131439209\n",
      "current epoch is the best so far. Saving model...\n",
      "Epoch=7,train_loss=0.29370489716529846,val_loss=0.288154661655426\n",
      "current epoch is the best so far. Saving model...\n",
      "Epoch=8,train_loss=0.2878667712211609,val_loss=0.2865440845489502\n",
      "current epoch is the best so far. Saving model...\n",
      "Epoch=9,train_loss=0.28352904319763184,val_loss=0.2835940718650818\n",
      "current epoch is the best so far. Saving model...\n",
      "Epoch=10,train_loss=0.2755286991596222,val_loss=0.2854314148426056\n",
      "Epoch=11,train_loss=0.2732507586479187,val_loss=0.27678319811820984\n",
      "current epoch is the best so far. Saving model...\n",
      "Epoch=12,train_loss=0.27792036533355713,val_loss=0.28447631001472473\n",
      "Epoch=13,train_loss=0.2695152461528778,val_loss=0.2745252251625061\n",
      "current epoch is the best so far. Saving model...\n",
      "Epoch=14,train_loss=0.2725568115711212,val_loss=0.2665695548057556\n",
      "current epoch is the best so far. Saving model...\n",
      "Epoch=15,train_loss=0.26700058579444885,val_loss=0.27810534834861755\n",
      "Epoch=16,train_loss=0.2611388564109802,val_loss=0.261276513338089\n",
      "current epoch is the best so far. Saving model...\n",
      "Epoch=17,train_loss=0.25841569900512695,val_loss=0.26950398087501526\n",
      "Epoch=18,train_loss=0.25924086570739746,val_loss=0.2710614502429962\n",
      "Epoch=19,train_loss=0.25985342264175415,val_loss=0.2681632936000824\n",
      "Epoch=20,train_loss=0.2577662169933319,val_loss=0.2753307819366455\n",
      "Epoch=21,train_loss=0.25371813774108887,val_loss=0.28694233298301697\n",
      "Epoch=22,train_loss=0.25181475281715393,val_loss=0.2651646137237549\n",
      "Epoch=23,train_loss=0.2525641620159149,val_loss=0.2629108130931854\n",
      "Epoch=24,train_loss=0.25167274475097656,val_loss=0.2712571620941162\n",
      "Epoch=25,train_loss=0.2506358027458191,val_loss=0.2680835425853729\n",
      "Epoch=26,train_loss=0.24775896966457367,val_loss=0.2678033411502838\n",
      "Epoch=27,train_loss=0.2442043125629425,val_loss=0.27266770601272583\n",
      "Epoch=28,train_loss=0.2463955581188202,val_loss=0.26066097617149353\n",
      "current epoch is the best so far. Saving model...\n",
      "Epoch=29,train_loss=0.24332520365715027,val_loss=0.25895968079566956\n",
      "current epoch is the best so far. Saving model...\n",
      "Epoch=30,train_loss=0.24369660019874573,val_loss=0.2601773142814636\n",
      "Epoch=31,train_loss=0.24265998601913452,val_loss=0.27010464668273926\n",
      "Epoch=32,train_loss=0.24491940438747406,val_loss=0.274973064661026\n",
      "Epoch=33,train_loss=0.24132506549358368,val_loss=0.26746129989624023\n",
      "Epoch=34,train_loss=0.2426709085702896,val_loss=0.26592639088630676\n",
      "Epoch=35,train_loss=0.23875726759433746,val_loss=0.2688579559326172\n",
      "Epoch=36,train_loss=0.23645836114883423,val_loss=0.26545828580856323\n",
      "Epoch=37,train_loss=0.23498280346393585,val_loss=0.26535525918006897\n",
      "Epoch=38,train_loss=0.2352454960346222,val_loss=0.26792556047439575\n",
      "Epoch=39,train_loss=0.23679405450820923,val_loss=0.2819104492664337\n",
      "Epoch=40,train_loss=0.3076600134372711,val_loss=0.2666504383087158\n",
      "Epoch=41,train_loss=0.25395503640174866,val_loss=0.28632697463035583\n",
      "Epoch=42,train_loss=0.2571498453617096,val_loss=0.2776714563369751\n",
      "Epoch=43,train_loss=0.2358040064573288,val_loss=0.2702193558216095\n",
      "Epoch=44,train_loss=0.23802348971366882,val_loss=0.27545928955078125\n",
      "Epoch=45,train_loss=0.2353975921869278,val_loss=0.26714417338371277\n",
      "Epoch=46,train_loss=0.23133918642997742,val_loss=0.2725193500518799\n",
      "Epoch=47,train_loss=0.23181119561195374,val_loss=0.2769383490085602\n",
      "Epoch=48,train_loss=0.2307891845703125,val_loss=0.26336994767189026\n",
      "Epoch=49,train_loss=0.2315194010734558,val_loss=0.2767140567302704\n"
     ]
    }
   ],
   "source": [
    "losses, val_losses, adam_batch_loss= train_TopkMMoE(mymodel,\n",
    "                                           train_dataset,\n",
    "                                           val_dataset,\n",
    "                                           bestmodel_save_dir,\n",
    "                                           **train_params)"
   ]
  },
  {
   "cell_type": "code",
   "execution_count": 6,
   "id": "07be8985-798b-47da-aa00-f79836a6ee4f",
   "metadata": {
    "tags": []
   },
   "outputs": [
    {
     "data": {
      "text/plain": [
       "<All keys matched successfully>"
      ]
     },
     "execution_count": 6,
     "metadata": {},
     "output_type": "execute_result"
    }
   ],
   "source": [
    "# load best model based on validation\n",
    "mybestmodel = TopkMMoE(**model_params)\n",
    "mybestmodel.load_state_dict(torch.load(bestmodel_save_dir))"
   ]
  },
  {
   "cell_type": "code",
   "execution_count": 7,
   "id": "89fdb611-85ee-4def-809e-154933380a03",
   "metadata": {
    "tags": []
   },
   "outputs": [
    {
     "name": "stdout",
     "output_type": "stream",
     "text": [
      "AUC: 0.9352865428508451\n",
      "AUC: 0.9902068439189818\n"
     ]
    }
   ],
   "source": [
    "auc1, auc2=eval_TopkMMoE(mybestmodel, test_dataset)"
   ]
  },
  {
   "cell_type": "code",
   "execution_count": 8,
   "id": "e56974f0-095e-4ba7-a182-042fc24e7f69",
   "metadata": {
    "tags": []
   },
   "outputs": [
    {
     "data": {
      "application/vnd.jupyter.widget-view+json": {
       "model_id": "",
       "version_major": 2,
       "version_minor": 0
      },
      "text/plain": [
       "VBox(children=(Label(value='0.001 MB of 0.001 MB uploaded\\r'), FloatProgress(value=1.0, max=1.0)))"
      ]
     },
     "metadata": {},
     "output_type": "display_data"
    },
    {
     "data": {
      "text/html": [
       "<style>\n",
       "    table.wandb td:nth-child(1) { padding: 0 10px; text-align: left ; width: auto;} td:nth-child(2) {text-align: left ; width: 100%}\n",
       "    .wandb-row { display: flex; flex-direction: row; flex-wrap: wrap; justify-content: flex-start; width: 100% }\n",
       "    .wandb-col { display: flex; flex-direction: column; flex-basis: 100%; flex: 1; padding: 10px; }\n",
       "    </style>\n",
       "<div class=\"wandb-row\"><div class=\"wandb-col\"><h3>Run history:</h3><br/><table class=\"wandb\"><tr><td>load_balancing_loss</td><td>█▆▃▄▃▂▂▂▂▂▂▂▂▁▂▂▂▂▁▂▁▁▁▂▁▂▂▂▂▁▁▁▁▁▁▁▁▁▁▁</td></tr><tr><td>router_z_loss</td><td>▁▁▁▁▁▁▁▁▁▁▁▁▁▁▁▁▁▁▁▁▁▁▁▁▁▁▁▁▁▁▁▁▁▁▁▁▁▁▁▁</td></tr><tr><td>task1_AUC</td><td>▁</td></tr><tr><td>task1_loss</td><td>█▆▄▂▃▃▃▃▄▃▃▃▃▃▂▂▃▂▄▃▂▃▂▃▂▃▂▄▃▄▁▃▃▁▁▄▁▂▄▂</td></tr><tr><td>task2_AUC</td><td>▁</td></tr><tr><td>task2_loss</td><td>█▇▄▃▄▃▂▂▃▂▂▃▂▂▃▂▂▃▁▂▁▃▃▁▁▂▂▄▁▂▂▁▁▂▂▂▃▁▂▂</td></tr><tr><td>task_0/expert_0_weight</td><td>▃▅▄█▆▄▅▄▅▄▇▃▆▄▅▄▄▆▆▄▃▆▆▅▆▁▁▁▁▁▁▁▂▁▁▁▁▁▁▁</td></tr><tr><td>task_0/expert_10_weight</td><td>▇▁▁▁▁▁▁▁▁▁▁▁▁▁▁▁▁▁▁▁▁▁▁▁▁▂▁▄▄▅▄█▆▅▅▅▆▄▆▄</td></tr><tr><td>task_0/expert_11_weight</td><td>▄▄▆▄▅▂▃▄▅▇▆▄▆▆▃▁▄▅▅▆▄▃▅▅▃▂▄▄▇▁▃▆▃█▅▅▅▅▆▅</td></tr><tr><td>task_0/expert_12_weight</td><td>█▂▃▄▄▃▄▃▄▃▃▅▄▄▁▁▁▃▁▁▄▄▄▄▄▄▄▄▄▅▅▃▄▅▄▄▄▄▄▅</td></tr><tr><td>task_0/expert_13_weight</td><td>▁▅▆▇▁▁▄▄▂▃▂▅▅▅▄▅▃▄▃▅▇▃▄▄▃▄▃▄▃▄▂▃▇▄▅▄▅▂█▃</td></tr><tr><td>task_0/expert_14_weight</td><td>▁▃▄▁▃▇▅▅▅▅▅▆▆▄▆▆▆▆▅▄▅▅▅▅▅█▇▆▅▅▆█▅▅▆▆██▆▇</td></tr><tr><td>task_0/expert_15_weight</td><td>▁▇▇▅▅▃▄▅▅▁█▅▄▇▆▃▆▄▆▆▆▄▄▃▅▅▄▅▂▄▆▂▃▁▂▃▃▃▃▂</td></tr><tr><td>task_0/expert_1_weight</td><td>▁▃▅▅▄▄▇▄▅▅▅▅▃▃▄▇▃▄▃▄▄▄▄▅▅▆▆▄▄▃▅▇▅▆▃█▆▅▄▆</td></tr><tr><td>task_0/expert_2_weight</td><td>▁▄▂▂▆▃▂▅▃▇▃▁▂▂█▅█▄▆▄▄█▄▆▄▅▅▅▅▅▂▄▂▆▅▆▄▆▆▅</td></tr><tr><td>task_0/expert_3_weight</td><td>▂▁▁▁▁▂▁▁▁▁▁▂▁▁▁▁▁▂▃▆▃▂▃▅▄▄▃▃▅▃▅▅▆█▆▄▆▅▅▅</td></tr><tr><td>task_0/expert_4_weight</td><td>▁▅▅▆▅▃▃▂▄▃▃▇▅▄▄█▄▃▅▅▄▅▂▆▃▅▄▄▄▇▅▆▅▄▅▇▄▇▄▅</td></tr><tr><td>task_0/expert_5_weight</td><td>█▅▃▃▃▃▃▃▃▃▃▁▁▃▃▃▄▂▃▃▃▃▃▁▃▂▃▂▃▃▄▁▁▁▁▁▁▁▁▁</td></tr><tr><td>task_0/expert_6_weight</td><td>██▄▄▄▃▂▂▄▅▂▄▄▃▁▂▃▂▂▃▄▂▃▄▁▂▃▂▃▂▂▂▃▂▃▂▂▃▃▃</td></tr><tr><td>task_0/expert_7_weight</td><td>▂▁▁▃▄▇▅▆▂▆▃▆▆▄█▅▆▇▆▅▄▅▇▄▅▆▆▅▄▅▄▅▄▄▄▅▄▅▃▅</td></tr><tr><td>task_0/expert_8_weight</td><td>▄▁▂▁▃█▄▆▅▄▄▅▃▆▃▅▄▃▄▃▄▃▃▃▄▃▃▄▄▂▃▄▄▃▄▃▄▃▃▄</td></tr><tr><td>task_0/expert_9_weight</td><td>▁▇█▄▇▄▆▆▅▄▇▃▆▅▆▄▅▆▅▆▄▅▅▅▆▅▅▆▃▅▅▄▅▄▅▄▅▃▅▄</td></tr><tr><td>task_0/expert_weight_variance</td><td>█▄▂▂▂▂▁▂▁▂▂▂▂▂▂▂▂▁▂▁▁▁▁▂▁▁▁▁▁▁▁▂▁▂▁▂▁▂▂▁</td></tr><tr><td>task_1/expert_0_weight</td><td>▅▁▃▁▃▆▆▆▅▆▆▁▆▅▆▁█▆▅▅▆▇▆▆▇▂▇▆██▇▅█▅▆▇▇▇▇▇</td></tr><tr><td>task_1/expert_10_weight</td><td>▁▄▄▂▁▁▁▁▁▁▇█▅▅▆▇▄█▆▅▅▇▇▇▇▇▅▅▇▆▇▅▆▇▆▆▇▆▆▆</td></tr><tr><td>task_1/expert_11_weight</td><td>▁▁▁▁▁▁▁▁▄▄▆▅▆█▄█▄▆▄▅▅▆▆▅▆▅▄▄▅▅▄▆▅▆▄▅▃█▆▄</td></tr><tr><td>task_1/expert_12_weight</td><td>█▅▃▃▃▃▃▂▃▂▂▃▂▁▁▂▂▁▁▁▂▃▂▂▁▃▂▂▂▁▂▂▂▃▂▁▂▂▁▃</td></tr><tr><td>task_1/expert_13_weight</td><td>▁▃▂█▄▅▃▅▆▃▆▃▃▆▅▆▆▇▄▅▆▅▆▃▅▇▅▅▅▆▆▅▅▄▄▅▆▆▅▃</td></tr><tr><td>task_1/expert_14_weight</td><td>▁█▄▅▅▄▃▄▆▄▅▇▅▅▅▅▅▃▄▄▄▅▅▅▆▄▅▄▅▄▄▄▃▆▅▄▄▅▅▅</td></tr><tr><td>task_1/expert_15_weight</td><td>▁█▇▃▄▄▇▃▄▆▄▃▆▃▄▃▄▄▅▃▅▃▃▃▃▃▄▅▃▄▄▃▄▃▄▄▂▃▅▄</td></tr><tr><td>task_1/expert_1_weight</td><td>▁▁█▅▃▅▁▅▄▃▅▃▂▅▅▅▇▃▇▅▅▅▄▅▅▅▃▄▂▇▅▅▅▄▄▄▆▃▃▄</td></tr><tr><td>task_1/expert_2_weight</td><td>▁▆█▅▄▄▄▄▄▄▆▃▇▃▄▄▄▄▅▆▅▅▅▄▃▅▆▄▅▁▄▅▅▅▅▄▅▄▄▄</td></tr><tr><td>task_1/expert_3_weight</td><td>▁▁▆▅▆▁▆▇▆▄▄▇▄▆▅▅▄▆▆█▆▄█▅▃▅▆▆█▄▅▄▅▄▄▅▃▅▅▇</td></tr><tr><td>task_1/expert_4_weight</td><td>█▅▃▂▄▂▃▃▃▃▂▃▄▄▄▄▃▃▃▄▄▃▄▂▅▃▃▄▃▁▃▅▃▃▃▃▃▃▃▃</td></tr><tr><td>task_1/expert_5_weight</td><td>▃▁▁▁▁▃▇█▄▅▁▃▃▅▄▄▄▅▅▄▄▄▃▅▄▄▃▅▆▅▇▄▅▄▅▅▃▄▆▄</td></tr><tr><td>task_1/expert_6_weight</td><td>▇▅▄▃█▆▅▄▄▆▅▄▂▃▂▂▁▂▁▂▃▃▁▃▃▂▁▁▁▁▁▁▄▃▅▆▆▃▃▄</td></tr><tr><td>task_1/expert_7_weight</td><td>▅█▄▄▄▇▅█▅▃▅█▂▆▅▄▆▅▅▃▃▆▁▇▆▇▆▅▂█▃▇▅▅▅▆▅▆▄▅</td></tr><tr><td>task_1/expert_8_weight</td><td>█▃▂▄▃▃▃▄▃▅▁▄▁▁▁▁▁▁▁▁▁▁▁▁▁▁▁▁▁▁▁▁▁▁▁▁▁▁▁▁</td></tr><tr><td>task_1/expert_9_weight</td><td>▆▃▂▇█▆▄▃▃▄▄▃▄▂▃▂▂▃▃▃▂▂▂▃▁▂▄▃▄▄▁▂▂▃▃▃▄▂▃▂</td></tr><tr><td>task_1/expert_weight_variance</td><td>█▄▄▄▄▃▂▂▁▁▂▂▂▂▁▂▂▂▂▂▂▂▂▁▂▂▂▂▂▃▂▂▁▁▁▁▂▂▁▂</td></tr><tr><td>train_loss</td><td>█▃▂▂▂▂▂▂▁▁▂▁▁▁▁▁▁▁▁▁▁▁▁▁▁▁▁▁▁▁▁▁▂▁▁▁▁▁▁▁</td></tr><tr><td>val_loss</td><td>█▄▃▃▂▂▂▂▂▁▂▁▁▁▁▁▁▂▁▁▁▁▁▁▁▁▁▁▁▁▁▁▁▂▁▁▁▁▁▁</td></tr></table><br/></div><div class=\"wandb-col\"><h3>Run summary:</h3><br/><table class=\"wandb\"><tr><td>load_balancing_loss</td><td>0.00565</td></tr><tr><td>router_z_loss</td><td>0.0</td></tr><tr><td>task1_AUC</td><td>0.93529</td></tr><tr><td>task1_loss</td><td>0.13344</td></tr><tr><td>task2_AUC</td><td>0.99021</td></tr><tr><td>task2_loss</td><td>0.11513</td></tr><tr><td>task_0/expert_0_weight</td><td>0.08519</td></tr><tr><td>task_0/expert_10_weight</td><td>0.00026</td></tr><tr><td>task_0/expert_11_weight</td><td>0.05899</td></tr><tr><td>task_0/expert_12_weight</td><td>0.07231</td></tr><tr><td>task_0/expert_13_weight</td><td>0.02742</td></tr><tr><td>task_0/expert_14_weight</td><td>0.07726</td></tr><tr><td>task_0/expert_15_weight</td><td>0.06778</td></tr><tr><td>task_0/expert_1_weight</td><td>0.0544</td></tr><tr><td>task_0/expert_2_weight</td><td>0.06754</td></tr><tr><td>task_0/expert_3_weight</td><td>0.06971</td></tr><tr><td>task_0/expert_4_weight</td><td>0.05881</td></tr><tr><td>task_0/expert_5_weight</td><td>0.0624</td></tr><tr><td>task_0/expert_6_weight</td><td>0.05268</td></tr><tr><td>task_0/expert_7_weight</td><td>0.07097</td></tr><tr><td>task_0/expert_8_weight</td><td>0.08788</td></tr><tr><td>task_0/expert_9_weight</td><td>0.08641</td></tr><tr><td>task_0/expert_weight_variance</td><td>0.0005</td></tr><tr><td>task_1/expert_0_weight</td><td>0.06395</td></tr><tr><td>task_1/expert_10_weight</td><td>0.0726</td></tr><tr><td>task_1/expert_11_weight</td><td>0.1092</td></tr><tr><td>task_1/expert_12_weight</td><td>0.05259</td></tr><tr><td>task_1/expert_13_weight</td><td>0.05979</td></tr><tr><td>task_1/expert_14_weight</td><td>0.08369</td></tr><tr><td>task_1/expert_15_weight</td><td>0.04545</td></tr><tr><td>task_1/expert_1_weight</td><td>0.11968</td></tr><tr><td>task_1/expert_2_weight</td><td>0.06801</td></tr><tr><td>task_1/expert_3_weight</td><td>0.06109</td></tr><tr><td>task_1/expert_4_weight</td><td>0.08586</td></tr><tr><td>task_1/expert_5_weight</td><td>0.04865</td></tr><tr><td>task_1/expert_6_weight</td><td>0.00458</td></tr><tr><td>task_1/expert_7_weight</td><td>0.10712</td></tr><tr><td>task_1/expert_8_weight</td><td>0.0</td></tr><tr><td>task_1/expert_9_weight</td><td>0.01774</td></tr><tr><td>task_1/expert_weight_variance</td><td>0.00123</td></tr><tr><td>train_loss</td><td>0.23152</td></tr><tr><td>val_loss</td><td>0.27671</td></tr></table><br/></div></div>"
      ],
      "text/plain": [
       "<IPython.core.display.HTML object>"
      ]
     },
     "metadata": {},
     "output_type": "display_data"
    },
    {
     "data": {
      "text/html": [
       " View run <strong style=\"color:#cdcd00\">exp1_topk_mmoe_sparse:batch_size=256_N_epochs=50_lr=0.0001_feature_dim=114_expert_dim=32_n_expert=16_n_activated_expert=4_n_task=2_sparse_load_balancing_loss_coef=0.01_olmo_load_balancing_loss_coef=0_router_z_loss_coef=0_gate_dropout=0_tower_dropout=0_expert_dropout=0</strong> at: <a href='https://wandb.ai/zhengyuntao/mmoe/runs/ijxfsiqa' target=\"_blank\">https://wandb.ai/zhengyuntao/mmoe/runs/ijxfsiqa</a><br/> View project at: <a href='https://wandb.ai/zhengyuntao/mmoe' target=\"_blank\">https://wandb.ai/zhengyuntao/mmoe</a><br/>Synced 6 W&B file(s), 0 media file(s), 0 artifact file(s) and 1 other file(s)"
      ],
      "text/plain": [
       "<IPython.core.display.HTML object>"
      ]
     },
     "metadata": {},
     "output_type": "display_data"
    },
    {
     "data": {
      "text/html": [
       "Find logs at: <code>.\\wandb\\run-20241128_174547-ijxfsiqa\\logs</code>"
      ],
      "text/plain": [
       "<IPython.core.display.HTML object>"
      ]
     },
     "metadata": {},
     "output_type": "display_data"
    },
    {
     "data": {
      "text/html": [
       "The new W&B backend becomes opt-out in version 0.18.0; try it out with `wandb.require(\"core\")`! See https://wandb.me/wandb-core for more information."
      ],
      "text/plain": [
       "<IPython.core.display.HTML object>"
      ]
     },
     "metadata": {},
     "output_type": "display_data"
    }
   ],
   "source": [
    "wandb.finish()"
   ]
  },
  {
   "cell_type": "code",
   "execution_count": null,
   "id": "0195f225-b104-4736-ba42-5604730c31c4",
   "metadata": {},
   "outputs": [],
   "source": []
  }
 ],
 "metadata": {
  "kernelspec": {
   "display_name": "Python 3 (ipykernel)",
   "language": "python",
   "name": "python3"
  },
  "language_info": {
   "codemirror_mode": {
    "name": "ipython",
    "version": 3
   },
   "file_extension": ".py",
   "mimetype": "text/x-python",
   "name": "python",
   "nbconvert_exporter": "python",
   "pygments_lexer": "ipython3",
   "version": "3.11.4"
  }
 },
 "nbformat": 4,
 "nbformat_minor": 5
}
