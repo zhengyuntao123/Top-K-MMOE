{
 "cells": [
  {
   "cell_type": "code",
   "execution_count": 1,
   "id": "17b71820-c9fe-4235-871f-634550a52f10",
   "metadata": {
    "tags": []
   },
   "outputs": [
    {
     "name": "stdout",
     "output_type": "stream",
     "text": [
      "C:\\jupyter file\\CMU_3\\distributed ML\\project\n",
      "WARNING:tensorflow:From C:\\anaconda3\\Lib\\site-packages\\keras\\src\\losses.py:2976: The name tf.losses.sparse_softmax_cross_entropy is deprecated. Please use tf.compat.v1.losses.sparse_softmax_cross_entropy instead.\n",
      "\n"
     ]
    }
   ],
   "source": [
    "%cd ../\n",
    "import pandas as pd\n",
    "from torch.utils.data import Dataset,DataLoader\n",
    "import torch\n",
    "import numpy as np\n",
    "import ast\n",
    "import torch.nn as nn\n",
    "import torch.optim as optim\n",
    "import random\n",
    "from matplotlib import pyplot as plt\n",
    "import os\n",
    "import shutil\n",
    "from datetime import datetime\n",
    "import wandb\n",
    "from utils import set_all_seed, load_exp1_dataset\n",
    "from topk_mmoe import TopkMMoE\n",
    "from trainer_and_evaluator import train_TopkMMoE, eval_TopkMMoE"
   ]
  },
  {
   "cell_type": "code",
   "execution_count": 2,
   "id": "7ca68d7d-d2ae-4f1d-bd9c-b139f48de1c2",
   "metadata": {
    "tags": []
   },
   "outputs": [
    {
     "name": "stdout",
     "output_type": "stream",
     "text": [
      "Absolute Pearson correlation coefficient: 0.17716269850240274\n",
      "P-value: 0.0\n"
     ]
    }
   ],
   "source": [
    "set_all_seed(42)\n",
    "train_dataset, val_dataset, test_dataset = load_exp1_dataset()"
   ]
  },
  {
   "cell_type": "code",
   "execution_count": 3,
   "id": "ca9da1d9-c2cc-40f1-a61f-cfa6d3997de2",
   "metadata": {
    "tags": []
   },
   "outputs": [
    {
     "name": "stdout",
     "output_type": "stream",
     "text": [
      "exp1_topk_mmoe_sparse:batch_size=256_N_epochs=50_lr=0.0001_feature_dim=114_expert_dim=32_n_expert=16_n_activated_expert=4_n_task=2_sparse_load_balancing_loss_coef=0.01_olmo_load_balancing_loss_coef=0_router_z_loss_coef=0_gate_dropout=0_tower_dropout=0_expert_dropout=0\n",
      "model/exp1_topk_mmoe_sparse/batch_size=256_N_epochs=50_lr=0.0001_114_32_16_4_2_0.01_0_0_0_0_0\n"
     ]
    },
    {
     "name": "stderr",
     "output_type": "stream",
     "text": [
      "\u001b[34m\u001b[1mwandb\u001b[0m: Currently logged in as: \u001b[33myuntaozh\u001b[0m (\u001b[33mzhengyuntao\u001b[0m). Use \u001b[1m`wandb login --relogin`\u001b[0m to force relogin\n"
     ]
    },
    {
     "data": {
      "text/html": [
       "Tracking run with wandb version 0.17.8"
      ],
      "text/plain": [
       "<IPython.core.display.HTML object>"
      ]
     },
     "metadata": {},
     "output_type": "display_data"
    },
    {
     "data": {
      "text/html": [
       "Run data is saved locally in <code>C:\\jupyter file\\CMU_3\\distributed ML\\project\\wandb\\run-20241128_171224-gguxuu1b</code>"
      ],
      "text/plain": [
       "<IPython.core.display.HTML object>"
      ]
     },
     "metadata": {},
     "output_type": "display_data"
    },
    {
     "data": {
      "text/html": [
       "Syncing run <strong><a href='https://wandb.ai/zhengyuntao/mmoe/runs/gguxuu1b' target=\"_blank\">exp1_topk_mmoe_sparse:batch_size=256_N_epochs=50_lr=0.0001_feature_dim=114_expert_dim=32_n_expert=16_n_activated_expert=4_n_task=2_sparse_load_balancing_loss_coef=0.01_olmo_load_balancing_loss_coef=0_router_z_loss_coef=0_gate_dropout=0_tower_dropout=0_expert_dropout=0</a></strong> to <a href='https://wandb.ai/zhengyuntao/mmoe' target=\"_blank\">Weights & Biases</a> (<a href='https://wandb.me/run' target=\"_blank\">docs</a>)<br/>"
      ],
      "text/plain": [
       "<IPython.core.display.HTML object>"
      ]
     },
     "metadata": {},
     "output_type": "display_data"
    },
    {
     "data": {
      "text/html": [
       " View project at <a href='https://wandb.ai/zhengyuntao/mmoe' target=\"_blank\">https://wandb.ai/zhengyuntao/mmoe</a>"
      ],
      "text/plain": [
       "<IPython.core.display.HTML object>"
      ]
     },
     "metadata": {},
     "output_type": "display_data"
    },
    {
     "data": {
      "text/html": [
       " View run at <a href='https://wandb.ai/zhengyuntao/mmoe/runs/gguxuu1b' target=\"_blank\">https://wandb.ai/zhengyuntao/mmoe/runs/gguxuu1b</a>"
      ],
      "text/plain": [
       "<IPython.core.display.HTML object>"
      ]
     },
     "metadata": {},
     "output_type": "display_data"
    },
    {
     "data": {
      "text/html": [
       "<button onClick=\"this.nextSibling.style.display='block';this.style.display='none';\">Display W&B run</button><iframe src='https://wandb.ai/zhengyuntao/mmoe/runs/gguxuu1b?jupyter=true' style='border:none;width:100%;height:420px;display:none;'></iframe>"
      ],
      "text/plain": [
       "<wandb.sdk.wandb_run.Run at 0x1d0c0d559d0>"
      ]
     },
     "execution_count": 3,
     "metadata": {},
     "output_type": "execute_result"
    }
   ],
   "source": [
    "# 设定各种超参数，wandb日志名，日志存储路径，模型存储路径\n",
    "train_params = {\n",
    "    \"batch_size\": 256,\n",
    "    \"N_epochs\": 50,\n",
    "    \"lr\": 0.0001\n",
    "}\n",
    "\n",
    "# 仅设置dropout\n",
    "model_params={\n",
    "    \"feature_dim\": 114,\n",
    "    \"expert_dim\": 32,\n",
    "    \"n_expert\": 16,\n",
    "    \"n_activated_expert\": 4,\n",
    "    \"n_task\": 2,\n",
    "    \"sparse_load_balancing_loss_coef\": 1e-2, # 仅设置sparse_load_balancing_loss_coef\n",
    "    \"olmo_load_balancing_loss_coef\": 0,\n",
    "    \"router_z_loss_coef\": 0,\n",
    "    \"gate_dropout\": 0,\n",
    "    \"tower_dropout\": 0,\n",
    "    \"expert_dropout\": 0\n",
    "}\n",
    "\n",
    "model_name=\"exp1_topk_mmoe_sparse\"\n",
    "if not os.path.exists(\"model/\"+model_name):\n",
    "    os.makedirs(\"model/\"+model_name) \n",
    "\n",
    "train_params_str = \"_\".join(f\"{key}={value}\" for key, value in train_params.items())\n",
    "model_params_str = \"_\".join(f\"{key}={value}\" for key, value in model_params.items())\n",
    "short_model_params_str = \"_\".join(f\"{value}\" for key, value in model_params.items())\n",
    "\n",
    "wandb_name=model_name+\":\"+train_params_str+\"_\"+model_params_str\n",
    "\n",
    "# 使用short_model_params_str是因为windows支持的最长文件名长度仅为260\n",
    "bestmodel_save_dir=f\"model/\"+model_name+\"/\"+train_params_str+\"_\"+short_model_params_str \n",
    "\n",
    "print(wandb_name)\n",
    "print(bestmodel_save_dir)\n",
    "\n",
    "wandb.init(project=\"mmoe\", name=wandb_name)"
   ]
  },
  {
   "cell_type": "code",
   "execution_count": 4,
   "id": "af593b44-aa48-4f35-88df-2165577e1242",
   "metadata": {
    "tags": []
   },
   "outputs": [
    {
     "name": "stdout",
     "output_type": "stream",
     "text": [
      "Number of parameters: 45586\n",
      "Number of parameters in SparseMMoE: 43584\n",
      "Number of activated parameters in SparseMMoE: 10896\n"
     ]
    }
   ],
   "source": [
    "mymodel = TopkMMoE(**model_params)\n",
    "\n",
    "nParams = sum([p.nelement() for p in mymodel.parameters()])\n",
    "print('Number of parameters: %d' % nParams)\n",
    "\n",
    "nParams_in_mmoe=0\n",
    "for name,p in mymodel.named_parameters():\n",
    "    if name.startswith(\"sparse_mmoe\"):\n",
    "        nParams_in_mmoe=nParams_in_mmoe+p.nelement()\n",
    "print('Number of parameters in SparseMMoE: %d' % nParams_in_mmoe)\n",
    "# 相比于MMOE增加了w_noises和b_noises\n",
    "print(f'Number of activated parameters in SparseMMoE: {int(nParams_in_mmoe*model_params[\"n_activated_expert\"]/model_params[\"n_expert\"])}')"
   ]
  },
  {
   "cell_type": "code",
   "execution_count": 5,
   "id": "33fc8dbd-93af-4087-b32a-d0132258ec9f",
   "metadata": {
    "tags": []
   },
   "outputs": [
    {
     "name": "stdout",
     "output_type": "stream",
     "text": [
      "Currently using device:cuda\n",
      "Epoch=0,train_loss=0.8643060922622681,val_loss=0.5426775217056274\n",
      "current epoch is the best so far. Saving model...\n",
      "Epoch=1,train_loss=0.4514929950237274,val_loss=0.37942272424697876\n",
      "current epoch is the best so far. Saving model...\n",
      "Epoch=2,train_loss=0.36811450123786926,val_loss=0.3334641456604004\n",
      "current epoch is the best so far. Saving model...\n",
      "Epoch=3,train_loss=0.3333963453769684,val_loss=0.32253336906433105\n",
      "current epoch is the best so far. Saving model...\n",
      "Epoch=4,train_loss=0.31980088353157043,val_loss=0.3062053918838501\n",
      "current epoch is the best so far. Saving model...\n",
      "Epoch=5,train_loss=0.30573150515556335,val_loss=0.29579368233680725\n",
      "current epoch is the best so far. Saving model...\n",
      "Epoch=6,train_loss=0.2989586293697357,val_loss=0.29005876183509827\n",
      "current epoch is the best so far. Saving model...\n",
      "Epoch=7,train_loss=0.29717230796813965,val_loss=0.29121285676956177\n",
      "Epoch=8,train_loss=0.2885909080505371,val_loss=0.2898823022842407\n",
      "current epoch is the best so far. Saving model...\n",
      "Epoch=9,train_loss=0.28580859303474426,val_loss=0.2811835706233978\n",
      "current epoch is the best so far. Saving model...\n",
      "Epoch=10,train_loss=0.2812351882457733,val_loss=0.28043872117996216\n",
      "current epoch is the best so far. Saving model...\n",
      "Epoch=11,train_loss=0.2768806517124176,val_loss=0.27649763226509094\n",
      "current epoch is the best so far. Saving model...\n",
      "Epoch=12,train_loss=0.2730541527271271,val_loss=0.27011165022850037\n",
      "current epoch is the best so far. Saving model...\n",
      "Epoch=13,train_loss=0.26961567997932434,val_loss=0.27260392904281616\n",
      "Epoch=14,train_loss=0.2666287422180176,val_loss=0.27095580101013184\n",
      "Epoch=15,train_loss=0.2651866376399994,val_loss=0.2645593583583832\n",
      "current epoch is the best so far. Saving model...\n",
      "Epoch=16,train_loss=0.2625616490840912,val_loss=0.27048102021217346\n",
      "Epoch=17,train_loss=0.2631237208843231,val_loss=0.265676885843277\n",
      "Epoch=18,train_loss=0.2584950029850006,val_loss=0.2648196518421173\n",
      "Epoch=19,train_loss=0.2577061355113983,val_loss=0.25933560729026794\n",
      "current epoch is the best so far. Saving model...\n",
      "Epoch=20,train_loss=0.2535114884376526,val_loss=0.27605336904525757\n",
      "Epoch=21,train_loss=0.25383999943733215,val_loss=0.2613498866558075\n",
      "Epoch=22,train_loss=0.2500253915786743,val_loss=0.25743567943573\n",
      "current epoch is the best so far. Saving model...\n",
      "Epoch=23,train_loss=0.24860058724880219,val_loss=0.2558744549751282\n",
      "current epoch is the best so far. Saving model...\n",
      "Epoch=24,train_loss=0.24707365036010742,val_loss=0.2635740339756012\n",
      "Epoch=25,train_loss=0.24915291368961334,val_loss=0.2574422359466553\n",
      "Epoch=26,train_loss=0.24789784848690033,val_loss=0.25738921761512756\n",
      "Epoch=27,train_loss=0.24617545306682587,val_loss=0.26242831349372864\n",
      "Epoch=28,train_loss=0.2464555948972702,val_loss=0.25522249937057495\n",
      "current epoch is the best so far. Saving model...\n",
      "Epoch=29,train_loss=0.24604065716266632,val_loss=0.2611584961414337\n",
      "Epoch=30,train_loss=0.2446477860212326,val_loss=0.25617918372154236\n",
      "Epoch=31,train_loss=0.2395159751176834,val_loss=0.2536373436450958\n",
      "current epoch is the best so far. Saving model...\n",
      "Epoch=32,train_loss=0.24112588167190552,val_loss=0.26153895258903503\n",
      "Epoch=33,train_loss=0.24113111197948456,val_loss=0.2592296004295349\n",
      "Epoch=34,train_loss=0.23797659575939178,val_loss=0.25374025106430054\n",
      "Epoch=35,train_loss=0.24244336783885956,val_loss=0.2528798580169678\n",
      "current epoch is the best so far. Saving model...\n",
      "Epoch=36,train_loss=0.24293377995491028,val_loss=0.2530275881290436\n",
      "Epoch=37,train_loss=0.2400932013988495,val_loss=0.2591458857059479\n",
      "Epoch=38,train_loss=0.23921999335289001,val_loss=0.25841477513313293\n",
      "Epoch=39,train_loss=0.2358483225107193,val_loss=0.2549740672111511\n",
      "Epoch=40,train_loss=0.23916566371917725,val_loss=0.24863222241401672\n",
      "current epoch is the best so far. Saving model...\n",
      "Epoch=41,train_loss=0.23337586224079132,val_loss=0.24939186871051788\n",
      "Epoch=42,train_loss=0.22999869287014008,val_loss=0.24950525164604187\n",
      "Epoch=43,train_loss=0.23704519867897034,val_loss=0.2654423117637634\n",
      "Epoch=44,train_loss=0.2326238602399826,val_loss=0.25063952803611755\n",
      "Epoch=45,train_loss=0.23158743977546692,val_loss=0.24569277465343475\n",
      "current epoch is the best so far. Saving model...\n",
      "Epoch=46,train_loss=0.23184265196323395,val_loss=0.2556018531322479\n",
      "Epoch=47,train_loss=0.2321573793888092,val_loss=0.25435858964920044\n",
      "Epoch=48,train_loss=0.23296838998794556,val_loss=0.25455886125564575\n",
      "Epoch=49,train_loss=0.22941085696220398,val_loss=0.24886004626750946\n"
     ]
    }
   ],
   "source": [
    "losses, val_losses, adam_batch_loss= train_TopkMMoE(mymodel,\n",
    "                                           train_dataset,\n",
    "                                           val_dataset,\n",
    "                                           bestmodel_save_dir,\n",
    "                                           **train_params)"
   ]
  },
  {
   "cell_type": "code",
   "execution_count": 6,
   "id": "07be8985-798b-47da-aa00-f79836a6ee4f",
   "metadata": {
    "tags": []
   },
   "outputs": [
    {
     "data": {
      "text/plain": [
       "<All keys matched successfully>"
      ]
     },
     "execution_count": 6,
     "metadata": {},
     "output_type": "execute_result"
    }
   ],
   "source": [
    "# load best model based on validation\n",
    "mybestmodel = TopkMMoE(**model_params)\n",
    "mybestmodel.load_state_dict(torch.load(bestmodel_save_dir))"
   ]
  },
  {
   "cell_type": "code",
   "execution_count": 7,
   "id": "89fdb611-85ee-4def-809e-154933380a03",
   "metadata": {
    "tags": []
   },
   "outputs": [
    {
     "name": "stdout",
     "output_type": "stream",
     "text": [
      "AUC: 0.9405786630761727\n",
      "AUC: 0.99202402758823\n"
     ]
    }
   ],
   "source": [
    "auc1, auc2=eval_TopkMMoE(mybestmodel, test_dataset)"
   ]
  },
  {
   "cell_type": "code",
   "execution_count": 8,
   "id": "e56974f0-095e-4ba7-a182-042fc24e7f69",
   "metadata": {
    "tags": []
   },
   "outputs": [
    {
     "data": {
      "application/vnd.jupyter.widget-view+json": {
       "model_id": "",
       "version_major": 2,
       "version_minor": 0
      },
      "text/plain": [
       "VBox(children=(Label(value='0.001 MB of 0.001 MB uploaded\\r'), FloatProgress(value=1.0, max=1.0)))"
      ]
     },
     "metadata": {},
     "output_type": "display_data"
    },
    {
     "data": {
      "text/html": [
       "<style>\n",
       "    table.wandb td:nth-child(1) { padding: 0 10px; text-align: left ; width: auto;} td:nth-child(2) {text-align: left ; width: 100%}\n",
       "    .wandb-row { display: flex; flex-direction: row; flex-wrap: wrap; justify-content: flex-start; width: 100% }\n",
       "    .wandb-col { display: flex; flex-direction: column; flex-basis: 100%; flex: 1; padding: 10px; }\n",
       "    </style>\n",
       "<div class=\"wandb-row\"><div class=\"wandb-col\"><h3>Run history:</h3><br/><table class=\"wandb\"><tr><td>load_balancing_loss</td><td>█▆▄▃▃▃▃▂▂▂▂▂▁▂▂▁▁▂▂▂▂▂▂▂▁▁▁▁▂▂▁▁▁▁▁▂▁▁▁▁</td></tr><tr><td>router_z_loss</td><td>▁▁▁▁▁▁▁▁▁▁▁▁▁▁▁▁▁▁▁▁▁▁▁▁▁▁▁▁▁▁▁▁▁▁▁▁▁▁▁▁</td></tr><tr><td>task1_loss</td><td>█▇▅▂▃▃▂▃▄▃▃▃▃▃▂▂▄▂▄▂▁▄▂▃▂▃▂▄▃▄▁▂▃▁▁▄▁▂▄▂</td></tr><tr><td>task2_loss</td><td>█▆▄▃▄▂▂▂▃▂▃▃▂▂▂▂▂▃▁▂▁▃▄▁▂▂▂▄▁▂▂▁▁▂▂▃▂▂▂▂</td></tr><tr><td>task_0/expert_0_weight</td><td>▁▃▂▄▅█▅▂▇▄▅▇▄▅▇▆█▆▇▃▄▇▇▆▄▆▄▃█▇▂▅▅▆▅▆█▅▇█</td></tr><tr><td>task_0/expert_10_weight</td><td>▃█▃▅▄▄▃▄▁▃▃▄▃▂▁▂▄▃▃▃▃▄▄▃▄▃▄▄▃▃▄▂▂▃▂▁▁▁▁▁</td></tr><tr><td>task_0/expert_11_weight</td><td>▄▄█▃▄▂▃▄▄▃▇▃▄▅▃▁▃▅▃▄▄▄▃▄▄▃▄▂▅▃▂▄▃▂▄▄▅▃▅▄</td></tr><tr><td>task_0/expert_12_weight</td><td>█▁▁▁▁▁▁▂▃▃▂▂▃▃▂▂▁▁▁▁▁▁▁▁▁▁▁▁▁▁▁▁▁▃▃▃▃▃▃▄</td></tr><tr><td>task_0/expert_13_weight</td><td>▁▁▁▂▂▅▅█▅▄▆▃▃▇▅▄▅▅▆▅▅▃▄▄▅▄▃▅▅▃▄▄▅▄▃▄▃▄▄▃</td></tr><tr><td>task_0/expert_14_weight</td><td>▁▅▄▃▃▄▅▄▅▅▄▄▄▅▅▅▆▅▄▆▆▄▅▆▅▆▇█▅▅▇▅▆▃▅▄█▆▄▆</td></tr><tr><td>task_0/expert_15_weight</td><td>▁▁█▆▆▅▅█▆▃▅▅▆▇▆▆▄▇▆▇▆▅▅▆▆▆▅▄▆▇▄▅▃▆▄▆▃▆▂▂</td></tr><tr><td>task_0/expert_1_weight</td><td>▁█▅▅▆▄▅▄▄▃▆▂▃▃▅▄▃▆▃▆▄▅▄▄▅▄▄▅▃▄▃▄▄▃▅▄▄▃▅▄</td></tr><tr><td>task_0/expert_2_weight</td><td>▂▁▁▇█▃▅▆▆▅▆▇▆▅▇▅▆▇▆▆▅█▆▆▇▆▇▆▆▇█▅▇▇▅▆▅▇▇▅</td></tr><tr><td>task_0/expert_3_weight</td><td>▁▅▇▆▅▆▆▅▃▄▃▄▅▃▅▅▇▄▄▅▅▄▄▄▇▄▃▅▄▇▅▄█▅▆▃▄▅▆▄</td></tr><tr><td>task_0/expert_4_weight</td><td>▁▃▄▃▅▄▄▄▃▃▃▆▇▄▇▅▄▃▆▃▆▅▅▂▃▆▄▄▄▄█▅▃▅▄▅▃▃▃▃</td></tr><tr><td>task_0/expert_5_weight</td><td>█▄▃▂▂▁▂▂▂▂▁▂▂▂▂▂▂▁▁▁▂▂▃▂▂▁▂▂▂▁▂▂▂▁▂▂▁▂▁▂</td></tr><tr><td>task_0/expert_6_weight</td><td>█▅▄▄▄▅▃▂▅▆▂▂▂▁▃▂▂▃▃▃▃▄▄▃▂▂▃▂▃▂▂▂▂▁▂▁▃▃▂▂</td></tr><tr><td>task_0/expert_7_weight</td><td>▂▁▁▁▁▁▁▁▁▁▁▁▁▁▁▁▁▁▁▁▁▁▁▁▁▆▄▅▁▄▆▄▇▃▄▆▄▄▆█</td></tr><tr><td>task_0/expert_8_weight</td><td>▅▄▆▄▃▆▅▁▃▅▃█▇▃▄█▅▄▅▆▄▅▃▆▂▆▄▅▄▄▃▆▅▄▄▅▄▆▄▄</td></tr><tr><td>task_0/expert_9_weight</td><td>▁▃▅▇▆▆▇▆▆█▅▆▄▄▄█▅▅▅▅▆▄▅▇▆▅▇▄▅▅▆▇▅▇▄▇█▆▅▆</td></tr><tr><td>task_0/expert_weight_variance</td><td>█▄▃▂▂▂▁▂▂▂▂▁▁▂▂▁▁▂▁▂▁▂▁▂▂▁▁▁▁▁▁▁▁▁▁▁▂▁▁▁</td></tr><tr><td>task_1/expert_0_weight</td><td>▃▄▁▃▃▇▄▅▁▅▄▆▁▄▄▆▆▆▅▂▅▅▆▃▇▄▄▄█▄▃▆▅▄▅▃▆▄▅▅</td></tr><tr><td>task_1/expert_10_weight</td><td>▁▁▁▁▁▁▄▃█▅▅█▅▄▆▅▄▅▅▅▃▅▆▆█▃█▅▄▆▄▄▆▅▅▅▃▅▇█</td></tr><tr><td>task_1/expert_11_weight</td><td>▁▁▁▅▁▁▆▁▄▄▆▅▆▆▄▆▄▆▆▇▅▅█▅▄▅▅▅▆▄▄▄▅▄▄▄▅▆▄▃</td></tr><tr><td>task_1/expert_12_weight</td><td>██▅▇▅▄▅▅▄▄▁▆▃▁▁▃▅▃▄▄▅▆▅▅▃▄▃▄▅▅▅▃▄▅▅▅▅▅▅▅</td></tr><tr><td>task_1/expert_13_weight</td><td>▅▂▄▃▆▅▆▃▄▁▇▁█▄▄▄▃▃▂▂▄▂▃▇▄▃▃▃▅▅▅▃▂▄▂▃▃▄▄▂</td></tr><tr><td>task_1/expert_14_weight</td><td>▁█▅▅▆▄▁▂▅▆▅▆▆▃▅▅▄▂▂▄▁▆▄▅▄▄▅▄▄▅▄▃▅▆▅▃▆▅▄▅</td></tr><tr><td>task_1/expert_15_weight</td><td>▄▄█▄▂▆▃▃▄▄▁▂▂▅▄▃▂▅▄▄▄▃▃▂▁▄▂▄▂▃▅▃▃▃▄▄▂▃▂▂</td></tr><tr><td>task_1/expert_1_weight</td><td>▆█▁▁▁▁▁▁▁▁▁▁▁▁▁▁▁▁▁▁▁▁▁▁▁▁▁▁▁▁▁▁▁▁▁▁▁▁▁▁</td></tr><tr><td>task_1/expert_2_weight</td><td>▆▅▄▁▃▃▂▁▁▄▃▅▅▇▂▂▄█▂▆▂▅▃▃▃▇▅▃▃▄▂▃▁▅▆▄▆▆▃▂</td></tr><tr><td>task_1/expert_3_weight</td><td>▁▂▇▅▅▅▄█▆▅▅▄▅▄▆▇▇▅▆▇▄▂▅▅▅▅▄▄▄▄▄▄▆▃▃▅▄▃▅▆</td></tr><tr><td>task_1/expert_4_weight</td><td>▇▅▁▂▃▁▄▅▅▅▅▄▅▅▆█▄▂▅▅▅▅▅▂▂▆▅▅▃▄▆█▆▅▄▅▅▅▃▄</td></tr><tr><td>task_1/expert_5_weight</td><td>▂▁▇▄▇█▇▇▅▃▄▃▂▇▄▄▅▄▄▄▅▄▃▅▅▅▅▆▁▃▂▆▅▆▅▇▅▄▆▄</td></tr><tr><td>task_1/expert_6_weight</td><td>▂▄▄▅█▄▆▇▅█▃▆▃▅▆▃▃▅▆▁▇▄▁▄▅▃▄▃▃▆▄▂▁▂▄▄▃▅▃▄</td></tr><tr><td>task_1/expert_7_weight</td><td>▅█▅▅▄▄▁▃▃▂▃▃▆▂▄▃▄▂▃▄▃▅▃▅▃▁▂▅▅▃▅▆▆▄▄▂▃▂▅▄</td></tr><tr><td>task_1/expert_8_weight</td><td>█▃▄▃▃▃▂▃▄▄▄▁▂▄▃▁▃▃▃▃▃▃▃▂▄▅▄▄▃▂▄▃▃▃▄▄▄▄▄▄</td></tr><tr><td>task_1/expert_9_weight</td><td>▂▇▅▅▁▁▁▁▁▁▁▁▁▁▁▁▁▁▁█▁▁▁▁▁▁▁▁▁▁▁▁▁▁▁▁▁▁▁▁</td></tr><tr><td>task_1/expert_weight_variance</td><td>█▇▇▄▇▅▃▇▃▄▃▄▆▃▃▅▃▃▃▄▃▂▃▃▂▃▂▁▃▂▃▃▂▁▁▂▂▂▁▂</td></tr><tr><td>train_loss</td><td>█▃▃▂▂▂▂▂▂▂▁▁▁▁▁▁▁▁▁▁▁▁▁▁▁▁▁▁▁▁▁▁▁▁▁▁▁▁▁▁</td></tr><tr><td>val_loss</td><td>█▄▃▃▂▂▂▂▂▂▂▂▁▂▁▁▂▁▁▁▁▁▁▁▁▁▁▁▁▁▁▁▁▁▁▁▁▁▁▁</td></tr></table><br/></div><div class=\"wandb-col\"><h3>Run summary:</h3><br/><table class=\"wandb\"><tr><td>load_balancing_loss</td><td>0.00709</td></tr><tr><td>router_z_loss</td><td>0.0</td></tr><tr><td>task1_loss</td><td>0.13264</td></tr><tr><td>task2_loss</td><td>0.1156</td></tr><tr><td>task_0/expert_0_weight</td><td>0.10173</td></tr><tr><td>task_0/expert_10_weight</td><td>0.0</td></tr><tr><td>task_0/expert_11_weight</td><td>0.09706</td></tr><tr><td>task_0/expert_12_weight</td><td>0.07178</td></tr><tr><td>task_0/expert_13_weight</td><td>0.05282</td></tr><tr><td>task_0/expert_14_weight</td><td>0.07875</td></tr><tr><td>task_0/expert_15_weight</td><td>0.03584</td></tr><tr><td>task_0/expert_1_weight</td><td>0.06453</td></tr><tr><td>task_0/expert_2_weight</td><td>0.05491</td></tr><tr><td>task_0/expert_3_weight</td><td>0.05988</td></tr><tr><td>task_0/expert_4_weight</td><td>0.02721</td></tr><tr><td>task_0/expert_5_weight</td><td>0.05646</td></tr><tr><td>task_0/expert_6_weight</td><td>0.08311</td></tr><tr><td>task_0/expert_7_weight</td><td>0.04842</td></tr><tr><td>task_0/expert_8_weight</td><td>0.07122</td></tr><tr><td>task_0/expert_9_weight</td><td>0.09627</td></tr><tr><td>task_0/expert_weight_variance</td><td>0.00073</td></tr><tr><td>task_1/expert_0_weight</td><td>0.08302</td></tr><tr><td>task_1/expert_10_weight</td><td>0.03779</td></tr><tr><td>task_1/expert_11_weight</td><td>0.07363</td></tr><tr><td>task_1/expert_12_weight</td><td>0.07416</td></tr><tr><td>task_1/expert_13_weight</td><td>0.05762</td></tr><tr><td>task_1/expert_14_weight</td><td>0.08741</td></tr><tr><td>task_1/expert_15_weight</td><td>0.0441</td></tr><tr><td>task_1/expert_1_weight</td><td>0.0</td></tr><tr><td>task_1/expert_2_weight</td><td>0.09812</td></tr><tr><td>task_1/expert_3_weight</td><td>0.08475</td></tr><tr><td>task_1/expert_4_weight</td><td>0.08589</td></tr><tr><td>task_1/expert_5_weight</td><td>0.06907</td></tr><tr><td>task_1/expert_6_weight</td><td>0.0778</td></tr><tr><td>task_1/expert_7_weight</td><td>0.06896</td></tr><tr><td>task_1/expert_8_weight</td><td>0.05769</td></tr><tr><td>task_1/expert_9_weight</td><td>1e-05</td></tr><tr><td>task_1/expert_weight_variance</td><td>0.00085</td></tr><tr><td>train_loss</td><td>0.22941</td></tr><tr><td>val_loss</td><td>0.24886</td></tr></table><br/></div></div>"
      ],
      "text/plain": [
       "<IPython.core.display.HTML object>"
      ]
     },
     "metadata": {},
     "output_type": "display_data"
    },
    {
     "data": {
      "text/html": [
       " View run <strong style=\"color:#cdcd00\">exp1_topk_mmoe_sparse:batch_size=256_N_epochs=50_lr=0.0001_feature_dim=114_expert_dim=32_n_expert=16_n_activated_expert=4_n_task=2_sparse_load_balancing_loss_coef=0.01_olmo_load_balancing_loss_coef=0_router_z_loss_coef=0_gate_dropout=0_tower_dropout=0_expert_dropout=0</strong> at: <a href='https://wandb.ai/zhengyuntao/mmoe/runs/gguxuu1b' target=\"_blank\">https://wandb.ai/zhengyuntao/mmoe/runs/gguxuu1b</a><br/> View project at: <a href='https://wandb.ai/zhengyuntao/mmoe' target=\"_blank\">https://wandb.ai/zhengyuntao/mmoe</a><br/>Synced 6 W&B file(s), 0 media file(s), 0 artifact file(s) and 1 other file(s)"
      ],
      "text/plain": [
       "<IPython.core.display.HTML object>"
      ]
     },
     "metadata": {},
     "output_type": "display_data"
    },
    {
     "data": {
      "text/html": [
       "Find logs at: <code>.\\wandb\\run-20241128_171224-gguxuu1b\\logs</code>"
      ],
      "text/plain": [
       "<IPython.core.display.HTML object>"
      ]
     },
     "metadata": {},
     "output_type": "display_data"
    },
    {
     "data": {
      "text/html": [
       "The new W&B backend becomes opt-out in version 0.18.0; try it out with `wandb.require(\"core\")`! See https://wandb.me/wandb-core for more information."
      ],
      "text/plain": [
       "<IPython.core.display.HTML object>"
      ]
     },
     "metadata": {},
     "output_type": "display_data"
    }
   ],
   "source": [
    "wandb.finish()"
   ]
  },
  {
   "cell_type": "code",
   "execution_count": null,
   "id": "0195f225-b104-4736-ba42-5604730c31c4",
   "metadata": {},
   "outputs": [],
   "source": []
  }
 ],
 "metadata": {
  "kernelspec": {
   "display_name": "Python 3 (ipykernel)",
   "language": "python",
   "name": "python3"
  },
  "language_info": {
   "codemirror_mode": {
    "name": "ipython",
    "version": 3
   },
   "file_extension": ".py",
   "mimetype": "text/x-python",
   "name": "python",
   "nbconvert_exporter": "python",
   "pygments_lexer": "ipython3",
   "version": "3.11.4"
  }
 },
 "nbformat": 4,
 "nbformat_minor": 5
}
