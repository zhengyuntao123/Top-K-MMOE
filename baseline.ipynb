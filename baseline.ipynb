{
 "cells": [
  {
   "cell_type": "code",
   "execution_count": 1,
   "id": "17b71820-c9fe-4235-871f-634550a52f10",
   "metadata": {
    "tags": []
   },
   "outputs": [],
   "source": [
    "import pandas as pd\n",
    "from torch.utils.data import Dataset,DataLoader\n",
    "import torch\n",
    "import numpy as np\n",
    "import ast\n",
    "import torch.nn as nn\n",
    "import torch.optim as optim\n",
    "import random\n",
    "from matplotlib import pyplot as plt"
   ]
  },
  {
   "cell_type": "code",
   "execution_count": 2,
   "id": "2757b3f3-a89a-43eb-bb7b-75abe57eeb69",
   "metadata": {
    "tags": []
   },
   "outputs": [
    {
     "data": {
      "text/html": [
       "<div>\n",
       "<style scoped>\n",
       "    .dataframe tbody tr th:only-of-type {\n",
       "        vertical-align: middle;\n",
       "    }\n",
       "\n",
       "    .dataframe tbody tr th {\n",
       "        vertical-align: top;\n",
       "    }\n",
       "\n",
       "    .dataframe thead th {\n",
       "        text-align: right;\n",
       "    }\n",
       "</style>\n",
       "<table border=\"1\" class=\"dataframe\">\n",
       "  <thead>\n",
       "    <tr style=\"text-align: right;\">\n",
       "      <th></th>\n",
       "      <th>vectorized_features_1</th>\n",
       "      <th>income</th>\n",
       "      <th>marital-status</th>\n",
       "    </tr>\n",
       "  </thead>\n",
       "  <tbody>\n",
       "    <tr>\n",
       "      <th>0</th>\n",
       "      <td>[13.0, 1.0, 3.0, 3.0, 1.0, 0.0, 0.0, 39.0, 775...</td>\n",
       "      <td>0</td>\n",
       "      <td>0</td>\n",
       "    </tr>\n",
       "    <tr>\n",
       "      <th>1</th>\n",
       "      <td>[13.0, 1.0, 1.0, 2.0, 0.0, 0.0, 0.0, 50.0, 833...</td>\n",
       "      <td>0</td>\n",
       "      <td>1</td>\n",
       "    </tr>\n",
       "    <tr>\n",
       "      <th>2</th>\n",
       "      <td>[9.0, 1.0, 0.0, 8.0, 1.0, 0.0, 0.0, 38.0, 2156...</td>\n",
       "      <td>0</td>\n",
       "      <td>1</td>\n",
       "    </tr>\n",
       "    <tr>\n",
       "      <th>3</th>\n",
       "      <td>[7.0, 1.0, 0.0, 8.0, 0.0, 1.0, 0.0, 53.0, 2347...</td>\n",
       "      <td>0</td>\n",
       "      <td>1</td>\n",
       "    </tr>\n",
       "    <tr>\n",
       "      <th>4</th>\n",
       "      <td>[13.0, 0.0, 0.0, 1.0, 4.0, 1.0, 8.0, 28.0, 338...</td>\n",
       "      <td>0</td>\n",
       "      <td>1</td>\n",
       "    </tr>\n",
       "    <tr>\n",
       "      <th>...</th>\n",
       "      <td>...</td>\n",
       "      <td>...</td>\n",
       "      <td>...</td>\n",
       "    </tr>\n",
       "    <tr>\n",
       "      <th>45217</th>\n",
       "      <td>[13.0, 1.0, 0.0, 1.0, 2.0, 0.0, 0.0, 33.0, 245...</td>\n",
       "      <td>0</td>\n",
       "      <td>0</td>\n",
       "    </tr>\n",
       "    <tr>\n",
       "      <th>45218</th>\n",
       "      <td>[13.0, 0.0, 0.0, 1.0, 1.0, 0.0, 0.0, 39.0, 215...</td>\n",
       "      <td>0</td>\n",
       "      <td>1</td>\n",
       "    </tr>\n",
       "    <tr>\n",
       "      <th>45219</th>\n",
       "      <td>[13.0, 1.0, 0.0, 1.0, 0.0, 0.0, 0.0, 38.0, 374...</td>\n",
       "      <td>0</td>\n",
       "      <td>1</td>\n",
       "    </tr>\n",
       "    <tr>\n",
       "      <th>45220</th>\n",
       "      <td>[13.0, 1.0, 0.0, 3.0, 2.0, 2.0, 0.0, 44.0, 838...</td>\n",
       "      <td>0</td>\n",
       "      <td>1</td>\n",
       "    </tr>\n",
       "    <tr>\n",
       "      <th>45221</th>\n",
       "      <td>[13.0, 1.0, 4.0, 2.0, 0.0, 0.0, 0.0, 35.0, 182...</td>\n",
       "      <td>1</td>\n",
       "      <td>1</td>\n",
       "    </tr>\n",
       "  </tbody>\n",
       "</table>\n",
       "<p>45222 rows × 3 columns</p>\n",
       "</div>"
      ],
      "text/plain": [
       "                                   vectorized_features_1  income  \\\n",
       "0      [13.0, 1.0, 3.0, 3.0, 1.0, 0.0, 0.0, 39.0, 775...       0   \n",
       "1      [13.0, 1.0, 1.0, 2.0, 0.0, 0.0, 0.0, 50.0, 833...       0   \n",
       "2      [9.0, 1.0, 0.0, 8.0, 1.0, 0.0, 0.0, 38.0, 2156...       0   \n",
       "3      [7.0, 1.0, 0.0, 8.0, 0.0, 1.0, 0.0, 53.0, 2347...       0   \n",
       "4      [13.0, 0.0, 0.0, 1.0, 4.0, 1.0, 8.0, 28.0, 338...       0   \n",
       "...                                                  ...     ...   \n",
       "45217  [13.0, 1.0, 0.0, 1.0, 2.0, 0.0, 0.0, 33.0, 245...       0   \n",
       "45218  [13.0, 0.0, 0.0, 1.0, 1.0, 0.0, 0.0, 39.0, 215...       0   \n",
       "45219  [13.0, 1.0, 0.0, 1.0, 0.0, 0.0, 0.0, 38.0, 374...       0   \n",
       "45220  [13.0, 1.0, 0.0, 3.0, 2.0, 2.0, 0.0, 44.0, 838...       0   \n",
       "45221  [13.0, 1.0, 4.0, 2.0, 0.0, 0.0, 0.0, 35.0, 182...       1   \n",
       "\n",
       "       marital-status  \n",
       "0                   0  \n",
       "1                   1  \n",
       "2                   1  \n",
       "3                   1  \n",
       "4                   1  \n",
       "...               ...  \n",
       "45217               0  \n",
       "45218               1  \n",
       "45219               1  \n",
       "45220               1  \n",
       "45221               1  \n",
       "\n",
       "[45222 rows x 3 columns]"
      ]
     },
     "execution_count": 2,
     "metadata": {},
     "output_type": "execute_result"
    }
   ],
   "source": [
    "# ['education-num', 'sex', 'workclass_index', 'occupation_index', 'relationship_index', 'race_index', 'native-country_index',\n",
    "# 'age', 'fnlwgt', 'capital-gain', 'capital-loss', 'hours-per-week']\n",
    "# 前7个特征是离散特征，后5个特征是连续特征\n",
    "df=pd.read_csv(\"data/exp1/raw.csv\")\n",
    "df"
   ]
  },
  {
   "cell_type": "code",
   "execution_count": 3,
   "id": "fad4c8d9-3836-4bee-9f54-8162b2404f4e",
   "metadata": {
    "tags": []
   },
   "outputs": [],
   "source": [
    "df['vectorized_features_1'] = df['vectorized_features_1'].apply(ast.literal_eval)"
   ]
  },
  {
   "cell_type": "code",
   "execution_count": 4,
   "id": "db233a0d-0372-445c-9f1f-12c0d599af95",
   "metadata": {
    "tags": []
   },
   "outputs": [
    {
     "name": "stdout",
     "output_type": "stream",
     "text": [
      "tensor([[13,  1,  3,  ...,  1,  0,  0],\n",
      "        [13,  1,  1,  ...,  0,  0,  0],\n",
      "        [ 9,  1,  0,  ...,  1,  0,  0],\n",
      "        ...,\n",
      "        [13,  1,  0,  ...,  0,  0,  0],\n",
      "        [13,  1,  0,  ...,  2,  2,  0],\n",
      "        [13,  1,  4,  ...,  0,  0,  0]])\n",
      "torch.Size([45222, 7])\n",
      "tensor([[3.9000e+01, 7.7516e+04, 2.1740e+03, 0.0000e+00, 4.0000e+01],\n",
      "        [5.0000e+01, 8.3311e+04, 0.0000e+00, 0.0000e+00, 1.3000e+01],\n",
      "        [3.8000e+01, 2.1565e+05, 0.0000e+00, 0.0000e+00, 4.0000e+01],\n",
      "        ...,\n",
      "        [3.8000e+01, 3.7498e+05, 0.0000e+00, 0.0000e+00, 5.0000e+01],\n",
      "        [4.4000e+01, 8.3891e+04, 5.4550e+03, 0.0000e+00, 4.0000e+01],\n",
      "        [3.5000e+01, 1.8215e+05, 0.0000e+00, 0.0000e+00, 6.0000e+01]])\n",
      "torch.Size([45222, 5])\n",
      "tensor([0., 0., 0.,  ..., 0., 0., 1.])\n",
      "torch.Size([45222])\n",
      "tensor([0., 1., 1.,  ..., 1., 1., 1.])\n",
      "torch.Size([45222])\n"
     ]
    }
   ],
   "source": [
    "x=torch.from_numpy(np.array(df['vectorized_features_1'].values.tolist(),np.float32))\n",
    "x_d=x[:,:7].long() # 前7维是离散变量，要转为long类型才能送入embedding层\n",
    "x_c=x[:,7:] # 后5维是连续变量\n",
    "y1=torch.from_numpy(np.array(df['income'].values.tolist(),np.float32))\n",
    "y2=torch.from_numpy(np.array(df['marital-status'].values.tolist(),np.float32))\n",
    "print(x_d)\n",
    "print(x_d.shape)\n",
    "print(x_c)\n",
    "print(x_c.shape)\n",
    "print(y1)\n",
    "print(y1.shape)\n",
    "print(y2)\n",
    "print(y2.shape)"
   ]
  },
  {
   "cell_type": "markdown",
   "id": "0619ba25-2fbd-4ff8-b9af-11a865f79efe",
   "metadata": {
    "tags": []
   },
   "source": [
    "计算两个任务的标签间的pearson相关系数"
   ]
  },
  {
   "cell_type": "code",
   "execution_count": 5,
   "id": "7406af32-21f3-4d39-8c6e-775c377ce15a",
   "metadata": {
    "tags": []
   },
   "outputs": [
    {
     "name": "stdout",
     "output_type": "stream",
     "text": [
      "Pearson correlation coefficient: 0.31953582278616827\n",
      "P-value: 0.0\n"
     ]
    }
   ],
   "source": [
    "from scipy.stats import pearsonr\n",
    "corr, p_value = pearsonr(y1, y2)\n",
    "print(f\"Pearson correlation coefficient: {corr}\")\n",
    "print(f\"P-value: {p_value}\")"
   ]
  },
  {
   "cell_type": "code",
   "execution_count": 6,
   "id": "d04e2b1c-d985-461b-a088-9f6ce566c939",
   "metadata": {
    "tags": []
   },
   "outputs": [],
   "source": [
    "class MyDataset(Dataset):\n",
    "    def __init__(self,x_discrete,x_continuous,y1,y2):\n",
    "        self.x_d=x_discrete\n",
    "        self.x_c=x_continuous\n",
    "        self.y1=y1\n",
    "        self.y2=y2\n",
    "    def __len__(self):\n",
    "        return self.x_d.shape[0]\n",
    "    def __getitem__(self,idx):\n",
    "        return (self.x_d[idx],x_c[idx],self.y1[idx],self.y2[idx])"
   ]
  },
  {
   "cell_type": "code",
   "execution_count": 7,
   "id": "594d5a51-60a3-4ee2-bf22-5630767071e6",
   "metadata": {
    "tags": []
   },
   "outputs": [],
   "source": [
    "# 训练集30000个样本\n",
    "train_dataset=MyDataset(x_d[:30000],x_c[:30000],y1[:30000],y2[:30000])\n",
    "# 验证集7500个样本\n",
    "val_dataset=MyDataset(x_d[30000:37500],x_c[30000:37500],y1[30000:37500],y2[30000:37500])\n",
    "# 测试集7500个样本\n",
    "test_dataset=MyDataset(x_d[37500:45000],x_c[30000:37500],y1[37500:45000],y2[37500:45000])"
   ]
  },
  {
   "cell_type": "code",
   "execution_count": 8,
   "id": "6fb7b080-32f4-42e5-b60d-2615e7c82026",
   "metadata": {
    "tags": []
   },
   "outputs": [],
   "source": [
    "class Expert(nn.Module):\n",
    "    def __init__(self, input_dim, output_dim, expert_dropout):  # input_dim代表输入维度，output_dim代表输出维度\n",
    "        super(Expert, self).__init__()\n",
    "\n",
    "        expert_hidden_layers = [64, 32]\n",
    "        self.expert_layer = nn.Sequential(\n",
    "            nn.Linear(input_dim, expert_hidden_layers[0]),\n",
    "            nn.ReLU(),\n",
    "            nn.Dropout(expert_dropout),\n",
    "            nn.Linear(expert_hidden_layers[0], expert_hidden_layers[1]),\n",
    "            nn.ReLU(),\n",
    "            nn.Dropout(expert_dropout),\n",
    "            nn.Linear(expert_hidden_layers[1], output_dim),\n",
    "            nn.ReLU(),\n",
    "            nn.Dropout(expert_dropout)\n",
    "        )\n",
    "\n",
    "    def forward(self, x):\n",
    "        out = self.expert_layer(x)\n",
    "        return out\n",
    "\n",
    "\n",
    "class Expert_Gate(nn.Module):\n",
    "    def __init__(self, feature_dim, expert_dim, n_expert, n_task, expert_dropout,\n",
    "                 use_gate=True):  # feature_dim:输入数据的维数  expert_dim:每个神经元输出的维数  n_expert:专家数量  n_task:任务数(gate数)  use_gate：是否使用门控，如果不使用则各个专家取平均\n",
    "        super(Expert_Gate, self).__init__()\n",
    "        self.n_task = n_task\n",
    "        self.use_gate = use_gate\n",
    "\n",
    "        '''专家网络'''\n",
    "        for i in range(n_expert):\n",
    "            setattr(self, \"expert_layer\" + str(i + 1), Expert(feature_dim, expert_dim, expert_dropout))\n",
    "        self.expert_layers = [getattr(self, \"expert_layer\" + str(i + 1)) for i in range(n_expert)]  # 为每个expert创建一个DNN\n",
    "\n",
    "        '''门控网络'''\n",
    "        for i in range(n_task):\n",
    "            setattr(self, \"gate_layer\" + str(i + 1), nn.Sequential(nn.Linear(feature_dim, n_expert), nn.Softmax(dim=1)))\n",
    "        self.gate_layers = [getattr(self, \"gate_layer\" + str(i + 1)) for i in range(n_task)]  # 为每个gate创建一个lr+softmax\n",
    "\n",
    "    def forward(self, x):\n",
    "        if self.use_gate:\n",
    "            # 多个专家网络的输出\n",
    "            E_net = [expert(x) for expert in self.expert_layers]\n",
    "            E_net = torch.cat(([e[:, np.newaxis, :] for e in E_net]), dim=1)  # (b,n_expert,expert_dim)\n",
    "\n",
    "            # 多个门网络的输出\n",
    "            gate_net = [gate(x) for gate in self.gate_layers]  # n_task个(b,n_expert)\n",
    "\n",
    "            # towers计算：对应的门网络乘上所有的专家网络\n",
    "            towers_input = []\n",
    "            for i in range(self.n_task):\n",
    "                g = gate_net[i].unsqueeze(2)  # (b,n_expert,1)\n",
    "                tower_input = torch.matmul(E_net.transpose(1, 2), g)  # (b,d,n_expert)@(b,n_expert,1)-->(b,expert_dim,1)\n",
    "                towers_input.append(tower_input.squeeze(2))  # (b, expert_dim)\n",
    "        else:\n",
    "            E_net = [expert(x) for expert in self.expert_layers]\n",
    "            towers_input = sum(E_net) / len(E_net)\n",
    "        return towers_input"
   ]
  },
  {
   "cell_type": "code",
   "execution_count": 9,
   "id": "9accd331-b01d-4197-b883-58444e0f9a01",
   "metadata": {},
   "outputs": [],
   "source": [
    "class MMoE(nn.Module):\n",
    "    # feature_dim:输入数据的维数  expert_dim:每个神经元输出的维数  n_expert:专家数量  n_task:任务数(gate数)\n",
    "    def __init__(self, feature_dim, expert_dim, n_expert, n_task, use_gate=True, tower_dropout=0, expert_dropout=0):\n",
    "        super(MMoE, self).__init__()\n",
    "\n",
    "        self.n_task = n_task\n",
    "        self.use_gate = use_gate\n",
    "        self.Expert_Gate = Expert_Gate(feature_dim=feature_dim, expert_dim=expert_dim, n_expert=n_expert, n_task=n_task,\n",
    "                                       expert_dropout=expert_dropout, use_gate=use_gate)\n",
    "\n",
    "        # 对于离散变量做embedding\n",
    "\n",
    "        # education-num有16种值，但是值域是[1,16]，所以num_embeddings要设置为17，否则会报错\n",
    "        # sex有2种值\n",
    "        # workclass_index有7种值\n",
    "        # occupation_index有14种值\n",
    "        # relationship_index有6种值\n",
    "        # race_index有5种值\n",
    "        # native-country_index有41种值\n",
    "        # 拼接后总共有4*6+1+5=30维输入\n",
    "        self.embeddings = nn.ModuleList([\n",
    "            nn.Embedding(num_embeddings=17, embedding_dim=4),\n",
    "            nn.Embedding(num_embeddings=2, embedding_dim=1),\n",
    "            nn.Embedding(num_embeddings=7, embedding_dim=4),\n",
    "            nn.Embedding(num_embeddings=14, embedding_dim=4),\n",
    "            nn.Embedding(num_embeddings=6, embedding_dim=4),\n",
    "            nn.Embedding(num_embeddings=5, embedding_dim=4),\n",
    "            nn.Embedding(num_embeddings=41, embedding_dim=4)\n",
    "        ])\n",
    "\n",
    "        # 顶层的任务塔\n",
    "        hidden_layer1 = [64, 32]\n",
    "        self.towers=nn.ModuleList([\n",
    "            nn.Sequential(\n",
    "                nn.Linear(expert_dim, hidden_layer1[0]),\n",
    "                nn.ReLU(),\n",
    "                nn.Dropout(tower_dropout),\n",
    "                nn.Linear(hidden_layer1[0], hidden_layer1[1]),\n",
    "                nn.ReLU(),\n",
    "                nn.Dropout(tower_dropout),\n",
    "                nn.Linear(hidden_layer1[1], 1))\n",
    "            for i in range(n_task)\n",
    "        ])\n",
    "\n",
    "    def forward(self, x_d, x_c):\n",
    "        temp = []\n",
    "        for i in range(len(self.embeddings)):\n",
    "            temp.append(self.embeddings[i](x_d[:, i]))\n",
    "        temp = temp + [x_c]\n",
    "        x = torch.cat(temp, dim=-1)\n",
    "\n",
    "        towers_input = self.Expert_Gate(x)\n",
    "\n",
    "        outputs = []\n",
    "        if self.use_gate:\n",
    "            for i in range(self.n_task):\n",
    "                outputs.append(self.towers[i](towers_input[i]))\n",
    "        else:\n",
    "            for i in range(self.n_task):\n",
    "                outputs.append(self.towers[i](towers_input))\n",
    "\n",
    "        return outputs"
   ]
  },
  {
   "cell_type": "code",
   "execution_count": 10,
   "id": "af593b44-aa48-4f35-88df-2165577e1242",
   "metadata": {
    "tags": []
   },
   "outputs": [
    {
     "name": "stdout",
     "output_type": "stream",
     "text": [
      "Number of parameters: 29540\n"
     ]
    }
   ],
   "source": [
    "mmoe = MMoE(feature_dim=30,expert_dim=32,n_expert=4,n_task=2,use_gate=True)\n",
    "\n",
    "nParams = sum([p.nelement() for p in mmoe.parameters()])\n",
    "print('Number of parameters: %d' % nParams)"
   ]
  },
  {
   "cell_type": "code",
   "execution_count": 11,
   "id": "7c91579f-1ce3-4c26-86e0-6229e53d0cdb",
   "metadata": {
    "tags": []
   },
   "outputs": [
    {
     "data": {
      "text/plain": [
       "'cuda'"
      ]
     },
     "execution_count": 11,
     "metadata": {},
     "output_type": "execute_result"
    }
   ],
   "source": [
    "device = 'cuda' if torch.cuda.is_available() else \"mps\" if torch.backends.mps.is_available() else 'cpu'\n",
    "device"
   ]
  },
  {
   "cell_type": "code",
   "execution_count": 12,
   "id": "4e5fde70-c74f-4b27-ae10-7b411b379b67",
   "metadata": {
    "tags": []
   },
   "outputs": [],
   "source": [
    "def set_all_seed():\n",
    "    random.seed(42)\n",
    "    np.random.seed(42)\n",
    "    torch.manual_seed(42)\n",
    "    # 如果使用 GPU，也需要固定 CUDA 的随机种子\n",
    "    if torch.cuda.is_available():\n",
    "        torch.cuda.manual_seed(42)\n",
    "        torch.cuda.manual_seed_all(42)  # 如果有多个 GPU\n",
    "set_all_seed()"
   ]
  },
  {
   "cell_type": "code",
   "execution_count": 28,
   "id": "6b55ff24-5b01-499a-8b69-ee0b3dab3c1a",
   "metadata": {
    "tags": []
   },
   "outputs": [
    {
     "ename": "NameError",
     "evalue": "name 'os' is not defined",
     "output_type": "error",
     "traceback": [
      "\u001b[1;31m---------------------------------------------------------------------------\u001b[0m",
      "\u001b[1;31mNameError\u001b[0m                                 Traceback (most recent call last)",
      "Cell \u001b[1;32mIn[28], line 1\u001b[0m\n\u001b[1;32m----> 1\u001b[0m \u001b[38;5;28;01mif\u001b[39;00m \u001b[38;5;129;01mnot\u001b[39;00m os\u001b[38;5;241m.\u001b[39mpath\u001b[38;5;241m.\u001b[39mexists(\u001b[38;5;124m\"\u001b[39m\u001b[38;5;124mmodel/\u001b[39m\u001b[38;5;124m\"\u001b[39m):\n\u001b[0;32m      2\u001b[0m     os\u001b[38;5;241m.\u001b[39mmakedirs(\u001b[38;5;124m\"\u001b[39m\u001b[38;5;124mmodel/\u001b[39m\u001b[38;5;124m\"\u001b[39m)\n",
      "\u001b[1;31mNameError\u001b[0m: name 'os' is not defined"
     ]
    }
   ],
   "source": [
    "if not os.path.exists(\"model/\"):\n",
    "    os.makedirs(\"model/\") "
   ]
  },
  {
   "cell_type": "code",
   "execution_count": 13,
   "id": "a0c627ad-2d4c-4ded-a337-c93273f7d626",
   "metadata": {},
   "outputs": [],
   "source": [
    "def train(mymodel, lr, N_epochs, batch_size):\n",
    "    mymodel = mymodel.to(device)\n",
    "    loss_fun = nn.BCEWithLogitsLoss()\n",
    "    optimizer = torch.optim.Adam(mymodel.parameters(), lr=lr)\n",
    "    adam_batch_loss = []\n",
    "    losses = []\n",
    "    val_losses = []\n",
    "    best_loss = float(\"inf\")\n",
    "    train_dataloader = DataLoader(train_dataset, batch_size=batch_size, shuffle=True, drop_last=True)\n",
    "    val_dataloader = DataLoader(val_dataset, batch_size=batch_size, shuffle=True, drop_last=True)\n",
    "    tot_iters=0\n",
    "\n",
    "    for epoch in range(N_epochs):\n",
    "        # train loop\n",
    "        batch_loss = []\n",
    "        for x_d_batch, x_c_batch, y1_batch, y2_batch in train_dataloader:\n",
    "            tot_iters+=1\n",
    "            \n",
    "            x_d_batch = x_d_batch.to(device)\n",
    "            x_c_batch = x_c_batch.to(device)\n",
    "            y1_batch = y1_batch.to(device)\n",
    "            y2_batch = y2_batch.to(device)\n",
    "\n",
    "            y1_pred, y2_pred = mymodel(x_d_batch, x_c_batch)  # 两个task\n",
    "            y1_pred = y1_pred.squeeze(1)\n",
    "            y2_pred = y2_pred.squeeze(1)\n",
    "\n",
    "            loss = loss_fun(y1_pred, y1_batch) + loss_fun(y2_pred, y2_batch)  # 此处令两个任务的损失值权重均为1\n",
    "\n",
    "            optimizer.zero_grad()\n",
    "            loss.backward()\n",
    "            optimizer.step()\n",
    "\n",
    "            # record result\n",
    "            adam_batch_loss.append(loss.detach().cpu().numpy())\n",
    "            batch_loss.append(loss.detach().cpu().numpy())\n",
    "\n",
    "        # val loop\n",
    "        val_batch_loss = []\n",
    "        for x_d_batch, x_c_batch, y1_batch, y2_batch in val_dataloader:\n",
    "            x_d_batch = x_d_batch.to(device)\n",
    "            x_c_batch = x_c_batch.to(device)\n",
    "            y1_batch = y1_batch.to(device)\n",
    "            y2_batch = y2_batch.to(device)\n",
    "\n",
    "            y1_pred, y2_pred = mymodel(x_d_batch, x_c_batch)  # 两个task\n",
    "            y1_pred = y1_pred.squeeze(1)\n",
    "            y2_pred = y2_pred.squeeze(1)\n",
    "\n",
    "            loss = loss_fun(y1_pred, y1_batch) + loss_fun(y2_pred, y2_batch)  # 此处令两个任务的损失值权重均为1\n",
    "\n",
    "            # record result\n",
    "            val_batch_loss.append(loss.detach().cpu().numpy())\n",
    "\n",
    "        # post processing\n",
    "        losses.append(np.mean(np.array(batch_loss)))\n",
    "        val_losses.append(np.mean(np.array(val_batch_loss)))\n",
    "\n",
    "        # print progress\n",
    "        print(f\"Epoch={epoch},train_loss={losses[-1]},val_loss={val_losses[-1]}\")\n",
    "\n",
    "        # save best model\n",
    "        if (val_losses[-1] < best_loss):\n",
    "            print(\"current epoch is the best so far. Saving model...\")\n",
    "            torch.save(mymodel.state_dict(), f'model/best_model_{lr}_{N_epochs}_{batch_size}')\n",
    "            best_loss = val_losses[-1]\n",
    "\n",
    "    return losses, val_losses, adam_batch_loss, tot_iters"
   ]
  },
  {
   "cell_type": "code",
   "execution_count": 17,
   "id": "4d6c1be9-7753-4ef2-91f4-ced484eb0a79",
   "metadata": {
    "tags": []
   },
   "outputs": [],
   "source": [
    "batch_size=64\n",
    "N_epochs=30\n",
    "lr=0.001"
   ]
  },
  {
   "cell_type": "code",
   "execution_count": 15,
   "id": "33fc8dbd-93af-4087-b32a-d0132258ec9f",
   "metadata": {
    "tags": []
   },
   "outputs": [
    {
     "name": "stdout",
     "output_type": "stream",
     "text": [
      "Epoch=0,train_loss=5.388401508331299,val_loss=1.688763976097107\n",
      "current epoch is the best so far. Saving model...\n",
      "Epoch=1,train_loss=1.2981064319610596,val_loss=1.4846030473709106\n",
      "current epoch is the best so far. Saving model...\n",
      "Epoch=2,train_loss=1.227745771408081,val_loss=1.4391061067581177\n",
      "current epoch is the best so far. Saving model...\n",
      "Epoch=3,train_loss=1.246004343032837,val_loss=1.348200798034668\n",
      "current epoch is the best so far. Saving model...\n",
      "Epoch=4,train_loss=1.2105284929275513,val_loss=1.4717254638671875\n",
      "Epoch=5,train_loss=1.163098692893982,val_loss=1.3398451805114746\n",
      "current epoch is the best so far. Saving model...\n",
      "Epoch=6,train_loss=1.1659952402114868,val_loss=1.3677881956100464\n",
      "Epoch=7,train_loss=1.1244854927062988,val_loss=1.4472684860229492\n",
      "Epoch=8,train_loss=1.1229525804519653,val_loss=1.3366693258285522\n",
      "current epoch is the best so far. Saving model...\n",
      "Epoch=9,train_loss=1.1117123365402222,val_loss=1.406660795211792\n",
      "Epoch=10,train_loss=1.1122890710830688,val_loss=1.3662779331207275\n",
      "Epoch=11,train_loss=1.1119670867919922,val_loss=1.3658788204193115\n",
      "Epoch=12,train_loss=1.1269956827163696,val_loss=1.267179250717163\n",
      "current epoch is the best so far. Saving model...\n",
      "Epoch=13,train_loss=1.1128666400909424,val_loss=1.4021100997924805\n",
      "Epoch=14,train_loss=1.1088972091674805,val_loss=1.3324956893920898\n",
      "Epoch=15,train_loss=1.1126657724380493,val_loss=1.2988109588623047\n",
      "Epoch=16,train_loss=1.1173094511032104,val_loss=1.3579927682876587\n",
      "Epoch=17,train_loss=1.101285457611084,val_loss=1.2256253957748413\n",
      "current epoch is the best so far. Saving model...\n",
      "Epoch=18,train_loss=1.1060450077056885,val_loss=1.3996413946151733\n",
      "Epoch=19,train_loss=1.1428066492080688,val_loss=1.3999258279800415\n",
      "Epoch=20,train_loss=1.1186579465866089,val_loss=1.244955062866211\n",
      "Epoch=21,train_loss=1.0839636325836182,val_loss=1.409057378768921\n",
      "Epoch=22,train_loss=1.062198519706726,val_loss=1.2492876052856445\n",
      "Epoch=23,train_loss=1.0519425868988037,val_loss=1.310624599456787\n",
      "Epoch=24,train_loss=1.1049375534057617,val_loss=1.3490021228790283\n",
      "Epoch=25,train_loss=1.072087049484253,val_loss=1.200546145439148\n",
      "current epoch is the best so far. Saving model...\n",
      "Epoch=26,train_loss=1.0196051597595215,val_loss=1.1660925149917603\n",
      "current epoch is the best so far. Saving model...\n",
      "Epoch=27,train_loss=1.0202902555465698,val_loss=1.233871579170227\n",
      "Epoch=28,train_loss=1.008841633796692,val_loss=1.1786483526229858\n",
      "Epoch=29,train_loss=1.0042238235473633,val_loss=1.2783443927764893\n"
     ]
    }
   ],
   "source": [
    "losses, val_losses, adam_batch_loss, tot_iters = train(mymodel=mmoe, lr=lr, N_epochs=N_epochs, batch_size=batch_size)"
   ]
  },
  {
   "cell_type": "code",
   "execution_count": 18,
   "id": "172da090-cd5d-4ac9-8e85-f7b9337bd952",
   "metadata": {
    "tags": []
   },
   "outputs": [
    {
     "data": {
      "text/plain": [
       "<matplotlib.legend.Legend at 0x1a9feb49f90>"
      ]
     },
     "execution_count": 18,
     "metadata": {},
     "output_type": "execute_result"
    },
    {
     "data": {
      "image/png": "[encoded data removed]",
      "text/plain": [
       "<Figure size 1500x800 with 3 Axes>"
      ]
     },
     "metadata": {},
     "output_type": "display_data"
    }
   ],
   "source": [
    "# visualization\n",
    "fix,axes=plt.subplots(nrows=1,ncols=3,figsize=(15, 8))\n",
    "\n",
    "axes[0].plot(range(N_epochs),losses,label=\"Train_loss\")\n",
    "axes[0].set_xlabel('Iteration')\n",
    "axes[0].set_ylabel('Loss')\n",
    "axes[0].legend()\n",
    "\n",
    "# axes[1].plot(range(N_epochs),best_model_loss[0],label=\"Train Loss\")\n",
    "# Validation loss is stable here \n",
    "axes[1].plot(range(N_epochs),val_losses,label=\"Validation Loss\")\n",
    "axes[1].set_xlabel('Epochs')\n",
    "axes[1].set_ylabel('Loss')\n",
    "axes[1].legend()\n",
    "\n",
    "axes[2].plot(range(tot_iters),adam_batch_loss,label=\"Iteration Loss\")\n",
    "axes[2].set_xlabel('iter_num')\n",
    "axes[2].set_ylabel('Loss')\n",
    "axes[2].legend()"
   ]
  },
  {
   "cell_type": "code",
   "execution_count": 24,
   "id": "4dfa8a23-5123-4aa7-9d19-83355f110139",
   "metadata": {
    "tags": []
   },
   "outputs": [],
   "source": [
    "x_d_test, x_c_test, y1_test, y2_test= x_d[37500:45000].to(device),x_c[30000:37500].to(device),y1[37500:45000],y2[37500:45000]"
   ]
  },
  {
   "cell_type": "code",
   "execution_count": 25,
   "id": "07be8985-798b-47da-aa00-f79836a6ee4f",
   "metadata": {
    "tags": []
   },
   "outputs": [],
   "source": [
    "y1_pred,y2_pred = mmoe(x_d_test,x_c_test)\n",
    "y1_pred=y1_pred.squeeze(1).detach().cpu().numpy()\n",
    "y2_pred=y2_pred.squeeze(1).detach().cpu().numpy()"
   ]
  },
  {
   "cell_type": "code",
   "execution_count": 26,
   "id": "89fdb611-85ee-4def-809e-154933380a03",
   "metadata": {
    "tags": []
   },
   "outputs": [],
   "source": [
    "from sklearn.metrics import roc_curve, auc\n",
    "\n",
    "def get_auc(y_true,y_pred):\n",
    "    # 获取 ROC 曲线\n",
    "    fpr, tpr, thresholds = roc_curve(y_true, y_pred)\n",
    "\n",
    "    # 计算 AUC\n",
    "    calculated_auc = auc(fpr, tpr)\n",
    "    print(f\"Custom AUC: {calculated_auc}\")\n",
    "    return calculated_auc"
   ]
  },
  {
   "cell_type": "code",
   "execution_count": 27,
   "id": "8eb92365-d745-4b88-b692-517b7a997c1b",
   "metadata": {
    "tags": []
   },
   "outputs": [
    {
     "name": "stdout",
     "output_type": "stream",
     "text": [
      "Custom AUC: 0.8026804006091481\n",
      "Custom AUC: 0.5\n"
     ]
    }
   ],
   "source": [
    "auc1=get_auc(y1_test,y1_pred)\n",
    "auc2=get_auc(y2_test,y2_pred)"
   ]
  },
  {
   "cell_type": "code",
   "execution_count": null,
   "id": "a37a0feb-d23e-4712-a100-b9419f2f9012",
   "metadata": {},
   "outputs": [],
   "source": []
  }
 ],
 "metadata": {
  "kernelspec": {
   "display_name": "Python 3 (ipykernel)",
   "language": "python",
   "name": "python3"
  },
  "language_info": {
   "codemirror_mode": {
    "name": "ipython",
    "version": 3
   },
   "file_extension": ".py",
   "mimetype": "text/x-python",
   "name": "python",
   "nbconvert_exporter": "python",
   "pygments_lexer": "ipython3",
   "version": "3.11.4"
  }
 },
 "nbformat": 4,
 "nbformat_minor": 5
}
