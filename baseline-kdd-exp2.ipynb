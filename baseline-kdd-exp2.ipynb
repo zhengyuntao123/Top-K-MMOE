{
 "cells": [
  {
   "cell_type": "code",
   "execution_count": 1,
   "id": "17b71820-c9fe-4235-871f-634550a52f10",
   "metadata": {
    "tags": []
   },
   "outputs": [
    {
     "name": "stdout",
     "output_type": "stream",
     "text": [
      "WARNING:tensorflow:From C:\\anaconda3\\Lib\\site-packages\\keras\\src\\losses.py:2976: The name tf.losses.sparse_softmax_cross_entropy is deprecated. Please use tf.compat.v1.losses.sparse_softmax_cross_entropy instead.\n",
      "\n"
     ]
    }
   ],
   "source": [
    "import pandas as pd\n",
    "from torch.utils.data import Dataset,DataLoader\n",
    "from torch.utils.tensorboard import SummaryWriter\n",
    "import torch\n",
    "import numpy as np\n",
    "import ast\n",
    "import torch.nn as nn\n",
    "import torch.optim as optim\n",
    "import random\n",
    "from matplotlib import pyplot as plt\n",
    "import os\n",
    "from datetime import datetime"
   ]
  },
  {
   "cell_type": "code",
   "execution_count": 2,
   "id": "839522e6-e1b3-4a1f-ac69-86e1e586357d",
   "metadata": {
    "tags": []
   },
   "outputs": [],
   "source": [
    "# 方便复现结果\n",
    "def set_all_seed(seed):\n",
    "    random.seed(seed)\n",
    "    np.random.seed(seed)\n",
    "    torch.manual_seed(seed)\n",
    "    # 如果使用 GPU，也需要固定 CUDA 的随机种子\n",
    "    if torch.cuda.is_available():\n",
    "        torch.cuda.manual_seed(seed)\n",
    "        torch.cuda.manual_seed_all(seed)  # 如果有多个 GPU\n",
    "set_all_seed(42)"
   ]
  },
  {
   "cell_type": "code",
   "execution_count": 3,
   "id": "2757b3f3-a89a-43eb-bb7b-75abe57eeb69",
   "metadata": {
    "tags": []
   },
   "outputs": [],
   "source": [
    "# 前25个特征是离散特征，后13个特征是连续特征\n",
    "df_train=pd.read_csv(\"data/exp2/raw_train.csv\")\n",
    "df_test=pd.read_csv(\"data/exp2/raw_test.csv\")"
   ]
  },
  {
   "cell_type": "code",
   "execution_count": 4,
   "id": "fad4c8d9-3836-4bee-9f54-8162b2404f4e",
   "metadata": {
    "tags": []
   },
   "outputs": [],
   "source": [
    "df_train['vectorized_features_2'] = df_train['vectorized_features_2'].apply(ast.literal_eval)\n",
    "df_test['vectorized_features_2'] = df_test['vectorized_features_2'].apply(ast.literal_eval)"
   ]
  },
  {
   "cell_type": "code",
   "execution_count": 5,
   "id": "db233a0d-0372-445c-9f1f-12c0d599af95",
   "metadata": {
    "tags": []
   },
   "outputs": [
    {
     "name": "stdout",
     "output_type": "stream",
     "text": [
      "tensor([[2, 6, 6,  ..., 0, 0, 0],\n",
      "        [0, 0, 0,  ..., 0, 0, 0],\n",
      "        [0, 0, 0,  ..., 0, 0, 0],\n",
      "        ...,\n",
      "        [1, 1, 5,  ..., 0, 0, 0],\n",
      "        [0, 0, 0,  ..., 0, 0, 0],\n",
      "        [5, 7, 3,  ..., 0, 0, 0]])\n",
      "torch.Size([95130, 25])\n",
      "tensor([[58.,  4., 34.,  ..., 52., 94.,  0.],\n",
      "        [ 9.,  0.,  0.,  ...,  0., 94.,  0.],\n",
      "        [10.,  0.,  0.,  ...,  0., 94.,  0.],\n",
      "        ...,\n",
      "        [51., 33., 19.,  ..., 52., 94.,  0.],\n",
      "        [ 3.,  0.,  0.,  ...,  0., 94.,  0.],\n",
      "        [65., 37.,  2.,  ..., 52., 94.,  0.]])\n",
      "torch.Size([95130, 14])\n",
      "tensor([0., 0., 0.,  ..., 0., 0., 0.])\n",
      "torch.Size([95130])\n",
      "tensor([0., 1., 1.,  ..., 0., 1., 0.])\n",
      "torch.Size([95130])\n"
     ]
    }
   ],
   "source": [
    "# 获取训练数据\n",
    "x_train=torch.from_numpy(np.array(df_train['vectorized_features_2'].values.tolist(),np.float32))\n",
    "x_train_d=x_train[:,:25].long() # 前25维是离散变量(discrete)，要转为long类型才能送入embedding层\n",
    "x_train_c=x_train[:,25:] # 中间13维是连续变量(continuous), 最后一维是0或1，也当做连续变量\n",
    "y1_train=torch.from_numpy(np.array(df_train['AHSCOL'].values.tolist(),np.float32))\n",
    "y2_train=torch.from_numpy(np.array(df_train['AMARITL'].values.tolist(),np.float32))\n",
    "\n",
    "print(x_train_d)\n",
    "print(x_train_d.shape)\n",
    "print(x_train_c)\n",
    "print(x_train_c.shape)\n",
    "print(y1_train)\n",
    "print(y1_train.shape)\n",
    "print(y2_train)\n",
    "print(y2_train.shape)"
   ]
  },
  {
   "cell_type": "markdown",
   "id": "0619ba25-2fbd-4ff8-b9af-11a865f79efe",
   "metadata": {
    "tags": []
   },
   "source": [
    "计算两个任务的标签间的pearson相关系数"
   ]
  },
  {
   "cell_type": "code",
   "execution_count": 6,
   "id": "7406af32-21f3-4d39-8c6e-775c377ce15a",
   "metadata": {
    "tags": []
   },
   "outputs": [
    {
     "name": "stdout",
     "output_type": "stream",
     "text": [
      "Absolute Pearson correlation coefficient: 0.16661069841980908\n",
      "P-value: 0.0\n"
     ]
    }
   ],
   "source": [
    "from scipy.stats import pearsonr\n",
    "corr, p_value = pearsonr(y1_train, y2_train)\n",
    "# 和原论文的0.2373不相同，主要是因为数据预处理时的细节不同\n",
    "# 我的做法是删除掉AHGA，然后把AHSCOL转化为0或1；原论文的做法可能是删除掉AHSCOL，把AHGA转化为0或1\n",
    "print(f\"Absolute Pearson correlation coefficient: {abs(corr)}\") \n",
    "print(f\"P-value: {p_value}\")"
   ]
  },
  {
   "cell_type": "code",
   "execution_count": 7,
   "id": "c63ecbef-401b-489a-ac4a-3223db4424ae",
   "metadata": {
    "tags": []
   },
   "outputs": [
    {
     "name": "stdout",
     "output_type": "stream",
     "text": [
      "tensor([[ 1,  9,  4,  ...,  0,  0,  0],\n",
      "        [ 0,  0,  0,  ...,  0,  0,  0],\n",
      "        [ 0,  0,  0,  ...,  0,  0,  0],\n",
      "        ...,\n",
      "        [ 1,  3,  1,  ...,  0,  0,  0],\n",
      "        [ 2, 14, 10,  ...,  1,  2,  0],\n",
      "        [ 0,  0,  0,  ...,  0,  0,  0]])\n",
      "torch.Size([47391, 25])\n",
      "tensor([[35., 29.,  3.,  ..., 52., 94.,  0.],\n",
      "        [13.,  0.,  0.,  ...,  0., 94.,  0.],\n",
      "        [ 1.,  0.,  0.,  ...,  0., 94.,  0.],\n",
      "        ...,\n",
      "        [22., 43., 26.,  ..., 52., 94.,  0.],\n",
      "        [24.,  1., 43.,  ..., 52., 94.,  0.],\n",
      "        [67.,  0.,  0.,  ...,  0., 94.,  0.]])\n",
      "torch.Size([47391, 14])\n",
      "tensor([0., 0., 0.,  ..., 1., 0., 0.])\n",
      "torch.Size([47391])\n",
      "tensor([0., 1., 1.,  ..., 1., 0., 0.])\n",
      "torch.Size([47391])\n"
     ]
    }
   ],
   "source": [
    "# 获取测试数据\n",
    "x_test=torch.from_numpy(np.array(df_test['vectorized_features_2'].values.tolist(),np.float32))\n",
    "x_test_d=x_test[:,:25].long() # 前25维是离散变量(discrete)，要转为long类型才能送入embedding层\n",
    "x_test_c=x_test[:,25:] # 中间13维是连续变量(continuous), 最后一维是0或1，也当做连续变量\n",
    "y1_test=torch.from_numpy(np.array(df_test['AHSCOL'].values.tolist(),np.float32))\n",
    "y2_test=torch.from_numpy(np.array(df_test['AMARITL'].values.tolist(),np.float32))\n",
    "\n",
    "print(x_test_d)\n",
    "print(x_test_d.shape)\n",
    "print(x_test_c)\n",
    "print(x_test_c.shape)\n",
    "print(y1_test)\n",
    "print(y1_test.shape)\n",
    "print(y2_test)\n",
    "print(y2_test.shape)"
   ]
  },
  {
   "cell_type": "code",
   "execution_count": 8,
   "id": "d04e2b1c-d985-461b-a088-9f6ce566c939",
   "metadata": {
    "tags": []
   },
   "outputs": [],
   "source": [
    "class MyDataset(Dataset):\n",
    "    def __init__(self,x_discrete,x_continuous,y1,y2):\n",
    "        self.x_d=x_discrete\n",
    "        self.x_c=x_continuous\n",
    "        self.y1=y1\n",
    "        self.y2=y2\n",
    "    def __len__(self):\n",
    "        return self.x_d.shape[0]\n",
    "    def __getitem__(self,idx):\n",
    "        return (self.x_d[idx],self.x_c[idx],self.y1[idx],self.y2[idx])"
   ]
  },
  {
   "cell_type": "code",
   "execution_count": 9,
   "id": "594d5a51-60a3-4ee2-bf22-5630767071e6",
   "metadata": {
    "tags": []
   },
   "outputs": [],
   "source": [
    "# 训练集\n",
    "train_dataset=MyDataset(x_train_d,x_train_c,y1_train,y2_train)\n",
    "# 验证集和测试集按照原论文1:1\n",
    "val_dataset=MyDataset(x_test_d[:23695],x_test_c[:23695],y1_test[:23695],y2_test[:23695])\n",
    "test_dataset=MyDataset(x_test_d[23695:47390],x_test_c[23695:47390],y1_test[23695:47390],y2_test[23695:47390])"
   ]
  },
  {
   "cell_type": "code",
   "execution_count": 10,
   "id": "6fb7b080-32f4-42e5-b60d-2615e7c82026",
   "metadata": {
    "tags": []
   },
   "outputs": [],
   "source": [
    "class Expert(nn.Module):\n",
    "    def __init__(self, input_dim, output_dim, expert_dropout):  # input_dim代表输入维度，output_dim代表输出维度\n",
    "        super(Expert, self).__init__()\n",
    "\n",
    "        expert_hidden_layers = [64, 32]\n",
    "        self.expert_layer = nn.Sequential(\n",
    "            nn.Linear(input_dim, expert_hidden_layers[0]),\n",
    "            nn.ReLU(),\n",
    "            nn.Linear(expert_hidden_layers[0], expert_hidden_layers[1]),\n",
    "            nn.ReLU(),\n",
    "            nn.Linear(expert_hidden_layers[1], output_dim),\n",
    "            nn.ReLU(),\n",
    "            nn.Dropout(expert_dropout)\n",
    "        )\n",
    "\n",
    "    def forward(self, x):\n",
    "        out = self.expert_layer(x)\n",
    "        return out\n",
    "\n",
    "\n",
    "class Expert_Gate(nn.Module):\n",
    "    # feature_dim:输入数据的维数  expert_dim:每个神经元输出的维数  n_expert:专家数量  n_task:任务数(gate数)  use_gate：是否使用门控，如果不使用则各个专家取平均\n",
    "    def __init__(self, feature_dim, expert_dim, n_expert, n_task, expert_dropout, gate_dropout,use_gate=True):  \n",
    "        super(Expert_Gate, self).__init__()\n",
    "        self.n_task = n_task\n",
    "        self.use_gate = use_gate\n",
    "        self.n_expert = n_expert\n",
    "\n",
    "        '''专家网络'''\n",
    "        for i in range(n_expert):\n",
    "            setattr(self, \"expert_layer\" + str(i + 1), Expert(feature_dim, expert_dim, expert_dropout))\n",
    "        self.expert_layers = [getattr(self, \"expert_layer\" + str(i + 1)) for i in range(n_expert)]  # 为每个expert创建一个DNN\n",
    "\n",
    "        '''门控网络'''\n",
    "        for i in range(n_task):\n",
    "            setattr(self, \"gate_layer\" + str(i + 1), nn.Sequential(nn.Linear(feature_dim, n_expert), \n",
    "                                                                   nn.Dropout(gate_dropout),\n",
    "                                                                   nn.Softmax(dim=1)))\n",
    "        self.gate_layers = [getattr(self, \"gate_layer\" + str(i + 1)) for i in range(n_task)]  # 为每个gate创建一个lr+softmax\n",
    "\n",
    "    def forward(self, x):\n",
    "        if self.use_gate:\n",
    "            # 多个专家网络的输出\n",
    "            E_net = [expert(x) for expert in self.expert_layers]\n",
    "            E_net = torch.cat(([e[:, np.newaxis, :] for e in E_net]), dim=1)  # (b,n_expert,expert_dim)\n",
    "\n",
    "            # 多个门网络的输出\n",
    "            gate_net = [gate(x) for gate in self.gate_layers]  # n_task个(b,n_expert)\n",
    "            \n",
    "            # 记录每个batch内第一个样本的门网络的输出\n",
    "            for i in range(self.n_task):\n",
    "                for j in range(self.n_expert):\n",
    "                    writer.add_scalar(f\"task_{i}/expert_{j}_weight\", gate_net[i][0][j], tot_iters)\n",
    "\n",
    "            # towers计算：对应的门网络乘上所有的专家网络\n",
    "            towers_input = []\n",
    "            for i in range(self.n_task):\n",
    "                g = gate_net[i].unsqueeze(2)  # (b,n_expert,1)\n",
    "                tower_input = torch.matmul(E_net.transpose(1, 2), g)  # (b,d,n_expert)@(b,n_expert,1)-->(b,expert_dim,1)\n",
    "                towers_input.append(tower_input.squeeze(2))  # (b, expert_dim)\n",
    "        else:\n",
    "            E_net = [expert(x) for expert in self.expert_layers]\n",
    "            towers_input = sum(E_net) / len(E_net)\n",
    "        return towers_input"
   ]
  },
  {
   "cell_type": "code",
   "execution_count": 11,
   "id": "9accd331-b01d-4197-b883-58444e0f9a01",
   "metadata": {},
   "outputs": [],
   "source": [
    "class MMoE(nn.Module):\n",
    "    # feature_dim:输入数据的维数  expert_dim:每个神经元输出的维数  n_expert:专家数量  n_task:任务数(gate数)\n",
    "    def __init__(self, feature_dim, expert_dim, n_expert, n_task, use_gate=True, tower_dropout=0, expert_dropout=0, gate_dropout=0):\n",
    "        super(MMoE, self).__init__()\n",
    "\n",
    "        self.n_task = n_task\n",
    "        self.use_gate = use_gate\n",
    "        self.Expert_Gate = Expert_Gate(feature_dim=feature_dim, expert_dim=expert_dim, n_expert=n_expert, n_task=n_task,\n",
    "                                       expert_dropout=expert_dropout, gate_dropout=gate_dropout, use_gate=use_gate)\n",
    "\n",
    "        # 对于离散变量做embedding\n",
    "        # 25种离散变量\n",
    "        vocab_size_list = [9,24,15,5,10,2,3,6,1,6,6,50,37,8,9,8,9,3,3,5,40,40,41,5,3]\n",
    "        self.embeddings = nn.ModuleList([\n",
    "            nn.Embedding(num_embeddings=i, embedding_dim=4) for i in vocab_size_list\n",
    "        ])\n",
    "        # 合计送入expert的维度为:25*4+14=114\n",
    "\n",
    "        # 顶层的任务塔\n",
    "        hidden_layer1 = [64, 32]\n",
    "        self.towers=nn.ModuleList([\n",
    "            nn.Sequential(\n",
    "                nn.Linear(expert_dim, hidden_layer1[0]),\n",
    "                nn.ReLU(),\n",
    "                nn.Linear(hidden_layer1[0], hidden_layer1[1]),\n",
    "                nn.ReLU(),\n",
    "                nn.Dropout(tower_dropout),\n",
    "                nn.Linear(hidden_layer1[1], 1))\n",
    "            for i in range(n_task)\n",
    "        ])\n",
    "        \n",
    "        self.sigmoid=nn.Sigmoid()\n",
    "\n",
    "    def forward(self, x_d, x_c):\n",
    "        temp = []\n",
    "        for i in range(len(self.embeddings)):\n",
    "            temp.append(self.embeddings[i](x_d[:, i]))\n",
    "        temp = temp + [x_c]\n",
    "        x = torch.cat(temp, dim=-1)\n",
    "\n",
    "        towers_input = self.Expert_Gate(x)\n",
    "\n",
    "        outputs = []\n",
    "        if self.use_gate:\n",
    "            for i in range(self.n_task):\n",
    "                outputs.append(self.sigmoid(self.towers[i](towers_input[i])))\n",
    "        else:\n",
    "            for i in range(self.n_task):\n",
    "                outputs.append(self.sigmoid(self.towers[i](towers_input)))\n",
    "\n",
    "        return outputs"
   ]
  },
  {
   "cell_type": "code",
   "execution_count": 12,
   "id": "3aa509e4-98ff-4558-8013-8eb866fa7033",
   "metadata": {
    "tags": []
   },
   "outputs": [],
   "source": [
    "# model config\n",
    "feature_dim=114\n",
    "expert_dim=32\n",
    "n_expert=4\n",
    "n_task=2\n",
    "use_gate=True\n",
    "gate_dropout=0.2\n",
    "tower_dropout=0\n",
    "expert_dropout=0"
   ]
  },
  {
   "cell_type": "code",
   "execution_count": 13,
   "id": "af593b44-aa48-4f35-88df-2165577e1242",
   "metadata": {
    "tags": []
   },
   "outputs": [
    {
     "name": "stdout",
     "output_type": "stream",
     "text": [
      "Number of parameters: 52746\n"
     ]
    }
   ],
   "source": [
    "mmoe = MMoE(feature_dim=feature_dim,expert_dim=expert_dim,n_expert=n_expert,n_task=n_task,use_gate=use_gate, gate_dropout=gate_dropout, expert_dropout=expert_dropout, tower_dropout=tower_dropout)\n",
    "\n",
    "nParams = sum([p.nelement() for p in mmoe.parameters()])\n",
    "print('Number of parameters: %d' % nParams)"
   ]
  },
  {
   "cell_type": "code",
   "execution_count": 14,
   "id": "7c91579f-1ce3-4c26-86e0-6229e53d0cdb",
   "metadata": {
    "tags": []
   },
   "outputs": [
    {
     "data": {
      "text/plain": [
       "'cuda'"
      ]
     },
     "execution_count": 14,
     "metadata": {},
     "output_type": "execute_result"
    }
   ],
   "source": [
    "device = 'cuda' if torch.cuda.is_available() else \"mps\" if torch.backends.mps.is_available() else 'cpu'\n",
    "device"
   ]
  },
  {
   "cell_type": "code",
   "execution_count": 15,
   "id": "6b55ff24-5b01-499a-8b69-ee0b3dab3c1a",
   "metadata": {
    "tags": []
   },
   "outputs": [],
   "source": [
    "if not os.path.exists(\"model/exp2/\"):\n",
    "    os.makedirs(\"model/exp2/\") "
   ]
  },
  {
   "cell_type": "code",
   "execution_count": 16,
   "id": "a0c627ad-2d4c-4ded-a337-c93273f7d626",
   "metadata": {},
   "outputs": [],
   "source": [
    "def train(mymodel, lr, N_epochs, batch_size):\n",
    "    global writer\n",
    "    log_dir = os.path.join(\"logs/exp1\", datetime.now().strftime(\"%Y-%m-%d_%H-%M-%S\"))\n",
    "    writer = SummaryWriter(log_dir=log_dir)\n",
    "    global tot_iters\n",
    "    tot_iters = 0\n",
    "    mymodel = mymodel.to(device)\n",
    "    loss_fun = nn.BCELoss()\n",
    "    optimizer = torch.optim.Adam(mymodel.parameters(), lr=lr)\n",
    "    adam_batch_loss = []\n",
    "    losses = []\n",
    "    val_losses = []\n",
    "    best_loss = float(\"inf\")\n",
    "    train_dataloader = DataLoader(train_dataset, batch_size=batch_size, shuffle=True, drop_last=True)\n",
    "    val_dataloader = DataLoader(val_dataset, batch_size=batch_size, shuffle=True, drop_last=True)\n",
    "\n",
    "    for epoch in range(N_epochs):\n",
    "        # train loop\n",
    "        batch_loss = []\n",
    "        mymodel.train()\n",
    "        for x_d_batch, x_c_batch, y1_batch, y2_batch in train_dataloader:\n",
    "            tot_iters+=1\n",
    "            \n",
    "            x_d_batch = x_d_batch.to(device)\n",
    "            x_c_batch = x_c_batch.to(device)\n",
    "            y1_batch = y1_batch.to(device)\n",
    "            y2_batch = y2_batch.to(device)\n",
    "\n",
    "            y1_pred, y2_pred = mymodel(x_d_batch, x_c_batch)  # 两个task\n",
    "            y1_pred = y1_pred.squeeze(1)\n",
    "            y2_pred = y2_pred.squeeze(1)\n",
    "            \n",
    "            loss1 = loss_fun(y1_pred, y1_batch)\n",
    "            loss2 = loss_fun(y2_pred, y2_batch)\n",
    "            writer.add_scalar(f\"loss1\", loss1, tot_iters)\n",
    "            writer.add_scalar(f\"loss2\", loss2, tot_iters)\n",
    "            loss = loss1+loss2  # 此处令两个任务的损失值权重均为1\n",
    "\n",
    "            optimizer.zero_grad()\n",
    "            loss.backward()\n",
    "            optimizer.step()\n",
    "\n",
    "            # record result\n",
    "            adam_batch_loss.append(loss.detach().cpu().numpy())\n",
    "            batch_loss.append(loss.detach().cpu().numpy())\n",
    "\n",
    "        # val loop\n",
    "        val_batch_loss = []\n",
    "        mymodel.eval()\n",
    "        for x_d_batch, x_c_batch, y1_batch, y2_batch in val_dataloader:\n",
    "            x_d_batch = x_d_batch.to(device)\n",
    "            x_c_batch = x_c_batch.to(device)\n",
    "            y1_batch = y1_batch.to(device)\n",
    "            y2_batch = y2_batch.to(device)\n",
    "\n",
    "            y1_pred, y2_pred = mymodel(x_d_batch, x_c_batch)  # 两个task\n",
    "            y1_pred = y1_pred.squeeze(1)\n",
    "            y2_pred = y2_pred.squeeze(1)\n",
    "\n",
    "            loss = loss_fun(y1_pred, y1_batch) + loss_fun(y2_pred, y2_batch)\n",
    "\n",
    "            # record result\n",
    "            val_batch_loss.append(loss.detach().cpu().numpy())\n",
    "\n",
    "        # post processing\n",
    "        losses.append(np.mean(np.array(batch_loss)))\n",
    "        val_losses.append(np.mean(np.array(val_batch_loss)))\n",
    "\n",
    "        # print progress\n",
    "        print(f\"Epoch={epoch},train_loss={losses[-1]},val_loss={val_losses[-1]}\")\n",
    "        writer.add_scalar(f\"train_loss\", losses[-1], epoch)\n",
    "        writer.add_scalar(f\"val_loss\", val_losses[-1], epoch)\n",
    "\n",
    "        # save best model\n",
    "        if (val_losses[-1] < best_loss):\n",
    "            print(\"current epoch is the best so far. Saving model...\")\n",
    "            torch.save(mymodel.state_dict(), f'model/exp2/best_model_{lr}_{N_epochs}_{batch_size}_{gate_dropout}_{expert_dropout}_{tower_dropout}')\n",
    "            best_loss = val_losses[-1]\n",
    "    \n",
    "    writer.close()\n",
    "\n",
    "    return losses, val_losses, adam_batch_loss"
   ]
  },
  {
   "cell_type": "code",
   "execution_count": 17,
   "id": "4d6c1be9-7753-4ef2-91f4-ced484eb0a79",
   "metadata": {
    "tags": []
   },
   "outputs": [],
   "source": [
    "batch_size=64\n",
    "N_epochs=50\n",
    "lr=0.0001"
   ]
  },
  {
   "cell_type": "code",
   "execution_count": 18,
   "id": "33fc8dbd-93af-4087-b32a-d0132258ec9f",
   "metadata": {
    "tags": []
   },
   "outputs": [
    {
     "name": "stdout",
     "output_type": "stream",
     "text": [
      "Epoch=0,train_loss=0.5261111259460449,val_loss=0.31929218769073486\n",
      "current epoch is the best so far. Saving model...\n",
      "Epoch=1,train_loss=0.29624009132385254,val_loss=0.26518017053604126\n",
      "current epoch is the best so far. Saving model...\n",
      "Epoch=2,train_loss=0.2512803077697754,val_loss=0.24253693222999573\n",
      "current epoch is the best so far. Saving model...\n",
      "Epoch=3,train_loss=0.22844448685646057,val_loss=0.21547569334506989\n",
      "current epoch is the best so far. Saving model...\n",
      "Epoch=4,train_loss=0.21439413726329803,val_loss=0.20369015634059906\n",
      "current epoch is the best so far. Saving model...\n",
      "Epoch=5,train_loss=0.20920789241790771,val_loss=0.19315800070762634\n",
      "current epoch is the best so far. Saving model...\n",
      "Epoch=6,train_loss=0.20451386272907257,val_loss=0.20034664869308472\n",
      "Epoch=7,train_loss=0.19194857776165009,val_loss=0.1917770355939865\n",
      "current epoch is the best so far. Saving model...\n",
      "Epoch=8,train_loss=0.19110320508480072,val_loss=0.18456149101257324\n",
      "current epoch is the best so far. Saving model...\n",
      "Epoch=9,train_loss=0.18456389009952545,val_loss=0.18118619918823242\n",
      "current epoch is the best so far. Saving model...\n",
      "Epoch=10,train_loss=0.18363991379737854,val_loss=0.1964213252067566\n",
      "Epoch=11,train_loss=0.17923347651958466,val_loss=0.1838502287864685\n",
      "Epoch=12,train_loss=0.17826923727989197,val_loss=0.18560053408145905\n",
      "Epoch=13,train_loss=0.17559494078159332,val_loss=0.17696338891983032\n",
      "current epoch is the best so far. Saving model...\n",
      "Epoch=14,train_loss=0.17372822761535645,val_loss=0.17341499030590057\n",
      "current epoch is the best so far. Saving model...\n",
      "Epoch=15,train_loss=0.1702946573495865,val_loss=0.17629216611385345\n",
      "Epoch=16,train_loss=0.1709839552640915,val_loss=0.17419762909412384\n",
      "Epoch=17,train_loss=0.1694961041212082,val_loss=0.17246676981449127\n",
      "current epoch is the best so far. Saving model...\n",
      "Epoch=18,train_loss=0.1686040759086609,val_loss=0.17449280619621277\n",
      "Epoch=19,train_loss=0.16649754345417023,val_loss=0.17558708786964417\n",
      "Epoch=20,train_loss=0.16854006052017212,val_loss=0.17107199132442474\n",
      "current epoch is the best so far. Saving model...\n",
      "Epoch=21,train_loss=0.16756480932235718,val_loss=0.16816212236881256\n",
      "current epoch is the best so far. Saving model...\n",
      "Epoch=22,train_loss=0.16424044966697693,val_loss=0.17263905704021454\n",
      "Epoch=23,train_loss=0.16395767033100128,val_loss=0.17172560095787048\n",
      "Epoch=24,train_loss=0.16298887133598328,val_loss=0.17433702945709229\n",
      "Epoch=25,train_loss=0.16197437047958374,val_loss=0.17790594696998596\n",
      "Epoch=26,train_loss=0.16209320724010468,val_loss=0.1741674542427063\n",
      "Epoch=27,train_loss=0.1612900197505951,val_loss=0.17671708762645721\n",
      "Epoch=28,train_loss=0.16019326448440552,val_loss=0.17210426926612854\n",
      "Epoch=29,train_loss=0.1606101244688034,val_loss=0.17802482843399048\n",
      "Epoch=30,train_loss=0.15915048122406006,val_loss=0.19159263372421265\n",
      "Epoch=31,train_loss=0.1592227667570114,val_loss=0.17928911745548248\n",
      "Epoch=32,train_loss=0.1575278788805008,val_loss=0.17777256667613983\n",
      "Epoch=33,train_loss=0.15869846940040588,val_loss=0.18211382627487183\n",
      "Epoch=34,train_loss=0.15766704082489014,val_loss=0.18165455758571625\n",
      "Epoch=35,train_loss=0.15682753920555115,val_loss=0.18050545454025269\n",
      "Epoch=36,train_loss=0.15504911541938782,val_loss=0.1814390867948532\n",
      "Epoch=37,train_loss=0.15548992156982422,val_loss=0.1990504264831543\n",
      "Epoch=38,train_loss=0.1539202630519867,val_loss=0.1883074939250946\n",
      "Epoch=39,train_loss=0.15417827665805817,val_loss=0.18311165273189545\n",
      "Epoch=40,train_loss=0.1539364755153656,val_loss=0.18429312109947205\n",
      "Epoch=41,train_loss=0.15338711440563202,val_loss=0.18777447938919067\n",
      "Epoch=42,train_loss=0.15333965420722961,val_loss=0.18701171875\n",
      "Epoch=43,train_loss=0.15263718366622925,val_loss=0.18781182169914246\n",
      "Epoch=44,train_loss=0.15273618698120117,val_loss=0.1855597198009491\n",
      "Epoch=45,train_loss=0.1517113745212555,val_loss=0.19115403294563293\n",
      "Epoch=46,train_loss=0.1518360823392868,val_loss=0.1953759342432022\n",
      "Epoch=47,train_loss=0.15157561004161835,val_loss=0.21000057458877563\n",
      "Epoch=48,train_loss=0.15116213262081146,val_loss=0.2002296894788742\n",
      "Epoch=49,train_loss=0.15014556050300598,val_loss=0.1965550184249878\n"
     ]
    }
   ],
   "source": [
    "losses, val_losses, adam_batch_loss= train(mymodel=mmoe, lr=lr, N_epochs=N_epochs, batch_size=batch_size)"
   ]
  },
  {
   "cell_type": "code",
   "execution_count": 19,
   "id": "172da090-cd5d-4ac9-8e85-f7b9337bd952",
   "metadata": {
    "tags": []
   },
   "outputs": [
    {
     "data": {
      "text/plain": [
       "<matplotlib.legend.Legend at 0x22604139e90>"
      ]
     },
     "execution_count": 19,
     "metadata": {},
     "output_type": "execute_result"
    },
    {
     "data": {
      "image/png": "[encoded data removed]",
      "text/plain": [
       "<Figure size 1500x800 with 3 Axes>"
      ]
     },
     "metadata": {},
     "output_type": "display_data"
    }
   ],
   "source": [
    "# visualization\n",
    "fix,axes=plt.subplots(nrows=1,ncols=3,figsize=(15, 8))\n",
    "\n",
    "axes[0].plot(range(N_epochs),losses,label=\"Train_loss\")\n",
    "axes[0].set_xlabel('Epochs')\n",
    "axes[0].set_ylabel('Loss')\n",
    "axes[0].legend()\n",
    "\n",
    "# axes[1].plot(range(N_epochs),best_model_loss[0],label=\"Train Loss\")\n",
    "# Validation loss is stable here \n",
    "axes[1].plot(range(N_epochs),val_losses,label=\"Validation Loss\")\n",
    "axes[1].set_xlabel('Epochs')\n",
    "axes[1].set_ylabel('Loss')\n",
    "axes[1].legend()\n",
    "\n",
    "axes[2].plot(range(tot_iters),adam_batch_loss,label=\"Iteration Loss\")\n",
    "axes[2].set_xlabel('Iterations')\n",
    "axes[2].set_ylabel('Loss')\n",
    "axes[2].legend()"
   ]
  },
  {
   "cell_type": "code",
   "execution_count": 20,
   "id": "07be8985-798b-47da-aa00-f79836a6ee4f",
   "metadata": {
    "tags": []
   },
   "outputs": [],
   "source": [
    "# load best model based on validation\n",
    "mybestmodel=MMoE(feature_dim=feature_dim,expert_dim=expert_dim,n_expert=n_expert,n_task=n_task,use_gate=use_gate)\n",
    "mybestmodel.load_state_dict(torch.load(f'model/exp2/best_model_{lr}_{N_epochs}_{batch_size}_{gate_dropout}_{expert_dropout}_{tower_dropout}'))\n",
    "\n",
    "x_test_d, x_test_c=x_test_d.to(device), x_test_c.to(device)\n",
    "\n",
    "y1_pred,y2_pred = mmoe(x_test_d[23695:47390],x_test_c[23695:47390])\n",
    "\n",
    "# y1_pred=(y1_pred>0.5).int()\n",
    "# y2_pred=(y2_pred>0.5).int()\n",
    "\n",
    "y1_pred=y1_pred.squeeze(1).detach().cpu().numpy()\n",
    "y2_pred=y2_pred.squeeze(1).detach().cpu().numpy()"
   ]
  },
  {
   "cell_type": "code",
   "execution_count": 21,
   "id": "89fdb611-85ee-4def-809e-154933380a03",
   "metadata": {
    "tags": []
   },
   "outputs": [],
   "source": [
    "from sklearn.metrics import roc_curve, auc\n",
    "\n",
    "def get_auc(y_true,y_pred):\n",
    "    # 获取 ROC 曲线\n",
    "    fpr, tpr, thresholds = roc_curve(y_true, y_pred)\n",
    "\n",
    "    # 计算 AUC\n",
    "    calculated_auc = auc(fpr, tpr)\n",
    "    print(f\"Custom AUC: {calculated_auc}\")\n",
    "    return calculated_auc"
   ]
  },
  {
   "cell_type": "code",
   "execution_count": 22,
   "id": "8eb92365-d745-4b88-b692-517b7a997c1b",
   "metadata": {
    "tags": []
   },
   "outputs": [
    {
     "name": "stdout",
     "output_type": "stream",
     "text": [
      "Custom AUC: 0.9795594223009366\n",
      "Custom AUC: 0.9884012620303183\n"
     ]
    }
   ],
   "source": [
    "# 比原论文效果要好，可能是因为数据预处理不同\n",
    "# 把N_epochs从10增大到50，和exp1一样，发现task1性能提升，task2性能降低\n",
    "auc1=get_auc(y1_test[23695:47390],y1_pred)\n",
    "auc2=get_auc(y2_test[23695:47390],y2_pred)"
   ]
  },
  {
   "cell_type": "code",
   "execution_count": 23,
   "id": "a37a0feb-d23e-4712-a100-b9419f2f9012",
   "metadata": {},
   "outputs": [
    {
     "data": {
      "text/plain": [
       "tensor([0., 0., 0., 0., 0., 0., 0., 0., 0., 0.])"
      ]
     },
     "execution_count": 23,
     "metadata": {},
     "output_type": "execute_result"
    }
   ],
   "source": [
    "y1_test[:10]"
   ]
  },
  {
   "cell_type": "code",
   "execution_count": 24,
   "id": "617f90bd-9271-4214-bc54-d653bb2f26bb",
   "metadata": {
    "tags": []
   },
   "outputs": [
    {
     "data": {
      "text/plain": [
       "array([5.6394529e-05, 1.6063106e-07, 2.7586819e-04, 1.6173336e-04,\n",
       "       4.3996027e-01, 3.1654952e-05, 7.1849936e-06, 9.7122829e-06,\n",
       "       1.4959895e-12, 2.0550681e-10], dtype=float32)"
      ]
     },
     "execution_count": 24,
     "metadata": {},
     "output_type": "execute_result"
    }
   ],
   "source": [
    "y1_pred[:10]"
   ]
  },
  {
   "cell_type": "code",
   "execution_count": 25,
   "id": "70d5c716-ba7e-451b-b52f-a0b51e7224ca",
   "metadata": {
    "tags": []
   },
   "outputs": [
    {
     "data": {
      "text/plain": [
       "array([3.5373985e-06, 3.4257388e-01, 9.9999452e-01, 9.9998045e-01,\n",
       "       9.9999833e-01, 3.5525038e-05, 2.8616289e-05, 7.8861114e-05,\n",
       "       6.9081672e-02, 8.3313204e-02], dtype=float32)"
      ]
     },
     "execution_count": 25,
     "metadata": {},
     "output_type": "execute_result"
    }
   ],
   "source": [
    "y2_pred[:10]"
   ]
  },
  {
   "cell_type": "code",
   "execution_count": 26,
   "id": "3c95ddff-8e28-412d-a98e-2465433e5b03",
   "metadata": {
    "tags": []
   },
   "outputs": [
    {
     "data": {
      "text/plain": [
       "tensor([0., 1., 1., 0., 1., 0., 1., 1., 0., 0.])"
      ]
     },
     "execution_count": 26,
     "metadata": {},
     "output_type": "execute_result"
    }
   ],
   "source": [
    "y2_test[:10]"
   ]
  },
  {
   "cell_type": "code",
   "execution_count": null,
   "id": "6db7986c-5580-40bc-9c86-480de5a2819b",
   "metadata": {},
   "outputs": [],
   "source": []
  }
 ],
 "metadata": {
  "kernelspec": {
   "display_name": "Python 3 (ipykernel)",
   "language": "python",
   "name": "python3"
  },
  "language_info": {
   "codemirror_mode": {
    "name": "ipython",
    "version": 3
   },
   "file_extension": ".py",
   "mimetype": "text/x-python",
   "name": "python",
   "nbconvert_exporter": "python",
   "pygments_lexer": "ipython3",
   "version": "3.11.4"
  }
 },
 "nbformat": 4,
 "nbformat_minor": 5
}
