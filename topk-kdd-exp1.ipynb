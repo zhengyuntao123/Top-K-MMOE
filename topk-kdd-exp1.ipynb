{
 "cells": [
  {
   "cell_type": "code",
   "execution_count": 1,
   "id": "17b71820-c9fe-4235-871f-634550a52f10",
   "metadata": {
    "tags": []
   },
   "outputs": [
    {
     "name": "stdout",
     "output_type": "stream",
     "text": [
      "WARNING:tensorflow:From C:\\anaconda3\\Lib\\site-packages\\keras\\src\\losses.py:2976: The name tf.losses.sparse_softmax_cross_entropy is deprecated. Please use tf.compat.v1.losses.sparse_softmax_cross_entropy instead.\n",
      "\n"
     ]
    }
   ],
   "source": [
    "import pandas as pd\n",
    "from torch.utils.data import Dataset,DataLoader\n",
    "from torch.utils.tensorboard import SummaryWriter\n",
    "import torch\n",
    "import numpy as np\n",
    "import ast\n",
    "import torch.nn as nn\n",
    "import torch.optim as optim\n",
    "import random\n",
    "from matplotlib import pyplot as plt\n",
    "import os\n",
    "from datetime import datetime\n",
    "import global_vars"
   ]
  },
  {
   "cell_type": "code",
   "execution_count": 2,
   "id": "839522e6-e1b3-4a1f-ac69-86e1e586357d",
   "metadata": {
    "tags": []
   },
   "outputs": [],
   "source": [
    "# 方便复现结果\n",
    "def set_all_seed(seed):\n",
    "    random.seed(seed)\n",
    "    np.random.seed(seed)\n",
    "    torch.manual_seed(seed)\n",
    "    # 如果使用 GPU，也需要固定 CUDA 的随机种子\n",
    "    if torch.cuda.is_available():\n",
    "        torch.cuda.manual_seed(seed)\n",
    "        torch.cuda.manual_seed_all(seed)  # 如果有多个 GPU\n",
    "set_all_seed(42)"
   ]
  },
  {
   "cell_type": "code",
   "execution_count": 3,
   "id": "2757b3f3-a89a-43eb-bb7b-75abe57eeb69",
   "metadata": {
    "tags": []
   },
   "outputs": [],
   "source": [
    "# 前25个特征是离散特征，后13个特征是连续特征\n",
    "df_train=pd.read_csv(\"data/exp1/raw_train.csv\")\n",
    "df_test=pd.read_csv(\"data/exp1/raw_test.csv\")"
   ]
  },
  {
   "cell_type": "code",
   "execution_count": 4,
   "id": "fad4c8d9-3836-4bee-9f54-8162b2404f4e",
   "metadata": {
    "tags": []
   },
   "outputs": [],
   "source": [
    "df_train['vectorized_features_1'] = df_train['vectorized_features_1'].apply(ast.literal_eval)\n",
    "df_test['vectorized_features_1'] = df_test['vectorized_features_1'].apply(ast.literal_eval)"
   ]
  },
  {
   "cell_type": "code",
   "execution_count": 5,
   "id": "db233a0d-0372-445c-9f1f-12c0d599af95",
   "metadata": {
    "tags": []
   },
   "outputs": [
    {
     "name": "stdout",
     "output_type": "stream",
     "text": [
      "tensor([[2, 6, 6,  ..., 0, 0, 0],\n",
      "        [0, 0, 0,  ..., 0, 0, 0],\n",
      "        [0, 0, 0,  ..., 0, 0, 0],\n",
      "        ...,\n",
      "        [1, 1, 5,  ..., 0, 0, 0],\n",
      "        [0, 0, 0,  ..., 0, 0, 0],\n",
      "        [5, 7, 3,  ..., 0, 0, 0]])\n",
      "torch.Size([95130, 25])\n",
      "tensor([[58.,  4., 34.,  ..., 52., 94.,  0.],\n",
      "        [ 9.,  0.,  0.,  ...,  0., 94.,  0.],\n",
      "        [10.,  0.,  0.,  ...,  0., 94.,  0.],\n",
      "        ...,\n",
      "        [51., 33., 19.,  ..., 52., 94.,  0.],\n",
      "        [ 3.,  0.,  0.,  ...,  0., 94.,  0.],\n",
      "        [65., 37.,  2.,  ..., 52., 94.,  0.]])\n",
      "torch.Size([95130, 14])\n",
      "tensor([0., 0., 0.,  ..., 0., 0., 0.])\n",
      "torch.Size([95130])\n",
      "tensor([0., 1., 1.,  ..., 0., 1., 0.])\n",
      "torch.Size([95130])\n"
     ]
    }
   ],
   "source": [
    "# 获取训练数据\n",
    "x_train=torch.from_numpy(np.array(df_train['vectorized_features_1'].values.tolist(),np.float32))\n",
    "x_train_d=x_train[:,:25].long() # 前25维是离散变量(discrete)，要转为long类型才能送入embedding层\n",
    "x_train_c=x_train[:,25:] # 中间13维是连续变量(continuous), 最后一维是0或1，也当做连续变量\n",
    "y1_train=torch.from_numpy(np.array(df_train['income'].values.tolist(),np.float32))\n",
    "y2_train=torch.from_numpy(np.array(df_train['AMARITL'].values.tolist(),np.float32))\n",
    "\n",
    "print(x_train_d)\n",
    "print(x_train_d.shape)\n",
    "print(x_train_c)\n",
    "print(x_train_c.shape)\n",
    "print(y1_train)\n",
    "print(y1_train.shape)\n",
    "print(y2_train)\n",
    "print(y2_train.shape)"
   ]
  },
  {
   "cell_type": "markdown",
   "id": "0619ba25-2fbd-4ff8-b9af-11a865f79efe",
   "metadata": {
    "tags": []
   },
   "source": [
    "计算两个任务的标签间的pearson相关系数"
   ]
  },
  {
   "cell_type": "code",
   "execution_count": 6,
   "id": "7406af32-21f3-4d39-8c6e-775c377ce15a",
   "metadata": {
    "tags": []
   },
   "outputs": [
    {
     "name": "stdout",
     "output_type": "stream",
     "text": [
      "Absolute Pearson correlation coefficient: 0.17716269850240274\n",
      "P-value: 0.0\n"
     ]
    }
   ],
   "source": [
    "from scipy.stats import pearsonr\n",
    "corr, p_value = pearsonr(y1_train, y2_train)\n",
    "print(f\"Absolute Pearson correlation coefficient: {abs(corr)}\") # 符合原论文的0.1768\n",
    "print(f\"P-value: {p_value}\")"
   ]
  },
  {
   "cell_type": "code",
   "execution_count": 7,
   "id": "c63ecbef-401b-489a-ac4a-3223db4424ae",
   "metadata": {
    "tags": []
   },
   "outputs": [
    {
     "name": "stdout",
     "output_type": "stream",
     "text": [
      "tensor([[ 1,  9,  4,  ...,  0,  0,  0],\n",
      "        [ 0,  0,  0,  ...,  0,  0,  0],\n",
      "        [ 0,  0,  0,  ...,  0,  0,  0],\n",
      "        ...,\n",
      "        [ 1,  3,  1,  ...,  0,  0,  0],\n",
      "        [ 2, 14, 10,  ...,  1,  2,  0],\n",
      "        [ 0,  0,  0,  ...,  0,  0,  0]])\n",
      "torch.Size([47391, 25])\n",
      "tensor([[35., 29.,  3.,  ..., 52., 94.,  0.],\n",
      "        [13.,  0.,  0.,  ...,  0., 94.,  0.],\n",
      "        [ 1.,  0.,  0.,  ...,  0., 94.,  0.],\n",
      "        ...,\n",
      "        [22., 43., 26.,  ..., 52., 94.,  1.],\n",
      "        [24.,  1., 43.,  ..., 52., 94.,  0.],\n",
      "        [67.,  0.,  0.,  ...,  0., 94.,  0.]])\n",
      "torch.Size([47391, 14])\n",
      "tensor([0., 0., 0.,  ..., 0., 0., 0.])\n",
      "torch.Size([47391])\n",
      "tensor([0., 1., 1.,  ..., 1., 0., 0.])\n",
      "torch.Size([47391])\n"
     ]
    }
   ],
   "source": [
    "# 获取测试数据\n",
    "x_test=torch.from_numpy(np.array(df_test['vectorized_features_1'].values.tolist(),np.float32))\n",
    "x_test_d=x_test[:,:25].long() # 前25维是离散变量(discrete)，要转为long类型才能送入embedding层\n",
    "x_test_c=x_test[:,25:] # 中间13维是连续变量(continuous), 最后一维是0或1，也当做连续变量\n",
    "y1_test=torch.from_numpy(np.array(df_test['income'].values.tolist(),np.float32))\n",
    "y2_test=torch.from_numpy(np.array(df_test['AMARITL'].values.tolist(),np.float32))\n",
    "\n",
    "print(x_test_d)\n",
    "print(x_test_d.shape)\n",
    "print(x_test_c)\n",
    "print(x_test_c.shape)\n",
    "print(y1_test)\n",
    "print(y1_test.shape)\n",
    "print(y2_test)\n",
    "print(y2_test.shape)"
   ]
  },
  {
   "cell_type": "code",
   "execution_count": 8,
   "id": "d04e2b1c-d985-461b-a088-9f6ce566c939",
   "metadata": {
    "tags": []
   },
   "outputs": [],
   "source": [
    "class MyDataset(Dataset):\n",
    "    def __init__(self,x_discrete,x_continuous,y1,y2):\n",
    "        self.x_d=x_discrete\n",
    "        self.x_c=x_continuous\n",
    "        self.y1=y1\n",
    "        self.y2=y2\n",
    "    def __len__(self):\n",
    "        return self.x_d.shape[0]\n",
    "    def __getitem__(self,idx):\n",
    "        return (self.x_d[idx],self.x_c[idx],self.y1[idx],self.y2[idx])"
   ]
  },
  {
   "cell_type": "code",
   "execution_count": 9,
   "id": "594d5a51-60a3-4ee2-bf22-5630767071e6",
   "metadata": {
    "tags": []
   },
   "outputs": [],
   "source": [
    "# 训练集\n",
    "train_dataset=MyDataset(x_train_d,x_train_c,y1_train,y2_train)\n",
    "# 验证集和测试集按照原论文1:1\n",
    "val_dataset=MyDataset(x_test_d[:23695],x_test_c[:23695],y1_test[:23695],y2_test[:23695])\n",
    "test_dataset=MyDataset(x_test_d[23695:47390],x_test_c[23695:47390],y1_test[23695:47390],y2_test[23695:47390])"
   ]
  },
  {
   "cell_type": "code",
   "execution_count": 10,
   "id": "eb5e0e2e-71ae-41e9-b80d-94f6be5e051f",
   "metadata": {
    "tags": []
   },
   "outputs": [],
   "source": [
    "from SparseMMoE import SparseMMoE"
   ]
  },
  {
   "cell_type": "code",
   "execution_count": 11,
   "id": "9accd331-b01d-4197-b883-58444e0f9a01",
   "metadata": {},
   "outputs": [],
   "source": [
    "class MyModel(nn.Module):\n",
    "    # feature_dim:输入数据的维数  expert_dim:每个神经元输出的维数  n_expert:专家数量  n_task:任务数(gate数)\n",
    "    def __init__(self, feature_dim, expert_dim, n_expert, n_activated_expert, n_task, tower_dropout=0, expert_dropout=0):\n",
    "        super(MyModel, self).__init__()\n",
    "\n",
    "        self.n_task = n_task\n",
    "\n",
    "        self.sparse_mmoe = SparseMMoE(input_size=feature_dim,\n",
    "                                     output_size=expert_dim,\n",
    "                                     num_experts=n_expert,\n",
    "                                     n_task=n_task,\n",
    "                                     expert_dropout=expert_dropout,\n",
    "                                     noisy_gating=True,\n",
    "                                     k=n_activated_expert)\n",
    "\n",
    "        # 对于离散变量做embedding\n",
    "        # 25种离散变量\n",
    "        vocab_size_list = [9,24,15,5,10,2,3,6,1,6,6,50,37,8,9,8,9,3,3,5,40,40,41,5,3]\n",
    "        self.embeddings = nn.ModuleList([\n",
    "            nn.Embedding(num_embeddings=i, embedding_dim=4) for i in vocab_size_list\n",
    "        ])\n",
    "        # 合计送入expert的维度为:25*4+14=114\n",
    "\n",
    "        # 顶层的任务塔\n",
    "        hidden_layer1 = [64, 32]\n",
    "        self.towers=nn.ModuleList([\n",
    "            nn.Sequential(\n",
    "                nn.Linear(expert_dim, hidden_layer1[0]),\n",
    "                nn.ReLU(),\n",
    "                nn.Linear(hidden_layer1[0], hidden_layer1[1]),\n",
    "                nn.ReLU(),\n",
    "                nn.Dropout(tower_dropout),\n",
    "                nn.Linear(hidden_layer1[1], 1))\n",
    "            for i in range(n_task)\n",
    "        ])\n",
    "        \n",
    "        self.sigmoid=nn.Sigmoid()\n",
    "\n",
    "    def forward(self, x_d, x_c):\n",
    "        temp = []\n",
    "        for i in range(len(self.embeddings)):\n",
    "            temp.append(self.embeddings[i](x_d[:, i]))\n",
    "        temp = temp + [x_c]\n",
    "        x = torch.cat(temp, dim=-1)\n",
    "\n",
    "        towers_input, load_balancing_loss = self.sparse_mmoe(x)\n",
    "\n",
    "        outputs = []\n",
    "        for i in range(self.n_task):\n",
    "            outputs.append(self.sigmoid(self.towers[i](towers_input[i])))\n",
    "\n",
    "        return outputs, load_balancing_loss"
   ]
  },
  {
   "cell_type": "code",
   "execution_count": 12,
   "id": "3aa509e4-98ff-4558-8013-8eb866fa7033",
   "metadata": {
    "tags": []
   },
   "outputs": [],
   "source": [
    "# model config\n",
    "feature_dim=114\n",
    "expert_dim=32\n",
    "n_expert=16\n",
    "n_activated_expert=4\n",
    "n_task=2\n",
    "tower_dropout=0\n",
    "expert_dropout=0"
   ]
  },
  {
   "cell_type": "code",
   "execution_count": 13,
   "id": "af593b44-aa48-4f35-88df-2165577e1242",
   "metadata": {
    "tags": []
   },
   "outputs": [
    {
     "name": "stdout",
     "output_type": "stream",
     "text": [
      "Number of parameters: 185138\n",
      "Number of parameters in SparseMMoE: 175296\n",
      "Number of activated parameters in SparseMMoE: 43824\n"
     ]
    }
   ],
   "source": [
    "mymodel = MyModel(feature_dim=feature_dim,\n",
    "                  expert_dim=expert_dim,\n",
    "                  n_expert=n_expert,\n",
    "                  n_activated_expert=n_activated_expert,\n",
    "                  n_task=n_task, \n",
    "                  expert_dropout=expert_dropout, \n",
    "                  tower_dropout=tower_dropout)\n",
    "\n",
    "nParams = sum([p.nelement() for p in mymodel.parameters()])\n",
    "print('Number of parameters: %d' % nParams)\n",
    "\n",
    "nParams_in_mmoe=0\n",
    "for name,p in mymodel.named_parameters():\n",
    "    if name.startswith(\"sparse_mmoe\"):\n",
    "        nParams_in_mmoe=nParams_in_mmoe+p.nelement()\n",
    "print('Number of parameters in SparseMMoE: %d' % nParams_in_mmoe)\n",
    "# 相比于MMOE增加了w_noises和b_noises\n",
    "print(f'Number of activated parameters in SparseMMoE: {int(nParams_in_mmoe*n_activated_expert/n_expert)}')"
   ]
  },
  {
   "cell_type": "code",
   "execution_count": 14,
   "id": "7c91579f-1ce3-4c26-86e0-6229e53d0cdb",
   "metadata": {
    "tags": []
   },
   "outputs": [
    {
     "data": {
      "text/plain": [
       "'cuda'"
      ]
     },
     "execution_count": 14,
     "metadata": {},
     "output_type": "execute_result"
    }
   ],
   "source": [
    "device = 'cuda' if torch.cuda.is_available() else \"mps\" if torch.backends.mps.is_available() else 'cpu'\n",
    "device"
   ]
  },
  {
   "cell_type": "code",
   "execution_count": 15,
   "id": "6b55ff24-5b01-499a-8b69-ee0b3dab3c1a",
   "metadata": {
    "tags": []
   },
   "outputs": [],
   "source": [
    "if not os.path.exists(\"model/exp1_SparseMMoE/\"):\n",
    "    os.makedirs(\"model/exp1_SparseMMoE/\") "
   ]
  },
  {
   "cell_type": "code",
   "execution_count": 16,
   "id": "a0c627ad-2d4c-4ded-a337-c93273f7d626",
   "metadata": {},
   "outputs": [],
   "source": [
    "def train(mymodel, lr, N_epochs, batch_size):\n",
    "    global writer\n",
    "    log_dir = os.path.join(\"logs/exp1_SparseMMoE\", datetime.now().strftime(\"%Y-%m-%d_%H-%M-%S\"))\n",
    "    writer = SummaryWriter(log_dir=log_dir)\n",
    "    global_vars.writer=writer # 用于给python文件传递全局变量\n",
    "    global tot_iters\n",
    "    tot_iters = 0\n",
    "    global_vars.tot_iters=tot_iters # 用于给python文件传递全局变量\n",
    "    mymodel = mymodel.to(device)\n",
    "    loss_fun = nn.BCELoss()\n",
    "    optimizer = torch.optim.Adam(mymodel.parameters(), lr=lr)\n",
    "    adam_batch_loss = []\n",
    "    losses = []\n",
    "    val_losses = []\n",
    "    best_loss = float(\"inf\")\n",
    "    train_dataloader = DataLoader(train_dataset, batch_size=batch_size, shuffle=True, drop_last=True)\n",
    "    val_dataloader = DataLoader(val_dataset, batch_size=batch_size, shuffle=True, drop_last=True)\n",
    "\n",
    "    for epoch in range(N_epochs):\n",
    "        # train loop\n",
    "        batch_loss = []\n",
    "        mymodel.train()\n",
    "        for x_d_batch, x_c_batch, y1_batch, y2_batch in train_dataloader:\n",
    "            tot_iters+=1\n",
    "            global_vars.tot_iters+=1 # tot_iters是int，为不可变对象，所以tot_iters+=1不会修改global_vars.tot_iters\n",
    "            \n",
    "            x_d_batch = x_d_batch.to(device)\n",
    "            x_c_batch = x_c_batch.to(device)\n",
    "            y1_batch = y1_batch.to(device)\n",
    "            y2_batch = y2_batch.to(device)\n",
    "\n",
    "            [y1_pred, y2_pred], load_balancing_loss = mymodel(x_d_batch, x_c_batch)  # 两个task\n",
    "            y1_pred = y1_pred.squeeze(1)\n",
    "            y2_pred = y2_pred.squeeze(1)\n",
    "            \n",
    "            loss1 = loss_fun(y1_pred, y1_batch)\n",
    "            loss2 = loss_fun(y2_pred, y2_batch)\n",
    "            writer.add_scalar(f\"loss1\", loss1, tot_iters)\n",
    "            writer.add_scalar(f\"loss2\", loss2, tot_iters)\n",
    "            writer.add_scalar(f\"load_balancing_loss\", load_balancing_loss, tot_iters)\n",
    "            loss = loss1+loss2+load_balancing_loss  # 此处令两个任务的损失值权重均为1\n",
    "\n",
    "            optimizer.zero_grad()\n",
    "            loss.backward()\n",
    "            optimizer.step()\n",
    "\n",
    "            # record result\n",
    "            adam_batch_loss.append(loss.detach().cpu().numpy())\n",
    "            batch_loss.append(loss.detach().cpu().numpy())\n",
    "\n",
    "        # val loop\n",
    "        val_batch_loss = []\n",
    "        mymodel.eval()\n",
    "        for x_d_batch, x_c_batch, y1_batch, y2_batch in val_dataloader:\n",
    "            x_d_batch = x_d_batch.to(device)\n",
    "            x_c_batch = x_c_batch.to(device)\n",
    "            y1_batch = y1_batch.to(device)\n",
    "            y2_batch = y2_batch.to(device)\n",
    "\n",
    "            [y1_pred, y2_pred], load_balancing_loss = mymodel(x_d_batch, x_c_batch)  # 两个task\n",
    "            y1_pred = y1_pred.squeeze(1)\n",
    "            y2_pred = y2_pred.squeeze(1)\n",
    "\n",
    "            loss = loss_fun(y1_pred, y1_batch) + loss_fun(y2_pred, y2_batch)+load_balancing_loss\n",
    "\n",
    "            # record result\n",
    "            val_batch_loss.append(loss.detach().cpu().numpy())\n",
    "\n",
    "        # post processing\n",
    "        losses.append(np.mean(np.array(batch_loss)))\n",
    "        val_losses.append(np.mean(np.array(val_batch_loss)))\n",
    "\n",
    "        # print progress\n",
    "        print(f\"Epoch={epoch},train_loss={losses[-1]},val_loss={val_losses[-1]}\")\n",
    "        writer.add_scalar(f\"train_loss\", losses[-1], epoch)\n",
    "        writer.add_scalar(f\"val_loss\", val_losses[-1], epoch)\n",
    "\n",
    "        # save best model\n",
    "        if (val_losses[-1] < best_loss):\n",
    "            print(\"current epoch is the best so far. Saving model...\")\n",
    "            torch.save(mymodel.state_dict(), f'model/exp1_SparseMMoE/best_model_{lr}_{N_epochs}_{batch_size}_{expert_dropout}_{tower_dropout}')\n",
    "            best_loss = val_losses[-1]\n",
    "    \n",
    "    writer.close() # writer是可变对象，关闭writer就是关闭global_vars.writer\n",
    "\n",
    "    return losses, val_losses, adam_batch_loss"
   ]
  },
  {
   "cell_type": "code",
   "execution_count": 17,
   "id": "4d6c1be9-7753-4ef2-91f4-ced484eb0a79",
   "metadata": {
    "tags": []
   },
   "outputs": [],
   "source": [
    "batch_size=256\n",
    "N_epochs=50\n",
    "lr=0.0001"
   ]
  },
  {
   "cell_type": "code",
   "execution_count": 18,
   "id": "33fc8dbd-93af-4087-b32a-d0132258ec9f",
   "metadata": {
    "tags": []
   },
   "outputs": [
    {
     "name": "stdout",
     "output_type": "stream",
     "text": [
      "Epoch=0,train_loss=0.6316223740577698,val_loss=0.43853485584259033\n",
      "current epoch is the best so far. Saving model...\n",
      "Epoch=1,train_loss=0.3942098617553711,val_loss=0.35843634605407715\n",
      "current epoch is the best so far. Saving model...\n",
      "Epoch=2,train_loss=0.34879592061042786,val_loss=0.33606618642807007\n",
      "current epoch is the best so far. Saving model...\n",
      "Epoch=3,train_loss=0.33529987931251526,val_loss=0.33091139793395996\n",
      "current epoch is the best so far. Saving model...\n",
      "Epoch=4,train_loss=0.3231922686100006,val_loss=0.3263666033744812\n",
      "current epoch is the best so far. Saving model...\n",
      "Epoch=5,train_loss=0.31714290380477905,val_loss=0.3189408779144287\n",
      "current epoch is the best so far. Saving model...\n",
      "Epoch=6,train_loss=0.302437961101532,val_loss=0.3004225790500641\n",
      "current epoch is the best so far. Saving model...\n",
      "Epoch=7,train_loss=0.2936355769634247,val_loss=0.29921993613243103\n",
      "current epoch is the best so far. Saving model...\n",
      "Epoch=8,train_loss=0.29490333795547485,val_loss=0.28418177366256714\n",
      "current epoch is the best so far. Saving model...\n",
      "Epoch=9,train_loss=0.2956359386444092,val_loss=0.29522502422332764\n",
      "Epoch=10,train_loss=0.2781050503253937,val_loss=0.2866789698600769\n",
      "Epoch=11,train_loss=0.2786791920661926,val_loss=0.27888810634613037\n",
      "current epoch is the best so far. Saving model...\n",
      "Epoch=12,train_loss=0.2816629111766815,val_loss=0.2838840186595917\n",
      "Epoch=13,train_loss=0.2705204486846924,val_loss=0.2758500874042511\n",
      "current epoch is the best so far. Saving model...\n",
      "Epoch=14,train_loss=0.27153709530830383,val_loss=0.28454867005348206\n",
      "Epoch=15,train_loss=0.2678149342536926,val_loss=0.27778181433677673\n",
      "Epoch=16,train_loss=0.2619283199310303,val_loss=0.28047215938568115\n",
      "Epoch=17,train_loss=0.26465901732444763,val_loss=0.269175261259079\n",
      "current epoch is the best so far. Saving model...\n",
      "Epoch=18,train_loss=0.2597823739051819,val_loss=0.27694106101989746\n",
      "Epoch=19,train_loss=0.26130539178848267,val_loss=0.2799101173877716\n",
      "Epoch=20,train_loss=0.25391724705696106,val_loss=0.26686665415763855\n",
      "current epoch is the best so far. Saving model...\n",
      "Epoch=21,train_loss=0.2510850131511688,val_loss=0.26244479417800903\n",
      "current epoch is the best so far. Saving model...\n",
      "Epoch=22,train_loss=0.25078266859054565,val_loss=0.2637012004852295\n",
      "Epoch=23,train_loss=0.2472720444202423,val_loss=0.28088027238845825\n",
      "Epoch=24,train_loss=0.25067102909088135,val_loss=0.28471115231513977\n",
      "Epoch=25,train_loss=0.24918386340141296,val_loss=0.27038127183914185\n",
      "Epoch=26,train_loss=0.24463620781898499,val_loss=0.2734399139881134\n",
      "Epoch=27,train_loss=0.2397586554288864,val_loss=0.27293816208839417\n",
      "Epoch=28,train_loss=0.24056974053382874,val_loss=0.2741032540798187\n",
      "Epoch=29,train_loss=0.2410997599363327,val_loss=0.2711491882801056\n",
      "Epoch=30,train_loss=0.24014747142791748,val_loss=0.28855448961257935\n",
      "Epoch=31,train_loss=0.24085266888141632,val_loss=0.2812778949737549\n",
      "Epoch=32,train_loss=0.23503030836582184,val_loss=0.27661871910095215\n",
      "Epoch=33,train_loss=0.23084312677383423,val_loss=0.2781999409198761\n",
      "Epoch=34,train_loss=0.23326078057289124,val_loss=0.27867403626441956\n",
      "Epoch=35,train_loss=0.23244670033454895,val_loss=0.2752256691455841\n",
      "Epoch=36,train_loss=0.22924281656742096,val_loss=0.2742568254470825\n",
      "Epoch=37,train_loss=0.2300892472267151,val_loss=0.28327512741088867\n",
      "Epoch=38,train_loss=0.2295624017715454,val_loss=0.28698599338531494\n",
      "Epoch=39,train_loss=0.229062020778656,val_loss=0.2817414700984955\n",
      "Epoch=40,train_loss=0.22943390905857086,val_loss=0.2744062542915344\n",
      "Epoch=41,train_loss=0.22687989473342896,val_loss=0.2741203308105469\n",
      "Epoch=42,train_loss=0.22370876371860504,val_loss=0.2739854156970978\n",
      "Epoch=43,train_loss=0.23032745718955994,val_loss=0.291319876909256\n",
      "Epoch=44,train_loss=0.23114490509033203,val_loss=0.2854190766811371\n",
      "Epoch=45,train_loss=0.23221252858638763,val_loss=0.2773779332637787\n",
      "Epoch=46,train_loss=0.2213699221611023,val_loss=0.28073927760124207\n",
      "Epoch=47,train_loss=0.22074487805366516,val_loss=0.2799997627735138\n",
      "Epoch=48,train_loss=0.22340911626815796,val_loss=0.2968043386936188\n",
      "Epoch=49,train_loss=0.22946228086948395,val_loss=0.31095167994499207\n"
     ]
    }
   ],
   "source": [
    "losses, val_losses, adam_batch_loss= train(mymodel=mymodel, lr=lr, N_epochs=N_epochs, batch_size=batch_size)"
   ]
  },
  {
   "cell_type": "code",
   "execution_count": 19,
   "id": "172da090-cd5d-4ac9-8e85-f7b9337bd952",
   "metadata": {
    "tags": []
   },
   "outputs": [
    {
     "data": {
      "text/plain": [
       "<matplotlib.legend.Legend at 0x18863266990>"
      ]
     },
     "execution_count": 19,
     "metadata": {},
     "output_type": "execute_result"
    },
    {
     "data": {
      "image/png": "[encoded data removed]",
      "text/plain": [
       "<Figure size 1500x800 with 3 Axes>"
      ]
     },
     "metadata": {},
     "output_type": "display_data"
    }
   ],
   "source": [
    "# visualization\n",
    "fix,axes=plt.subplots(nrows=1,ncols=3,figsize=(15, 8))\n",
    "\n",
    "axes[0].plot(range(N_epochs),losses,label=\"Train_loss\")\n",
    "axes[0].set_xlabel('Epochs')\n",
    "axes[0].set_ylabel('Loss')\n",
    "axes[0].legend()\n",
    "\n",
    "# axes[1].plot(range(N_epochs),best_model_loss[0],label=\"Train Loss\")\n",
    "# Validation loss is stable here \n",
    "axes[1].plot(range(N_epochs),val_losses,label=\"Validation Loss\")\n",
    "axes[1].set_xlabel('Epochs')\n",
    "axes[1].set_ylabel('Loss')\n",
    "axes[1].legend()\n",
    "\n",
    "axes[2].plot(range(tot_iters),adam_batch_loss,label=\"Iteration Loss\")\n",
    "axes[2].set_xlabel('Iterations')\n",
    "axes[2].set_ylabel('Loss')\n",
    "axes[2].legend()"
   ]
  },
  {
   "cell_type": "code",
   "execution_count": 23,
   "id": "07be8985-798b-47da-aa00-f79836a6ee4f",
   "metadata": {
    "tags": []
   },
   "outputs": [],
   "source": [
    "# load best model based on validation\n",
    "mybestmodel=MyModel(feature_dim=feature_dim,\n",
    "                  expert_dim=expert_dim,\n",
    "                  n_expert=n_expert,\n",
    "                  n_activated_expert=n_activated_expert,\n",
    "                  n_task=n_task, \n",
    "                  expert_dropout=expert_dropout, \n",
    "                  tower_dropout=tower_dropout)\n",
    "mybestmodel.load_state_dict(torch.load(f'model/exp1_SparseMMoE/best_model_{lr}_{N_epochs}_{batch_size}_{expert_dropout}_{tower_dropout}'))\n",
    "mybestmodel=mybestmodel.to(device)\n",
    "\n",
    "x_test_d, x_test_c=x_test_d.to(device), x_test_c.to(device)\n",
    "\n",
    "[y1_pred, y2_pred], load_balancing_loss = mybestmodel(x_test_d[23695:47390],x_test_c[23695:47390])\n",
    "\n",
    "# y1_pred=(y1_pred>0.5).int()\n",
    "# y2_pred=(y2_pred>0.5).int()\n",
    "\n",
    "y1_pred=y1_pred.squeeze(1).detach().cpu().numpy()\n",
    "y2_pred=y2_pred.squeeze(1).detach().cpu().numpy()"
   ]
  },
  {
   "cell_type": "code",
   "execution_count": 24,
   "id": "89fdb611-85ee-4def-809e-154933380a03",
   "metadata": {
    "tags": []
   },
   "outputs": [],
   "source": [
    "from sklearn.metrics import roc_curve, auc\n",
    "\n",
    "def get_auc(y_true,y_pred):\n",
    "    # 获取 ROC 曲线\n",
    "    fpr, tpr, thresholds = roc_curve(y_true, y_pred)\n",
    "\n",
    "    # 计算 AUC\n",
    "    calculated_auc = auc(fpr, tpr)\n",
    "    print(f\"Custom AUC: {calculated_auc}\")\n",
    "    return calculated_auc"
   ]
  },
  {
   "cell_type": "code",
   "execution_count": 25,
   "id": "8eb92365-d745-4b88-b692-517b7a997c1b",
   "metadata": {
    "tags": []
   },
   "outputs": [
    {
     "name": "stdout",
     "output_type": "stream",
     "text": [
      "Custom AUC: 0.9358949591319135\n",
      "Custom AUC: 0.9896459197417868\n"
     ]
    }
   ],
   "source": [
    "auc1=get_auc(y1_test[23695:47390],y1_pred)\n",
    "auc2=get_auc(y2_test[23695:47390],y2_pred)"
   ]
  },
  {
   "cell_type": "code",
   "execution_count": 26,
   "id": "a37a0feb-d23e-4712-a100-b9419f2f9012",
   "metadata": {},
   "outputs": [
    {
     "data": {
      "text/plain": [
       "tensor([0., 0., 0., 0., 0., 0., 0., 0., 0., 0.])"
      ]
     },
     "execution_count": 26,
     "metadata": {},
     "output_type": "execute_result"
    }
   ],
   "source": [
    "y1_test[:10]"
   ]
  },
  {
   "cell_type": "code",
   "execution_count": 27,
   "id": "617f90bd-9271-4214-bc54-d653bb2f26bb",
   "metadata": {
    "tags": []
   },
   "outputs": [
    {
     "data": {
      "text/plain": [
       "array([1.7202473e-01, 6.2864088e-02, 1.2952536e-06, 3.2487733e-06,\n",
       "       1.1685855e-03, 1.2817708e-02, 8.3745355e-03, 9.6175887e-02,\n",
       "       1.7331112e-03, 7.1839942e-04], dtype=float32)"
      ]
     },
     "execution_count": 27,
     "metadata": {},
     "output_type": "execute_result"
    }
   ],
   "source": [
    "y1_pred[:10]"
   ]
  },
  {
   "cell_type": "code",
   "execution_count": 28,
   "id": "70d5c716-ba7e-451b-b52f-a0b51e7224ca",
   "metadata": {
    "tags": []
   },
   "outputs": [
    {
     "data": {
      "text/plain": [
       "array([1.6229131e-05, 2.0046675e-01, 9.9999893e-01, 9.9994183e-01,\n",
       "       9.9653471e-01, 5.1455900e-05, 4.9308159e-07, 1.3727871e-01,\n",
       "       9.1105983e-02, 1.4465865e-01], dtype=float32)"
      ]
     },
     "execution_count": 28,
     "metadata": {},
     "output_type": "execute_result"
    }
   ],
   "source": [
    "y2_pred[:10]"
   ]
  },
  {
   "cell_type": "code",
   "execution_count": 29,
   "id": "3c95ddff-8e28-412d-a98e-2465433e5b03",
   "metadata": {
    "tags": []
   },
   "outputs": [
    {
     "data": {
      "text/plain": [
       "tensor([0., 1., 1., 0., 1., 0., 1., 1., 0., 0.])"
      ]
     },
     "execution_count": 29,
     "metadata": {},
     "output_type": "execute_result"
    }
   ],
   "source": [
    "y2_test[:10]"
   ]
  },
  {
   "cell_type": "code",
   "execution_count": null,
   "id": "6db7986c-5580-40bc-9c86-480de5a2819b",
   "metadata": {},
   "outputs": [],
   "source": []
  }
 ],
 "metadata": {
  "kernelspec": {
   "display_name": "Python 3 (ipykernel)",
   "language": "python",
   "name": "python3"
  },
  "language_info": {
   "codemirror_mode": {
    "name": "ipython",
    "version": 3
   },
   "file_extension": ".py",
   "mimetype": "text/x-python",
   "name": "python",
   "nbconvert_exporter": "python",
   "pygments_lexer": "ipython3",
   "version": "3.11.4"
  }
 },
 "nbformat": 4,
 "nbformat_minor": 5
}
